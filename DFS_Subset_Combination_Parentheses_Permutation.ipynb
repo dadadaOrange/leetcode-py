{
 "cells": [
  {
   "cell_type": "markdown",
   "id": "adb12445",
   "metadata": {},
   "source": [
    "# Subset Problem"
   ]
  },
  {
   "cell_type": "markdown",
   "id": "0f508364",
   "metadata": {},
   "source": [
    "## 78. Subsets\n",
    "[78. Subsets](https://leetcode.com/problems/subsets/)\n",
    "\n",
    "- TC = O($2^n$)\n",
    "- SC = O(n)"
   ]
  },
  {
   "cell_type": "code",
   "execution_count": 2,
   "id": "f31941cf",
   "metadata": {},
   "outputs": [],
   "source": [
    "def subsets(self, nums):\n",
    "    res = []\n",
    "    oneRes = []\n",
    "    self.helper(nums, oneRes, res, 0)\n",
    "    return res\n",
    "\n",
    "def helper(self, nums, oneRes, res, index):\n",
    "    if index == len(nums):\n",
    "        res.append(copy.deepcopy(oneRes))\n",
    "        return\n",
    "    # add\n",
    "    oneRes.append(nums[index])\n",
    "    self.helper(nums, oneRes, res, index + 1)\n",
    "    oneRes.pop()\n",
    "    # not add\n",
    "    self.helper(nums, oneRes, res, index + 1)"
   ]
  },
  {
   "cell_type": "markdown",
   "id": "69f537e8",
   "metadata": {},
   "source": [
    "## 90. Subsets II (Duplicate)\n",
    "\n",
    "[90. Subsets II](https://leetcode.com/problems/subsets-ii/)"
   ]
  },
  {
   "cell_type": "code",
   "execution_count": 10,
   "id": "9d7c9fa4",
   "metadata": {},
   "outputs": [],
   "source": [
    "# Solution 1: jump all the same element in not add branch\n",
    "def subsetsWithDup(self, nums):\n",
    "    res = []\n",
    "    oneRes = []\n",
    "    nums.sort()\n",
    "    self.helper(nums, 0, oneRes, res)\n",
    "    return res\n",
    "\n",
    "def helper(self, nums, index, oneRes, res):\n",
    "    if index == len(nums):\n",
    "        res.append(copy.deepcopy(oneRes))\n",
    "        return\n",
    "    # add \n",
    "    oneRes.append(nums[index])\n",
    "    self.helper(nums, index + 1, oneRes, res)\n",
    "    oneRes.pop()\n",
    "\n",
    "    # not add\n",
    "    # jump all the same element\n",
    "    while index < len(nums) - 1 and nums[index] == nums[index + 1]:\n",
    "        index += 1\n",
    "    self.helper(nums, index + 1, oneRes, res)"
   ]
  },
  {
   "cell_type": "code",
   "execution_count": 12,
   "id": "057ac85c",
   "metadata": {},
   "outputs": [],
   "source": [
    "# Solution 1: each (number, count) is a level\n",
    "def subsetsWithDup(self, nums):\n",
    "    from collections import Counter\n",
    "    \"\"\"\n",
    "    Pre-processing put(nums, count) into a list\n",
    "    each num is a level\n",
    "    \"\"\"\n",
    "    # pre-processing\n",
    "    res = []\n",
    "    arr = []\n",
    "    arr = list(Counter(nums).items())\n",
    "    self.helper(arr, 0, [], res)\n",
    "    return res\n",
    "\n",
    "def helper(self, arr, index, oneRes, res):\n",
    "    if index == len(arr):\n",
    "        res.append(copy.deepcopy(oneRes))\n",
    "        return\n",
    "    count = arr[index][1]\n",
    "    for i in range(count + 1): # i = 0, 1, 2\n",
    "        for j in range(i): # j = 0, 1\n",
    "            oneRes.append(arr[index][0])\n",
    "        self.helper(arr, index + 1, oneRes, res)\n",
    "        for j in range(i):\n",
    "            oneRes.pop()"
   ]
  },
  {
   "cell_type": "markdown",
   "id": "2c850977",
   "metadata": {},
   "source": [
    "## 416. Partition Equal Subset Sum\n",
    "[416. Partition Equal Subset Sum](https://leetcode.com/problems/partition-equal-subset-sum/)\n",
    "\n",
    "- DFS: O($ 2^n $)\n",
    "- DP"
   ]
  },
  {
   "cell_type": "code",
   "execution_count": 13,
   "id": "831959ac",
   "metadata": {},
   "outputs": [],
   "source": [
    "# Solution 1: DFS (time exceed)\n",
    "def canPartition(self, nums) -> bool:\n",
    "    total = sum(nums)\n",
    "    if total % 2 == 1:\n",
    "        return False\n",
    "    half = total // 2\n",
    "    return self.helper(nums, 0, half)\n",
    "\n",
    "def helper(self, nums, index, rem):\n",
    "    # base case\n",
    "    if index == len(nums):\n",
    "        return False\n",
    "\n",
    "    # current\n",
    "    if rem == nums[index]:\n",
    "        return True\n",
    "    elif rem < nums[index]:\n",
    "        return False\n",
    "    else:\n",
    "        add = self.helper(nums, index + 1, rem - nums[index])\n",
    "        notadd = self.helper(nums, index + 1, rem)\n",
    "        return add or notadd"
   ]
  },
  {
   "cell_type": "markdown",
   "id": "61f4958b",
   "metadata": {},
   "source": [
    "## 698. Partition to K Equal Sum Subsets\n",
    "[698. Partition to K Equal Sum Subsets](https://leetcode.com/problems/partition-to-k-equal-sum-subsets/)"
   ]
  },
  {
   "cell_type": "code",
   "execution_count": null,
   "id": "8a088403",
   "metadata": {},
   "outputs": [],
   "source": []
  },
  {
   "cell_type": "markdown",
   "id": "b2e79e4f",
   "metadata": {},
   "source": [
    "# Combinations"
   ]
  },
  {
   "cell_type": "markdown",
   "id": "c501220f",
   "metadata": {},
   "source": [
    "## 99 Cents"
   ]
  },
  {
   "cell_type": "code",
   "execution_count": null,
   "id": "9363bae9",
   "metadata": {},
   "outputs": [],
   "source": [
    "# Same as 99 cents\n",
    "def combinationSum4(self, nums, target: int) -> int:\n",
    "    self.total = 0\n",
    "    res = []\n",
    "    self.helper(nums, 0, target, [], res)\n",
    "    print(res)\n",
    "    return self.total\n",
    "\n",
    "def helper(self, nums, index, remain, oneRes, res):\n",
    "    # base case\n",
    "    if remain == 0:\n",
    "        self.total += 1\n",
    "        res.append(copy.deepcopy(oneRes))\n",
    "        return\n",
    "    if index == len(nums):\n",
    "        return\n",
    "\n",
    "    # branchs\n",
    "    branch = remain // nums[index]\n",
    "    for i in range(branch + 1):\n",
    "        for _ in range(i):\n",
    "            oneRes.append(nums[index])\n",
    "        self.helper(nums, index + 1, remain - i * nums[index], oneRes, res)\n",
    "        for _ in range(i):\n",
    "            oneRes.pop()"
   ]
  },
  {
   "cell_type": "markdown",
   "id": "83f1e9c0",
   "metadata": {},
   "source": [
    "## 254. Factor Combinations\n",
    "[254. Factor Combinations](https://leetcode.com/problems/factor-combinations/)"
   ]
  },
  {
   "cell_type": "code",
   "execution_count": null,
   "id": "e24df5c6",
   "metadata": {},
   "outputs": [],
   "source": []
  },
  {
   "cell_type": "markdown",
   "id": "c4983968",
   "metadata": {},
   "source": [
    "## 77. Combinations\n",
    "[77. Combinations](https://leetcode.com/problems/combinations/)\n",
    "- subset with size k"
   ]
  },
  {
   "cell_type": "code",
   "execution_count": 14,
   "id": "ba97ae8b",
   "metadata": {},
   "outputs": [],
   "source": [
    "def combine(self, n: int, k: int):\n",
    "    res = []\n",
    "    self.helper(n, k, [], res)\n",
    "    return res\n",
    "\n",
    "def helper(self, cur, k, oneRes, res):\n",
    "    if len(oneRes) == k:\n",
    "        res.append(copy.deepcopy(oneRes))\n",
    "        return\n",
    "    if cur == 0:\n",
    "        return\n",
    "\n",
    "    oneRes.append(cur)\n",
    "    self.helper(cur - 1, k, oneRes, res)\n",
    "    oneRes.pop()\n",
    "\n",
    "    self.helper(cur - 1, k, oneRes, res)"
   ]
  },
  {
   "cell_type": "markdown",
   "id": "434dee33",
   "metadata": {},
   "source": [
    "## 39. Combination Sum\n",
    "[39. Combination Sum](https://leetcode.com/problems/combination-sum/)"
   ]
  },
  {
   "cell_type": "code",
   "execution_count": null,
   "id": "ac4c8ee9",
   "metadata": {},
   "outputs": [],
   "source": []
  },
  {
   "cell_type": "markdown",
   "id": "7486bc35",
   "metadata": {},
   "source": [
    "## 40. Combination Sum II\n",
    "[40. Combination Sum II](https://leetcode.com/problems/combination-sum-ii/)"
   ]
  },
  {
   "cell_type": "code",
   "execution_count": null,
   "id": "eec5babc",
   "metadata": {},
   "outputs": [],
   "source": []
  },
  {
   "cell_type": "markdown",
   "id": "8081818c",
   "metadata": {},
   "source": [
    "## 216. Combination Sum III\n",
    "[216. Combination Sum III](https://leetcode.com/problems/combination-sum-iii/)"
   ]
  },
  {
   "cell_type": "code",
   "execution_count": null,
   "id": "980e940a",
   "metadata": {},
   "outputs": [],
   "source": []
  },
  {
   "cell_type": "markdown",
   "id": "03949a89",
   "metadata": {},
   "source": [
    "## 377. Combination Sum IV\n",
    "[377. Combination Sum IV](https://leetcode.com/problems/combination-sum-iv/)"
   ]
  },
  {
   "cell_type": "markdown",
   "id": "a50a8f9c",
   "metadata": {},
   "source": [
    "# Parentheses"
   ]
  },
  {
   "cell_type": "markdown",
   "id": "024c049b",
   "metadata": {},
   "source": [
    "## 20. Valid Parentheses\n",
    "[20. Valid Parentheses](https://leetcode.com/problems/valid-parentheses/)"
   ]
  },
  {
   "cell_type": "code",
   "execution_count": 58,
   "id": "1302db4b",
   "metadata": {},
   "outputs": [
    {
     "name": "stdout",
     "output_type": "stream",
     "text": [
      "1\n"
     ]
    }
   ],
   "source": [
    "animals = ['cat', 'dog', 'rabbit', 'horse']\n",
    "\n",
    "# get the index of 'dog'\n",
    "index = animals.index('dog')\n",
    "\n",
    "\n",
    "print(index)\n",
    "\n",
    "# Output: 1"
   ]
  },
  {
   "cell_type": "code",
   "execution_count": 59,
   "id": "3778a6d2",
   "metadata": {},
   "outputs": [],
   "source": [
    "def isValid(self, s: str) -> bool:\n",
    "    bracket = ['(', ')', '{' ,'}' ,'[' ,']']\n",
    "    stack = deque()\n",
    "    for i in range (len(s)):\n",
    "        index = bracket.index(s[i])\n",
    "        if index % 2 == 0:\n",
    "            # left\n",
    "            stack.append(index)\n",
    "        else:\n",
    "            # right\n",
    "            if not stack or stack[-1] != index - 1:\n",
    "                return False\n",
    "            else:\n",
    "                # not empty\n",
    "                stack.pop()\n",
    "    return not stack\n",
    "\n",
    "# {}[(]\n",
    "    i -->\n",
    "stack[4,0,]"
   ]
  },
  {
   "cell_type": "markdown",
   "id": "16bbe267",
   "metadata": {},
   "source": [
    "## 1249. Minimum Remove to Make Valid Parentheses\n",
    "[1249. Minimum Remove to Make Valid Parentheses](https://leetcode.com/problems/minimum-remove-to-make-valid-parentheses/)"
   ]
  },
  {
   "cell_type": "code",
   "execution_count": null,
   "id": "c1ab8bff",
   "metadata": {},
   "outputs": [],
   "source": []
  },
  {
   "cell_type": "markdown",
   "id": "3611c72c",
   "metadata": {},
   "source": [
    "## 22. Generate Parentheses\n",
    "[22. Generate Parentheses](https://leetcode.com/problems/generate-parentheses/)\n",
    "\n",
    "- TC = O($ 2^{2n}$)\n",
    "- SC = O(n)"
   ]
  },
  {
   "cell_type": "code",
   "execution_count": 18,
   "id": "dc019074",
   "metadata": {},
   "outputs": [
    {
     "name": "stdout",
     "output_type": "stream",
     "text": [
      "a ac\n"
     ]
    }
   ],
   "source": [
    "a = \"a\"\n",
    "b = \"a\" + \"c\"\n",
    "print(a, b)"
   ]
  },
  {
   "cell_type": "code",
   "execution_count": 19,
   "id": "c64e53a5",
   "metadata": {},
   "outputs": [],
   "source": [
    "def generateParenthesis(self, n: int):\n",
    "    res = []\n",
    "    self.helper(n, n, [], res)\n",
    "    return res\n",
    "\n",
    "def helper(self, left_num, right_num, oneRes, res):\n",
    "    if left_num == 0 and right_num == 0:\n",
    "        res.append(\"\".join(oneRes))\n",
    "        return\n",
    "    # add '('\n",
    "    if left_num > 0:\n",
    "        oneRes.append('(')\n",
    "        self.helper(left_num - 1, right_num, oneRes, res)\n",
    "        oneRes.pop()\n",
    "\n",
    "    # add ')'\n",
    "    if left_num < right_num:\n",
    "        oneRes.append(')')\n",
    "        self.helper(left_num, right_num - 1, oneRes, res)\n",
    "        oneRes.pop()"
   ]
  },
  {
   "cell_type": "markdown",
   "id": "348ee881",
   "metadata": {},
   "source": [
    "## 179. All Valid Permutations Of Parentheses II\n",
    "[179. All Valid Permutations Of Parentheses II](https://app.laicode.io/app/problem/179?plan=3)"
   ]
  },
  {
   "cell_type": "code",
   "execution_count": 45,
   "id": "6d53ded7",
   "metadata": {},
   "outputs": [
    {
     "name": "stdout",
     "output_type": "stream",
     "text": [
      "['()<>{}', '()<{}>', '(){<>}', '(){}<>', '(<>){}', '(<>{})', '(<{}>)', '({<>})', '({})<>', '({}<>)', '<()>{}', '<(){}>', '<({})>', '<>(){}', '<>({})', '<>{()}', '<>{}()', '<{()}>', '<{}()>', '<{}>()', '{()<>}', '{()}<>', '{(<>)}', '{<()>}', '{<>()}', '{<>}()', '{}()<>', '{}(<>)', '{}<()>', '{}<>()']\n"
     ]
    }
   ],
   "source": [
    "class Solution(object):\n",
    "    def validParentheses(self, l, m, n):\n",
    "        \"\"\"\n",
    "        input: int l, int m, int n\n",
    "        return: string[]\n",
    "        stack: store the previous left bracket\n",
    "        \"\"\"\n",
    "        from collections import deque\n",
    "        # write your solution here\n",
    "        para = ['(',')','<','>','{','}']\n",
    "        remain = [l, l, m, m, n, n]\n",
    "        stack = deque()\n",
    "        res = []\n",
    "        total = 2 *(l + m + n)\n",
    "        self.helper(total, para, remain, stack, [], res)\n",
    "        return res\n",
    "\n",
    "    def helper(self, total, para, remain, stack, oneRes, res):\n",
    "        if len(oneRes) == total:\n",
    "            res.append(\"\".join(oneRes))\n",
    "            return\n",
    "        # append a new one\n",
    "        for i in range(len(para)):\n",
    "            # check if the current is left or right\n",
    "            #left\n",
    "            if i % 2 == 0:\n",
    "                if remain[i] > 0:\n",
    "                    oneRes.append(para[i])\n",
    "                    stack.append(para[i])\n",
    "                    remain[i] -= 1\n",
    "                    self.helper(total, para, remain, stack, oneRes, res)\n",
    "                    remain[i] += 1\n",
    "                    stack.pop()\n",
    "                    oneRes.pop()\n",
    "            else:\n",
    "                # right\n",
    "                if stack and stack[-1] == para[i - 1]:\n",
    "                    oneRes.append(para[i])\n",
    "                    cur = stack.pop()\n",
    "#                     remain[i] -= 1\n",
    "                    self.helper(total, para, remain, stack, oneRes, res)\n",
    "#                     remain[i] += 1\n",
    "                    stack.append(cur)\n",
    "                    oneRes.pop()\n",
    "\n",
    "s = Solution()\n",
    "print(s.validParentheses(1, 1, 1))"
   ]
  },
  {
   "cell_type": "markdown",
   "id": "28ee4a4f",
   "metadata": {},
   "source": [
    "## 642. All Valid Permutations Of Parentheses III\n",
    "[642. All Valid Permutations Of Parentheses III](https://app.laicode.io/app/problem/642?plan=3)"
   ]
  },
  {
   "cell_type": "code",
   "execution_count": 52,
   "id": "7f8c025e",
   "metadata": {},
   "outputs": [
    {
     "name": "stdout",
     "output_type": "stream",
     "text": [
      "aaa\n"
     ]
    }
   ],
   "source": [
    "from collections import deque\n",
    "stack = deque()\n",
    "if not stack:\n",
    "    print(\"aaa\")\n"
   ]
  },
  {
   "cell_type": "code",
   "execution_count": 61,
   "id": "32d9eabd",
   "metadata": {},
   "outputs": [
    {
     "name": "stdout",
     "output_type": "stream",
     "text": [
      "['()<>', '<()>', '<>()']\n"
     ]
    }
   ],
   "source": [
    "class Solution(object):\n",
    "    def validParentheses(self, l, m, n):\n",
    "        \"\"\"\n",
    "        input: int l, int m, int n\n",
    "        return: string[]\n",
    "        Stack: store the index of the brackets --> index represents the priority\n",
    "        \"\"\"\n",
    "        from collections import deque\n",
    "        # write your solution here\n",
    "        para = ['(',')','<','>','{','}']\n",
    "        remain = [l, l, m, m, n, n]\n",
    "        stack = deque()\n",
    "        res = []\n",
    "        total = 2 *(l + m + n)\n",
    "        self.helper(total, para, remain, stack, [], res)\n",
    "        return res\n",
    "\n",
    "    def helper(self, total, para, remain, stack, oneRes, res):\n",
    "        if len(oneRes) == total:\n",
    "            res.append(\"\".join(oneRes))\n",
    "            return\n",
    "        # append a new one\n",
    "        for i in range(len(para)):\n",
    "            # check if the current is left or right\n",
    "            #left\n",
    "            if i % 2 == 0:\n",
    "                # When adding the left bracket, compare the priority of the current branket with top stack\n",
    "                if remain[i] > 0:\n",
    "                    if not stack or i < stack[-1]:\n",
    "                        oneRes.append(para[i])\n",
    "                        stack.append(i)\n",
    "                        remain[i] -= 1\n",
    "                        self.helper(total, para, remain, stack, oneRes, res)\n",
    "                        remain[i] += 1\n",
    "                        stack.pop()\n",
    "                        oneRes.pop()\n",
    "            else:\n",
    "                # right\n",
    "                if stack and stack[-1] == i - 1:\n",
    "                    oneRes.append(para[i])\n",
    "                    cur_idx = stack.pop()\n",
    "#                     remain[i] -= 1\n",
    "                    self.helper(total, para, remain, stack, oneRes, res)\n",
    "#                     remain[i] += 1\n",
    "                    stack.append(cur_idx)\n",
    "                    oneRes.pop()\n",
    "\n",
    "s = Solution()\n",
    "print(s.validParentheses(1, 1, 0))"
   ]
  },
  {
   "cell_type": "markdown",
   "id": "a15b3a7e",
   "metadata": {},
   "source": [
    "## 921. Minimum Add to Make Parentheses Valid\n",
    "[921. Minimum Add to Make Parentheses Valid](https://leetcode.com/problems/minimum-add-to-make-parentheses-valid/)"
   ]
  },
  {
   "cell_type": "code",
   "execution_count": null,
   "id": "edb14a5c",
   "metadata": {},
   "outputs": [],
   "source": []
  },
  {
   "cell_type": "markdown",
   "id": "7c733824",
   "metadata": {},
   "source": [
    "## 301. Remove Invalid Parentheses\n",
    "[301. Remove Invalid Parentheses](https://leetcode.com/problems/remove-invalid-parentheses/)"
   ]
  },
  {
   "cell_type": "code",
   "execution_count": null,
   "id": "60c41b60",
   "metadata": {},
   "outputs": [],
   "source": []
  },
  {
   "cell_type": "markdown",
   "id": "0fe4f958",
   "metadata": {},
   "source": [
    "# Permutations"
   ]
  },
  {
   "cell_type": "markdown",
   "id": "a0858a1f",
   "metadata": {},
   "source": [
    "## 46. Permutations\n",
    "[46. Permutations](https://leetcode.com/problems/permutations/)"
   ]
  },
  {
   "cell_type": "code",
   "execution_count": null,
   "id": "10e20b80",
   "metadata": {},
   "outputs": [],
   "source": []
  },
  {
   "cell_type": "markdown",
   "id": "a8e8b731",
   "metadata": {},
   "source": [
    "## 47. Permutations II\n",
    "[47. Permutations II](https://leetcode.com/problems/permutations-ii/)"
   ]
  },
  {
   "cell_type": "code",
   "execution_count": null,
   "id": "8322e7f1",
   "metadata": {},
   "outputs": [],
   "source": []
  },
  {
   "cell_type": "markdown",
   "id": "72d37214",
   "metadata": {},
   "source": [
    "## 266. Palindrome Permutation\n",
    "[266. Palindrome Permutation](https://leetcode.com/problems/palindrome-permutation/)"
   ]
  },
  {
   "cell_type": "code",
   "execution_count": null,
   "id": "df623ffc",
   "metadata": {},
   "outputs": [],
   "source": []
  },
  {
   "cell_type": "markdown",
   "id": "e122e28f",
   "metadata": {},
   "source": [
    "## 267. Palindrome Permutation II\n",
    "[267. Palindrome Permutation II](https://leetcode.com/problems/palindrome-permutation-ii/)"
   ]
  },
  {
   "cell_type": "code",
   "execution_count": null,
   "id": "b857a1f3",
   "metadata": {},
   "outputs": [],
   "source": []
  },
  {
   "cell_type": "markdown",
   "id": "5bfea3a9",
   "metadata": {},
   "source": [
    "## 31. Next Permutation\n",
    "[31. Next Permutation](https://leetcode.com/problems/next-permutation/)"
   ]
  },
  {
   "cell_type": "code",
   "execution_count": null,
   "id": "f9e753c3",
   "metadata": {},
   "outputs": [],
   "source": []
  },
  {
   "cell_type": "markdown",
   "id": "86266904",
   "metadata": {},
   "source": [
    "# Others"
   ]
  },
  {
   "cell_type": "markdown",
   "id": "57e94742",
   "metadata": {},
   "source": [
    "## 17. Letter Combinations of a Phone Number\n",
    "[17. Letter Combinations of a Phone Number](https://leetcode.com/problems/letter-combinations-of-a-phone-number/)"
   ]
  },
  {
   "cell_type": "code",
   "execution_count": null,
   "id": "64083c20",
   "metadata": {},
   "outputs": [],
   "source": []
  },
  {
   "cell_type": "markdown",
   "id": "33943424",
   "metadata": {},
   "source": [
    "## 93. Restore IP Addresses\n",
    "[93. Restore IP Addresses](https://leetcode.com/problems/restore-ip-addresses/)"
   ]
  },
  {
   "cell_type": "code",
   "execution_count": null,
   "id": "1c4b5987",
   "metadata": {},
   "outputs": [],
   "source": []
  },
  {
   "cell_type": "markdown",
   "id": "bce60645",
   "metadata": {},
   "source": [
    "## 490. The Maze\n",
    "[490. The Maze](https://leetcode.com/problems/the-maze/)"
   ]
  },
  {
   "cell_type": "code",
   "execution_count": null,
   "id": "8c99ab3a",
   "metadata": {},
   "outputs": [],
   "source": []
  }
 ],
 "metadata": {
  "kernelspec": {
   "display_name": "Python 3 (ipykernel)",
   "language": "python",
   "name": "python3"
  },
  "language_info": {
   "codemirror_mode": {
    "name": "ipython",
    "version": 3
   },
   "file_extension": ".py",
   "mimetype": "text/x-python",
   "name": "python",
   "nbconvert_exporter": "python",
   "pygments_lexer": "ipython3",
   "version": "3.8.12"
  }
 },
 "nbformat": 4,
 "nbformat_minor": 5
}
