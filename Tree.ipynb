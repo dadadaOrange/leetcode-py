{
 "cells": [
  {
   "cell_type": "markdown",
   "id": "ee843e29",
   "metadata": {},
   "source": [
    "# Tree \n",
    "- Connected\n",
    "- Uncycle"
   ]
  },
  {
   "cell_type": "code",
   "execution_count": null,
   "id": "c0f51f15",
   "metadata": {},
   "outputs": [],
   "source": [
    "class Node:\n",
    "    def __init__(self, value):\n",
    "        self.value = value\n",
    "        self.left = None\n",
    "        self.right = None"
   ]
  },
  {
   "cell_type": "markdown",
   "id": "c9202aad",
   "metadata": {},
   "source": [
    "# Tree Traversal"
   ]
  },
  {
   "cell_type": "markdown",
   "id": "73fc73b7",
   "metadata": {},
   "source": [
    "## 144. Binary Tree Preorder Traversal\n",
    "[144. Binary Tree Preorder Traversal](https://leetcode.com/problems/binary-tree-preorder-traversal/)"
   ]
  },
  {
   "cell_type": "code",
   "execution_count": 17,
   "id": "95b85693",
   "metadata": {},
   "outputs": [],
   "source": [
    "# Recursive Way\n",
    "class Solution:\n",
    "    def preorderTraversal(self, root):\n",
    "        result = []\n",
    "        self.preOrder(root, result);\n",
    "        return result\n",
    "    \n",
    "    def preOrder(self, root, result):\n",
    "        # base case\n",
    "        if root == None:\n",
    "            return\n",
    "        # recursive rule\n",
    "        # visit root and append it to result list\n",
    "        result.append(root.val)\n",
    "        # visit left and right child\n",
    "        self.preOrder(root.left, result)\n",
    "        self.preOrder(root.right, result)"
   ]
  },
  {
   "cell_type": "code",
   "execution_count": 2,
   "id": "c27be744",
   "metadata": {},
   "outputs": [],
   "source": [
    "# Iterative Way\n",
    "class Solution:\n",
    "    # TC = O(n)\n",
    "    # SC = O(height) --> save on heap\n",
    "    def preorderTraversal(self, root):\n",
    "        \"\"\"\n",
    "        initial: stack[root]\n",
    "        stack: [right, left]\n",
    "        the stack maintain the right treeNode information (break point)\n",
    "        \"\"\"\n",
    "        if root is None:\n",
    "            return []\n",
    "        stack = deque([root])\n",
    "        res = []\n",
    "        # initial\n",
    "        # stack.append(root)\n",
    "        while stack:\n",
    "            # pop the current root\n",
    "            cur = stack.pop()\n",
    "            res.append(cur.val)\n",
    "            # add right\n",
    "            if cur.right:\n",
    "                stack.append(cur.right)\n",
    "            # add left\n",
    "            if cur.left:\n",
    "                stack.append(cur.left)\n",
    "        return res"
   ]
  },
  {
   "cell_type": "markdown",
   "id": "ddf97be5",
   "metadata": {},
   "source": [
    "## 94. Binary Tree Inorder Traversal\n",
    "[94. Binary Tree Inorder Traversal](https://leetcode.com/problems/binary-tree-inorder-traversal/)\n",
    "\n",
    "- Recursion\n",
    "- Iteratvie:\n",
    "    - initialize stack: the top of the stack is the next element to be visited\n",
    "    - visit\n",
    "    - update stack"
   ]
  },
  {
   "cell_type": "code",
   "execution_count": 1,
   "id": "14002301",
   "metadata": {},
   "outputs": [],
   "source": [
    "# Recursion\n",
    "class Solution:\n",
    "    def inorderTraversal(self, root):\n",
    "        self.res = []\n",
    "        self.inorder(root)\n",
    "        return self.res\n",
    "    def inorder(self, root):\n",
    "        # base case\n",
    "        if root is None:\n",
    "            return root\n",
    "        self.inorder(root.left)\n",
    "        self.res.append(root.val)\n",
    "        self.inorder(root.right)"
   ]
  },
  {
   "cell_type": "code",
   "execution_count": 3,
   "id": "7db80aed",
   "metadata": {},
   "outputs": [],
   "source": [
    "# Iterative\n",
    "class Solution:\n",
    "    def inorderTraversal(self, root):\n",
    "        \"\"\"\n",
    "        1. initial:\n",
    "            push the left nodes all the way down to the leaf： pushleft()\n",
    "        2. visit: root\n",
    "        3. push right subtree's left nodes all the way down to the leaf: pushleft()\n",
    "        \"\"\"\n",
    "        if root is None:\n",
    "            return []\n",
    "        from collections import deque\n",
    "        res = []\n",
    "        self.stack =  deque()\n",
    "        self.pushleft(root)\n",
    "        while self.stack:\n",
    "            cur = self.stack.pop()\n",
    "            res.append(cur.val)\n",
    "            # push the right subtree\n",
    "            self.pushleft(cur.right)\n",
    "        return res\n",
    "    \n",
    "    def pushleft(self, root):\n",
    "        while root:\n",
    "            self.stack.append(root)\n",
    "            root = root.left"
   ]
  },
  {
   "cell_type": "markdown",
   "id": "0a885929",
   "metadata": {},
   "source": [
    "## 145. Binary Tree Postorder Traversal\n",
    "[145. Binary Tree Postorder Traversal](https://leetcode.com/problems/binary-tree-postorder-traversal/)"
   ]
  },
  {
   "cell_type": "code",
   "execution_count": 4,
   "id": "4e825c76",
   "metadata": {},
   "outputs": [],
   "source": [
    "# Recursive way\n",
    "class Solution:\n",
    "    def postorderTraversal(self, root):\n",
    "        self.res = []\n",
    "        self.postorder(root)\n",
    "        return self.res\n",
    "    def postorder(self, root):\n",
    "        # base case\n",
    "        if root is None:\n",
    "            return root\n",
    "        self.postorder(root.left)\n",
    "        self.postorder(root.right)\n",
    "        self.res.append(root.val)"
   ]
  },
  {
   "cell_type": "code",
   "execution_count": 6,
   "id": "f5ee2d06",
   "metadata": {},
   "outputs": [],
   "source": [
    "# Iterative way\n",
    "class Solution:\n",
    "    def postorderTraversal(self, root):\n",
    "        \"\"\"\n",
    "        1. stack: go left or right and push them into stack\n",
    "        2. visit\n",
    "        3. check if the current is the left child:\n",
    "            1) left child: push left or right nodes into stack\n",
    "            2) right child: do nothing\n",
    "            \n",
    "        \"\"\"\n",
    "        from collections import deque\n",
    "        # corner case\n",
    "        if root is None:\n",
    "            return []\n",
    "        res = []\n",
    "        # initial stack\n",
    "        self.stack = deque()\n",
    "        self.visitChildren(root)\n",
    "        \n",
    "        # iteration\n",
    "        while self.stack:\n",
    "            cur = self.stack.pop()\n",
    "            res.append(cur.val)\n",
    "            # check if the current node is the left node\n",
    "            if self.stack and self.stack[-1].left is cur:\n",
    "                # push right subtree elements into stack\n",
    "                self.visitChildren(self.stack[-1].right)\n",
    "        return res\n",
    "    \n",
    "    def visitChildren(self, root):\n",
    "        while root:\n",
    "            self.stack.append(root)\n",
    "            if root.left:\n",
    "                root = root.left\n",
    "            else:\n",
    "                root = root.right"
   ]
  },
  {
   "cell_type": "markdown",
   "id": "e60abfe9",
   "metadata": {},
   "source": [
    "## 314. Binary Tree Vertical Order Traversal\n",
    "[314. Binary Tree Vertical Order Traversal](https://leetcode.com/problems/binary-tree-vertical-order-traversal/)"
   ]
  },
  {
   "cell_type": "code",
   "execution_count": null,
   "id": "eb387a1a",
   "metadata": {},
   "outputs": [],
   "source": []
  },
  {
   "cell_type": "markdown",
   "id": "ca64cc2b",
   "metadata": {},
   "source": [
    "## 102. Binary Tree Level Order Traversal\n",
    "[102. Binary Tree Level Order Traversal](https://leetcode.com/problems/binary-tree-level-order-traversal/)"
   ]
  },
  {
   "cell_type": "code",
   "execution_count": 9,
   "id": "fb2df4c6",
   "metadata": {},
   "outputs": [],
   "source": [
    "# TC = O(n)\n",
    "# SC = O(n): stack\n",
    "class Solution:\n",
    "    def levelOrder(self, root):\n",
    "        from collections import deque\n",
    "        if root is None:\n",
    "            return []\n",
    "        res = []\n",
    "        queue = deque([root])\n",
    "        while queue:\n",
    "            size = len(queue)\n",
    "            cur_res = []\n",
    "            for i in range(len(queue)):\n",
    "                cur = queue.popleft()\n",
    "                cur_res.append(cur.val)\n",
    "                if cur.left:\n",
    "                    queue.append(cur.left)\n",
    "                if cur.right:\n",
    "                    queue.append(cur.right)\n",
    "            res.append(cur_res)\n",
    "        return res"
   ]
  },
  {
   "cell_type": "markdown",
   "id": "8c4a0cf9",
   "metadata": {},
   "source": [
    "## 107. Binary Tree Level Order Traversal II\n",
    "[107. Binary Tree Level Order Traversal II](https://leetcode.com/problems/binary-tree-level-order-traversal-ii/)"
   ]
  },
  {
   "cell_type": "code",
   "execution_count": 10,
   "id": "836c470a",
   "metadata": {},
   "outputs": [
    {
     "data": {
      "text/plain": [
       "[[7, 8, 9], [4, 5, 6], [1, 2, 3]]"
      ]
     },
     "execution_count": 10,
     "metadata": {},
     "output_type": "execute_result"
    }
   ],
   "source": [
    "a = [[1, 2, 3], [4 , 5, 6], [7, 8, 9]]\n",
    "a.reverse()\n",
    "a"
   ]
  },
  {
   "cell_type": "code",
   "execution_count": 11,
   "id": "96e55a0c",
   "metadata": {},
   "outputs": [],
   "source": [
    "class Solution:\n",
    "    def levelOrderBottom(self, root):\n",
    "        \"\"\"\n",
    "        Same as level order. just reverse the result before return\n",
    "        \"\"\"\n",
    "        from collections import deque\n",
    "        if root is None:\n",
    "            return []\n",
    "        res = []\n",
    "        q = deque([root])\n",
    "        while q:\n",
    "            size = len(q)\n",
    "            cur_res = []\n",
    "            for i in range(size):\n",
    "                cur = q.popleft()\n",
    "                cur_res.append(cur.val)\n",
    "                if cur.left:\n",
    "                    q.append(cur.left)\n",
    "                if cur.right:\n",
    "                    q.append(cur.right)\n",
    "            res.append(cur_res)\n",
    "        # reverse the result\n",
    "        res.reverse()\n",
    "        return res"
   ]
  },
  {
   "cell_type": "markdown",
   "id": "fea7aae9",
   "metadata": {},
   "source": [
    "## 103. Binary Tree Zigzag Level Order Traversal\n",
    "[103. Binary Tree Zigzag Level Order Traversal](https://leetcode.com/problems/binary-tree-zigzag-level-order-traversal/)"
   ]
  },
  {
   "cell_type": "code",
   "execution_count": 8,
   "id": "55f1da9d",
   "metadata": {},
   "outputs": [],
   "source": [
    "# TC = O(n)\n",
    "# SC = O(n): deque\n",
    "class Solution:\n",
    "    def zigzagLevelOrder(self, root):\n",
    "        \"\"\"\n",
    "        save the candidate from right to left\n",
    "        \"\"\"\n",
    "        from collections import deque\n",
    "        if root is None:\n",
    "            return []\n",
    "        res = []\n",
    "        dq = deque([root])\n",
    "        level = 0\n",
    "        while dq:\n",
    "            cur_res = []\n",
    "            size = len(dq)\n",
    "            if level % 2 == 0:\n",
    "                for i in range(size):\n",
    "                    # expand elements from left to right\n",
    "                    cur = dq.popleft()\n",
    "                    cur_res.append(cur.val)\n",
    "                    # generate children from right to left\n",
    "                    if cur.left:\n",
    "                        dq.append(cur.left)\n",
    "                    if cur.right:\n",
    "                        dq.append(cur.right)                \n",
    "            else:\n",
    "                for i in range(size):\n",
    "                    # expand element from right to left\n",
    "                    cur = dq.pop()\n",
    "                    cur_res.append(cur.val)\n",
    "                    # generate children from left to right\n",
    "                    if cur.right:\n",
    "                        dq.appendleft(cur.right)\n",
    "                    if cur.left:\n",
    "                        dq.appendleft(cur.left)\n",
    "            res.append(cur_res)\n",
    "            level += 1\n",
    "        return res"
   ]
  },
  {
   "cell_type": "markdown",
   "id": "31e5804e",
   "metadata": {},
   "source": [
    "# Tree Features"
   ]
  },
  {
   "cell_type": "markdown",
   "id": "da2a1ade",
   "metadata": {},
   "source": [
    "## 110. Balanced Binary Tree\n",
    "[110. Balanced Binary Tree](https://leetcode.com/problems/balanced-binary-tree/)"
   ]
  },
  {
   "cell_type": "code",
   "execution_count": null,
   "id": "2a3eace4",
   "metadata": {},
   "outputs": [],
   "source": []
  },
  {
   "cell_type": "markdown",
   "id": "9f4ecaca",
   "metadata": {},
   "source": [
    "## 958. Check Completeness of a Binary Tree\n",
    "[958. Check Completeness of a Binary Tree](https://leetcode.com/problems/check-completeness-of-a-binary-tree/)"
   ]
  },
  {
   "cell_type": "code",
   "execution_count": null,
   "id": "964ee43b",
   "metadata": {},
   "outputs": [],
   "source": []
  },
  {
   "cell_type": "markdown",
   "id": "53ae8fa7",
   "metadata": {},
   "source": [
    "## 111. Minimum Depth of Binary Tree\n",
    "[111. Minimum Depth of Binary Tree](https://leetcode.com/problems/minimum-depth-of-binary-tree/)"
   ]
  },
  {
   "cell_type": "code",
   "execution_count": null,
   "id": "61015900",
   "metadata": {},
   "outputs": [],
   "source": []
  },
  {
   "cell_type": "markdown",
   "id": "1ac71dff",
   "metadata": {},
   "source": [
    "## 104. Maximum Depth of Binary Tree\n",
    "[104. Maximum Depth of Binary Tree](https://leetcode.com/problems/maximum-depth-of-binary-tree/)"
   ]
  },
  {
   "cell_type": "code",
   "execution_count": null,
   "id": "3b288abf",
   "metadata": {},
   "outputs": [],
   "source": []
  },
  {
   "cell_type": "markdown",
   "id": "18a5e2a6",
   "metadata": {},
   "source": [
    "## 101. Symmetric Tree\n",
    "[101. Symmetric Tree](https://leetcode.com/problems/symmetric-tree/)"
   ]
  },
  {
   "cell_type": "code",
   "execution_count": null,
   "id": "f3b47fd9",
   "metadata": {},
   "outputs": [],
   "source": []
  },
  {
   "cell_type": "markdown",
   "id": "c451cd0c",
   "metadata": {},
   "source": [
    "## 100. Same Tree\n",
    "[100. Same Tree](https://leetcode.com/problems/same-tree/)"
   ]
  },
  {
   "cell_type": "code",
   "execution_count": null,
   "id": "bed536dd",
   "metadata": {},
   "outputs": [],
   "source": []
  },
  {
   "cell_type": "markdown",
   "id": "5f210d34",
   "metadata": {},
   "source": [
    "## ## 156. Binary Tree Upside Down\n",
    "[156. Binary Tree Upside Down](https://leetcode.com/problems/binary-tree-upside-down/)"
   ]
  },
  {
   "cell_type": "code",
   "execution_count": null,
   "id": "52d1d6d9",
   "metadata": {},
   "outputs": [],
   "source": []
  },
  {
   "cell_type": "markdown",
   "id": "e7b440ac",
   "metadata": {},
   "source": [
    "## 114. Flatten Binary Tree to Linked List\n",
    "[114. Flatten Binary Tree to Linked List](https://leetcode.com/problems/flatten-binary-tree-to-linked-list/)"
   ]
  },
  {
   "cell_type": "code",
   "execution_count": null,
   "id": "a7706983",
   "metadata": {},
   "outputs": [],
   "source": []
  },
  {
   "cell_type": "markdown",
   "id": "7b48c410",
   "metadata": {},
   "source": [
    "# BST"
   ]
  },
  {
   "cell_type": "markdown",
   "id": "7b8b8508",
   "metadata": {},
   "source": [
    "## 98. Validate Binary Search Tree\n",
    "[98. Validate Binary Search Tree](https://leetcode.com/problems/validate-binary-search-tree/)"
   ]
  },
  {
   "cell_type": "code",
   "execution_count": null,
   "id": "feb139e9",
   "metadata": {},
   "outputs": [],
   "source": []
  },
  {
   "cell_type": "markdown",
   "id": "36bb1e77",
   "metadata": {},
   "source": [
    "## 700. Search in a Binary Search Tree\n",
    "[700. Search in a Binary Search Tree](https://leetcode.com/problems/search-in-a-binary-search-tree/)"
   ]
  },
  {
   "cell_type": "code",
   "execution_count": null,
   "id": "2490886c",
   "metadata": {},
   "outputs": [],
   "source": [
    "    def searchBST(self, root: Optional[TreeNode], val: int) -> Optional[TreeNode]:\n",
    "        # base case\n",
    "        if root is None:\n",
    "            return root\n",
    "        # recursive \n",
    "        \n",
    "        # use == not is: the reference of these two value is different\n",
    "        # root.val saved in root node ,while val saved in cache\n",
    "        # == just compared the val\n",
    "        if root.val == val:\n",
    "            return root\n",
    "        elif root.val < val:\n",
    "            return self.searchBST(root.right, val)\n",
    "        else:\n",
    "            return self.searchBST(root.left, val)"
   ]
  },
  {
   "cell_type": "markdown",
   "id": "f2f6c4e8",
   "metadata": {},
   "source": [
    " ## 701. Insert into a Binary Search Tree\n",
    " [701. Insert into a Binary Search Tree](https://leetcode.com/problems/insert-into-a-binary-search-tree/)"
   ]
  },
  {
   "cell_type": "code",
   "execution_count": null,
   "id": "51bb6b2d",
   "metadata": {},
   "outputs": [],
   "source": []
  },
  {
   "cell_type": "markdown",
   "id": "974ddeef",
   "metadata": {},
   "source": [
    "## 450. Delete Node in a BST\n",
    "[450. Delete Node in a BST](https://leetcode.com/problems/delete-node-in-a-bst/)"
   ]
  },
  {
   "cell_type": "code",
   "execution_count": null,
   "id": "4bb01dc1",
   "metadata": {},
   "outputs": [],
   "source": []
  },
  {
   "cell_type": "markdown",
   "id": "7725e981",
   "metadata": {},
   "source": [
    "## 270. Closest Binary Search Tree Value\n",
    "[270. Closest Binary Search Tree Value](https://leetcode.com/problems/closest-binary-search-tree-value/)"
   ]
  },
  {
   "cell_type": "code",
   "execution_count": null,
   "id": "ee0d8ab7",
   "metadata": {},
   "outputs": [],
   "source": []
  },
  {
   "cell_type": "markdown",
   "id": "4b99c593",
   "metadata": {},
   "source": [
    "## 272. Closest Binary Search Tree Value II\n",
    "[272. Closest Binary Search Tree Value II](https://leetcode.com/problems/closest-binary-search-tree-value-ii/)"
   ]
  },
  {
   "cell_type": "code",
   "execution_count": null,
   "id": "04cf280b",
   "metadata": {},
   "outputs": [],
   "source": []
  },
  {
   "cell_type": "markdown",
   "id": "9bdb9059",
   "metadata": {},
   "source": [
    "# Tree View"
   ]
  },
  {
   "cell_type": "markdown",
   "id": "7e276f9d",
   "metadata": {},
   "source": [
    "## 199. Binary Tree Right Side View\n",
    "[199. Binary Tree Right Side View](https://leetcode.com/problems/binary-tree-right-side-view/)"
   ]
  },
  {
   "cell_type": "code",
   "execution_count": null,
   "id": "ce27c899",
   "metadata": {},
   "outputs": [],
   "source": []
  },
  {
   "cell_type": "markdown",
   "id": "5a140b58",
   "metadata": {},
   "source": [
    "## 545. Boundary of Binary Tree\n",
    "[545. Boundary of Binary Tree](https://leetcode.com/problems/boundary-of-binary-tree/)"
   ]
  },
  {
   "cell_type": "code",
   "execution_count": null,
   "id": "2c15fa1c",
   "metadata": {},
   "outputs": [],
   "source": []
  },
  {
   "cell_type": "markdown",
   "id": "415d4748",
   "metadata": {},
   "source": [
    "# LCA"
   ]
  },
  {
   "cell_type": "markdown",
   "id": "5aa3e9da",
   "metadata": {},
   "source": [
    "## 235. Lowest Common Ancestor of a Binary Search Tree\n",
    "[235. Lowest Common Ancestor of a Binary Search Tree](https://leetcode.com/problems/lowest-common-ancestor-of-a-binary-search-tree/)"
   ]
  },
  {
   "cell_type": "code",
   "execution_count": null,
   "id": "83b491c1",
   "metadata": {},
   "outputs": [],
   "source": []
  },
  {
   "cell_type": "markdown",
   "id": "5a26788d",
   "metadata": {},
   "source": [
    "## 236. Lowest Common Ancestor of a Binary Tree\n",
    "[236. Lowest Common Ancestor of a Binary Tree](https://leetcode.com/problems/lowest-common-ancestor-of-a-binary-tree/)"
   ]
  },
  {
   "cell_type": "code",
   "execution_count": null,
   "id": "c39a32c2",
   "metadata": {},
   "outputs": [],
   "source": []
  },
  {
   "cell_type": "markdown",
   "id": "c4dd70d5",
   "metadata": {},
   "source": [
    "## 1644. Lowest Common Ancestor of a Binary Tree II\n",
    "[1644. Lowest Common Ancestor of a Binary Tree II](https://leetcode.com/problems/lowest-common-ancestor-of-a-binary-tree-ii/)"
   ]
  },
  {
   "cell_type": "code",
   "execution_count": null,
   "id": "754fbdba",
   "metadata": {},
   "outputs": [],
   "source": []
  },
  {
   "cell_type": "markdown",
   "id": "a5ed8d2d",
   "metadata": {},
   "source": [
    "## 1650. Lowest Common Ancestor of a Binary Tree III\n",
    "[1650. Lowest Common Ancestor of a Binary Tree III](https://leetcode.com/problems/lowest-common-ancestor-of-a-binary-tree-iii/)"
   ]
  },
  {
   "cell_type": "code",
   "execution_count": null,
   "id": "8ea09bf3",
   "metadata": {},
   "outputs": [],
   "source": []
  },
  {
   "cell_type": "markdown",
   "id": "afc236ba",
   "metadata": {},
   "source": [
    "## 1676. Lowest Common Ancestor of a Binary Tree IV\n",
    "[1676. Lowest Common Ancestor of a Binary Tree IV](https://leetcode.com/problems/lowest-common-ancestor-of-a-binary-tree-iv/)"
   ]
  },
  {
   "cell_type": "code",
   "execution_count": null,
   "id": "ea41b602",
   "metadata": {},
   "outputs": [],
   "source": []
  },
  {
   "cell_type": "markdown",
   "id": "5bf1094b",
   "metadata": {},
   "source": [
    "## 1123. Lowest Common Ancestor of Deepest Leaves\n",
    "[1123. Lowest Common Ancestor of Deepest Leaves](https://leetcode.com/problems/lowest-common-ancestor-of-deepest-leaves/)"
   ]
  },
  {
   "cell_type": "code",
   "execution_count": null,
   "id": "f4543521",
   "metadata": {},
   "outputs": [],
   "source": []
  },
  {
   "cell_type": "markdown",
   "id": "48dc8fe7",
   "metadata": {},
   "source": [
    "# Tree Path"
   ]
  },
  {
   "cell_type": "markdown",
   "id": "80346af0",
   "metadata": {},
   "source": [
    "## 257. Binary Tree Paths\n",
    "[257. Binary Tree Paths](https://leetcode.com/problems/binary-tree-paths/)"
   ]
  },
  {
   "cell_type": "code",
   "execution_count": null,
   "id": "cdbda154",
   "metadata": {},
   "outputs": [],
   "source": []
  },
  {
   "cell_type": "markdown",
   "id": "302570d8",
   "metadata": {},
   "source": [
    "## 112. Path Sum\n",
    "[112. Path Sum](https://leetcode.com/problems/path-sum/)"
   ]
  },
  {
   "cell_type": "code",
   "execution_count": null,
   "id": "def52d45",
   "metadata": {},
   "outputs": [],
   "source": []
  },
  {
   "cell_type": "markdown",
   "id": "12db0683",
   "metadata": {},
   "source": [
    "## 113. Path Sum II\n",
    "[113. Path Sum II](https://leetcode.com/problems/path-sum-ii/)"
   ]
  },
  {
   "cell_type": "code",
   "execution_count": null,
   "id": "68553978",
   "metadata": {},
   "outputs": [],
   "source": []
  },
  {
   "cell_type": "markdown",
   "id": "7944ac7f",
   "metadata": {},
   "source": [
    "## 437. Path Sum III\n",
    "[437. Path Sum III](https://leetcode.com/problems/path-sum-iii/)"
   ]
  },
  {
   "cell_type": "code",
   "execution_count": null,
   "id": "8ba65f06",
   "metadata": {},
   "outputs": [],
   "source": []
  },
  {
   "cell_type": "markdown",
   "id": "b713951b",
   "metadata": {},
   "source": [
    "## 129. Sum Root to Leaf Numbers\n",
    "[129. Sum Root to Leaf Numbers](https://leetcode.com/problems/sum-root-to-leaf-numbers/)"
   ]
  },
  {
   "cell_type": "code",
   "execution_count": null,
   "id": "f6e82a56",
   "metadata": {},
   "outputs": [],
   "source": []
  },
  {
   "cell_type": "markdown",
   "id": "6f3103b5",
   "metadata": {},
   "source": [
    "## 124. Binary Tree Maximum Path Sum\n",
    "[124. Binary Tree Maximum Path Sum](https://leetcode.com/problems/binary-tree-maximum-path-sum/)"
   ]
  },
  {
   "cell_type": "code",
   "execution_count": null,
   "id": "7d71bfc2",
   "metadata": {},
   "outputs": [],
   "source": []
  },
  {
   "cell_type": "markdown",
   "id": "9419b41c",
   "metadata": {},
   "source": [
    "# Tree Construction"
   ]
  },
  {
   "cell_type": "markdown",
   "id": "7446f896",
   "metadata": {},
   "source": [
    "## 105. Construct Binary Tree from Preorder and Inorder Traversal\n",
    "[105. Construct Binary Tree from Preorder and Inorder Traversal](https://leetcode.com/problems/construct-binary-tree-from-preorder-and-inorder-traversal/)"
   ]
  },
  {
   "cell_type": "code",
   "execution_count": null,
   "id": "5e46fd0f",
   "metadata": {},
   "outputs": [],
   "source": []
  },
  {
   "cell_type": "markdown",
   "id": "46891300",
   "metadata": {},
   "source": [
    "## 106. Construct Binary Tree from Inorder and Postorder Traversal\n",
    "[106. Construct Binary Tree from Inorder and Postorder Traversal](https://leetcode.com/problems/construct-binary-tree-from-inorder-and-postorder-traversal/)"
   ]
  },
  {
   "cell_type": "code",
   "execution_count": null,
   "id": "39e9e8aa",
   "metadata": {},
   "outputs": [],
   "source": []
  },
  {
   "cell_type": "markdown",
   "id": "75de865f",
   "metadata": {},
   "source": [
    "## 106. Construct Binary Tree from Inorder and Postorder Traversal\n",
    "[106. Construct Binary Tree from Inorder and Postorder Traversal](https://leetcode.com/problems/construct-binary-tree-from-inorder-and-postorder-traversal/)"
   ]
  },
  {
   "cell_type": "code",
   "execution_count": null,
   "id": "28f4b8d0",
   "metadata": {},
   "outputs": [],
   "source": []
  },
  {
   "cell_type": "markdown",
   "id": "6f9a8bb3",
   "metadata": {},
   "source": [
    "## 426. Convert Binary Search Tree to Sorted Doubly Linked List\n",
    "[426. Convert Binary Search Tree to Sorted Doubly Linked List](https://leetcode.com/problems/convert-binary-search-tree-to-sorted-doubly-linked-list/)"
   ]
  },
  {
   "cell_type": "code",
   "execution_count": null,
   "id": "5ae77bf2",
   "metadata": {},
   "outputs": [],
   "source": []
  }
 ],
 "metadata": {
  "kernelspec": {
   "display_name": "Python 3 (ipykernel)",
   "language": "python",
   "name": "python3"
  },
  "language_info": {
   "codemirror_mode": {
    "name": "ipython",
    "version": 3
   },
   "file_extension": ".py",
   "mimetype": "text/x-python",
   "name": "python",
   "nbconvert_exporter": "python",
   "pygments_lexer": "ipython3",
   "version": "3.8.12"
  }
 },
 "nbformat": 4,
 "nbformat_minor": 5
}
