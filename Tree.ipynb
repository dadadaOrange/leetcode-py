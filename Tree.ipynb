{
 "cells": [
  {
   "cell_type": "markdown",
   "id": "ee843e29",
   "metadata": {},
   "source": [
    "# Tree \n",
    "- Connected\n",
    "- Uncycle"
   ]
  },
  {
   "cell_type": "code",
   "execution_count": null,
   "id": "c0f51f15",
   "metadata": {},
   "outputs": [],
   "source": [
    "class Node:\n",
    "    def __init__(self, value):\n",
    "        self.value = value\n",
    "        self.left = None\n",
    "        self.right = None"
   ]
  },
  {
   "cell_type": "markdown",
   "id": "c9202aad",
   "metadata": {},
   "source": [
    "# Tree Traversal"
   ]
  },
  {
   "cell_type": "markdown",
   "id": "73fc73b7",
   "metadata": {},
   "source": [
    "## 144. Binary Tree Preorder Traversal\n",
    "[144. Binary Tree Preorder Traversal](https://leetcode.com/problems/binary-tree-preorder-traversal/)"
   ]
  },
  {
   "cell_type": "code",
   "execution_count": 17,
   "id": "95b85693",
   "metadata": {},
   "outputs": [],
   "source": [
    "# Recursive Way\n",
    "class Solution:\n",
    "    def preorderTraversal(self, root):\n",
    "        result = []\n",
    "        self.preOrder(root, result);\n",
    "        return result\n",
    "    \n",
    "    def preOrder(self, root, result):\n",
    "        # base case\n",
    "        if root == None:\n",
    "            return\n",
    "        # recursive rule\n",
    "        # visit root and append it to result list\n",
    "        result.append(root.val)\n",
    "        # visit left and right child\n",
    "        self.preOrder(root.left, result)\n",
    "        self.preOrder(root.right, result)"
   ]
  },
  {
   "cell_type": "code",
   "execution_count": 2,
   "id": "c27be744",
   "metadata": {},
   "outputs": [],
   "source": [
    "# Iterative Way\n",
    "class Solution:\n",
    "    # TC = O(n)\n",
    "    # SC = O(height) --> save on heap\n",
    "    def preorderTraversal(self, root):\n",
    "        \"\"\"\n",
    "        initial: stack[root]\n",
    "        stack: [right, left]\n",
    "        the stack maintain the right treeNode information (break point)\n",
    "        \"\"\"\n",
    "        if root is None:\n",
    "            return []\n",
    "        stack = deque([root])\n",
    "        res = []\n",
    "        # initial\n",
    "        # stack.append(root)\n",
    "        while stack:\n",
    "            # pop the current root\n",
    "            cur = stack.pop()\n",
    "            res.append(cur.val)\n",
    "            # add right\n",
    "            if cur.right:\n",
    "                stack.append(cur.right)\n",
    "            # add left\n",
    "            if cur.left:\n",
    "                stack.append(cur.left)\n",
    "        return res"
   ]
  },
  {
   "cell_type": "markdown",
   "id": "ddf97be5",
   "metadata": {},
   "source": [
    "## 94. Binary Tree Inorder Traversal\n",
    "[94. Binary Tree Inorder Traversal](https://leetcode.com/problems/binary-tree-inorder-traversal/)\n",
    "\n",
    "- Recursion\n",
    "- Iteratvie:\n",
    "    - initialize stack: the top of the stack is the next element to be visited\n",
    "    - visit\n",
    "    - update stack"
   ]
  },
  {
   "cell_type": "code",
   "execution_count": 1,
   "id": "14002301",
   "metadata": {},
   "outputs": [],
   "source": [
    "# Recursion\n",
    "class Solution:\n",
    "    def inorderTraversal(self, root):\n",
    "        self.res = []\n",
    "        self.inorder(root)\n",
    "        return self.res\n",
    "    def inorder(self, root):\n",
    "        # base case\n",
    "        if root is None:\n",
    "            return root\n",
    "        self.inorder(root.left)\n",
    "        self.res.append(root.val)\n",
    "        self.inorder(root.right)"
   ]
  },
  {
   "cell_type": "code",
   "execution_count": 3,
   "id": "7db80aed",
   "metadata": {},
   "outputs": [],
   "source": [
    "# Iterative\n",
    "class Solution:\n",
    "    def inorderTraversal(self, root):\n",
    "        \"\"\"\n",
    "        1. initial:\n",
    "           push the left nodes all the way down to the leaf： pushleft()\n",
    "        2. visit: root\n",
    "        3. push right subtree's left nodes all the way down to the leaf: pushleft()\n",
    "        \"\"\"\n",
    "        if root is None:\n",
    "            return []\n",
    "        from collections import deque\n",
    "        res = []\n",
    "        self.stack =  deque()\n",
    "        self.pushleft(root)\n",
    "        while self.stack:\n",
    "            cur = self.stack.pop()\n",
    "            res.append(cur.val)\n",
    "            # push the right subtree\n",
    "            self.pushleft(cur.right)\n",
    "        return res\n",
    "    \n",
    "    def pushleft(self, root):\n",
    "        while root:\n",
    "            self.stack.append(root)\n",
    "            root = root.left"
   ]
  },
  {
   "cell_type": "markdown",
   "id": "0a885929",
   "metadata": {},
   "source": [
    "## 145. Binary Tree Postorder Traversal\n",
    "[145. Binary Tree Postorder Traversal](https://leetcode.com/problems/binary-tree-postorder-traversal/)"
   ]
  },
  {
   "cell_type": "code",
   "execution_count": 4,
   "id": "4e825c76",
   "metadata": {},
   "outputs": [],
   "source": [
    "# Recursive way\n",
    "class Solution:\n",
    "    def postorderTraversal(self, root):\n",
    "        self.res = []\n",
    "        self.postorder(root)\n",
    "        return self.res\n",
    "    def postorder(self, root):\n",
    "        # base case\n",
    "        if root is None:\n",
    "            return root\n",
    "        self.postorder(root.left)\n",
    "        self.postorder(root.right)\n",
    "        self.res.append(root.val)"
   ]
  },
  {
   "cell_type": "code",
   "execution_count": 6,
   "id": "f5ee2d06",
   "metadata": {},
   "outputs": [],
   "source": [
    "# Iterative way\n",
    "class Solution:\n",
    "    def postorderTraversal(self, root):\n",
    "        \"\"\"\n",
    "        1. stack: go left or right and push them into stack\n",
    "        2. visit\n",
    "        3. check if the current is the left child:\n",
    "            1) left child: push left or right nodes into stack\n",
    "            2) right child: do nothing\n",
    "            \n",
    "        \"\"\"\n",
    "        from collections import deque\n",
    "        # corner case\n",
    "        if root is None:\n",
    "            return []\n",
    "        res = []\n",
    "        # initial stack\n",
    "        self.stack = deque()\n",
    "        self.visitChildren(root)\n",
    "        \n",
    "        # iteration\n",
    "        while self.stack:\n",
    "            cur = self.stack.pop()\n",
    "            res.append(cur.val)\n",
    "            # check if the current node is the left node\n",
    "            if self.stack and self.stack[-1].left is cur:\n",
    "                # push right subtree elements into stack\n",
    "                self.visitChildren(self.stack[-1].right)\n",
    "        return res\n",
    "    \n",
    "    def visitChildren(self, root):\n",
    "        while root:\n",
    "            self.stack.append(root)\n",
    "            if root.left:\n",
    "                root = root.left\n",
    "            else:\n",
    "                root = root.right"
   ]
  },
  {
   "cell_type": "markdown",
   "id": "e60abfe9",
   "metadata": {},
   "source": [
    "## 314. Binary Tree Vertical Order Traversal\n",
    "[314. Binary Tree Vertical Order Traversal](https://leetcode.com/problems/binary-tree-vertical-order-traversal/)"
   ]
  },
  {
   "cell_type": "code",
   "execution_count": 14,
   "id": "eb387a1a",
   "metadata": {},
   "outputs": [
    {
     "name": "stdout",
     "output_type": "stream",
     "text": [
      "dict_keys(['yellow', 'blue', 'red'])\n",
      "dict_values([[1, 3], [2, 4], [1]])\n",
      "dict_items([('yellow', [1, 3]), ('blue', [2, 4]), ('red', [1])])\n"
     ]
    }
   ],
   "source": [
    "from collections import defaultdict\n",
    "s = [('yellow', 1), ('blue', 2), ('yellow', 3), ('blue', 4), ('red', 1)]\n",
    "d = defaultdict(list)\n",
    "for k, v in s:\n",
    "    d[k].append(v)\n",
    "print(d.keys())\n",
    "print(d.values())\n",
    "print(d.items())"
   ]
  },
  {
   "cell_type": "code",
   "execution_count": 15,
   "id": "c606c6ae",
   "metadata": {},
   "outputs": [
    {
     "data": {
      "text/plain": [
       "[('blue', [2, 4]), ('red', [1]), ('yellow', [1, 3])]"
      ]
     },
     "execution_count": 15,
     "metadata": {},
     "output_type": "execute_result"
    }
   ],
   "source": [
    "s = sorted(d.items()) # s is a list not a dict anymore\n",
    "s"
   ]
  },
  {
   "cell_type": "code",
   "execution_count": 16,
   "id": "1e488724",
   "metadata": {},
   "outputs": [],
   "source": [
    "class Solution:\n",
    "    def verticalOrder(self, root):\n",
    "        if not root:\n",
    "            return []\n",
    "        # initial state: use a dict{key = index, val = []} to collect all the nodes with the same vertival index\n",
    "        q = deque([(root, 0)])\n",
    "        vertical = defaultdict(list)\n",
    "        vertical[0].append(root.val)\n",
    "        while q:\n",
    "            cur, index = q.popleft()\n",
    "            if cur.left:\n",
    "                q.append((cur.left, index - 1))\n",
    "                vertical[index - 1].append(cur.left.val)\n",
    "            if cur.right:\n",
    "                q.append((cur.right, index + 1))\n",
    "                vertical[index + 1].append(cur.right.val)\n",
    "        # post processing\n",
    "        return [vertical[x] for x in sorted(vertical.keys())]\n",
    "    \n",
    "        # res = sorted(vertical.items())\n",
    "        # result = []\n",
    "        # for k, v in res:\n",
    "        #     result.append(v)\n",
    "        # return result"
   ]
  },
  {
   "cell_type": "markdown",
   "id": "ca64cc2b",
   "metadata": {},
   "source": [
    "## 102. Binary Tree Level Order Traversal\n",
    "[102. Binary Tree Level Order Traversal](https://leetcode.com/problems/binary-tree-level-order-traversal/)"
   ]
  },
  {
   "cell_type": "code",
   "execution_count": 9,
   "id": "fb2df4c6",
   "metadata": {},
   "outputs": [],
   "source": [
    "# TC = O(n)\n",
    "# SC = O(n): stack\n",
    "class Solution:\n",
    "    def levelOrder(self, root):\n",
    "        from collections import deque\n",
    "        if root is None:\n",
    "            return []\n",
    "        res = []\n",
    "        queue = deque([root])\n",
    "        while queue:\n",
    "            size = len(queue)\n",
    "            cur_res = []\n",
    "            for i in range(len(queue)):\n",
    "                cur = queue.popleft()\n",
    "                cur_res.append(cur.val)\n",
    "                if cur.left:\n",
    "                    queue.append(cur.left)\n",
    "                if cur.right:\n",
    "                    queue.append(cur.right)\n",
    "            res.append(cur_res)\n",
    "        return res"
   ]
  },
  {
   "cell_type": "markdown",
   "id": "8c4a0cf9",
   "metadata": {},
   "source": [
    "## 107. Binary Tree Level Order Traversal II\n",
    "[107. Binary Tree Level Order Traversal II](https://leetcode.com/problems/binary-tree-level-order-traversal-ii/)"
   ]
  },
  {
   "cell_type": "code",
   "execution_count": 10,
   "id": "836c470a",
   "metadata": {},
   "outputs": [
    {
     "data": {
      "text/plain": [
       "[[7, 8, 9], [4, 5, 6], [1, 2, 3]]"
      ]
     },
     "execution_count": 10,
     "metadata": {},
     "output_type": "execute_result"
    }
   ],
   "source": [
    "a = [[1, 2, 3], [4 , 5, 6], [7, 8, 9]]\n",
    "a.reverse()\n",
    "a"
   ]
  },
  {
   "cell_type": "code",
   "execution_count": 11,
   "id": "96e55a0c",
   "metadata": {},
   "outputs": [],
   "source": [
    "class Solution:\n",
    "    def levelOrderBottom(self, root):\n",
    "        \"\"\"\n",
    "        Same as level order. just reverse the result before return\n",
    "        \"\"\"\n",
    "        from collections import deque\n",
    "        if root is None:\n",
    "            return []\n",
    "        res = []\n",
    "        q = deque([root])\n",
    "        while q:\n",
    "            size = len(q)\n",
    "            cur_res = []\n",
    "            for i in range(size):\n",
    "                cur = q.popleft()\n",
    "                cur_res.append(cur.val)\n",
    "                if cur.left:\n",
    "                    q.append(cur.left)\n",
    "                if cur.right:\n",
    "                    q.append(cur.right)\n",
    "            res.append(cur_res)\n",
    "        # reverse the result\n",
    "        res.reverse()\n",
    "        return res"
   ]
  },
  {
   "cell_type": "markdown",
   "id": "fea7aae9",
   "metadata": {},
   "source": [
    "## 103. Binary Tree Zigzag Level Order Traversal\n",
    "[103. Binary Tree Zigzag Level Order Traversal](https://leetcode.com/problems/binary-tree-zigzag-level-order-traversal/)"
   ]
  },
  {
   "cell_type": "code",
   "execution_count": 8,
   "id": "55f1da9d",
   "metadata": {},
   "outputs": [],
   "source": [
    "# TC = O(n)\n",
    "# SC = O(n): deque\n",
    "class Solution:\n",
    "    def zigzagLevelOrder(self, root):\n",
    "        \"\"\"\n",
    "        save the candidate from right to left\n",
    "        \"\"\"\n",
    "        from collections import deque\n",
    "        if root is None:\n",
    "            return []\n",
    "        res = []\n",
    "        dq = deque([root])\n",
    "        level = 0\n",
    "        while dq:\n",
    "            cur_res = []\n",
    "            size = len(dq)\n",
    "            if level % 2 == 0:\n",
    "                for i in range(size):\n",
    "                    # expand elements from left to right\n",
    "                    cur = dq.popleft()\n",
    "                    cur_res.append(cur.val)\n",
    "                    # generate children from right to left\n",
    "                    if cur.left:\n",
    "                        dq.append(cur.left)\n",
    "                    if cur.right:\n",
    "                        dq.append(cur.right)                \n",
    "            else:\n",
    "                for i in range(size):\n",
    "                    # expand element from right to left\n",
    "                    cur = dq.pop()\n",
    "                    cur_res.append(cur.val)\n",
    "                    # generate children from left to right\n",
    "                    if cur.right:\n",
    "                        dq.appendleft(cur.right)\n",
    "                    if cur.left:\n",
    "                        dq.appendleft(cur.left)\n",
    "            res.append(cur_res)\n",
    "            level += 1\n",
    "        return res"
   ]
  },
  {
   "cell_type": "markdown",
   "id": "31e5804e",
   "metadata": {},
   "source": [
    "# Tree Features"
   ]
  },
  {
   "cell_type": "markdown",
   "id": "da2a1ade",
   "metadata": {},
   "source": [
    "## 110. Balanced Binary Tree\n",
    "[110. Balanced Binary Tree](https://leetcode.com/problems/balanced-binary-tree/)"
   ]
  },
  {
   "cell_type": "code",
   "execution_count": 1,
   "id": "2a3eace4",
   "metadata": {},
   "outputs": [],
   "source": [
    "class Solution:\n",
    "    def isBalanced(self, root) -> bool:\n",
    "        # corner case\n",
    "        if root is None:\n",
    "            return True\n",
    "        res = self.heightOrBalanced(root)\n",
    "        return False if res == -1 else True\n",
    "    \n",
    "    def heightOrBalanced(self, root):\n",
    "        # corner case\n",
    "        if root is None:\n",
    "            return 0\n",
    "        # current level\n",
    "        left_height = self.heightOrBalanced(root.left)\n",
    "        right_height = self.heightOrBalanced(root.right)\n",
    "        \n",
    "        # return to parent\n",
    "        if left_height == -1 or right_height == -1 or abs(left_height - right_height) > 1:\n",
    "            return -1\n",
    "        return max(left_height, right_height) + 1"
   ]
  },
  {
   "cell_type": "markdown",
   "id": "9f4ecaca",
   "metadata": {},
   "source": [
    "## 958. Check Completeness of a Binary Tree\n",
    "[958. Check Completeness of a Binary Tree](https://leetcode.com/problems/check-completeness-of-a-binary-tree/)"
   ]
  },
  {
   "cell_type": "code",
   "execution_count": 13,
   "id": "964ee43b",
   "metadata": {},
   "outputs": [
    {
     "data": {
      "text/plain": [
       "deque([('1', '3'), None, 2, [1, 2]])"
      ]
     },
     "execution_count": 13,
     "metadata": {},
     "output_type": "execute_result"
    }
   ],
   "source": [
    "from collections import deque\n",
    "q = deque()\n",
    "q.append((\"1\", \"3\"))\n",
    "q.append(None)\n",
    "q.append(2)\n",
    "q.append([1, 2])\n",
    "q"
   ]
  },
  {
   "cell_type": "code",
   "execution_count": 1,
   "id": "ee04fdd7",
   "metadata": {},
   "outputs": [],
   "source": [
    "def isCompleteTree(self, root) -> bool:\n",
    "    if not root:\n",
    "        return True\n",
    "    flag = True\n",
    "    q = deque([root])\n",
    "    while q:\n",
    "        cur = q.popleft()\n",
    "        if flag:\n",
    "            if not cur:\n",
    "                flag = False\n",
    "            else:\n",
    "                q.append(cur.left)\n",
    "                q.append(cur.right)\n",
    "        else:\n",
    "            if cur:\n",
    "                return False\n",
    "    return True"
   ]
  },
  {
   "cell_type": "code",
   "execution_count": 19,
   "id": "a1ec124b",
   "metadata": {},
   "outputs": [],
   "source": [
    "def isCompleteTree(self, root) -> bool:\n",
    "    \"\"\"\n",
    "    Use a prev flag to check if the previous nodes have None\n",
    "    Call q.append() no matter the children is None or not\n",
    "    \n",
    "    \"\"\"\n",
    "    q = [root]\n",
    "    prev = root\n",
    "    while q:\n",
    "        node = q.popleft()\n",
    "        if node:\n",
    "            if not prev:\n",
    "                return False\n",
    "            q.append(node.left)\n",
    "            q.append(node.right)\n",
    "        # update prev\n",
    "        prev = node\n",
    "    return True"
   ]
  },
  {
   "cell_type": "markdown",
   "id": "18a5e2a6",
   "metadata": {},
   "source": [
    "## 101. Symmetric Tree\n",
    "[101. Symmetric Tree](https://leetcode.com/problems/symmetric-tree/)"
   ]
  },
  {
   "cell_type": "code",
   "execution_count": 20,
   "id": "f3b47fd9",
   "metadata": {},
   "outputs": [],
   "source": [
    "# TC = O(n/2)\n",
    "# SC = O(height)\n",
    "class Solution:\n",
    "    def isSymmetric(self, root) -> bool:\n",
    "        if root is None:\n",
    "            return True\n",
    "        return self.same(root.left, root.right)\n",
    "    \n",
    "    def same(self, l, r):\n",
    "        if l is None and r is None:\n",
    "            return True\n",
    "        if l is None or r is None:\n",
    "            return False\n",
    "        # l and r are not None: check the val\n",
    "        if l.val != r.val:\n",
    "            return False\n",
    "        return self.same(l.left, r.right) and self.same(l.right, r.left)"
   ]
  },
  {
   "cell_type": "markdown",
   "id": "c451cd0c",
   "metadata": {},
   "source": [
    "## 100. Same Tree\n",
    "[100. Same Tree](https://leetcode.com/problems/same-tree/)"
   ]
  },
  {
   "cell_type": "code",
   "execution_count": 21,
   "id": "bed536dd",
   "metadata": {},
   "outputs": [],
   "source": [
    "# TC = O(n) -- n is the nodes of the one tree\n",
    "# SC = O(height)\n",
    "class Solution:\n",
    "    def isSameTree(self, p, q) -> bool:\n",
    "        if p is None and q is None:\n",
    "            return True\n",
    "        if p is None or q is None:\n",
    "            return False\n",
    "        if p.val != q.val:\n",
    "            return False\n",
    "        # recursively comapre the left and right child\n",
    "        return self.isSameTree(p.left, q.left) and self.isSameTree(p.right, q.right)"
   ]
  },
  {
   "cell_type": "markdown",
   "id": "5f210d34",
   "metadata": {},
   "source": [
    "## 156. Binary Tree Upside Down\n",
    "[156. Binary Tree Upside Down](https://leetcode.com/problems/binary-tree-upside-down/)"
   ]
  },
  {
   "cell_type": "code",
   "execution_count": 22,
   "id": "52d1d6d9",
   "metadata": {},
   "outputs": [],
   "source": [
    "class Solution:\n",
    "    # TC = O(height)\n",
    "    # SC = O(height)\n",
    "    def upsideDownBinaryTree(self, root):\n",
    "        \"\"\"\n",
    "        1. like recursive ly reverse linkedlist (newRoot != root.left)\n",
    "        2. base case: root.left is not None (dereference)\n",
    "        3. change the root to leaf\n",
    "        \n",
    "        \"\"\"\n",
    "        # base case\n",
    "        if root is None:\n",
    "            return root\n",
    "        if root.left is None:\n",
    "            return root\n",
    "        # current level\n",
    "        newRoot = self.upsideDownBinaryTree(root.left)\n",
    "        # update the reference at current level\n",
    "        root.left.left = root.right\n",
    "        root.left.right = root\n",
    "        # change root to leaf node\n",
    "        root.left = None\n",
    "        root.right = None\n",
    "        \n",
    "        return newRoot"
   ]
  },
  {
   "cell_type": "markdown",
   "id": "7b48c410",
   "metadata": {},
   "source": [
    "# BST"
   ]
  },
  {
   "cell_type": "markdown",
   "id": "7b8b8508",
   "metadata": {},
   "source": [
    "## 98. Validate Binary Search Tree\n",
    "[98. Validate Binary Search Tree](https://leetcode.com/problems/validate-binary-search-tree/)\n",
    "\n",
    "- TC = O(n)\n",
    "- SC = O(height)"
   ]
  },
  {
   "cell_type": "code",
   "execution_count": 33,
   "id": "c52db9d8",
   "metadata": {},
   "outputs": [
    {
     "name": "stdout",
     "output_type": "stream",
     "text": [
      "True\n"
     ]
    }
   ],
   "source": [
    "a = float('-inf')\n",
    "print(a < -1000000)"
   ]
  },
  {
   "cell_type": "code",
   "execution_count": 36,
   "id": "c26b7c73",
   "metadata": {},
   "outputs": [],
   "source": [
    "# Recursion\n",
    "class Solution:\n",
    "    def isValidBST(self, root) -> bool:\n",
    "        \"\"\"\n",
    "        Care about the case [2, 2, 2]\n",
    "        \"\"\"\n",
    "        if root is None:\n",
    "            return True\n",
    "        return self.isBST(root, float('-inf'), float('inf'))\n",
    "    \n",
    "    def isBST(self, root, minimum, maximum):\n",
    "        # base case\n",
    "        if root is None:\n",
    "            return True\n",
    "        #current level\n",
    "        if root.val >= maximum or root.val <= minimum:\n",
    "            return False\n",
    "        left = self.isBST(root.left, minimum, root.val)\n",
    "        right = self.isBST(root.right, root.val, maximum)\n",
    "        return left and right"
   ]
  },
  {
   "cell_type": "code",
   "execution_count": 43,
   "id": "958f265c",
   "metadata": {},
   "outputs": [],
   "source": [
    "# Iteration\n",
    "class Solution:\n",
    "    def isValidBST(self, root) -> bool:\n",
    "        from collections import deque\n",
    "        \"\"\"\n",
    "        Inorder iteratiovely traversal\n",
    "        compare the cur.val and prev.val\n",
    "        \"\"\"\n",
    "        if root is None:\n",
    "            return True\n",
    "        stack = deque()\n",
    "        self.pushleft(root, stack)\n",
    "        prev = None\n",
    "        while stack:\n",
    "            cur = stack.pop()\n",
    "            # comapre cur and prev\n",
    "            if prev and prev.val >= cur.val:\n",
    "                return False\n",
    "            prev = cur\n",
    "            # push right\n",
    "            self.pushleft(cur.right, stack)\n",
    "        return True\n",
    "    \n",
    "        \n",
    "    def pushleft(self, root, stack):\n",
    "        while root:\n",
    "            stack.append(root)\n",
    "            root = root.left"
   ]
  },
  {
   "cell_type": "markdown",
   "id": "36bb1e77",
   "metadata": {},
   "source": [
    "## 700. Search in a Binary Search Tree\n",
    "[700. Search in a Binary Search Tree](https://leetcode.com/problems/search-in-a-binary-search-tree/)"
   ]
  },
  {
   "cell_type": "code",
   "execution_count": 37,
   "id": "2490886c",
   "metadata": {},
   "outputs": [],
   "source": [
    "def searchBST(self, root, val: int):\n",
    "    # base case\n",
    "    if root is None:\n",
    "        return root\n",
    "    # recursive \n",
    "\n",
    "    # use == not is: the reference of these two value is different\n",
    "    # root.val saved in root node ,while val saved in cache\n",
    "    # == just compared the val\n",
    "    if root.val == val:\n",
    "        return root\n",
    "    elif root.val < val:\n",
    "        return self.searchBST(root.right, val)\n",
    "    else:\n",
    "        return self.searchBST(root.left, val)"
   ]
  },
  {
   "cell_type": "markdown",
   "id": "f2f6c4e8",
   "metadata": {},
   "source": [
    " ## 701. Insert into a Binary Search Tree\n",
    " [701. Insert into a Binary Search Tree](https://leetcode.com/problems/insert-into-a-binary-search-tree/)"
   ]
  },
  {
   "cell_type": "code",
   "execution_count": 39,
   "id": "51bb6b2d",
   "metadata": {},
   "outputs": [],
   "source": [
    "# TC = O(height)\n",
    "# SC = O(height)\n",
    "\n",
    "class Solution:\n",
    "    def insertIntoBST(self, root, val: int):\n",
    "        \"\"\"\n",
    "        Recursion: find a position to insert node\n",
    "        Return: hang on root and children\n",
    "        \"\"\"\n",
    "        if root is None:\n",
    "            return TreeNode(val)\n",
    "        return self.insert_bst(root, val)\n",
    "    \n",
    "    def insert_bst(self, root, val):\n",
    "        if root is None:\n",
    "            return TreeNode(val)\n",
    "        # current\n",
    "        if root.val > val:\n",
    "            root.left = self.insert_bst(root.left, val)\n",
    "        else:\n",
    "            root.right = self.insert_bst(root.right, val)\n",
    "        return root"
   ]
  },
  {
   "cell_type": "code",
   "execution_count": 40,
   "id": "5bef3c80",
   "metadata": {},
   "outputs": [],
   "source": [
    "# TC = O(height)\n",
    "# SC = O(1)\n",
    "class Solution:\n",
    "    def insertIntoBST(self, root, val: int):\n",
    "        if root is None:\n",
    "            return TreeNode(val)\n",
    "        cur = root\n",
    "        prev = None\n",
    "        while cur:\n",
    "            prev = cur\n",
    "            if cur.val > val:\n",
    "                cur = cur.left\n",
    "            else:\n",
    "                cur = cur.right\n",
    "        if prev.val > val:\n",
    "            prev.left = TreeNode(val)\n",
    "        else:\n",
    "            prev.right = TreeNode(val)\n",
    "        return root"
   ]
  },
  {
   "cell_type": "markdown",
   "id": "974ddeef",
   "metadata": {},
   "source": [
    "## 450. Delete Node in a BST\n",
    "[450. Delete Node in a BST](https://leetcode.com/problems/delete-node-in-a-bst/)"
   ]
  },
  {
   "cell_type": "code",
   "execution_count": 41,
   "id": "4bb01dc1",
   "metadata": {},
   "outputs": [],
   "source": [
    "# TC = O(height = search + delete)\n",
    "# SC = O(height)\n",
    "class Solution:\n",
    "    def deleteNode(self, root, key: int):\n",
    "        if root is None:\n",
    "            return None\n",
    "        return self.delete(root, key)\n",
    "\n",
    "    def delete(self, root, key):\n",
    "        if root is None:\n",
    "            return None\n",
    "        # search in bst and find the target node\n",
    "        if root.val > key:\n",
    "            root.left = self.delete(root.left, key)\n",
    "            return root\n",
    "        elif root.val < key:\n",
    "            root.right = self.delete(root.right, key)\n",
    "            return root\n",
    "        else:\n",
    "            # find the target node(and root is not None)\n",
    "            # delete node\n",
    "            # case 1: node has no children\n",
    "            if root.left is None and root.right is None:\n",
    "                return None\n",
    "            # case 2: node only has left children\n",
    "            if root.left is None:\n",
    "                return root.right\n",
    "            # case 3: node only has right children\n",
    "            if root.right is None:\n",
    "                return root.left\n",
    "            # case 4: node has both left and right children\n",
    "            else:\n",
    "                if root.right.left is None:\n",
    "                # root.right is the new root\n",
    "                    root.right.left = root.left\n",
    "                    return root.right\n",
    "                else:\n",
    "                # find the successor   \n",
    "                    prev = root.right\n",
    "                    newRoot = root.right\n",
    "                    while newRoot.left:\n",
    "                        prev = newRoot\n",
    "                        newRoot = newRoot.left\n",
    "                    prev.left = newRoot.right\n",
    "                    newRoot.left = root.left\n",
    "                    newRoot.right = root.right\n",
    "                    return newRoot"
   ]
  },
  {
   "cell_type": "markdown",
   "id": "87d809f8",
   "metadata": {},
   "source": [
    "## 285. Inorder Successor in BST\n",
    "[285. Inorder Successor in BST](https://leetcode.com/problems/inorder-successor-in-bst/)"
   ]
  },
  {
   "cell_type": "code",
   "execution_count": null,
   "id": "1933fb7b",
   "metadata": {},
   "outputs": [],
   "source": [
    "# TC = O(height)\n",
    "# SC = O(1)\n",
    "class Solution:\n",
    "    def inorderSuccessor(self, root: TreeNode, p: TreeNode) -> Optional[TreeNode]:\n",
    "        \"\"\"\n",
    "        Binary search: find the smallest element larger than target\n",
    "        No matter the order traversal and successor\n",
    "        \"\"\"\n",
    "        if root is None:\n",
    "            return None\n",
    "        res = None\n",
    "        while root:\n",
    "            if root.val <= p.val:\n",
    "                root = root.right\n",
    "            else:\n",
    "                res = root\n",
    "                root = root.left\n",
    "        return res"
   ]
  },
  {
   "cell_type": "markdown",
   "id": "3a8ba30c",
   "metadata": {},
   "source": [
    "## 510. Inorder Successor in BST II\n",
    "[510. Inorder Successor in BST II](https://leetcode.com/problems/inorder-successor-in-bst-ii/)"
   ]
  },
  {
   "cell_type": "code",
   "execution_count": 45,
   "id": "9c6be3d5",
   "metadata": {},
   "outputs": [],
   "source": [
    "class Solution:\n",
    "    def inorderSuccessor(self, node):\n",
    "        \"\"\"\n",
    "        If the node has a right child, and hence its successor is somewhere lower in the tree. Go to the\n",
    "        right once and then as many times to the left as you could. Return the node you end up with.\n",
    "        \n",
    "        Node has no right child, and hence its successor is somewhere upper in the tree. Go up till the\n",
    "        node that is left child of its parent. The answer is the parent.\n",
    "        \"\"\"\n",
    "        # has right child\n",
    "        if node.right:\n",
    "            return self.goleft(node.right)\n",
    "        # don't has right child\n",
    "        else:\n",
    "            return self.goupper(node)\n",
    "        \n",
    "    def goleft(self, node):\n",
    "        # while node: wrong!!! always return null\n",
    "        while node.left:\n",
    "            node = node.left\n",
    "        return node\n",
    "    \n",
    "    def goupper(self, node):\n",
    "        while node.parent and node.parent.right is node:\n",
    "            node = node.parent\n",
    "        return node.parent"
   ]
  },
  {
   "cell_type": "markdown",
   "id": "7725e981",
   "metadata": {},
   "source": [
    "## 270. Closest Binary Search Tree Value\n",
    "[270. Closest Binary Search Tree Value](https://leetcode.com/problems/closest-binary-search-tree-value/)"
   ]
  },
  {
   "cell_type": "code",
   "execution_count": 46,
   "id": "ee0d8ab7",
   "metadata": {},
   "outputs": [],
   "source": [
    "# TC = O(height)\n",
    "# SC = O(1)\n",
    "class Solution:\n",
    "    def closestValue(self, root, target: float) -> int:\n",
    "        res = root.val\n",
    "        while root:\n",
    "            # update res\n",
    "            if abs(root.val - target) < abs(res - target):\n",
    "                res = root.val\n",
    "            # root > target: potentical better res is on the left\n",
    "            if root.val > target:\n",
    "                root = root.left\n",
    "            else:\n",
    "                root = root.right\n",
    "        return res"
   ]
  },
  {
   "cell_type": "markdown",
   "id": "4b99c593",
   "metadata": {},
   "source": [
    "## 272. Closest Binary Search Tree Value II\n",
    "[272. Closest Binary Search Tree Value II](https://leetcode.com/problems/closest-binary-search-tree-value-ii/)"
   ]
  },
  {
   "cell_type": "code",
   "execution_count": null,
   "id": "04cf280b",
   "metadata": {},
   "outputs": [],
   "source": []
  },
  {
   "cell_type": "markdown",
   "id": "5ae3e085",
   "metadata": {},
   "source": [
    "## 230. Kth Smallest Element in a BST\n",
    "[230. Kth Smallest Element in a BST](https://leetcode.com/problems/kth-smallest-element-in-a-bst/)"
   ]
  },
  {
   "cell_type": "code",
   "execution_count": null,
   "id": "7fd764fa",
   "metadata": {},
   "outputs": [],
   "source": []
  },
  {
   "cell_type": "markdown",
   "id": "df2f2117",
   "metadata": {},
   "source": [
    "## 938. Range Sum of BST\n",
    "[938. Range Sum of BST](https://leetcode.com/problems/range-sum-of-bst/)"
   ]
  },
  {
   "cell_type": "code",
   "execution_count": 48,
   "id": "0e7d200e",
   "metadata": {},
   "outputs": [
    {
     "name": "stdout",
     "output_type": "stream",
     "text": [
      "True\n"
     ]
    }
   ],
   "source": [
    "print(3 <= 5 <= 10)"
   ]
  },
  {
   "cell_type": "code",
   "execution_count": 49,
   "id": "b945155a",
   "metadata": {},
   "outputs": [],
   "source": [
    "class Solution:\n",
    "    def rangeSumBST(self, root, low: int, high: int) -> int:\n",
    "        self.total = 0\n",
    "        self.sumRange(root, low, high)\n",
    "        return self.total\n",
    "    \n",
    "    def sumRange(self, root, low, high):\n",
    "        if root is None:\n",
    "            return\n",
    "        if low <= root.val <= high:\n",
    "            self.total += root.val\n",
    "            self.sumRange(root.left, low, high)\n",
    "            self.sumRange(root.right, low, high)\n",
    "        elif root.val < low:\n",
    "            self.sumRange(root.right, low, high)\n",
    "        else:\n",
    "            self.sumRange(root.left, low, high)"
   ]
  },
  {
   "cell_type": "markdown",
   "id": "d1e95a63",
   "metadata": {},
   "source": [
    "## 653. Two Sum IV - Input is a BST\n",
    "[653. Two Sum IV - Input is a BST](https://leetcode.com/problems/two-sum-iv-input-is-a-bst/)"
   ]
  },
  {
   "cell_type": "code",
   "execution_count": 47,
   "id": "29edeed2",
   "metadata": {},
   "outputs": [],
   "source": [
    "class Solution:\n",
    "    def findTarget(self, root, k: int) -> bool:\n",
    "        visited = set()\n",
    "        return self.find(root, visited, k)\n",
    "    \n",
    "    def find(self, root, visited, k):\n",
    "        if root is None:\n",
    "            return False\n",
    "        # add\n",
    "        if (k - root.val) in visited:\n",
    "            return True\n",
    "        visited.add(root.val)\n",
    "        return self.find(root.left, visited, k) or self.find(root.right, visited, k)"
   ]
  },
  {
   "cell_type": "code",
   "execution_count": 50,
   "id": "922c789a",
   "metadata": {},
   "outputs": [],
   "source": [
    "# Two stacks\n",
    "# Two iterators"
   ]
  },
  {
   "cell_type": "markdown",
   "id": "9bdb9059",
   "metadata": {},
   "source": [
    "# Tree View"
   ]
  },
  {
   "cell_type": "markdown",
   "id": "7e276f9d",
   "metadata": {},
   "source": [
    "## 199. Binary Tree Right Side View\n",
    "[199. Binary Tree Right Side View](https://leetcode.com/problems/binary-tree-right-side-view/)"
   ]
  },
  {
   "cell_type": "code",
   "execution_count": 18,
   "id": "ce27c899",
   "metadata": {},
   "outputs": [],
   "source": [
    "# BFS\n",
    "class Solution:\n",
    "    def rightSideView(self, root):\n",
    "        if not root:\n",
    "            return []\n",
    "        res = []\n",
    "        q = deque([root])\n",
    "        while q:\n",
    "            size = len(q)\n",
    "            for i in range(size):\n",
    "                cur = q.popleft()\n",
    "                # add the last elememt into res\n",
    "                if i == size - 1:\n",
    "                    res.append(cur)\n",
    "                if cur.left:\n",
    "                    q.append(cur.left)\n",
    "                if cur.right:\n",
    "                    q.append(cur.right)\n",
    "        return res"
   ]
  },
  {
   "cell_type": "code",
   "execution_count": 19,
   "id": "52e4862c",
   "metadata": {},
   "outputs": [],
   "source": [
    "# DFS\n",
    "class Solution:\n",
    "    def rightSideView(self, root):\n",
    "        \"\"\"\n",
    "        check right subtree first\n",
    "        Use index and len(res) as a wall\n",
    "        \"\"\"\n",
    "        if not root:\n",
    "            return []\n",
    "        res = []\n",
    "        self.dfs(root, res, 0)\n",
    "        return res\n",
    "    \n",
    "    def dfs(self, root, res, index):\n",
    "        # base case\n",
    "        if not root:\n",
    "            return\n",
    "        if index == len(res):\n",
    "            res.append(root.val)\n",
    "        self.dfs(root.right, res, index + 1)\n",
    "        self.dfs(root.left, res, index + 1)"
   ]
  },
  {
   "cell_type": "markdown",
   "id": "5a140b58",
   "metadata": {},
   "source": [
    "## 545. Boundary of Binary Tree\n",
    "[545. Boundary of Binary Tree](https://leetcode.com/problems/boundary-of-binary-tree/)"
   ]
  },
  {
   "cell_type": "code",
   "execution_count": null,
   "id": "2c15fa1c",
   "metadata": {},
   "outputs": [],
   "source": []
  },
  {
   "cell_type": "markdown",
   "id": "415d4748",
   "metadata": {},
   "source": [
    "# LCA"
   ]
  },
  {
   "cell_type": "markdown",
   "id": "5aa3e9da",
   "metadata": {},
   "source": [
    "## 235. Lowest Common Ancestor of a Binary Search Tree\n",
    "[235. Lowest Common Ancestor of a Binary Search Tree](https://leetcode.com/problems/lowest-common-ancestor-of-a-binary-search-tree/)"
   ]
  },
  {
   "cell_type": "code",
   "execution_count": 27,
   "id": "83b491c1",
   "metadata": {},
   "outputs": [],
   "source": [
    "def lowestCommonAncestor(self, root: 'TreeNode', p: 'TreeNode', q: 'TreeNode') -> 'TreeNode':\n",
    "    \"\"\"\n",
    "    In BST we could compare the val of p, q and root to cut the branch\n",
    "    If one > root and another < root: we find the split point. one is in left subtree one is in right subtree.\n",
    "    \"\"\"\n",
    "    if root is None:\n",
    "        return None\n",
    "    if root is p or root is q:\n",
    "        return root\n",
    "    # current level\n",
    "    if p.val > root.val and q.val > root.val:\n",
    "        # go right\n",
    "        return self.lowestCommonAncestor(root.right, p, q)\n",
    "    elif p.val < root.val and q.val < root.val:\n",
    "        # go left\n",
    "        return self.lowestCommonAncestor(root.left, p, q)\n",
    "    else:\n",
    "        # if one > root and another < root: we find the split point. \n",
    "        # one is in left subtree one is in right subtree.\n",
    "        return root"
   ]
  },
  {
   "cell_type": "markdown",
   "id": "5a26788d",
   "metadata": {},
   "source": [
    "## 236. Lowest Common Ancestor of a Binary Tree\n",
    "[236. Lowest Common Ancestor of a Binary Tree](https://leetcode.com/problems/lowest-common-ancestor-of-a-binary-tree/)\n",
    "- p q exisit"
   ]
  },
  {
   "cell_type": "code",
   "execution_count": 24,
   "id": "c39a32c2",
   "metadata": {},
   "outputs": [],
   "source": [
    "class Solution:\n",
    "    def lowestCommonAncestor(self, root: 'TreeNode', p: 'TreeNode', q: 'TreeNode') -> 'TreeNode':\n",
    "        \"\"\"\n",
    "        At current position, what is the LCA\n",
    "        \"\"\"\n",
    "        # base case\n",
    "        if root is None:\n",
    "            return None\n",
    "        # if root.val == p.val or root.val == q.val:\n",
    "        if root is p or root is q:\n",
    "            return root\n",
    "        # current level\n",
    "        left = self.lowestCommonAncestor(root.left, p, q)\n",
    "        right = self.lowestCommonAncestor(root.right, p, q)\n",
    "        \n",
    "        # return to parent\n",
    "        if left is None and right is None:\n",
    "            return None\n",
    "        if left is None:\n",
    "            return right\n",
    "        if right is None:\n",
    "            return left\n",
    "        return root\n",
    "            "
   ]
  },
  {
   "cell_type": "markdown",
   "id": "c4dd70d5",
   "metadata": {},
   "source": [
    "## 1644. Lowest Common Ancestor of a Binary Tree II\n",
    "[1644. Lowest Common Ancestor of a Binary Tree II](https://leetcode.com/problems/lowest-common-ancestor-of-a-binary-tree-ii/)\n",
    "\n",
    "- p q doesn't not exisit"
   ]
  },
  {
   "cell_type": "code",
   "execution_count": 25,
   "id": "754fbdba",
   "metadata": {},
   "outputs": [],
   "source": [
    "class Solution:\n",
    "    def lowestCommonAncestor(self, root: 'TreeNode', p: 'TreeNode', q: 'TreeNode') -> 'TreeNode':\n",
    "        if root is None:\n",
    "            return None\n",
    "        res = self.lca(root, p, q)\n",
    "        if res is not p and res is not q:\n",
    "            return res\n",
    "        if res is p:\n",
    "            # check if q is belong to p\n",
    "            # if q belong to p, lca(p, q, q) = q else None\n",
    "            return res if self.lca(p, q, q) else None\n",
    "        if res is q:\n",
    "            return res if self.lca(q, p, p) else None\n",
    "    \n",
    "    def lca(self, root, p, q):\n",
    "        if root is None:\n",
    "            return None\n",
    "        if root is p or root is q:\n",
    "            return root\n",
    "        \n",
    "        # current level\n",
    "        left = self.lca(root.left, p, q)\n",
    "        right = self.lca(root.right, p, q)\n",
    "        \n",
    "        # return\n",
    "        if left is None and right is None:\n",
    "            return None\n",
    "        if left is None:\n",
    "            return right\n",
    "        if right is None:\n",
    "            return left\n",
    "        return root"
   ]
  },
  {
   "cell_type": "markdown",
   "id": "a5ed8d2d",
   "metadata": {},
   "source": [
    "## 1650. Lowest Common Ancestor of a Binary Tree III\n",
    "[1650. Lowest Common Ancestor of a Binary Tree III](https://leetcode.com/problems/lowest-common-ancestor-of-a-binary-tree-iii/)\n",
    "- parent node"
   ]
  },
  {
   "cell_type": "code",
   "execution_count": null,
   "id": "8ea09bf3",
   "metadata": {},
   "outputs": [],
   "source": []
  },
  {
   "cell_type": "markdown",
   "id": "afc236ba",
   "metadata": {},
   "source": [
    "## 1676. Lowest Common Ancestor of a Binary Tree IV\n",
    "[1676. Lowest Common Ancestor of a Binary Tree IV](https://leetcode.com/problems/lowest-common-ancestor-of-a-binary-tree-iv/)\n",
    "- lca of set of nodes\n",
    "- all nodes exist in the tree"
   ]
  },
  {
   "cell_type": "code",
   "execution_count": 26,
   "id": "ea41b602",
   "metadata": {},
   "outputs": [],
   "source": [
    "class Solution:\n",
    "    def lowestCommonAncestor(self, root: 'TreeNode', nodes: 'List[TreeNode]') -> 'TreeNode':\n",
    "        \"\"\"\n",
    "        Use a set to save all the nodes and check them in O(1)\n",
    "        \"\"\"\n",
    "        set_node = set(nodes)\n",
    "        return self.lca(root, set_node)\n",
    "    \n",
    "    def lca(self, root, nodes):\n",
    "        if root is None:\n",
    "            return root\n",
    "        if root in nodes:\n",
    "            return root\n",
    "        # current level\n",
    "        left = self.lca(root.left, nodes)\n",
    "        right = self.lca(root.right, nodes)\n",
    "        \n",
    "        # return\n",
    "        if left is None and right is None:\n",
    "            return None\n",
    "        if left is None:\n",
    "            return right\n",
    "        if right is None:\n",
    "            return left\n",
    "        return root"
   ]
  },
  {
   "cell_type": "markdown",
   "id": "5bf1094b",
   "metadata": {},
   "source": [
    "## 1123. Lowest Common Ancestor of Deepest Leaves\n",
    "[1123. Lowest Common Ancestor of Deepest Leaves](https://leetcode.com/problems/lowest-common-ancestor-of-deepest-leaves/)"
   ]
  },
  {
   "cell_type": "markdown",
   "id": "76d1c552",
   "metadata": {},
   "source": [
    "## 865. Smallest Subtree with all the Deepest Nodes\n",
    "[865. Smallest Subtree with all the Deepest Nodes](https://leetcode.com/problems/smallest-subtree-with-all-the-deepest-nodes/)"
   ]
  },
  {
   "cell_type": "code",
   "execution_count": null,
   "id": "f4543521",
   "metadata": {},
   "outputs": [],
   "source": []
  },
  {
   "cell_type": "markdown",
   "id": "48dc8fe7",
   "metadata": {},
   "source": [
    "# Tree Path"
   ]
  },
  {
   "cell_type": "markdown",
   "id": "ca13fb85",
   "metadata": {},
   "source": [
    "## 直上直下：Carry path prefix (StringBuilder/ List/ Count )"
   ]
  },
  {
   "cell_type": "markdown",
   "id": "80346af0",
   "metadata": {},
   "source": [
    "## 257. Binary Tree Paths\n",
    "[257. Binary Tree Paths](https://leetcode.com/problems/binary-tree-paths/)"
   ]
  },
  {
   "cell_type": "code",
   "execution_count": 64,
   "id": "cdbda154",
   "metadata": {},
   "outputs": [
    {
     "name": "stdout",
     "output_type": "stream",
     "text": [
      "1->2->3\n"
     ]
    },
    {
     "data": {
      "text/plain": [
       "'d5'"
      ]
     },
     "execution_count": 64,
     "metadata": {},
     "output_type": "execute_result"
    }
   ],
   "source": [
    "a = [\"1\",\"2\",\"3\"]\n",
    "b = \"->\".join(a)\n",
    "print(b)\n",
    "c = str(5)\n",
    "c = \"d\"\n",
    "e = c + str(5)\n",
    "e"
   ]
  },
  {
   "cell_type": "code",
   "execution_count": 63,
   "id": "5e6f2f5e",
   "metadata": {},
   "outputs": [],
   "source": [
    "class Solution:\n",
    "    def binaryTreePaths(self, root):\n",
    "        if root is None:\n",
    "            return []\n",
    "        self.res = []\n",
    "        self.path(root, \"\")\n",
    "        return self.res\n",
    "    \n",
    "    def path(self, root, cur):\n",
    "        # base case\n",
    "        if root is None:\n",
    "            return\n",
    "        if root:\n",
    "            cur += str(root.val)\n",
    "\n",
    "        # current level: check if it's leaf node\n",
    "        if not root.left and not root.right:\n",
    "            self.res.append(cur)\n",
    "            return\n",
    "        cur += '->'\n",
    "        # left\n",
    "        self.path(root.left, cur)\n",
    "        # right\n",
    "        self.path(root.right, cur)"
   ]
  },
  {
   "cell_type": "markdown",
   "id": "302570d8",
   "metadata": {},
   "source": [
    "## 112. Path Sum\n",
    "[112. Path Sum](https://leetcode.com/problems/path-sum/)"
   ]
  },
  {
   "cell_type": "code",
   "execution_count": 65,
   "id": "def52d45",
   "metadata": {},
   "outputs": [],
   "source": [
    "class Solution:\n",
    "    def hasPathSum(self, root, targetSum: int) -> bool:\n",
    "        if not root:\n",
    "            return False\n",
    "        return self.pathSum(root, targetSum)\n",
    "    \n",
    "    def pathSum(self, root, target):\n",
    "        if not root:\n",
    "            return False \n",
    "        # leaf\n",
    "        if not root.left and not root.right:\n",
    "            return True if target == root.val else False\n",
    "        # next level\n",
    "        left = self.pathSum(root.left, target - root.val)\n",
    "        right = self.pathSum(root.right, target - root.val)\n",
    "        return left or right"
   ]
  },
  {
   "cell_type": "markdown",
   "id": "12db0683",
   "metadata": {},
   "source": [
    "## 113. Path Sum II\n",
    "[113. Path Sum II](https://leetcode.com/problems/path-sum-ii/)"
   ]
  },
  {
   "cell_type": "code",
   "execution_count": null,
   "id": "68553978",
   "metadata": {},
   "outputs": [],
   "source": [
    "class Solution:\n",
    "    def pathSum(self, root: Optional[TreeNode], targetSum: int) -> List[List[int]]:\n",
    "        if not root:\n",
    "            return []\n",
    "        res = []\n",
    "        cur = []\n",
    "        self.path(root, targetSum, cur, res)\n",
    "        return res\n",
    "    \n",
    "    def path(self, root, target, cur, res):\n",
    "        # base case\n",
    "        if not root:\n",
    "            return\n",
    "        \n",
    "        # check root node\n",
    "        if not root.left and not root.right:\n",
    "            if target == root.val:\n",
    "                cur.append(root.val)\n",
    "                res.append(copy.deepcopy(cur))\n",
    "                cur.pop()\n",
    "            return\n",
    "        \n",
    "        #current level\n",
    "        cur.append(root.val)\n",
    "        \n",
    "        # left child\n",
    "        self.path(root.left, target - root.val, cur, res) \n",
    "        #right child\n",
    "        self.path(root.right, target - root.val, cur, res)\n",
    "        cur.pop()"
   ]
  },
  {
   "cell_type": "markdown",
   "id": "7944ac7f",
   "metadata": {},
   "source": [
    "## 437. Path Sum III\n",
    "[437. Path Sum III](https://leetcode.com/problems/path-sum-iii/)"
   ]
  },
  {
   "cell_type": "code",
   "execution_count": 73,
   "id": "8ba65f06",
   "metadata": {
    "scrolled": true
   },
   "outputs": [
    {
     "name": "stdout",
     "output_type": "stream",
     "text": [
      "4\n",
      "3\n",
      "2\n",
      "1\n"
     ]
    }
   ],
   "source": [
    "a = [1, 2, 3, 4]\n",
    "for i in range(len(a) - 1, -1, -1):\n",
    "    print(a[i])"
   ]
  },
  {
   "cell_type": "code",
   "execution_count": 74,
   "id": "30420a7b",
   "metadata": {},
   "outputs": [],
   "source": [
    "class Solution:\n",
    "    \"\"\"\n",
    "    TC = O(n * height) : \n",
    "        visited every node: O(n) \n",
    "        For each node, linear scan and look back to check all the path sum of current path: O(height)\n",
    "    SC = O(height)\n",
    "    \n",
    "    Keep track of prefix path of each branch\n",
    "    For each node, calculate all subset sum\n",
    "    \"\"\"\n",
    "    def pathSum(self, root, targetSum: int) -> int:\n",
    "        if not root:\n",
    "            return 0\n",
    "        self.max_len = 0\n",
    "        self.path(root, [], targetSum)\n",
    "        return self.max_len\n",
    "    \n",
    "    def path(self, root, cur, target):\n",
    "        if not root:\n",
    "            return\n",
    "        cur.append(root.val)\n",
    "        # check if there are any subset sum equal to target\n",
    "        cur_sum = 0\n",
    "        for i in range(len(cur) - 1, -1, -1):\n",
    "            cur_sum += cur[i]\n",
    "            if cur_sum == target:\n",
    "                self.max_len += 1\n",
    "        \n",
    "        # next level\n",
    "        self.path(root.left, cur, target)\n",
    "        self.path(root.right, cur, target)\n",
    "        cur.pop()"
   ]
  },
  {
   "cell_type": "code",
   "execution_count": null,
   "id": "136df6e1",
   "metadata": {},
   "outputs": [],
   "source": [
    "# Solution 2\n"
   ]
  },
  {
   "cell_type": "markdown",
   "id": "5ba68bf3",
   "metadata": {},
   "source": [
    "## 111. Minimum Depth of Binary Tree\n",
    "[111. Minimum Depth of Binary Tree](https://leetcode.com/problems/minimum-depth-of-binary-tree/)\n",
    "\n",
    "- check if the current node is the leaf node!!!! only return the depth of leaf node to the parent!"
   ]
  },
  {
   "cell_type": "code",
   "execution_count": 1,
   "id": "2f859a1e",
   "metadata": {},
   "outputs": [],
   "source": [
    "# BFS\n",
    "class Solution:\n",
    "    def minDepth(self, root) -> int:\n",
    "        if not root:\n",
    "            return 0\n",
    "        q = deque([root])\n",
    "        depth = 0\n",
    "        \n",
    "        while q:\n",
    "            size = len(q)\n",
    "            depth += 1\n",
    "            for _ in range(size):\n",
    "                cur = q.popleft()\n",
    "                # check left and right to determine if there are any leaf node\n",
    "                if not cur.left and not cur.right:\n",
    "                    return depth\n",
    "                # check left \n",
    "                if cur.left:\n",
    "                    q.append(cur.left)\n",
    "                if cur.right:\n",
    "                    q.append(cur.right)\n",
    "        return depth"
   ]
  },
  {
   "cell_type": "code",
   "execution_count": 2,
   "id": "11b4f778",
   "metadata": {},
   "outputs": [],
   "source": [
    "# DFS\n",
    "class Solution:\n",
    "    def minDepth(self, root) -> int:\n",
    "        return self.depth(root)\n",
    "    \n",
    "    def depth(self, root):\n",
    "        # base case\n",
    "        if not root:\n",
    "            return 0\n",
    "        if not root.left and not root.right:\n",
    "            return 1\n",
    "        # current level\n",
    "        left = self.depth(root.left) if root.left else float('inf')\n",
    "        right = self.depth(root.right) if root.right else float('inf')\n",
    "        # return to parent\n",
    "        return min(left, right) + 1"
   ]
  },
  {
   "cell_type": "markdown",
   "id": "b9b206db",
   "metadata": {},
   "source": [
    "## 104. Maximum Depth of Binary Tree\n",
    "[104. Maximum Depth of Binary Tree](https://leetcode.com/problems/maximum-depth-of-binary-tree/)"
   ]
  },
  {
   "cell_type": "code",
   "execution_count": 5,
   "id": "1fd6ffa5",
   "metadata": {},
   "outputs": [],
   "source": [
    "class Solution:\n",
    "    def maxDepth(self, root) -> int:\n",
    "        if not root:\n",
    "            return 0\n",
    "        \n",
    "        left = self.maxDepth(root.left)\n",
    "        right = self.maxDepth(root.right)\n",
    "        \n",
    "        return max(left, right) + 1"
   ]
  },
  {
   "cell_type": "markdown",
   "id": "b713951b",
   "metadata": {},
   "source": [
    "## 129. Sum Root to Leaf Numbers\n",
    "[129. Sum Root to Leaf Numbers](https://leetcode.com/problems/sum-root-to-leaf-numbers/)"
   ]
  },
  {
   "cell_type": "code",
   "execution_count": null,
   "id": "f6e82a56",
   "metadata": {},
   "outputs": [],
   "source": [
    "class Solution:\n",
    "    def sumNumbers(self, root: Optional[TreeNode]) -> int:\n",
    "        if not root:\n",
    "            return 0\n",
    "        res = []\n",
    "        self.path(root, \"\", res)\n",
    "        res_sum = 0\n",
    "        for i in range(len(res)):\n",
    "            res_sum += res[i]\n",
    "        return res_sum\n",
    "    \n",
    "    def path(self, root, cur, res):\n",
    "        if not root:\n",
    "            return\n",
    "        if not root.left and not root.right:\n",
    "            cur += str(root.val)\n",
    "            res.append(int(cur))\n",
    "            return\n",
    "        # current level\n",
    "        cur += str(root.val)\n",
    "        self.path(root.left, cur, res)\n",
    "        self.path(root.right, cur, res)"
   ]
  },
  {
   "cell_type": "markdown",
   "id": "8ffca425",
   "metadata": {},
   "source": [
    "## 138. Maximum Path Sum Binary Tree I\n",
    "[138. Maximum Path Sum Binary Tree I](https://app.laicode.io/app/problem/138)"
   ]
  },
  {
   "cell_type": "code",
   "execution_count": 68,
   "id": "36809d1f",
   "metadata": {},
   "outputs": [],
   "source": [
    "class Solution(object):\n",
    "    def maxPathSum(self, root):\n",
    "        \"\"\"\n",
    "        input: TreeNode root\n",
    "        return: int\n",
    "        \"\"\"\n",
    "        # write your solution here\n",
    "        if not root:\n",
    "            return -2147483648\n",
    "        self.max_val = -2147483648\n",
    "        self.path(root)\n",
    "        return self.max_val\n",
    "    \n",
    "    def path(self, root):\n",
    "        # base case\n",
    "        if not root:\n",
    "            return 0\n",
    "        # 1. get max val from left and right children\n",
    "        left = self.path(root.left)\n",
    "        right = self.path(root.right)\n",
    "\n",
    "        # 2. current level: check if root is leaf or not and update the global max \n",
    "        cur_sum = root.val + left + right     \n",
    "        if root.left and root.right:\n",
    "            self.max_val = max(self.max_val, cur_sum)\n",
    "        \n",
    "        # 3. return to parent: make sure to return leaf to root path\n",
    "        if root.left is None:\n",
    "            return root.val + right\n",
    "        if root.right is None:\n",
    "            return root.val + left\n",
    "        return max(left, right) + root.val"
   ]
  },
  {
   "cell_type": "markdown",
   "id": "6f3103b5",
   "metadata": {},
   "source": [
    "## 124. Binary Tree Maximum Path Sum\n",
    "[124. Binary Tree Maximum Path Sum](https://leetcode.com/problems/binary-tree-maximum-path-sum/)"
   ]
  },
  {
   "cell_type": "code",
   "execution_count": 69,
   "id": "7d71bfc2",
   "metadata": {},
   "outputs": [],
   "source": [
    "class Solution:\n",
    "    def maxPathSum(self, root) -> int:\n",
    "        self.global_max = float('-inf')\n",
    "        self.path(root)\n",
    "        return self.global_max;\n",
    "    \n",
    "    def path(self, root):\n",
    "        if not root:\n",
    "            return 0\n",
    "        # 1. get from left and right children\n",
    "        left = max(0, self.path(root.left))\n",
    "        right = max(0, self.path(root.right))\n",
    "        \n",
    "        # 2. update the val to global max\n",
    "        self.global_max = max(self.global_max, root.val + left + right)\n",
    "        \n",
    "        # 3. return to parent (even though root.val is negative, we still need to \n",
    "        # return to parent to make the sequence consecutive)\n",
    "        return root.val + max(left, right) "
   ]
  },
  {
   "cell_type": "markdown",
   "id": "b669f4af",
   "metadata": {},
   "source": [
    "## 128. Longest Consecutive Sequence\n",
    "[128. Longest Consecutive Sequence](https://leetcode.com/problems/longest-consecutive-sequence/)"
   ]
  },
  {
   "cell_type": "code",
   "execution_count": null,
   "id": "7baf8fb3",
   "metadata": {},
   "outputs": [],
   "source": []
  },
  {
   "cell_type": "markdown",
   "id": "bdde8d11",
   "metadata": {},
   "source": [
    "## 298. Binary Tree Longest Consecutive Sequence\n",
    "[298. Binary Tree Longest Consecutive Sequence](https://leetcode.com/problems/binary-tree-longest-consecutive-sequence/)"
   ]
  },
  {
   "cell_type": "code",
   "execution_count": null,
   "id": "a471a435",
   "metadata": {},
   "outputs": [],
   "source": []
  },
  {
   "cell_type": "markdown",
   "id": "4c0828fa",
   "metadata": {},
   "source": [
    "## 549. Binary Tree Longest Consecutive Sequence II\n",
    "[549. Binary Tree Longest Consecutive Sequence II](https://leetcode.com/problems/binary-tree-longest-consecutive-sequence-ii/)"
   ]
  },
  {
   "cell_type": "code",
   "execution_count": null,
   "id": "4d7819a7",
   "metadata": {},
   "outputs": [],
   "source": []
  },
  {
   "cell_type": "markdown",
   "id": "9419b41c",
   "metadata": {},
   "source": [
    "# Tree Construction"
   ]
  },
  {
   "cell_type": "markdown",
   "id": "7446f896",
   "metadata": {},
   "source": [
    "## 105. Construct Binary Tree from Preorder and Inorder Traversal\n",
    "[105. Construct Binary Tree from Preorder and Inorder Traversal](https://leetcode.com/problems/construct-binary-tree-from-preorder-and-inorder-traversal/)"
   ]
  },
  {
   "cell_type": "code",
   "execution_count": null,
   "id": "5e46fd0f",
   "metadata": {},
   "outputs": [],
   "source": []
  },
  {
   "cell_type": "markdown",
   "id": "46891300",
   "metadata": {},
   "source": [
    "## 106. Construct Binary Tree from Inorder and Postorder Traversal\n",
    "[106. Construct Binary Tree from Inorder and Postorder Traversal](https://leetcode.com/problems/construct-binary-tree-from-inorder-and-postorder-traversal/)"
   ]
  },
  {
   "cell_type": "code",
   "execution_count": null,
   "id": "39e9e8aa",
   "metadata": {},
   "outputs": [],
   "source": []
  },
  {
   "cell_type": "markdown",
   "id": "75de865f",
   "metadata": {},
   "source": [
    "## 106. Construct Binary Tree from Inorder and Postorder Traversal\n",
    "[106. Construct Binary Tree from Inorder and Postorder Traversal](https://leetcode.com/problems/construct-binary-tree-from-inorder-and-postorder-traversal/)"
   ]
  },
  {
   "cell_type": "code",
   "execution_count": null,
   "id": "28f4b8d0",
   "metadata": {},
   "outputs": [],
   "source": []
  },
  {
   "cell_type": "markdown",
   "id": "6f1b229a",
   "metadata": {},
   "source": [
    "## 156. Binary Tree Upside Down\n",
    "[156. Binary Tree Upside Down](https://leetcode.com/problems/binary-tree-upside-down/)"
   ]
  },
  {
   "cell_type": "code",
   "execution_count": 22,
   "id": "58b69194",
   "metadata": {},
   "outputs": [],
   "source": [
    "class Solution:\n",
    "    # TC = O(height)\n",
    "    # SC = O(height)\n",
    "    def upsideDownBinaryTree(self, root):\n",
    "        \"\"\"\n",
    "        1. like recursive ly reverse linkedlist (newRoot != root.left)\n",
    "        2. base case: root.left is not None (dereference)\n",
    "        3. change the root to leaf\n",
    "        \n",
    "        \"\"\"\n",
    "        # base case\n",
    "        if root is None:\n",
    "            return root\n",
    "        if root.left is None:\n",
    "            return root\n",
    "        # current level\n",
    "        newRoot = self.upsideDownBinaryTree(root.left)\n",
    "        # update the reference at current level\n",
    "        root.left.left = root.right\n",
    "        root.left.right = root\n",
    "        # change root to leaf node\n",
    "        root.left = None\n",
    "        root.right = None\n",
    "        \n",
    "        return newRoot"
   ]
  },
  {
   "cell_type": "markdown",
   "id": "1cd47a29",
   "metadata": {},
   "source": [
    "## 114. Flatten Binary Tree to Linked List\n",
    "[114. Flatten Binary Tree to Linked List](https://leetcode.com/problems/flatten-binary-tree-to-linked-list/)"
   ]
  },
  {
   "cell_type": "code",
   "execution_count": 23,
   "id": "49140b52",
   "metadata": {},
   "outputs": [],
   "source": [
    "class Solution:\n",
    "    def flatten(self, root) -> None:\n",
    "        \"\"\"\n",
    "        1. The algorithm is in-place so we don't need to be afraid of losing the root\n",
    "        2. We only care about the tails\n",
    "        3. Recursively find the tail of the subtree\n",
    "        4. At current level: concatinate the left and right tails\n",
    "           return right_tail if right_tail else left_tail\n",
    "        \n",
    "        \"\"\"\n",
    "        # base case\n",
    "        if root is None:\n",
    "            return root\n",
    "        if root.left is None and root.right is None:\n",
    "            return root\n",
    "        \n",
    "        # current level\n",
    "        left_tail = self.flatten(root.left)\n",
    "        right_tail = self.flatten(root.right)\n",
    "        \n",
    "        # concatinate \n",
    "        # if left_tail is None, we don't need to change anything\n",
    "        if left_tail:\n",
    "            left_tail.right = root.right\n",
    "            root.right = root.left\n",
    "            root.left = None\n",
    "        # if right_tail is None, left_tail the last node\n",
    "        return right_tail if right_tail else left_tail"
   ]
  },
  {
   "cell_type": "markdown",
   "id": "6f9a8bb3",
   "metadata": {},
   "source": [
    "## 426. Convert Binary Search Tree to Sorted Doubly Linked List\n",
    "[426. Convert Binary Search Tree to Sorted Doubly Linked List](https://leetcode.com/problems/convert-binary-search-tree-to-sorted-doubly-linked-list/)"
   ]
  },
  {
   "cell_type": "code",
   "execution_count": null,
   "id": "5ae77bf2",
   "metadata": {},
   "outputs": [],
   "source": []
  },
  {
   "cell_type": "markdown",
   "id": "59116fba",
   "metadata": {},
   "source": []
  }
 ],
 "metadata": {
  "kernelspec": {
   "display_name": "Python 3 (ipykernel)",
   "language": "python",
   "name": "python3"
  },
  "language_info": {
   "codemirror_mode": {
    "name": "ipython",
    "version": 3
   },
   "file_extension": ".py",
   "mimetype": "text/x-python",
   "name": "python",
   "nbconvert_exporter": "python",
   "pygments_lexer": "ipython3",
   "version": "3.8.12"
  }
 },
 "nbformat": 4,
 "nbformat_minor": 5
}
