{
 "cells": [
  {
   "cell_type": "markdown",
   "id": "636f1bad",
   "metadata": {},
   "source": [
    "# Binary Search"
   ]
  },
  {
   "cell_type": "markdown",
   "id": "a47ef386",
   "metadata": {},
   "source": [
    "## 704. Binary Search\n",
    "[704. Binary Search](https://leetcode.com/problems/binary-search/)"
   ]
  },
  {
   "cell_type": "code",
   "execution_count": 1,
   "id": "66093316",
   "metadata": {},
   "outputs": [],
   "source": [
    "class Solution:\n",
    "    \"\"\"\n",
    "            m\n",
    "      [-1,0,3,5,9,12]  target = 12\n",
    "                   l\n",
    "                   r\n",
    "    \"\"\"\n",
    "    def search(self, nums, target):\n",
    "        # corner cases\n",
    "        n = len(nums)\n",
    "        l = 0\n",
    "        r = n - 1\n",
    "        while l <= r:\n",
    "            mid = l + (r - l) // 2\n",
    "            if nums[mid] == target:\n",
    "                return mid\n",
    "            elif nums[mid] < target:\n",
    "                l = mid + 1\n",
    "            else:\n",
    "                r = mid - 1\n",
    "        return -1"
   ]
  },
  {
   "cell_type": "markdown",
   "id": "a62f8ba6",
   "metadata": {},
   "source": [
    "## Closest In Sorted Array\n",
    "[Closest In Sorted Array](https://app.laicode.io/app/problem/17?plan=3)"
   ]
  },
  {
   "cell_type": "code",
   "execution_count": 16,
   "id": "32d80e05",
   "metadata": {},
   "outputs": [],
   "source": [
    "  def closest(self, array, target):\n",
    "    \"\"\"\n",
    "    input: int[] array, int target\n",
    "    return: int\n",
    "    \"\"\"\n",
    "    # write your solution here\n",
    "    if array == None or len(array) == 0:\n",
    "        return -1\n",
    "    n = len(array)\n",
    "    l = 0\n",
    "    r = n - 1\n",
    "    while l < r - 1:\n",
    "        mid = l + (r - l) // 2\n",
    "        if array[mid] == target:\n",
    "            return mid\n",
    "        elif array[mid] < target:\n",
    "            l = mid\n",
    "        else:\n",
    "            r = mid\n",
    "    if abs(array[l] - target) < abs(array[r] - target):\n",
    "        return l\n",
    "    else:\n",
    "        return r"
   ]
  },
  {
   "cell_type": "code",
   "execution_count": 19,
   "id": "77ca8849",
   "metadata": {},
   "outputs": [],
   "source": [
    "def closest(self, array, target):\n",
    "    \"\"\"\n",
    "    input: int[] array, int target\n",
    "    return: int\n",
    "    \"\"\"\n",
    "    # write your solution here\n",
    "    if array is None or len(array) == 0:\n",
    "        return -1\n",
    "    res_idx = 0\n",
    "    l = 0\n",
    "    r = len(array) - 1\n",
    "    while l <= r:\n",
    "        mid = l + ( r - l) // 2\n",
    "        # compare with current value\n",
    "        dif = abs(array[mid] - target)\n",
    "        if dif < abs(array[res_idx] - target):\n",
    "            res_idx = mid\n",
    "      # binary search\n",
    "        if array[mid] == target:\n",
    "            return mid\n",
    "        elif array[mid] < target:\n",
    "            l = mid + 1\n",
    "        else:\n",
    "            r = mid - 1\n",
    "    return res_idx"
   ]
  },
  {
   "cell_type": "markdown",
   "id": "27444c2d",
   "metadata": {},
   "source": [
    "## 744. Find Smallest Letter Greater Than Target\n",
    "[744. Find Smallest Letter Greater Than Target](https://leetcode.com/problems/find-smallest-letter-greater-than-target/)"
   ]
  },
  {
   "cell_type": "code",
   "execution_count": 3,
   "id": "9b4c8cfb",
   "metadata": {},
   "outputs": [
    {
     "name": "stdout",
     "output_type": "stream",
     "text": [
      "False\n"
     ]
    }
   ],
   "source": [
    "print('a' > 'b')"
   ]
  },
  {
   "cell_type": "code",
   "execution_count": 4,
   "id": "d0e0ef3a",
   "metadata": {},
   "outputs": [],
   "source": [
    "def nextGreatestLetter(self, letters, target):\n",
    "    n = len(letters)\n",
    "    l = 0\n",
    "    r = n - 1\n",
    "    while l < r - 1: # two elements\n",
    "        mid = l + (r - l ) // 2\n",
    "        if letters[mid] <= target:\n",
    "            l = mid + 1\n",
    "        else:\n",
    "            r = mid\n",
    "    # post processing\n",
    "    if letters[r] <= target:\n",
    "        return letters[0]\n",
    "    elif letters[l] > target:\n",
    "        return letters[l]\n",
    "    else:\n",
    "        return letters[r]"
   ]
  },
  {
   "cell_type": "code",
   "execution_count": 6,
   "id": "dfba9462",
   "metadata": {},
   "outputs": [],
   "source": [
    "def nextGreatestLetter(self, letters, target):\n",
    "        n = len(letters)\n",
    "        l = 0\n",
    "        r = n - 1\n",
    "        res_index = -1\n",
    "        while l <= r:\n",
    "            mid = l + (r - l) // 2\n",
    "            if letters[mid] <= target:\n",
    "                l = mid + 1\n",
    "            else:\n",
    "                res_index = mid\n",
    "                r = mid - 1\n",
    "        # post processing\n",
    "        if res_index == -1:\n",
    "            return letters[0]\n",
    "        else:\n",
    "            return letters[res_index]"
   ]
  },
  {
   "cell_type": "markdown",
   "id": "3c1f0fff",
   "metadata": {},
   "source": [
    "## 278. First Bad Version\n",
    "[278. First Bad Version](https://leetcode.com/problems/first-bad-version/)"
   ]
  },
  {
   "cell_type": "code",
   "execution_count": null,
   "id": "ccd66d9b",
   "metadata": {},
   "outputs": [],
   "source": [
    "# The isBadVersion API is already defined for you.\n",
    "# def isBadVersion(version: int) -> bool:\n",
    "\n",
    "class Solution:\n",
    "    def firstBadVersion(self, n: int) -> int:\n",
    "        res = -1\n",
    "        l = 1\n",
    "        r = n\n",
    "        while l <= r:\n",
    "            mid = l + (r - l) // 2\n",
    "            if isBadVersion(mid):\n",
    "                res = mid\n",
    "                r = mid - 1\n",
    "            else:\n",
    "                l = mid + 1\n",
    "        return res"
   ]
  },
  {
   "cell_type": "markdown",
   "id": "26823e64",
   "metadata": {},
   "source": [
    "## 702. Search in a Sorted Array of Unknown Size\n",
    "[702. Search in a Sorted Array of Unknown Size](https://leetcode.com/problems/search-in-a-sorted-array-of-unknown-size/)"
   ]
  },
  {
   "cell_type": "code",
   "execution_count": 12,
   "id": "9e0a2938",
   "metadata": {},
   "outputs": [
    {
     "name": "stdout",
     "output_type": "stream",
     "text": [
      "inf\n",
      "9223372036854775807\n"
     ]
    }
   ],
   "source": [
    "import sys\n",
    "a = float('inf')\n",
    "b = sys.maxsize\n",
    "print(a)\n",
    "print(b)"
   ]
  },
  {
   "cell_type": "code",
   "execution_count": null,
   "id": "2ab6f319",
   "metadata": {},
   "outputs": [],
   "source": [
    "# \"\"\"\n",
    "# This is ArrayReader's API interface.\n",
    "# You should not implement it, or speculate about its implementation\n",
    "# \"\"\"\n",
    "#class ArrayReader:\n",
    "#    def get(self, index: int) -> int:\n",
    "\n",
    "class Solution:\n",
    "    def search(self, reader: 'ArrayReader', target: int) -> int:\n",
    "        # find the size oig the array\n",
    "        r = 1\n",
    "        while reader.get(r) < target and reader.get(r) != float('inf')  :\n",
    "            r = r * 2\n",
    "        \n",
    "        # binary search\n",
    "        l = 0\n",
    "        while l <= r:\n",
    "            mid = l + (r - l) // 2\n",
    "            if reader.get(mid) == target:\n",
    "                return mid\n",
    "            elif reader.get(mid) < target:\n",
    "                l = mid + 1\n",
    "            else:\n",
    "                r = mid - 1\n",
    "        return -1"
   ]
  },
  {
   "cell_type": "markdown",
   "id": "733c6578",
   "metadata": {},
   "source": [
    "## 74. Search a 2D Matrix\n",
    "[74. Search a 2D Matrix](https://leetcode.com/problems/search-a-2d-matrix/)"
   ]
  },
  {
   "cell_type": "code",
   "execution_count": 13,
   "id": "f1493d26",
   "metadata": {},
   "outputs": [],
   "source": [
    "class Solution:\n",
    "    \"\"\"\n",
    "        convert matrix to list\n",
    "        0 1 2 3\n",
    "        4 5 6 7   r = 2       r = 4 // col = 1\n",
    "                  c = 4   ->  c = 4 % 4 = 0\n",
    "                             \n",
    "    \"\"\"\n",
    "    def searchMatrix(self, matrix, target):\n",
    "        m = len(matrix)\n",
    "        n = len(matrix[0])\n",
    "        l = 0\n",
    "        r = m * n - 1\n",
    "        while l <= r:\n",
    "            mid = l + (r - l) // 2\n",
    "            # convert to matrix index\n",
    "            row = mid // n\n",
    "            col = mid % n\n",
    "            cur = matrix[row][col]\n",
    "            if cur == target:\n",
    "                return True\n",
    "            elif cur < target:\n",
    "                l = mid + 1\n",
    "            else:\n",
    "                r = mid - 1\n",
    "        return False"
   ]
  },
  {
   "cell_type": "markdown",
   "id": "25c6797b",
   "metadata": {},
   "source": [
    "## 240. Search a 2D Matrix II\n",
    "[240. Search a 2D Matrix II](https://leetcode.com/problems/search-a-2d-matrix-ii/)"
   ]
  },
  {
   "cell_type": "code",
   "execution_count": 14,
   "id": "25eba51c",
   "metadata": {},
   "outputs": [],
   "source": [
    "def searchMatrix(self, matrix, target):\n",
    "    # start at the top-right\n",
    "    m = len(matrix)\n",
    "    n = len(matrix[0])\n",
    "    r = 0\n",
    "    c = n - 1\n",
    "    while r < m and c >= 0:\n",
    "        cur = matrix[r][c]\n",
    "        if cur == target:\n",
    "            return True\n",
    "        elif cur < target:\n",
    "            r += 1\n",
    "        else:\n",
    "            c -= 1\n",
    "    return False"
   ]
  },
  {
   "cell_type": "markdown",
   "id": "6f7078cd",
   "metadata": {},
   "source": [
    "## 658. Find K Closest Elements\n",
    "[658. Find K Closest Elements](https://leetcode.com/problems/find-k-closest-elements/)"
   ]
  },
  {
   "cell_type": "code",
   "execution_count": 15,
   "id": "955c647d",
   "metadata": {},
   "outputs": [],
   "source": [
    "# find the left bound of the result list\n",
    "def findClosestElements(self, arr, k, x):\n",
    "    n = len(arr)\n",
    "    l = 0\n",
    "    r = n - k\n",
    "    while l < r: # exit: left == right\n",
    "        mid = l + (r - l) // 2\n",
    "        # wrong!!!! if mid = mid + k, we cannot directly choose mid\n",
    "        # if abs(x - arr[mid]) <= abs(arr[mid + k] - x): \n",
    "        if x - arr[mid] <= arr[mid + k] - x:\n",
    "            # mid is better than mid + k, and mid might be the result, so we cannot rule out mid\n",
    "            r = mid\n",
    "        else:\n",
    "            l = mid + 1\n",
    "    return arr[l : l + k]\n",
    "\n",
    "# TC = O(logn + k)\n",
    "# SC = O(1)"
   ]
  },
  {
   "cell_type": "markdown",
   "id": "2f423c14",
   "metadata": {},
   "source": [
    "## 1539. Kth Missing Positive Number\n",
    "[1539. Kth Missing Positive Number](https://leetcode.com/problems/kth-missing-positive-number/)"
   ]
  },
  {
   "cell_type": "code",
   "execution_count": null,
   "id": "0b0f70d1",
   "metadata": {},
   "outputs": [],
   "source": [
    "class Solution:\n",
    "    \"\"\"\n",
    "    target: find the [l,r] that contains the missing element\n",
    "    \n",
    "            0 1 2 3 4 5  6   k = 5\n",
    "            2,3,4,7,8,11 12\n",
    "    missing 1 1 1 3 3  5  5   <- binary search on this array\n",
    "\n",
    "            [1,2,3,4], k = 2\n",
    "    missing  0 0 0 0\n",
    "\n",
    "            [2, 3, 4, 5] k = 1\n",
    "    missing  1  1  1  1\n",
    "    \n",
    "    missing_num = (arr[mid] - arr[0]) - 1: [0, mid]: how many numbers are missing before mid\n",
    "    \n",
    "    target: find the largest number that smaller than missing element\n",
    "    \"\"\"\n",
    "    def findKthPositive(self, arr: List[int], k: int) -> int:\n",
    "        n = len(arr)\n",
    "        l = 0\n",
    "        r = n - 1\n",
    "        res = -1\n",
    "        while l <= r:\n",
    "            mid = l + (r - l) // 2\n",
    "            # missing num\n",
    "            miss_num = arr[mid] - mid - 1\n",
    "            if miss_num < k:\n",
    "                res = mid\n",
    "                l = mid + 1\n",
    "            else:\n",
    "                r = mid - 1\n",
    "        # post processing\n",
    "        # if res = -1 which means the missing elememnt is before the first element (equals to k)\n",
    "        if res == -1:\n",
    "            return k\n",
    "        else:\n",
    "            # missing = k - (arr[res] - res - 1)\n",
    "            # result = arr[res] + missing = arr[res] + k - arr[res] + res + 1 = k + res + 1\n",
    "            return k + res + 1 "
   ]
  },
  {
   "cell_type": "markdown",
   "id": "93010eec",
   "metadata": {},
   "source": [
    "## 1060. Missing Element in Sorted Array\n",
    "[1060. Missing Element in Sorted Array](https://leetcode.com/problems/missing-element-in-sorted-array/)"
   ]
  },
  {
   "cell_type": "code",
   "execution_count": null,
   "id": "b74a80dd",
   "metadata": {},
   "outputs": [],
   "source": [
    "class Solution:\n",
    "    \"\"\"\n",
    "         0 1 2  3\n",
    "        [4,7,9,10], k = 3\n",
    "    missing  0 2 3  3   --> binary search on this list \n",
    "    \n",
    "    miss_num = (arr[mid] - arr[0]) - (mid - 0)\n",
    "    return arr[res] + (k - miss_num)\n",
    "    target: find the largest number that smaller than target (index 1)\n",
    "        \n",
    "    \"\"\"\n",
    "    def missingElement(self, nums: List[int], k: int) -> int:\n",
    "        n = len(nums)\n",
    "        l = 0\n",
    "        r = n - 1\n",
    "        res = -1\n",
    "        while l <= r:\n",
    "            mid = l + (r - l) // 2\n",
    "            miss_num = (nums[mid] - nums[0]) - (mid - 0)\n",
    "            if miss_num < k:\n",
    "                res = mid\n",
    "                l = mid + 1\n",
    "            else:\n",
    "                r = mid - 1\n",
    "        # find the missing num\n",
    "        # miss = k - (nums[res] - nums[0] - res)\n",
    "        # result = nums[res] + miss\n",
    "        return k + nums[0] + res"
   ]
  },
  {
   "cell_type": "markdown",
   "id": "118c0612",
   "metadata": {},
   "source": [
    "## 33. Search in Rotated Sorted Array\n",
    "[33. Search in Rotated Sorted Array](https://leetcode.com/problems/search-in-rotated-sorted-array/)"
   ]
  },
  {
   "cell_type": "code",
   "execution_count": null,
   "id": "83c5722e",
   "metadata": {},
   "outputs": [],
   "source": []
  },
  {
   "cell_type": "markdown",
   "id": "6274426e",
   "metadata": {},
   "source": [
    "## 81. Search in Rotated Sorted Array II\n",
    "[81. Search in Rotated Sorted Array II](https://leetcode.com/problems/search-in-rotated-sorted-array-ii/)"
   ]
  },
  {
   "cell_type": "code",
   "execution_count": null,
   "id": "57230dee",
   "metadata": {},
   "outputs": [],
   "source": []
  },
  {
   "cell_type": "markdown",
   "id": "7ceacac9",
   "metadata": {},
   "source": [
    "## 4. Median of Two Sorted Arrays\n",
    "[4. Median of Two Sorted Arrays](https://leetcode.com/problems/median-of-two-sorted-arrays/)"
   ]
  },
  {
   "cell_type": "code",
   "execution_count": null,
   "id": "043b934a",
   "metadata": {},
   "outputs": [],
   "source": []
  },
  {
   "cell_type": "markdown",
   "id": "68f30cda",
   "metadata": {},
   "source": [
    "## 528. Random Pick with Weight\n",
    "[528. Random Pick with Weight](https://leetcode.com/problems/random-pick-with-weight/)"
   ]
  },
  {
   "cell_type": "code",
   "execution_count": 25,
   "id": "709eaecf",
   "metadata": {},
   "outputs": [
    {
     "name": "stdout",
     "output_type": "stream",
     "text": [
      "2\n"
     ]
    }
   ],
   "source": [
    "import b\n",
    "print(random.randint(0, 2))"
   ]
  },
  {
   "cell_type": "code",
   "execution_count": 27,
   "id": "1e79aca3",
   "metadata": {},
   "outputs": [],
   "source": [
    "class Solution:\n",
    "    \"\"\"\n",
    "            0  1  2  3\n",
    "           [1, 5, 3, 1] total w = 10\n",
    "prefix      1  6  9  10\n",
    "           []\n",
    "           [1 2 3 4 5 6 7 8 9 10] smallest element(index) larger or equal to ramdom pick \n",
    "            i\n",
    "                               j\n",
    "                    mid\n",
    "    \"\"\"\n",
    "    import random\n",
    "    def __init__(self, w):\n",
    "        # generate prefix sum list with accumulated weight\n",
    "        self.prefix = [0] * len(w)\n",
    "        cur = 0\n",
    "        for i in range(len(w)):\n",
    "            cur += w[i]\n",
    "            self.prefix[i] = cur\n",
    "        \n",
    "        self.weightSum = cur\n",
    "\n",
    "    def pickIndex(self) -> int:\n",
    "        # random pick a num within [0, weightSum]\n",
    "        # pick = random.randint(1, self.weightSum)\n",
    "        pick = random.random() * self.weightSum\n",
    "#         pick = random.randint(1, self.weightSum)\n",
    "        # binary search in prefix sum array\n",
    "        # find the smallest elements larger or equal to ramdom pick\n",
    "        l = 0\n",
    "        r = len(self.prefix) - 1\n",
    "        res = -1\n",
    "        while l <= r:\n",
    "            mid = l + (r - l) // 2\n",
    "            if self.prefix[mid] == pick:\n",
    "                return mid\n",
    "            elif self.prefix[mid] < pick:\n",
    "                l = mid + 1\n",
    "            else:\n",
    "                res = mid\n",
    "                r = mid - 1\n",
    "        return res"
   ]
  }
 ],
 "metadata": {
  "kernelspec": {
   "display_name": "Python 3 (ipykernel)",
   "language": "python",
   "name": "python3"
  },
  "language_info": {
   "codemirror_mode": {
    "name": "ipython",
    "version": 3
   },
   "file_extension": ".py",
   "mimetype": "text/x-python",
   "name": "python",
   "nbconvert_exporter": "python",
   "pygments_lexer": "ipython3",
   "version": "3.8.12"
  }
 },
 "nbformat": 4,
 "nbformat_minor": 5
}
