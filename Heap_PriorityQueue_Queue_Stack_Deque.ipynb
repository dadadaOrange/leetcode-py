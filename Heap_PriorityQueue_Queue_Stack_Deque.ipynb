{
 "cells": [
  {
   "cell_type": "markdown",
   "id": "0d552740",
   "metadata": {},
   "source": [
    "# Heap Heapq PriorityQueue"
   ]
  },
  {
   "cell_type": "markdown",
   "id": "46bbfd92",
   "metadata": {},
   "source": [
    "## 347. Top K Frequent Elements\n",
    "[347. Top K Frequent Elements](https://leetcode.com/problems/top-k-frequent-elements/)\n",
    "\n",
    "- Counter\n",
    "- defaultdict\n",
    "- heapq\n",
    "- loop dict: k_map.items()"
   ]
  },
  {
   "cell_type": "code",
   "execution_count": 3,
   "id": "4b979bea",
   "metadata": {},
   "outputs": [],
   "source": [
    "def topKFrequent(self, nums, k):\n",
    "    k_map = defaultdict(int)\n",
    "    # # calculate the freq of each element\n",
    "    for item in nums:\n",
    "        k_map[item] += 1\n",
    "    # k_map = Counter(nums)\n",
    "    # use heapq to pop the top k element\n",
    "    pq = []\n",
    "    for ele,freq in k_map.items():\n",
    "        if len(pq) < k:\n",
    "            pq.append([freq, ele])\n",
    "            if len(pq) == k:\n",
    "                heapq.heapify(pq)\n",
    "        else:\n",
    "            top = pq[0]\n",
    "            if top[0] < freq:\n",
    "                heapq.heappushpop(pq, [freq, ele])\n",
    "    res = []\n",
    "    for i in pq:\n",
    "        res.append(i[1])\n",
    "    return res\n",
    "\n",
    "# TC = O(n + k + (n - k)logk)\n",
    "# SC = O(n + k)"
   ]
  },
  {
   "cell_type": "markdown",
   "id": "b35ad5f6",
   "metadata": {},
   "source": [
    "## 692. Top K Frequent Words\n",
    "[692. Top K Frequent Words](https://leetcode.com/problems/top-k-frequent-words/)"
   ]
  },
  {
   "cell_type": "code",
   "execution_count": null,
   "id": "dfac46c7",
   "metadata": {},
   "outputs": [],
   "source": [
    "class Solution:\n",
    "    def topKFrequent(self, words: List[str], k: int) -> List[str]:\n",
    "        # calculate the freq of each word\n",
    "        k_map = Counter(words)\n",
    "        # heapq\n",
    "        pq = []\n",
    "        for w, count in k_map.items():\n",
    "            if len(pq) < k:\n",
    "                pq.append(word(count, w))\n",
    "                if len(pq) == k:\n",
    "                    heapq.heapify(pq)\n",
    "            else:\n",
    "                cur = word(count, w)\n",
    "                heapq.heappushpop(pq, cur)\n",
    "        \n",
    "        # Cannot reverse minHeap\n",
    "        # pq.reverse()\n",
    "        res = []\n",
    "        while pq:\n",
    "            # res.append(heapq.heappop(pq).w)\n",
    "            wd = heapq.heappop(pq)\n",
    "            # wd.display()\n",
    "            res.append(wd.w)\n",
    "        res.reverse()\n",
    "        return res\n",
    "\n",
    "class word:\n",
    "    def __init__(self, count, w):\n",
    "        self.count = count\n",
    "        self.w = w\n",
    "    \n",
    "    def __lt__(self, word2):\n",
    "        if self.count == word2.count:\n",
    "            return self.w > word2.w\n",
    "        return self.count < word2.count\n",
    "\n",
    "    def display(self):\n",
    "        print(self.count, self.w)"
   ]
  },
  {
   "cell_type": "markdown",
   "id": "519ae765",
   "metadata": {},
   "source": [
    "## 215. Kth Largest Element in an Array\n",
    "[215. Kth Largest Element in an Array](https://leetcode.com/problems/kth-largest-element-in-an-array/)"
   ]
  },
  {
   "cell_type": "code",
   "execution_count": 2,
   "id": "d87e9799",
   "metadata": {},
   "outputs": [],
   "source": [
    "# Heap\n",
    "# TC = O(k + (n-k)logk)\n",
    "# SC = O(k)\n",
    "def findKthLargest(self, nums, k: int) -> int:\n",
    "    # use a minHeap with size k to store the largest k element\n",
    "    min_heap = []\n",
    "    n = len(nums)\n",
    "    for i in range(n):\n",
    "        if len(min_heap) < k:\n",
    "            min_heap.append(nums[i])\n",
    "            if len(min_heap) == k:\n",
    "                heapq.heapify(min_heap)\n",
    "        else:\n",
    "            # pop the smallest element\n",
    "            heapq.heappushpop(min_heap, nums[i])\n",
    "    return heapq.heappop(min_heap)"
   ]
  },
  {
   "cell_type": "markdown",
   "id": "f7fb2aba",
   "metadata": {},
   "source": [
    "#### heapq.nlargest(n, iterable, key=None)¶\n",
    "- Return a list with the n largest elements from the dataset defined by iterable. \n",
    "- key, if provided, specifies a function of one argument that is used to extract a comparison key from each element in iterable (for example, key=str.lower). \n",
    "- Equivalent to: sorted(iterable, key=key, reverse=True)[:n]."
   ]
  },
  {
   "cell_type": "code",
   "execution_count": null,
   "id": "445bd265",
   "metadata": {},
   "outputs": [],
   "source": [
    "def findKthLargest(self, nums, k: int) -> int:\n",
    "    return heapq.nlargest(k, nums)[-1]"
   ]
  },
  {
   "cell_type": "markdown",
   "id": "b824ef9a",
   "metadata": {},
   "source": [
    "## 973. K Closest Points to Origin\n",
    "[973. K Closest Points to Origin](https://leetcode.com/problems/k-closest-points-to-origin/)"
   ]
  },
  {
   "cell_type": "code",
   "execution_count": 5,
   "id": "fc48c032",
   "metadata": {},
   "outputs": [],
   "source": [
    "# TC = O(k + (n - k)logk)\n",
    "class Solution:\n",
    "    def kClosest(self, points, k: int):\n",
    "        # Use custom max-heap with size k to store the k cloest points\n",
    "        max_heap = []\n",
    "        for i in range(len(points)):\n",
    "            cur_x = points[i][0]\n",
    "            cur_y = points[i][1]\n",
    "            if len(max_heap) < k:\n",
    "                max_heap.append(Point(cur_x, cur_y))\n",
    "                if len(max_heap) == k:\n",
    "                    heapq.heapify(max_heap)\n",
    "            else:\n",
    "                heapq.heappushpop(max_heap, Point(cur_x, cur_y))\n",
    "        res = []\n",
    "        while max_heap:\n",
    "            cur = heapq.heappop(max_heap)\n",
    "            res.append([cur.x, cur.y])\n",
    "        return res\n",
    "    \n",
    "    \n",
    "class Point:\n",
    "    def __init__(self, x, y):\n",
    "        self.x = x\n",
    "        self.y = y\n",
    "        self.dis = self.x * self.x + self.y * self.y \n",
    "    def __lt__(self, p2):\n",
    "        return self.dis > p2.dis"
   ]
  },
  {
   "cell_type": "markdown",
   "id": "86649048",
   "metadata": {},
   "source": [
    "# Queue Stack Deque"
   ]
  },
  {
   "cell_type": "markdown",
   "id": "f9f3866d",
   "metadata": {},
   "source": [
    "## 225. Implement Stack using Queues\n",
    "[225. Implement Stack using Queues](https://leetcode.com/problems/implement-stack-using-queues/)"
   ]
  },
  {
   "cell_type": "code",
   "execution_count": 6,
   "id": "46d15d14",
   "metadata": {},
   "outputs": [],
   "source": [
    "from collections import deque\n",
    "# Re-arrange when pushing the new element into q. We make sure that the top element is the result we want when calling pop() or top() fucntions\n",
    "class MyStack:\n",
    "    def __init__(self):\n",
    "        self.q = deque()\n",
    "\n",
    "    def push(self, x: int) -> None:\n",
    "        self.q.append(x)\n",
    "        for i in range(len(self.q) - 1):\n",
    "            self.q.append(self.q.popleft())\n",
    "\n",
    "    def pop(self) -> int:\n",
    "        return self.q.popleft()\n",
    "\n",
    "    def top(self) -> int:\n",
    "        return self.q[0]\n",
    "\n",
    "    def empty(self) -> bool:\n",
    "        return len(self.q) == 0"
   ]
  },
  {
   "cell_type": "markdown",
   "id": "c5ad3314",
   "metadata": {},
   "source": [
    "## 232. Implement Queue using Stacks\n",
    "[232. Implement Queue using Stacks](https://leetcode.com/problems/implement-queue-using-stacks/)"
   ]
  },
  {
   "cell_type": "code",
   "execution_count": 7,
   "id": "23750f17",
   "metadata": {},
   "outputs": [],
   "source": [
    "from collections import deque\n",
    "class MyQueue:\n",
    "    \"\"\"\n",
    "    (store new number)stack 1 =  5 4 3 2 1] [5 4 3 2 1  = stack 2(pop() and peek() elements)\n",
    "    \"\"\"\n",
    "\n",
    "    def __init__(self):\n",
    "        self.stack1 = deque()\n",
    "        self.stack2 = deque()\n",
    "        \n",
    "\n",
    "    def push(self, x: int) -> None:\n",
    "        self.stack1.append(x)\n",
    "\n",
    "    def pop(self) -> int:\n",
    "        if len(self.stack2) == 0:\n",
    "            # shift\n",
    "            self.shift()\n",
    "        return self.stack2.pop()\n",
    "\n",
    "            \n",
    "    def peek(self) -> int:\n",
    "        if len(self.stack2) == 0:\n",
    "            # shift\n",
    "            self.shift()\n",
    "        return self.stack2[-1]\n",
    "    \n",
    "    def empty(self) -> bool:\n",
    "        return len(self.stack1) + len(self.stack2) == 0\n",
    "    \n",
    "    def shift(self):\n",
    "        while self.stack1:\n",
    "            self.stack2.append(self.stack1.pop())"
   ]
  },
  {
   "cell_type": "markdown",
   "id": "28423b60",
   "metadata": {},
   "source": [
    "## 150. Evaluate Reverse Polish Notation\n",
    "[150. Evaluate Reverse Polish Notation](https://leetcode.com/problems/evaluate-reverse-polish-notation/)"
   ]
  },
  {
   "cell_type": "code",
   "execution_count": 8,
   "id": "4bc89f55",
   "metadata": {},
   "outputs": [
    {
     "data": {
      "text/plain": [
       "-11"
      ]
     },
     "execution_count": 8,
     "metadata": {},
     "output_type": "execute_result"
    }
   ],
   "source": [
    "a = \"-11\"\n",
    "b = int(a)\n",
    "b"
   ]
  },
  {
   "cell_type": "code",
   "execution_count": 10,
   "id": "ef697ead",
   "metadata": {},
   "outputs": [],
   "source": [
    "from collections import deque\n",
    "class Solution:\n",
    "    \"\"\"\n",
    "    use a stack\n",
    "    linear scan the input list:\n",
    "        meet number: push\n",
    "        meet operators: pop top 2 --> calculate\n",
    "    \"\"\"\n",
    "    def evalRPN(self, tokens) -> int:\n",
    "        stack = deque()\n",
    "        operator = [\"+\", \"-\", \"*\", \"/\"]\n",
    "        op_set = set(operator)\n",
    "        # op_set = set([\"+\", \"-\", \"*\", \"/\"])\n",
    "        \n",
    "        for i in range(len(tokens)):\n",
    "            cur = tokens[i]\n",
    "            if cur not in op_set:\n",
    "                # it's number: push into stack\n",
    "                stack.append(int(cur))\n",
    "            else:\n",
    "                a = stack.pop()\n",
    "                b = stack.pop()\n",
    "                if cur == \"+\":\n",
    "                    stack.append(a + b)\n",
    "                elif cur == \"-\":\n",
    "                    stack.append(b - a)\n",
    "                elif cur == \"*\":\n",
    "                    stack.append(a * b)\n",
    "                else:\n",
    "                    stack.append(int(b / a))\n",
    "        return stack.pop()"
   ]
  },
  {
   "cell_type": "code",
   "execution_count": 12,
   "id": "9845b6ec",
   "metadata": {},
   "outputs": [],
   "source": [
    "def evalRPN(self, tokens) -> int:\n",
    "        \n",
    "    operations = {\n",
    "        \"+\": lambda a, b: a + b,\n",
    "        \"-\": lambda a, b: a - b,\n",
    "        \"/\": lambda a, b: int(a / b),\n",
    "        \"*\": lambda a, b: a * b\n",
    "    }\n",
    "    \n",
    "    stack = []\n",
    "    for token in tokens:\n",
    "        if token in operations:\n",
    "            number_2 = stack.pop()\n",
    "            number_1 = stack.pop()\n",
    "            operation = operations[token]\n",
    "            stack.append(operation(number_1, number_2))\n",
    "        else:\n",
    "            stack.append(int(token))\n",
    "    return stack.pop()"
   ]
  },
  {
   "cell_type": "markdown",
   "id": "66629658",
   "metadata": {},
   "source": [
    "## 155. Min Stack\n",
    "[155. Min Stack](https://leetcode.com/problems/min-stack/)"
   ]
  },
  {
   "cell_type": "code",
   "execution_count": 17,
   "id": "9cc0e0b1",
   "metadata": {},
   "outputs": [
    {
     "data": {
      "text/plain": [
       "True"
      ]
     },
     "execution_count": 17,
     "metadata": {},
     "output_type": "execute_result"
    }
   ],
   "source": [
    "a = float('-inf')\n",
    "a < -1000000"
   ]
  },
  {
   "cell_type": "code",
   "execution_count": 18,
   "id": "87d5fe61",
   "metadata": {},
   "outputs": [],
   "source": [
    "class MinStack:\n",
    "\n",
    "    def __init__(self):\n",
    "        self.stack = deque()\n",
    "        \n",
    "\n",
    "    def push(self, val: int) -> None:\n",
    "        if not self.stack:\n",
    "            self.stack.append((val, val))\n",
    "            return\n",
    "        current_min = self.stack[-1][1]\n",
    "        self.stack.append((val, min(val, current_min)))\n",
    "        \n",
    "\n",
    "    def pop(self) -> None:\n",
    "        self.stack.pop()\n",
    "\n",
    "    def top(self) -> int:\n",
    "        return self.stack[-1][0]\n",
    "\n",
    "    def getMin(self) -> int:\n",
    "        return self.stack[-1][1]\n"
   ]
  },
  {
   "cell_type": "markdown",
   "id": "8e19d881",
   "metadata": {},
   "source": [
    "## 716. Max Stack\n",
    "[716. Max Stack](https://leetcode.com/problems/max-stack/)"
   ]
  },
  {
   "cell_type": "code",
   "execution_count": null,
   "id": "9faafa47",
   "metadata": {},
   "outputs": [],
   "source": []
  },
  {
   "cell_type": "markdown",
   "id": "65804c7f",
   "metadata": {},
   "source": [
    "## 239. Sliding Window Maximum\n",
    "[239. Sliding Window Maximum](https://leetcode.com/problems/sliding-window-maximum/)"
   ]
  },
  {
   "cell_type": "code",
   "execution_count": null,
   "id": "d51e89c6",
   "metadata": {},
   "outputs": [],
   "source": []
  },
  {
   "cell_type": "markdown",
   "id": "7e01b0bf",
   "metadata": {},
   "source": [
    "# Histograms"
   ]
  },
  {
   "cell_type": "markdown",
   "id": "dca5b63a",
   "metadata": {},
   "source": [
    "## 84. Largest Rectangle in Histogram\n",
    "[84. Largest Rectangle in Histogram](https://leetcode.com/problems/largest-rectangle-in-histogram/)"
   ]
  },
  {
   "cell_type": "code",
   "execution_count": null,
   "id": "4c7ed91a",
   "metadata": {},
   "outputs": [],
   "source": []
  },
  {
   "cell_type": "markdown",
   "id": "947b02e8",
   "metadata": {},
   "source": [
    "## 85. Maximal Rectangle\n",
    "[85. Maximal Rectangle](https://leetcode.com/problems/maximal-rectangle/)"
   ]
  },
  {
   "cell_type": "code",
   "execution_count": null,
   "id": "76b21a11",
   "metadata": {},
   "outputs": [],
   "source": []
  },
  {
   "cell_type": "markdown",
   "id": "2887944c",
   "metadata": {},
   "source": [
    "## 42. Trapping Rain Water\n",
    "[42. Trapping Rain Water](https://leetcode.com/problems/trapping-rain-water/)"
   ]
  },
  {
   "cell_type": "code",
   "execution_count": null,
   "id": "bd479562",
   "metadata": {},
   "outputs": [],
   "source": []
  },
  {
   "cell_type": "markdown",
   "id": "e2a334cc",
   "metadata": {},
   "source": [
    "## 407. Trapping Rain Water II\n",
    "[407. Trapping Rain Water II](https://leetcode.com/problems/trapping-rain-water-ii/)"
   ]
  },
  {
   "cell_type": "code",
   "execution_count": null,
   "id": "ba232e62",
   "metadata": {},
   "outputs": [],
   "source": []
  }
 ],
 "metadata": {
  "kernelspec": {
   "display_name": "Python 3 (ipykernel)",
   "language": "python",
   "name": "python3"
  },
  "language_info": {
   "codemirror_mode": {
    "name": "ipython",
    "version": 3
   },
   "file_extension": ".py",
   "mimetype": "text/x-python",
   "name": "python",
   "nbconvert_exporter": "python",
   "pygments_lexer": "ipython3",
   "version": "3.9.7"
  }
 },
 "nbformat": 4,
 "nbformat_minor": 5
}
