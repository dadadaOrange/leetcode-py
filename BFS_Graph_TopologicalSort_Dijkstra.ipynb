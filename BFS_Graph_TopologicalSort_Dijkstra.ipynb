{
 "cells": [
  {
   "cell_type": "markdown",
   "id": "eaa3984e",
   "metadata": {},
   "source": [
    "# BFS"
   ]
  },
  {
   "cell_type": "markdown",
   "id": "225e5f98",
   "metadata": {},
   "source": [
    "## 993. Cousins in Binary Tree\n",
    "[993. Cousins in Binary Tree](https://leetcode.com/problems/cousins-in-binary-tree/)"
   ]
  },
  {
   "cell_type": "code",
   "execution_count": 47,
   "id": "15f44c6c",
   "metadata": {},
   "outputs": [
    {
     "name": "stdout",
     "output_type": "stream",
     "text": [
      "deque([5, 6])\n"
     ]
    }
   ],
   "source": [
    "from collections import deque\n",
    "q = deque()\n",
    "q.append(5)\n",
    "q.append(6)\n",
    "print(q)\n",
    "\n",
    "# doubly linked list: check the existence need O(n)\n",
    "if 88 in q:\n",
    "    print(\"yes\")"
   ]
  },
  {
   "cell_type": "code",
   "execution_count": 48,
   "id": "8a4d348f",
   "metadata": {},
   "outputs": [],
   "source": [
    "def isCousins(self, root, x: int, y: int) -> bool:\n",
    "    if not root:\n",
    "        return False\n",
    "    node = (root, float('inf'))\n",
    "    q = deque([node])\n",
    "    while q:\n",
    "        size = len(q)\n",
    "        par = []\n",
    "        # add all siblings and cousions in q\n",
    "        for _ in range(size):\n",
    "            cur, parent = q.popleft()\n",
    "            if cur.val == x or cur.val == y:\n",
    "                par.append(parent)\n",
    "            if cur.left:\n",
    "                q.append((cur.left, cur.val))\n",
    "            if cur.right:\n",
    "                q.append((cur.right, cur.val))\n",
    "        # check the parent list\n",
    "        if len(par) == 2:\n",
    "             if par[0] != par[1]:\n",
    "                return True\n",
    "             return False"
   ]
  },
  {
   "cell_type": "markdown",
   "id": "4b7be738",
   "metadata": {},
   "source": [
    "## 785. Is Graph Bipartite?\n",
    "[785. Is Graph Bipartite?](https://leetcode.com/problems/is-graph-bipartite/)"
   ]
  },
  {
   "cell_type": "code",
   "execution_count": 4,
   "id": "b18b8be9",
   "metadata": {},
   "outputs": [
    {
     "data": {
      "text/plain": [
       "[[0, 0, 0], [0, 0, 0], [0, 0, 0], [0, 0, 0]]"
      ]
     },
     "execution_count": 4,
     "metadata": {},
     "output_type": "execute_result"
    }
   ],
   "source": [
    "res = [[0 for _ in range(3)] for _ in range(4)]\n",
    "res"
   ]
  },
  {
   "cell_type": "code",
   "execution_count": 3,
   "id": "6d6dbf54",
   "metadata": {},
   "outputs": [],
   "source": [
    "def isBipartite(self, graph) -> bool:\n",
    "    \"\"\"\n",
    "    BFS: BFS for all nodes (not connected case)\n",
    "    visited = [0 for _ in range(n)]\n",
    "    \"\"\"\n",
    "    if not graph:\n",
    "        return True\n",
    "    n = len(graph)\n",
    "    visited = [0 for _ in range(n)]\n",
    "    for i in range(n):\n",
    "        if len(graph[i]) == 0 or visited[i] != 0:\n",
    "            continue\n",
    "        if not self.bfs(i, graph, visited):\n",
    "            return False\n",
    "    return True\n",
    "\n",
    "def bfs(self, cur, graph, visited):\n",
    "    q = deque([cur])\n",
    "    visited[cur] = 1\n",
    "    while q:\n",
    "        node = q.popleft()\n",
    "        # generate neighbors\n",
    "        for item in graph[node]:\n",
    "            if visited[item] == 0:\n",
    "                visited[item] = -1 * visited[node]\n",
    "                q.append(item)\n",
    "            if visited[item] != 0 and visited[item] == visited[node]:\n",
    "                return False\n",
    "    return True"
   ]
  },
  {
   "cell_type": "code",
   "execution_count": null,
   "id": "37dde73f",
   "metadata": {},
   "outputs": [],
   "source": []
  },
  {
   "cell_type": "markdown",
   "id": "51814675",
   "metadata": {},
   "source": [
    "## 200. Number of Islands\n",
    "[200. Number of Islands](https://leetcode.com/problems/number-of-islands/)"
   ]
  },
  {
   "cell_type": "code",
   "execution_count": 60,
   "id": "857155be",
   "metadata": {},
   "outputs": [],
   "source": [
    "# BFS\n",
    "class Solution:\n",
    "    def numIslands(self, grid) -> int:\n",
    "        count = 0\n",
    "        m = len(grid)\n",
    "        n = len(grid[0])\n",
    "        directions = [[0, 1],[1, 0],[0,-1],[-1, 0]]\n",
    "        for i in range(m):\n",
    "            for j in range(n):\n",
    "                if grid[i][j] == '1':\n",
    "                    grid[i][j] = '0'\n",
    "                    self.bfs(grid, i, j, directions)\n",
    "                    count += 1\n",
    "        return count\n",
    "    \n",
    "    def bfs(self, grid, i, j, directions):\n",
    "        q = deque([[i,j]])\n",
    "        while q:\n",
    "            row, col = q.popleft()\n",
    "            for dr, dc in directions:\n",
    "                r = row + dr\n",
    "                c = col + dc\n",
    "                if r >= 0 and r < len(grid) and c >= 0 and c < len(grid[0]) and grid[r][c] == '1':\n",
    "                    grid[r][c] = '0'\n",
    "                    q.append([r, c])"
   ]
  },
  {
   "cell_type": "markdown",
   "id": "e3877a83",
   "metadata": {},
   "source": [
    "## 1197. Minimum Knight Moves\n",
    "[1197. Minimum Knight Moves](https://leetcode.com/problems/minimum-knight-moves/)"
   ]
  },
  {
   "cell_type": "code",
   "execution_count": null,
   "id": "3e1b4592",
   "metadata": {},
   "outputs": [],
   "source": []
  },
  {
   "cell_type": "markdown",
   "id": "bfc34995",
   "metadata": {},
   "source": [
    "## 286. Walls and Gates\n",
    "[286. Walls and Gates](https://leetcode.com/problems/walls-and-gates/)"
   ]
  },
  {
   "cell_type": "code",
   "execution_count": 52,
   "id": "ae153834",
   "metadata": {},
   "outputs": [
    {
     "name": "stdout",
     "output_type": "stream",
     "text": [
      "1 2 3\n"
     ]
    }
   ],
   "source": [
    "q = deque()\n",
    "q.append([1,2,3])\n",
    "q.append([4,5,6])\n",
    "a, b, c = q.popleft()\n",
    "print(a, b, c)"
   ]
  },
  {
   "cell_type": "code",
   "execution_count": 56,
   "id": "df838b20",
   "metadata": {},
   "outputs": [],
   "source": [
    "class Solution:\n",
    "    def wallsAndGates(self, rooms) -> None:\n",
    "        \"\"\"\n",
    "        Do not return anything, modify rooms in-place instead.\n",
    "        \n",
    "        For each gate call bfs and matain the minimum val to the empty room\n",
    "        \"\"\"\n",
    "        if not rooms:\n",
    "            return\n",
    "        m = len(rooms)\n",
    "        n = len(rooms[0])\n",
    "        directions = [[1, 0],[-1, 0],[0, 1],[0,-1]]\n",
    "        q = deque()\n",
    "        for i in range (m):\n",
    "            for j in range (n):\n",
    "                if rooms[i][j] == 0:\n",
    "                    q.append([i, j])\n",
    "        visited = [[False for _ in range(n)] for _ in range(m)]\n",
    "        self.bfs(rooms, visited, q, directions)\n",
    "    \n",
    "    def bfs(self, rooms, visited, q, directions):\n",
    "        while q:\n",
    "            size = len(q)\n",
    "            for i in range(size):\n",
    "                row, col = q.popleft()\n",
    "                for d in directions:\n",
    "                    r = row + d[0]\n",
    "                    c = col + d[1]\n",
    "                    if r >= 0 and r < len(rooms) and c >= 0 and c < len(rooms[0]):\n",
    "                        if not visited[r][c] and rooms[r][c] > 0:\n",
    "                            visited[r][c] = True\n",
    "                            q.append([r, c])\n",
    "                            rooms[r][c] = rooms[row][col] + 1"
   ]
  },
  {
   "cell_type": "markdown",
   "id": "984e4d7a",
   "metadata": {},
   "source": [
    "## 417. Pacific Atlantic Water Flow\n",
    "[417. Pacific Atlantic Water Flow](https://leetcode.com/problems/pacific-atlantic-water-flow/)"
   ]
  },
  {
   "cell_type": "code",
   "execution_count": null,
   "id": "fbdbee43",
   "metadata": {},
   "outputs": [],
   "source": []
  },
  {
   "cell_type": "markdown",
   "id": "dee0b6e5",
   "metadata": {},
   "source": [
    "# Implicit Graph"
   ]
  },
  {
   "cell_type": "markdown",
   "id": "c42a836c",
   "metadata": {},
   "source": [
    "## 773. Sliding Puzzle\n",
    "[773. Sliding Puzzle](https://leetcode.com/problems/sliding-puzzle/)"
   ]
  },
  {
   "cell_type": "code",
   "execution_count": null,
   "id": "7c9b51c3",
   "metadata": {},
   "outputs": [],
   "source": []
  },
  {
   "cell_type": "markdown",
   "id": "f1752a25",
   "metadata": {},
   "source": [
    "## 752. Open the Lock\n",
    "[752. Open the Lock](https://leetcode.com/problems/open-the-lock/)"
   ]
  },
  {
   "cell_type": "code",
   "execution_count": null,
   "id": "3b300479",
   "metadata": {},
   "outputs": [],
   "source": []
  },
  {
   "cell_type": "markdown",
   "id": "dc0c0cfc",
   "metadata": {},
   "source": [
    "# Topological Sort"
   ]
  },
  {
   "cell_type": "markdown",
   "id": "458e3ee5",
   "metadata": {},
   "source": [
    "## 207. Course Schedule\n",
    "[207. Course Schedule](https://leetcode.com/problems/course-schedule/)"
   ]
  },
  {
   "cell_type": "code",
   "execution_count": null,
   "id": "10ce6fc9",
   "metadata": {},
   "outputs": [],
   "source": []
  },
  {
   "cell_type": "markdown",
   "id": "5768dd77",
   "metadata": {},
   "source": [
    "## 210. Course Schedule II\n",
    "[210. Course Schedule II](https://leetcode.com/problems/course-schedule-ii/)"
   ]
  },
  {
   "cell_type": "code",
   "execution_count": null,
   "id": "bb4fe67d",
   "metadata": {},
   "outputs": [],
   "source": []
  },
  {
   "cell_type": "markdown",
   "id": "2e546a4b",
   "metadata": {},
   "source": [
    "## 953. Verifying an Alien Dictionary\n",
    "[953. Verifying an Alien Dictionary](https://leetcode.com/problems/verifying-an-alien-dictionary/)"
   ]
  },
  {
   "cell_type": "code",
   "execution_count": null,
   "id": "6ade73e5",
   "metadata": {},
   "outputs": [],
   "source": []
  },
  {
   "cell_type": "markdown",
   "id": "1bc4c690",
   "metadata": {},
   "source": [
    "## 269. Alien Dictionary\n",
    "[269. Alien Dictionary](https://leetcode.com/problems/alien-dictionary/)"
   ]
  },
  {
   "cell_type": "code",
   "execution_count": null,
   "id": "4627dfe2",
   "metadata": {},
   "outputs": [],
   "source": []
  },
  {
   "cell_type": "markdown",
   "id": "d8ead991",
   "metadata": {},
   "source": [
    "# Dijkstra"
   ]
  },
  {
   "cell_type": "markdown",
   "id": "13ac46d9",
   "metadata": {},
   "source": [
    "## 378. Kth Smallest Element in a Sorted Matrix\n",
    "[378. Kth Smallest Element in a Sorted Matrix](https://leetcode.com/problems/kth-smallest-element-in-a-sorted-matrix/)"
   ]
  },
  {
   "cell_type": "code",
   "execution_count": null,
   "id": "df8fe9c7",
   "metadata": {},
   "outputs": [],
   "source": []
  },
  {
   "cell_type": "markdown",
   "id": "0e079966",
   "metadata": {},
   "source": [
    "## 2040. Kth Smallest Product of Two Sorted Arrays\n",
    "[2040. Kth Smallest Product of Two Sorted Arrays](https://leetcode.com/problems/kth-smallest-product-of-two-sorted-arrays/)"
   ]
  },
  {
   "cell_type": "code",
   "execution_count": null,
   "id": "bad9b6c4",
   "metadata": {},
   "outputs": [],
   "source": []
  },
  {
   "cell_type": "markdown",
   "id": "5cd1843a",
   "metadata": {},
   "source": [
    "## 490. The Maze\n",
    "[490. The Maze](https://leetcode.com/problems/the-maze/)"
   ]
  },
  {
   "cell_type": "code",
   "execution_count": null,
   "id": "cea7ab4a",
   "metadata": {},
   "outputs": [],
   "source": []
  },
  {
   "cell_type": "markdown",
   "id": "38823c64",
   "metadata": {},
   "source": [
    "## 505. The Maze II\n",
    "[505. The Maze II](https://leetcode.com/problems/the-maze-ii/)"
   ]
  },
  {
   "cell_type": "code",
   "execution_count": null,
   "id": "4dea235c",
   "metadata": {},
   "outputs": [],
   "source": []
  },
  {
   "cell_type": "markdown",
   "id": "ebb2a1cc",
   "metadata": {},
   "source": [
    "## 499. The Maze III\n",
    "[499. The Maze III](https://leetcode.com/problems/the-maze-iii/)"
   ]
  },
  {
   "cell_type": "code",
   "execution_count": null,
   "id": "35b239c2",
   "metadata": {},
   "outputs": [],
   "source": []
  },
  {
   "cell_type": "markdown",
   "id": "32fc7185",
   "metadata": {},
   "source": [
    "## 787. Cheapest Flights Within K Stops\n",
    "[787. Cheapest Flights Within K Stops](https://leetcode.com/problems/cheapest-flights-within-k-stops/)"
   ]
  },
  {
   "cell_type": "code",
   "execution_count": null,
   "id": "c614b37d",
   "metadata": {},
   "outputs": [],
   "source": []
  },
  {
   "cell_type": "markdown",
   "id": "5f87d38f",
   "metadata": {},
   "source": [
    "## 743. Network Delay Time\n",
    "[743. Network Delay Time](https://leetcode.com/problems/network-delay-time/)"
   ]
  },
  {
   "cell_type": "code",
   "execution_count": null,
   "id": "38151839",
   "metadata": {},
   "outputs": [],
   "source": []
  },
  {
   "cell_type": "markdown",
   "id": "8c52320c",
   "metadata": {},
   "source": [
    "# Shortest Path(BFS+DFS)"
   ]
  },
  {
   "cell_type": "markdown",
   "id": "f830ecba",
   "metadata": {},
   "source": [
    "## 127. Word Ladder\n",
    "[127. Word Ladder](https://leetcode.com/problems/word-ladder/)"
   ]
  },
  {
   "cell_type": "code",
   "execution_count": null,
   "id": "de98e85c",
   "metadata": {},
   "outputs": [],
   "source": []
  },
  {
   "cell_type": "markdown",
   "id": "00ffa008",
   "metadata": {},
   "source": [
    "## 126. Word Ladder II\n",
    "[126. Word Ladder II](https://leetcode.com/problems/word-ladder-ii/)"
   ]
  },
  {
   "cell_type": "code",
   "execution_count": null,
   "id": "3b96c5e5",
   "metadata": {},
   "outputs": [],
   "source": []
  },
  {
   "cell_type": "markdown",
   "id": "18a86810",
   "metadata": {},
   "source": [
    "## 1293. Shortest Path in a Grid with Obstacles Elimination\n",
    "[1293. Shortest Path in a Grid with Obstacles Elimination](https://leetcode.com/problems/shortest-path-in-a-grid-with-obstacles-elimination/)"
   ]
  },
  {
   "cell_type": "code",
   "execution_count": null,
   "id": "1248bcc0",
   "metadata": {},
   "outputs": [],
   "source": []
  },
  {
   "cell_type": "markdown",
   "id": "85f8fed3",
   "metadata": {},
   "source": [
    "## 489. Robot Room Cleaner\n",
    "[489. Robot Room Cleaner](https://leetcode.com/problems/robot-room-cleaner/)"
   ]
  },
  {
   "cell_type": "code",
   "execution_count": null,
   "id": "9d1004ef",
   "metadata": {},
   "outputs": [],
   "source": []
  },
  {
   "cell_type": "markdown",
   "id": "98af0235",
   "metadata": {},
   "source": [
    "# Graph\n",
    "\n",
    "- Unidirected Graph\n",
    "- Directed Graph\n",
    "- Weighted Graph\n",
    "- Bipartite Graph\n",
    "- Connected Graph\n",
    "- DAG: directed acyslic Graph\n",
    "- Circle and Cycle: circle(shape 圈）and Cycle(order 闭环）"
   ]
  },
  {
   "cell_type": "markdown",
   "id": "14d92161",
   "metadata": {},
   "source": [
    "## 133. Clone Graph\n",
    "[133. Clone Graph](https://leetcode.com/problems/clone-graph/)"
   ]
  },
  {
   "cell_type": "code",
   "execution_count": null,
   "id": "df4fb84b",
   "metadata": {},
   "outputs": [],
   "source": []
  },
  {
   "cell_type": "markdown",
   "id": "88ebc4e5",
   "metadata": {},
   "source": [
    "## 323. Number of Connected Components in an Undirected Graph\n",
    "[323. Number of Connected Components in an Undirected Graph](https://leetcode.com/problems/number-of-connected-components-in-an-undirected-graph/)"
   ]
  },
  {
   "cell_type": "code",
   "execution_count": null,
   "id": "7c3f5aaa",
   "metadata": {},
   "outputs": [],
   "source": []
  },
  {
   "cell_type": "markdown",
   "id": "dffd6c72",
   "metadata": {},
   "source": [
    "## 261. Graph Valid Tree\n",
    "[261. Graph Valid Tree](https://leetcode.com/problems/graph-valid-tree/)"
   ]
  },
  {
   "cell_type": "code",
   "execution_count": null,
   "id": "c2656094",
   "metadata": {},
   "outputs": [],
   "source": []
  },
  {
   "cell_type": "markdown",
   "id": "406a3693",
   "metadata": {},
   "source": [
    "## 684. Redundant Connection\n",
    "[684. Redundant Connection](https://leetcode.com/problems/redundant-connection/)"
   ]
  },
  {
   "cell_type": "code",
   "execution_count": null,
   "id": "56596a9d",
   "metadata": {},
   "outputs": [],
   "source": []
  },
  {
   "cell_type": "markdown",
   "id": "c5a6cb69",
   "metadata": {},
   "source": [
    "## 332. Reconstruct Itinerary\n",
    "[332. Reconstruct Itinerary](https://leetcode.com/problems/reconstruct-itinerary/)"
   ]
  },
  {
   "cell_type": "code",
   "execution_count": null,
   "id": "e87d7d5c",
   "metadata": {},
   "outputs": [],
   "source": []
  },
  {
   "cell_type": "markdown",
   "id": "2a909e79",
   "metadata": {},
   "source": [
    "# Others"
   ]
  },
  {
   "cell_type": "markdown",
   "id": "64370ed1",
   "metadata": {},
   "source": [
    "## 543. Diameter of Binary Tree\n",
    "[543. Diameter of Binary Tree](https://leetcode.com/problems/diameter-of-binary-tree/)"
   ]
  },
  {
   "cell_type": "code",
   "execution_count": null,
   "id": "dbab3c23",
   "metadata": {},
   "outputs": [],
   "source": []
  },
  {
   "cell_type": "markdown",
   "id": "ec8def3c",
   "metadata": {},
   "source": [
    "## 1245. Tree Diameter\n",
    "[1245. Tree Diameter](https://leetcode.com/problems/tree-diameter/)"
   ]
  },
  {
   "cell_type": "code",
   "execution_count": null,
   "id": "9e38bd4b",
   "metadata": {},
   "outputs": [],
   "source": []
  },
  {
   "cell_type": "markdown",
   "id": "f4e34154",
   "metadata": {},
   "source": [
    "## 1192. Critical Connections in a Network\n",
    "[1192. Critical Connections in a Network](https://leetcode.com/problems/critical-connections-in-a-network/)"
   ]
  },
  {
   "cell_type": "code",
   "execution_count": null,
   "id": "1fb6c1c2",
   "metadata": {},
   "outputs": [],
   "source": []
  },
  {
   "cell_type": "markdown",
   "id": "c58d6da0",
   "metadata": {},
   "source": [
    "## 399. Evaluate Division\n",
    "[399. Evaluate Division](https://leetcode.com/problems/evaluate-division/)"
   ]
  },
  {
   "cell_type": "code",
   "execution_count": null,
   "id": "dbd3a9be",
   "metadata": {},
   "outputs": [],
   "source": []
  },
  {
   "cell_type": "markdown",
   "id": "af44024d",
   "metadata": {},
   "source": [
    "## 329. Longest Increasing Path in a Matrix\n",
    "[329. Longest Increasing Path in a Matrix](https://leetcode.com/problems/longest-increasing-path-in-a-matrix/)"
   ]
  },
  {
   "cell_type": "code",
   "execution_count": null,
   "id": "b01677ac",
   "metadata": {},
   "outputs": [],
   "source": []
  },
  {
   "cell_type": "markdown",
   "id": "93a92624",
   "metadata": {},
   "source": [
    "## 2092. Find All People With Secret\n",
    "[2092. Find All People With Secret](https://leetcode.com/problems/find-all-people-with-secret/)"
   ]
  },
  {
   "cell_type": "code",
   "execution_count": null,
   "id": "d541feaf",
   "metadata": {},
   "outputs": [],
   "source": []
  },
  {
   "cell_type": "markdown",
   "id": "16cae281",
   "metadata": {},
   "source": [
    "## 797. All Paths From Source to Target\n",
    "[797. All Paths From Source to Target](https://leetcode.com/problems/all-paths-from-source-to-target/)"
   ]
  },
  {
   "cell_type": "code",
   "execution_count": null,
   "id": "a8177e81",
   "metadata": {},
   "outputs": [],
   "source": []
  },
  {
   "cell_type": "markdown",
   "id": "585d0a8b",
   "metadata": {},
   "source": [
    "## Robot Path Planning"
   ]
  },
  {
   "cell_type": "code",
   "execution_count": 6,
   "id": "191c0141",
   "metadata": {},
   "outputs": [
    {
     "data": {
      "text/plain": [
       "[[0, 1], [1, 0], [0, -1], [-1, 0]]"
      ]
     },
     "execution_count": 6,
     "metadata": {},
     "output_type": "execute_result"
    }
   ],
   "source": [
    "visited = [[False for _ in range(2)] for _ in range(3)]\n",
    "dir = [[0, 1],[1, 0], [0, -1], [-1, 0]]\n",
    "dir"
   ]
  },
  {
   "cell_type": "code",
   "execution_count": 43,
   "id": "ceb0fc64",
   "metadata": {},
   "outputs": [
    {
     "name": "stdout",
     "output_type": "stream",
     "text": [
      "ESSEE\n"
     ]
    }
   ],
   "source": [
    "from collections import deque\n",
    "def plan(grid):\n",
    "    # corner case\n",
    "    if not grid:\n",
    "        return \"\"\n",
    "    # find the start position\n",
    "    m = len(grid)\n",
    "    n = len(grid[0])\n",
    "    q = deque()\n",
    "    visited = [[False for _ in range(n)] for _ in range(m)]\n",
    "    direction = [[0, 1],[0, -1],[1, 0],[-1, 0]]\n",
    "    d_char = ['E','W','S','N']\n",
    "    for i in range(m):\n",
    "        for j in range(n):\n",
    "            if grid[i][j] == 'S':\n",
    "                q.append((i, j, \"\"))\n",
    "                visited[i][j] = True\n",
    "                res = bfs(grid, q, visited, direction, d_char)\n",
    "    return res\n",
    "\n",
    "def bfs(grid, q, visited, direction, d_char):\n",
    "    while q:\n",
    "        cur = q.popleft()\n",
    "        row = cur[0]\n",
    "        col = cur[1]\n",
    "        path = cur[2]\n",
    "        \n",
    "        # desitination\n",
    "        if grid[row][col] == 'G':\n",
    "            return path\n",
    "        # build path with it's neighbors\n",
    "        for i in range(len(direction)):\n",
    "            r = row + direction[i][0]\n",
    "            c = col + direction[i][1]\n",
    "            if r >= 0 and r < len(grid) and c >= 0 and c < len(grid[0]):\n",
    "                if not visited[r][c] and grid[r][c] != 'O':\n",
    "                    # generated\n",
    "                    visited[r][c] = True\n",
    "                    q.append((r, c, path+d_char[i]))\n",
    "    return \"\"\n",
    "                    \n",
    "    \n",
    "a = [['O','E','E','O','E','E'],\n",
    "     ['O','E','O','O','E','O'],\n",
    "     ['S','E','E','E','E','E'],\n",
    "     ['O','E','O','O','E','E'],\n",
    "     ['O','E','E','E','E','O']]\n",
    "print(plan(a))"
   ]
  },
  {
   "cell_type": "code",
   "execution_count": 40,
   "id": "64575fcf",
   "metadata": {},
   "outputs": [
    {
     "name": "stdout",
     "output_type": "stream",
     "text": [
      "\n"
     ]
    }
   ],
   "source": [
    "b = [['O','E','E','O','E','E'],\n",
    "     ['O','E','O','O','E','O'],\n",
    "     ['S','E','E','E','E','G'],\n",
    "     ['O','E','O','O','E','E'],\n",
    "     ['O','E','E','E','E','E']]\n",
    "m = len(b)\n",
    "n = len(b[0])\n",
    "visited = [[False for _ in range(n)] for _ in range(m)]\n",
    "# print(visited)\n",
    "# print(m, n)\n",
    "print(plan(b))"
   ]
  },
  {
   "cell_type": "code",
   "execution_count": null,
   "id": "066ff556",
   "metadata": {},
   "outputs": [],
   "source": []
  }
 ],
 "metadata": {
  "kernelspec": {
   "display_name": "Python 3 (ipykernel)",
   "language": "python",
   "name": "python3"
  },
  "language_info": {
   "codemirror_mode": {
    "name": "ipython",
    "version": 3
   },
   "file_extension": ".py",
   "mimetype": "text/x-python",
   "name": "python",
   "nbconvert_exporter": "python",
   "pygments_lexer": "ipython3",
   "version": "3.8.12"
  }
 },
 "nbformat": 4,
 "nbformat_minor": 5
}
