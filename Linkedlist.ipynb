{
 "cells": [
  {
   "cell_type": "markdown",
   "id": "032ba3f0",
   "metadata": {},
   "source": [
    "# LinkedList"
   ]
  },
  {
   "cell_type": "markdown",
   "id": "1bae0448",
   "metadata": {},
   "source": [
    "# Fast Slow Pointers (Two Pointers)"
   ]
  },
  {
   "cell_type": "markdown",
   "id": "51555a84",
   "metadata": {},
   "source": [
    "## 876. Middle of the Linked List\n",
    "[876. Middle of the Linked List](https://leetcode.com/problems/middle-of-the-linked-list/)"
   ]
  },
  {
   "cell_type": "code",
   "execution_count": 2,
   "id": "7cccd0dc",
   "metadata": {},
   "outputs": [],
   "source": [
    "class Solution:\n",
    "    def middleNode(self, head):\n",
    "        \"\"\"\n",
    "            1,2,3,4,5\n",
    "                    f   odd: fast.next = null\n",
    "                s\n",
    "            1 2 3 4 5 6\n",
    "                        f   fast = null\n",
    "                  s\n",
    "        \"\"\"\n",
    "        if head is None or head.next is None:\n",
    "            return head\n",
    "        s = head\n",
    "        f = head\n",
    "        while f and f.next: # f = none or f.next = none\n",
    "            f = f.next.next\n",
    "            s = s.next\n",
    "        return s"
   ]
  },
  {
   "cell_type": "markdown",
   "id": "bf861b42",
   "metadata": {},
   "source": [
    "## 141. Linked List Cycle\n",
    "[141. Linked List Cycle](https://leetcode.com/problems/linked-list-cycle/)"
   ]
  },
  {
   "cell_type": "code",
   "execution_count": 3,
   "id": "618cc33c",
   "metadata": {},
   "outputs": [],
   "source": [
    "def hasCycle(self, head):\n",
    "    f = head\n",
    "    s = head\n",
    "    while f and f.next:\n",
    "        f = f.next.next\n",
    "        s = s.next\n",
    "\n",
    "        if f == s:\n",
    "            return True\n",
    "    return False"
   ]
  },
  {
   "cell_type": "markdown",
   "id": "0d33f09c",
   "metadata": {},
   "source": [
    "## 142. Linked List Cycle II\n",
    "[142. Linked List Cycle II](https://leetcode.com/problems/linked-list-cycle-ii/)"
   ]
  },
  {
   "cell_type": "code",
   "execution_count": 4,
   "id": "1703bc6b",
   "metadata": {},
   "outputs": [],
   "source": [
    "def detectCycle(self, head):\n",
    "    if head is None or head.next is None:\n",
    "        return None\n",
    "    meet = self.hasCircle(head)\n",
    "    if meet == None:\n",
    "        return None\n",
    "\n",
    "    # slow go back to head\n",
    "    slow = head\n",
    "    # fast starts at the meeting point\n",
    "    fast = meet\n",
    "    while slow != fast:\n",
    "        fast = fast.next\n",
    "        slow = slow.next\n",
    "    return fast\n",
    "\n",
    "def hasCircle(self, head):\n",
    "    f = head\n",
    "    s = head\n",
    "    while f.next and f.next.next:\n",
    "        f = f.next.next\n",
    "        s = s.next\n",
    "        if f == s:\n",
    "            return s\n",
    "    return None"
   ]
  },
  {
   "cell_type": "markdown",
   "id": "66112b22",
   "metadata": {},
   "source": [
    "# Dummy Head"
   ]
  },
  {
   "cell_type": "markdown",
   "id": "b5a0a1bc",
   "metadata": {},
   "source": [
    "## 708. Insert into a Sorted Circular Linked List\n",
    "[708. Insert into a Sorted Circular Linked List](https://leetcode.com/problems/insert-into-a-sorted-circular-linked-list/)"
   ]
  },
  {
   "cell_type": "code",
   "execution_count": null,
   "id": "a7accc69",
   "metadata": {},
   "outputs": [],
   "source": []
  },
  {
   "cell_type": "markdown",
   "id": "e4b51e5e",
   "metadata": {},
   "source": [
    "## 203. Remove Linked List Elements\n",
    "[203. Remove Linked List Elements](https://leetcode.com/problems/remove-linked-list-elements/)"
   ]
  },
  {
   "cell_type": "code",
   "execution_count": 5,
   "id": "2c0fc086",
   "metadata": {},
   "outputs": [],
   "source": [
    "class Solution:\n",
    "    \"\"\"\n",
    "       1,2,6,3,4,5,6  d = 6\n",
    "  d      p\n",
    "             c\n",
    "  del:\n",
    "    prev.next = cur.next\n",
    "    cur = cur.next\n",
    "\n",
    " \n",
    "    \"\"\"\n",
    "    def removeElements(self, head, val):\n",
    "        if head is None:\n",
    "            return None\n",
    "        dummyHead = ListNode(226)\n",
    "        dummyHead.next = head\n",
    "        cur = head\n",
    "        prev = dummyHead\n",
    "        while cur:\n",
    "            if cur.val == val:\n",
    "                prev.next = cur.next\n",
    "            else:\n",
    "                prev = cur\n",
    "            cur = cur.next\n",
    "        return dummyHead.next"
   ]
  },
  {
   "cell_type": "markdown",
   "id": "d6b0e739",
   "metadata": {},
   "source": [
    "## Add Two Numbers\n",
    "[Add Two Numbers](https://leetcode.com/problems/add-two-numbers/)"
   ]
  },
  {
   "cell_type": "code",
   "execution_count": 17,
   "id": "cad48742",
   "metadata": {},
   "outputs": [
    {
     "name": "stdout",
     "output_type": "stream",
     "text": [
      "Cici\n"
     ]
    }
   ],
   "source": [
    "# Conditional Statements\n",
    "result = \"Cici\" if 10 > 9 else \"It's False\"\n",
    "print(result)"
   ]
  },
  {
   "cell_type": "code",
   "execution_count": null,
   "id": "e9956a79",
   "metadata": {},
   "outputs": [],
   "source": []
  },
  {
   "cell_type": "markdown",
   "id": "514832cb",
   "metadata": {},
   "source": [
    "## 234. Palindrome Linked List\n",
    "[234. Palindrome Linked List](https://leetcode.com/problems/palindrome-linked-list/)"
   ]
  },
  {
   "cell_type": "code",
   "execution_count": 8,
   "id": "bf13030e",
   "metadata": {},
   "outputs": [],
   "source": [
    "class Solution:\n",
    "    def isPalindrome(self, head):\n",
    "        # corner case\n",
    "        if head is None or head.next is None:\n",
    "            return True\n",
    "        # find mid\n",
    "        mid_node = self.findMid(head)\n",
    "        # print(mid_node.val)\n",
    "        # reverse the second part\n",
    "        second = self.reverse(mid_node)\n",
    "        # print(second)\n",
    "        # compare\n",
    "        return self.compare(head, second)\n",
    "    \n",
    "    def compare(self, one, two):\n",
    "        while one and two:\n",
    "            if one.val != two.val:\n",
    "                return False\n",
    "            one = one.next\n",
    "            two = two.next\n",
    "        return True\n",
    "    \n",
    "    def findMid(self, head):\n",
    "        f = head\n",
    "        s = head\n",
    "        while f and f.next:\n",
    "            f = f.next.next\n",
    "            s = s.next\n",
    "        return s\n",
    "    \n",
    "    def reverse(self, head):\n",
    "        # base case\n",
    "        if head is None or head.next is None:\n",
    "            return head\n",
    "        newHead = self.reverse(head.next)\n",
    "        head.next.next = head\n",
    "        head.next = None\n",
    "        return newHead\n",
    "        "
   ]
  },
  {
   "cell_type": "markdown",
   "id": "52c12b2e",
   "metadata": {},
   "source": [
    "## 143. Reorder List\n",
    "[143. Reorder List](https://leetcode.com/problems/reorder-list/)"
   ]
  },
  {
   "cell_type": "code",
   "execution_count": 11,
   "id": "b0ced73b",
   "metadata": {},
   "outputs": [
    {
     "name": "stdout",
     "output_type": "stream",
     "text": [
      "5\n",
      "4\n"
     ]
    }
   ],
   "source": [
    "a = 4\n",
    "b = 5\n",
    "a, b = b , a\n",
    "print(a)\n",
    "print(b)"
   ]
  },
  {
   "cell_type": "code",
   "execution_count": 10,
   "id": "6351e6cd",
   "metadata": {},
   "outputs": [],
   "source": [
    "class Solution:\n",
    "    def reorderList(self, head):\n",
    "        \"\"\"\n",
    "        Do not return anything, modify head in-place instead.\n",
    "        \"\"\"\n",
    "        #  corner case\n",
    "        if head is None or head.next is None:\n",
    "            return\n",
    "        \n",
    "        # find mid\n",
    "        mid_node = self.findMid(head)\n",
    "        \n",
    "        # reverse\n",
    "        two = self.reverse(mid_node)\n",
    "        # print(\"one\", head)\n",
    "        # print(\"two\",two)\n",
    "        \n",
    "        # # merge\n",
    "        # self.merge(head, two)\n",
    "        self.merge(head, two)\n",
    "        \n",
    "    def merge1(self, one, two):\n",
    "        # one -> two -> one -> two\n",
    "        # right shift one/two pointer to the next one\n",
    "        while two.next:\n",
    "            temp = one.next\n",
    "            one.next = two\n",
    "            one = temp\n",
    "            temp = two.next\n",
    "            two.next = one\n",
    "            two = temp\n",
    "            \n",
    "    def merge(self, one, two):\n",
    "        while two.next:\n",
    "            one.next, one = two, one.next\n",
    "            two.next, two = one, two.next\n",
    "        \n",
    "    def findMid(self, head):\n",
    "        f = head\n",
    "        s = head\n",
    "        while f and f.next:\n",
    "            f = f.next.next\n",
    "            s = s.next\n",
    "        return s\n",
    "    \n",
    "    def reverse(self, head):\n",
    "        pre = None\n",
    "        cur = head\n",
    "        while cur:\n",
    "            next_node = cur.next\n",
    "            \n",
    "            cur.next = pre\n",
    "            pre = cur\n",
    "            cur = next_node\n",
    "        return pre\n",
    "        "
   ]
  },
  {
   "cell_type": "markdown",
   "id": "4247fe6f",
   "metadata": {},
   "source": [
    "## 86. Partition List\n",
    "[86. Partition List](https://leetcode.com/problems/partition-list/)"
   ]
  },
  {
   "cell_type": "code",
   "execution_count": null,
   "id": "07982f27",
   "metadata": {},
   "outputs": [],
   "source": []
  },
  {
   "cell_type": "markdown",
   "id": "618f241a",
   "metadata": {},
   "source": [
    "# Design"
   ]
  },
  {
   "cell_type": "markdown",
   "id": "4a347612",
   "metadata": {},
   "source": [
    "## 707. Design Linked List\n",
    "[707. Design Linked List](https://leetcode.com/problems/design-linked-list/)"
   ]
  },
  {
   "cell_type": "code",
   "execution_count": null,
   "id": "1304051b",
   "metadata": {},
   "outputs": [],
   "source": []
  },
  {
   "cell_type": "markdown",
   "id": "8692ab93",
   "metadata": {},
   "source": [
    "## 146. LRU Cache\n",
    "[146. LRU Cache](https://leetcode.com/problems/lru-cache/)"
   ]
  },
  {
   "cell_type": "code",
   "execution_count": null,
   "id": "1922e72d",
   "metadata": {},
   "outputs": [],
   "source": []
  },
  {
   "cell_type": "markdown",
   "id": "fb7f70f2",
   "metadata": {},
   "source": [
    "# Reverse LinkedList"
   ]
  },
  {
   "cell_type": "markdown",
   "id": "eed2ea5e",
   "metadata": {},
   "source": [
    "## 206. Reverse Linked List\n",
    "[206. Reverse Linked List](https://leetcode.com/problems/reverse-linked-list/)"
   ]
  },
  {
   "cell_type": "code",
   "execution_count": 6,
   "id": "84b3d31b",
   "metadata": {},
   "outputs": [],
   "source": [
    "\"\"\"\n",
    "Solution 1: Iteratvie\n",
    "    [1,2,3,4,5]\n",
    "          prev cur n\n",
    "\"\"\"\n",
    "def reverseList(self, head):\n",
    "    if head is None or head.next is None:\n",
    "        return head\n",
    "    prev = None\n",
    "    cur = head\n",
    "    while cur != None:\n",
    "        next_node = cur.next\n",
    "        cur.next = prev\n",
    "\n",
    "        prev = cur\n",
    "        cur = next_node\n",
    "    return prev"
   ]
  },
  {
   "cell_type": "code",
   "execution_count": 7,
   "id": "bbbdda5d",
   "metadata": {},
   "outputs": [],
   "source": [
    "# Solution 2: recursion\n",
    "def reverseList(self, head):\n",
    "    if head is None or head.next is None:\n",
    "        return head\n",
    "    # recursive rule\n",
    "    newHead = self.reverseList(head.next)\n",
    "    head.next.next = head\n",
    "    head.next = None\n",
    "    return newHead"
   ]
  },
  {
   "cell_type": "markdown",
   "id": "2c97b41a",
   "metadata": {},
   "source": [
    "## 92. Reverse Linked List II\n",
    "[92. Reverse Linked List II](https://leetcode.com/problems/reverse-linked-list-ii/)"
   ]
  },
  {
   "cell_type": "code",
   "execution_count": null,
   "id": "3960a38d",
   "metadata": {},
   "outputs": [],
   "source": []
  },
  {
   "cell_type": "markdown",
   "id": "976e686b",
   "metadata": {},
   "source": [
    "## 25. Reverse Nodes in k-Group\n",
    "[25. Reverse Nodes in k-Group](https://leetcode.com/problems/reverse-nodes-in-k-group/)"
   ]
  },
  {
   "cell_type": "code",
   "execution_count": null,
   "id": "524dd40f",
   "metadata": {},
   "outputs": [],
   "source": []
  },
  {
   "cell_type": "markdown",
   "id": "73f4c1df",
   "metadata": {},
   "source": [
    "# Sort LinkedList"
   ]
  },
  {
   "cell_type": "markdown",
   "id": "0265f384",
   "metadata": {},
   "source": [
    "## 148. Sort List\n",
    "[148. Sort List](https://leetcode.com/problems/sort-list/)"
   ]
  },
  {
   "cell_type": "code",
   "execution_count": null,
   "id": "52c55ed1",
   "metadata": {},
   "outputs": [],
   "source": []
  },
  {
   "cell_type": "markdown",
   "id": "87a873db",
   "metadata": {},
   "source": [
    "# Merge Sorted LinkedList"
   ]
  },
  {
   "cell_type": "markdown",
   "id": "dfcced5d",
   "metadata": {},
   "source": [
    "## 21. Merge Two Sorted Lists\n",
    "[21. Merge Two Sorted Lists](https://leetcode.com/problems/merge-two-sorted-lists/)"
   ]
  },
  {
   "cell_type": "code",
   "execution_count": 9,
   "id": "dc9e8f30",
   "metadata": {},
   "outputs": [],
   "source": [
    "def mergeTwoLists(self, list1,list2):\n",
    "    dummyHead = ListNode(226)\n",
    "    dummy = dummyHead\n",
    "    while list1 and list2:\n",
    "        if list1.val <= list2.val:\n",
    "            dummy.next = list1\n",
    "            list1 = list1.next\n",
    "        else:\n",
    "            dummy.next = list2\n",
    "            list2 = list2.next \n",
    "        dummy = dummy.next\n",
    "    # post\n",
    "    if list1:\n",
    "        dummy.next = list1\n",
    "    if list2:\n",
    "        dummy.next = list2\n",
    "    return dummyHead.next"
   ]
  },
  {
   "cell_type": "markdown",
   "id": "40b92033",
   "metadata": {},
   "source": [
    "## 23. Merge k Sorted Lists\n",
    "[23. Merge k Sorted Lists](https://leetcode.com/problems/merge-k-sorted-lists/)"
   ]
  },
  {
   "cell_type": "code",
   "execution_count": null,
   "id": "dad129ba",
   "metadata": {},
   "outputs": [],
   "source": []
  },
  {
   "cell_type": "markdown",
   "id": "5b7403ae",
   "metadata": {},
   "source": [
    "## 138. Copy List with Random Pointer\n",
    "[138. Copy List with Random Pointer](https://leetcode.com/problems/copy-list-with-random-pointer/)"
   ]
  },
  {
   "cell_type": "code",
   "execution_count": null,
   "id": "1fa32400",
   "metadata": {},
   "outputs": [],
   "source": []
  }
 ],
 "metadata": {
  "kernelspec": {
   "display_name": "Python 3 (ipykernel)",
   "language": "python",
   "name": "python3"
  },
  "language_info": {
   "codemirror_mode": {
    "name": "ipython",
    "version": 3
   },
   "file_extension": ".py",
   "mimetype": "text/x-python",
   "name": "python",
   "nbconvert_exporter": "python",
   "pygments_lexer": "ipython3",
   "version": "3.8.12"
  }
 },
 "nbformat": 4,
 "nbformat_minor": 5
}
