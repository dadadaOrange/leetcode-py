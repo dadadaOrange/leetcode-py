{
 "cells": [
  {
   "cell_type": "markdown",
   "id": "8c32f71d",
   "metadata": {},
   "source": [
    "# === Design ==="
   ]
  },
  {
   "cell_type": "markdown",
   "id": "494be23c",
   "metadata": {},
   "source": [
    "## 1396. Design Underground System\n",
    "[1396. Design Underground System](https://leetcode.com/problems/design-underground-system/)"
   ]
  },
  {
   "cell_type": "code",
   "execution_count": 6,
   "id": "ea10198e",
   "metadata": {},
   "outputs": [
    {
     "name": "stdout",
     "output_type": "stream",
     "text": [
      "defaultdict(<function <lambda> at 0x7f849de09670>, {'cc': [1, 1]})\n"
     ]
    }
   ],
   "source": [
    "from collections import defaultdict\n",
    "a = defaultdict(lambda: [0, 0])\n",
    "a['cc'] = [1,1]\n",
    "print(a)"
   ]
  },
  {
   "cell_type": "code",
   "execution_count": 8,
   "id": "f358c8b6",
   "metadata": {},
   "outputs": [],
   "source": [
    "from collections import defaultdict\n",
    "\n",
    "class UndergroundSystem:\n",
    "\n",
    "    def __init__(self):\n",
    "        # P\n",
    "        self.check_in_dict = {}\n",
    "        # S chose 2 = S^2\n",
    "        self.trip_dict = defaultdict(lambda: [0, 0])\n",
    "\n",
    "    def checkIn(self, id: int, stationName: str, t: int) -> None:\n",
    "        self.check_in_dict[id] = (stationName, t)\n",
    "        \n",
    "\n",
    "    def checkOut(self, id: int, stationName: str, t: int) -> None:\n",
    "        # look up the id in check_in_dict and transfer the data to trip_dict\n",
    "        start_station, start_time = self.check_in_dict.pop(id)\n",
    "        self.trip_dict[(start_station, stationName)][0] += t - start_time\n",
    "        self.trip_dict[(start_station, stationName)][1] += 1\n",
    "        \n",
    "\n",
    "    def getAverageTime(self, startStation: str, endStation: str) -> float:\n",
    "        total_time, total_count = self.trip_dict[(startStation, endStation)]\n",
    "        return total_time / total_count\n",
    "\n",
    "\n",
    "# Your UndergroundSystem object will be instantiated and called as such:\n",
    "# obj = UndergroundSystem()\n",
    "# obj.checkIn(id,stationName,t)\n",
    "# obj.checkOut(id,stationName,t)\n",
    "# param_3 = obj.getAverageTime(startStation,endStation)"
   ]
  },
  {
   "cell_type": "markdown",
   "id": "fbab9425",
   "metadata": {},
   "source": [
    "## 1656. Design an Ordered Stream\n",
    "[1656. Design an Ordered Stream](https://leetcode.com/problems/design-an-ordered-stream/)"
   ]
  },
  {
   "cell_type": "code",
   "execution_count": 2,
   "id": "c6f16c18",
   "metadata": {},
   "outputs": [],
   "source": [
    "\"\"\"\n",
    "Basically , we need to store every incoming value at the given index. And\n",
    "with every incoming index, we have to check\n",
    "\n",
    "If the current index is less than the incoming index, the we have to return\n",
    "an empty list\n",
    "\n",
    "Else , we have to return an sliced list from the incoming index to the first index\n",
    "where there is no insertion till yet.\n",
    "\n",
    "Solution:\n",
    "    Initialize a list of size n with None\n",
    "    Maintain the current index with self.ptr\n",
    "    For every insert call, with idKey, value\n",
    "    Assign the list[idKey-1] to the value # Since array is 0-index reduce 1\n",
    "    Check if the current index is less than incoming index(idKey-1) and return []\n",
    "    Else return sliced list from incoming index(idKey-1) till we do not encounter None.\n",
    "\"\"\"\n",
    "\n",
    "class OrderedStream:\n",
    "    def __init__(self, n: int):\n",
    "        self.stream = [None for _ in range(n)]\n",
    "        self.ptr = 0\n",
    "        \n",
    "    def insert(self, idKey: int, value: str):\n",
    "        idKey -= 1\n",
    "        self.stream[idKey] = value\n",
    "        if self.ptr < idKey:\n",
    "            return []\n",
    "        else:\n",
    "            while self.ptr < len(self.stream) and self.stream[self.ptr] is not None:\n",
    "                self.ptr += 1\n",
    "            return self.stream[idKey:self.ptr]\n",
    "\n",
    "# Your OrderedStream object will be instantiated and called as such:\n",
    "# obj = OrderedStream(n)\n",
    "# param_1 = obj.insert(idKey,value)"
   ]
  },
  {
   "cell_type": "markdown",
   "id": "dfc32cc8",
   "metadata": {},
   "source": [
    "## 380. Insert Delete GetRandom O(1)\n",
    "[380. Insert Delete GetRandom O(1)](https://leetcode.com/problems/insert-delete-getrandom-o1/)"
   ]
  },
  {
   "cell_type": "code",
   "execution_count": 14,
   "id": "9a1e4511",
   "metadata": {},
   "outputs": [
    {
     "data": {
      "text/plain": [
       "3"
      ]
     },
     "execution_count": 14,
     "metadata": {},
     "output_type": "execute_result"
    }
   ],
   "source": [
    "from random import choice\n",
    "a = [1,2,3]\n",
    "b = choice(a)\n",
    "b"
   ]
  },
  {
   "cell_type": "code",
   "execution_count": 16,
   "id": "2f719ea1",
   "metadata": {},
   "outputs": [],
   "source": [
    "from random import choice\n",
    "class RandomizedSet:\n",
    "\n",
    "    def __init__(self):\n",
    "        self.rand_list = []\n",
    "        self.ele_idx = {}\n",
    "\n",
    "    def insert(self, val: int) -> bool:\n",
    "        if val in self.ele_idx:\n",
    "            return False\n",
    "        self.ele_idx[val] = len(self.rand_list)\n",
    "        self.rand_list.append(val)\n",
    "        return True\n",
    "\n",
    "    def remove(self, val: int) -> bool:\n",
    "        if val not in self.ele_idx:\n",
    "            return False\n",
    "        \n",
    "        # find the last element\n",
    "        last_ele = self.rand_list[-1]\n",
    "        # find the idx of delete ele\n",
    "        del_idx = self.ele_idx[val]\n",
    "        \n",
    "        # dict\n",
    "        # update the last_ele\n",
    "        self.ele_idx[last_ele] = del_idx\n",
    "        # delete val\n",
    "        self.ele_idx.pop(val)\n",
    "        \n",
    "        # list\n",
    "        # self.rand_list[-1], self.rand_list[del_idx] = self.rand_list[del_idx], self.rand_list[-1]\n",
    "        self.rand_list[del_idx] = last_ele\n",
    "        self.rand_list.pop()\n",
    "        return True\n",
    "\n",
    "    def getRandom(self) -> int:\n",
    "        return choice(self.rand_list)"
   ]
  },
  {
   "cell_type": "markdown",
   "id": "f764ff71",
   "metadata": {},
   "source": [
    "## 381. Insert Delete GetRandom O(1) - Duplicates allowed\n",
    "[381. Insert Delete GetRandom O(1) - Duplicates allowed](https://leetcode.com/problems/insert-delete-getrandom-o1-duplicates-allowed/)"
   ]
  },
  {
   "cell_type": "code",
   "execution_count": null,
   "id": "6661ce78",
   "metadata": {},
   "outputs": [],
   "source": []
  },
  {
   "cell_type": "code",
   "execution_count": null,
   "id": "88b254ec",
   "metadata": {},
   "outputs": [],
   "source": []
  },
  {
   "cell_type": "markdown",
   "id": "8be72ba0",
   "metadata": {},
   "source": [
    "# === Greedy ==="
   ]
  },
  {
   "cell_type": "markdown",
   "id": "37e94910",
   "metadata": {},
   "source": [
    "## 1029. Two City Scheduling\n",
    "[1029. Two City Scheduling](https://leetcode.com/problems/two-city-scheduling/)"
   ]
  },
  {
   "cell_type": "code",
   "execution_count": 18,
   "id": "725bc86f",
   "metadata": {},
   "outputs": [],
   "source": [
    "# TC = O(nlogn)\n",
    "# SC = O(n)\n",
    "class Solution:\n",
    "    def twoCitySchedCost(self, costs) -> int:\n",
    "        \"\"\"\n",
    "        diff = [B - A] (diff is larger, the cost to B is larger)\n",
    "        sort diff\n",
    "        put first half people to A, and second half to B\n",
    "        \"\"\"\n",
    "        diffs = []\n",
    "        for c1, c2 in costs:\n",
    "            diffs.append([c2 - c1, c1, c2])\n",
    "        diffs.sort()\n",
    "        res = 0\n",
    "        for i in range(len(diffs)):\n",
    "            if i < len(diffs) // 2:\n",
    "                res += diffs[i][2]\n",
    "            else:\n",
    "                res += diffs[i][1]\n",
    "        return res"
   ]
  },
  {
   "cell_type": "code",
   "execution_count": null,
   "id": "a85bc5eb",
   "metadata": {},
   "outputs": [],
   "source": []
  },
  {
   "cell_type": "code",
   "execution_count": null,
   "id": "5cd0a9ce",
   "metadata": {},
   "outputs": [],
   "source": []
  },
  {
   "cell_type": "code",
   "execution_count": null,
   "id": "6cba30df",
   "metadata": {},
   "outputs": [],
   "source": []
  },
  {
   "cell_type": "code",
   "execution_count": null,
   "id": "93f92e86",
   "metadata": {},
   "outputs": [],
   "source": []
  },
  {
   "cell_type": "markdown",
   "id": "75551221",
   "metadata": {},
   "source": [
    "## 611. Valid Triangle Number\n",
    "[611. Valid Triangle Number](https://www.1point3acres.com/bbs/thread-918542-1-1.html)"
   ]
  },
  {
   "cell_type": "code",
   "execution_count": null,
   "id": "c0db956b",
   "metadata": {},
   "outputs": [],
   "source": []
  },
  {
   "cell_type": "code",
   "execution_count": null,
   "id": "7ffec4af",
   "metadata": {},
   "outputs": [],
   "source": []
  },
  {
   "cell_type": "markdown",
   "id": "410e5269",
   "metadata": {},
   "source": [
    "## 98. Validate Binary Search Tree\n",
    "[98. Validate Binary Search Tree](https://leetcode.com/problems/validate-binary-search-tree/)\n",
    "- O(1) space"
   ]
  },
  {
   "cell_type": "code",
   "execution_count": null,
   "id": "f451ab22",
   "metadata": {},
   "outputs": [],
   "source": []
  },
  {
   "cell_type": "markdown",
   "id": "d9f5e16c",
   "metadata": {},
   "source": [
    "## 1029. Two City Scheduling\n",
    "[1029. Two City Scheduling](https://leetcode.com/problems/two-city-scheduling/)"
   ]
  },
  {
   "cell_type": "code",
   "execution_count": null,
   "id": "bd9a092e",
   "metadata": {},
   "outputs": [],
   "source": []
  },
  {
   "cell_type": "code",
   "execution_count": null,
   "id": "941cfb37",
   "metadata": {},
   "outputs": [],
   "source": []
  },
  {
   "cell_type": "markdown",
   "id": "a4a3ed59",
   "metadata": {},
   "source": [
    "## 46. Permutations\n",
    "[46. Permutations](https://leetcode.com/problems/permutations/)"
   ]
  },
  {
   "cell_type": "code",
   "execution_count": null,
   "id": "99081a5c",
   "metadata": {},
   "outputs": [],
   "source": []
  },
  {
   "cell_type": "markdown",
   "id": "ed7a256f",
   "metadata": {},
   "source": [
    "## 47. Permutations II\n",
    "[47. Permutations II](https://leetcode.com/problems/permutations-ii/)"
   ]
  },
  {
   "cell_type": "code",
   "execution_count": null,
   "id": "f84c5f14",
   "metadata": {},
   "outputs": [],
   "source": []
  },
  {
   "cell_type": "markdown",
   "id": "f388c2ca",
   "metadata": {},
   "source": [
    "## 394. Decode String\n",
    "[394. Decode String](https://leetcode.com/problems/decode-string/)"
   ]
  },
  {
   "cell_type": "code",
   "execution_count": null,
   "id": "6be91123",
   "metadata": {},
   "outputs": [],
   "source": []
  },
  {
   "cell_type": "markdown",
   "id": "ca810f5f",
   "metadata": {},
   "source": [
    "## 1. Two Sum\n",
    "[1. Two Sum](https://leetcode.com/problems/two-sum/)"
   ]
  },
  {
   "cell_type": "code",
   "execution_count": null,
   "id": "2a4d5a12",
   "metadata": {},
   "outputs": [],
   "source": []
  },
  {
   "cell_type": "markdown",
   "id": "b9a143d5",
   "metadata": {},
   "source": [
    "## 496. Next Greater Element I\n",
    "[496. Next Greater Element I](https://leetcode.com/problems/next-greater-element-i/)"
   ]
  },
  {
   "cell_type": "code",
   "execution_count": null,
   "id": "4fae806f",
   "metadata": {},
   "outputs": [],
   "source": []
  },
  {
   "cell_type": "markdown",
   "id": "bb202d65",
   "metadata": {},
   "source": [
    "## 判断两个string，如果 只做一次swap ，是否可以变的一样"
   ]
  },
  {
   "cell_type": "code",
   "execution_count": null,
   "id": "459b3ce3",
   "metadata": {},
   "outputs": [],
   "source": []
  },
  {
   "cell_type": "markdown",
   "id": "d1e63289",
   "metadata": {},
   "source": [
    "## 895. Maximum Frequency Stack\n",
    "[895. Maximum Frequency Stack](https://leetcode.com/problems/maximum-frequency-stack/)"
   ]
  },
  {
   "cell_type": "code",
   "execution_count": null,
   "id": "f90a816a",
   "metadata": {},
   "outputs": [],
   "source": []
  },
  {
   "cell_type": "markdown",
   "id": "1f4e107d",
   "metadata": {},
   "source": [
    "## 200. Number of Islands\n",
    "[200. Number of Islands](https://leetcode.com/problems/number-of-islands/)"
   ]
  },
  {
   "cell_type": "code",
   "execution_count": null,
   "id": "61df63ec",
   "metadata": {},
   "outputs": [],
   "source": []
  },
  {
   "cell_type": "markdown",
   "id": "5fa95a87",
   "metadata": {},
   "source": [
    "## 83. Remove Duplicates from Sorted List\n",
    "[83. Remove Duplicates from Sorted List](https://leetcode.com/problems/remove-duplicates-from-sorted-list/)"
   ]
  },
  {
   "cell_type": "code",
   "execution_count": null,
   "id": "0bf49ba6",
   "metadata": {},
   "outputs": [],
   "source": []
  },
  {
   "cell_type": "markdown",
   "id": "d1d981ea",
   "metadata": {},
   "source": [
    "## 430. Flatten a Multilevel Doubly Linked List\n",
    "[430. Flatten a Multilevel Doubly Linked List](https://leetcode.com/problems/flatten-a-multilevel-doubly-linked-list/)"
   ]
  },
  {
   "cell_type": "code",
   "execution_count": null,
   "id": "754903ae",
   "metadata": {},
   "outputs": [],
   "source": []
  },
  {
   "cell_type": "code",
   "execution_count": null,
   "id": "27d62d38",
   "metadata": {},
   "outputs": [],
   "source": []
  },
  {
   "cell_type": "code",
   "execution_count": null,
   "id": "9abb0527",
   "metadata": {},
   "outputs": [],
   "source": []
  }
 ],
 "metadata": {
  "kernelspec": {
   "display_name": "Python 3 (ipykernel)",
   "language": "python",
   "name": "python3"
  },
  "language_info": {
   "codemirror_mode": {
    "name": "ipython",
    "version": 3
   },
   "file_extension": ".py",
   "mimetype": "text/x-python",
   "name": "python",
   "nbconvert_exporter": "python",
   "pygments_lexer": "ipython3",
   "version": "3.8.12"
  }
 },
 "nbformat": 4,
 "nbformat_minor": 5
}
