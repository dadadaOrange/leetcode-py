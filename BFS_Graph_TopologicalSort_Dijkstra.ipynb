{
 "cells": [
  {
   "cell_type": "markdown",
   "id": "eaa3984e",
   "metadata": {},
   "source": [
    "# BFS\n",
    "\n",
    "- Modeling\n",
    "- Find Neighbors\n",
    "- Time complexity of Dijktra: O($E*logV$)"
   ]
  },
  {
   "cell_type": "markdown",
   "id": "225e5f98",
   "metadata": {},
   "source": [
    "## 993. Cousins in Binary Tree\n",
    "[993. Cousins in Binary Tree](https://leetcode.com/problems/cousins-in-binary-tree/)"
   ]
  },
  {
   "cell_type": "code",
   "execution_count": 47,
   "id": "15f44c6c",
   "metadata": {},
   "outputs": [
    {
     "name": "stdout",
     "output_type": "stream",
     "text": [
      "deque([5, 6])\n"
     ]
    }
   ],
   "source": [
    "from collections import deque\n",
    "q = deque()\n",
    "q.append(5)\n",
    "q.append(6)\n",
    "print(q)\n",
    "\n",
    "# doubly linked list: check the existence need O(n)\n",
    "if 88 in q:\n",
    "    print(\"yes\")"
   ]
  },
  {
   "cell_type": "code",
   "execution_count": 48,
   "id": "8a4d348f",
   "metadata": {},
   "outputs": [],
   "source": [
    "def isCousins(self, root, x: int, y: int) -> bool:\n",
    "    if not root:\n",
    "        return False\n",
    "    node = (root, float('inf'))\n",
    "    q = deque([node])\n",
    "    while q:\n",
    "        size = len(q)\n",
    "        par = []\n",
    "        # add all siblings and cousions in q\n",
    "        for _ in range(size):\n",
    "            cur, parent = q.popleft()\n",
    "            if cur.val == x or cur.val == y:\n",
    "                par.append(parent)\n",
    "            if cur.left:\n",
    "                q.append((cur.left, cur.val))\n",
    "            if cur.right:\n",
    "                q.append((cur.right, cur.val))\n",
    "        # check the parent list\n",
    "        if len(par) == 2:\n",
    "             if par[0] != par[1]:\n",
    "                return True\n",
    "             return False"
   ]
  },
  {
   "cell_type": "markdown",
   "id": "4b7be738",
   "metadata": {},
   "source": [
    "## 785. Is Graph Bipartite?\n",
    "[785. Is Graph Bipartite?](https://leetcode.com/problems/is-graph-bipartite/)"
   ]
  },
  {
   "cell_type": "code",
   "execution_count": 4,
   "id": "b18b8be9",
   "metadata": {},
   "outputs": [
    {
     "data": {
      "text/plain": [
       "[[0, 0, 0], [0, 0, 0], [0, 0, 0], [0, 0, 0]]"
      ]
     },
     "execution_count": 4,
     "metadata": {},
     "output_type": "execute_result"
    }
   ],
   "source": [
    "res = [[0 for _ in range(3)] for _ in range(4)]\n",
    "res"
   ]
  },
  {
   "cell_type": "code",
   "execution_count": 3,
   "id": "6d6dbf54",
   "metadata": {},
   "outputs": [],
   "source": [
    "def isBipartite(self, graph) -> bool:\n",
    "    \"\"\"\n",
    "    BFS: BFS for all nodes (not connected case)\n",
    "    visited = [0 for _ in range(n)]\n",
    "    \"\"\"\n",
    "    if not graph:\n",
    "        return True\n",
    "    n = len(graph)\n",
    "    visited = [0 for _ in range(n)]\n",
    "    for i in range(n):\n",
    "        if len(graph[i]) == 0 or visited[i] != 0:\n",
    "            continue\n",
    "        if not self.bfs(i, graph, visited):\n",
    "            return False\n",
    "    return True\n",
    "\n",
    "def bfs(self, cur, graph, visited):\n",
    "    q = deque([cur])\n",
    "    visited[cur] = 1\n",
    "    while q:\n",
    "        node = q.popleft()\n",
    "        # generate neighbors\n",
    "        for item in graph[node]:\n",
    "            if visited[item] == 0:\n",
    "                visited[item] = -1 * visited[node]\n",
    "                q.append(item)\n",
    "            if visited[item] != 0 and visited[item] == visited[node]:\n",
    "                return False\n",
    "    return True"
   ]
  },
  {
   "cell_type": "markdown",
   "id": "51814675",
   "metadata": {},
   "source": [
    "## 200. Number of Islands\n",
    "[200. Number of Islands](https://leetcode.com/problems/number-of-islands/)"
   ]
  },
  {
   "cell_type": "code",
   "execution_count": 60,
   "id": "857155be",
   "metadata": {},
   "outputs": [],
   "source": [
    "# BFS\n",
    "class Solution:\n",
    "    def numIslands(self, grid) -> int:\n",
    "        count = 0\n",
    "        m = len(grid)\n",
    "        n = len(grid[0])\n",
    "        directions = [[0, 1],[1, 0],[0,-1],[-1, 0]]\n",
    "        for i in range(m):\n",
    "            for j in range(n):\n",
    "                if grid[i][j] == '1':\n",
    "                    grid[i][j] = '0'\n",
    "                    self.bfs(grid, i, j, directions)\n",
    "                    count += 1\n",
    "        return count\n",
    "    \n",
    "    def bfs(self, grid, i, j, directions):\n",
    "        q = deque([[i,j]])\n",
    "        while q:\n",
    "            row, col = q.popleft()\n",
    "            for dr, dc in directions:\n",
    "                r = row + dr\n",
    "                c = col + dc\n",
    "                if r >= 0 and r < len(grid) and c >= 0 and c < len(grid[0]) and grid[r][c] == '1':\n",
    "                    grid[r][c] = '0'\n",
    "                    q.append([r, c])"
   ]
  },
  {
   "cell_type": "markdown",
   "id": "e3877a83",
   "metadata": {},
   "source": [
    "## 1197. Minimum Knight Moves\n",
    "[1197. Minimum Knight Moves](https://leetcode.com/problems/minimum-knight-moves/)"
   ]
  },
  {
   "cell_type": "code",
   "execution_count": null,
   "id": "3e1b4592",
   "metadata": {},
   "outputs": [],
   "source": []
  },
  {
   "cell_type": "markdown",
   "id": "71c17d64",
   "metadata": {},
   "source": [
    "## 994. Rotting Oranges\n",
    "[994. Rotting Oranges](https://leetcode.com/problems/rotting-oranges/)"
   ]
  },
  {
   "cell_type": "code",
   "execution_count": 40,
   "id": "3bfa856c",
   "metadata": {},
   "outputs": [],
   "source": [
    "class Solution:\n",
    "    def orangesRotting(self, grid) -> int:\n",
    "        \"\"\"\n",
    "        1. Pre-processing: calculate the fresh_num and put rotten num into q\n",
    "        2. Edge case: no fresh return 0, no rotten return -1\n",
    "        3. BFS\n",
    "            generate fresh orange into q\n",
    "            change grid -> 2: dedup in-place\n",
    "            step += 1\n",
    "        4. check fresh_num \n",
    "           return step - 1 !!!!\n",
    "        \"\"\"\n",
    "        m = len(grid)\n",
    "        n = len(grid[0])\n",
    "        q = deque()\n",
    "        fresh_num = 0\n",
    "        # pre-processing: calculate the fresh_num and put rotten num into q\n",
    "        for i in range(m):\n",
    "            for j in range(n):\n",
    "                if grid[i][j] == 2:\n",
    "                    q.append([i, j])\n",
    "                elif grid[i][j] == 1:\n",
    "                    fresh_num += 1\n",
    "        \n",
    "        #edge case\n",
    "        # no fresh orange\n",
    "        if fresh_num == 0:\n",
    "            return 0\n",
    "        \n",
    "        # no rotten orange\n",
    "        if len(q) == 0:\n",
    "            return -1\n",
    "        \n",
    "        # bfs\n",
    "        step = 0\n",
    "        directions = [[0, 1], [0, -1], [1, 0],[-1, 0]]\n",
    "        while q:\n",
    "            size = len(q)\n",
    "            for _ in range(size):\n",
    "                cur = q.popleft()\n",
    "                row = cur[0]\n",
    "                col = cur[1]\n",
    "                \n",
    "                # generate neighbors\n",
    "                neighbors = self.findNeighbors(grid, m, n, row, col, directions)\n",
    "                fresh_num -= len(neighbors)\n",
    "                for r, c in neighbors:\n",
    "                    q.append([r, c])\n",
    "            step += 1\n",
    "        \n",
    "        if fresh_num > 0:\n",
    "            return -1\n",
    "        \n",
    "        return step - 1\n",
    "    \n",
    "    def findNeighbors(self, grid, m, n, row, col, directions):\n",
    "        neighbors = []\n",
    "        for dr, dc in directions:\n",
    "            r = row + dr\n",
    "            c = col + dc\n",
    "            if r >= 0 and r < m and c >= 0 and c < n and grid[r][c] == 1:\n",
    "                grid[r][c] = 2 # do not need deduplication (visited)\n",
    "                neighbors.append([r, c])\n",
    "        return neighbors"
   ]
  },
  {
   "cell_type": "markdown",
   "id": "1e2b2848",
   "metadata": {},
   "source": [
    "## 317. Shortest Distance from All Buildings\n",
    "[317. Shortest Distance from All Buildings](https://leetcode.com/problems/shortest-distance-from-all-buildings/)"
   ]
  },
  {
   "cell_type": "code",
   "execution_count": 42,
   "id": "1cff4e4d",
   "metadata": {},
   "outputs": [
    {
     "data": {
      "text/plain": [
       "1"
      ]
     },
     "execution_count": 42,
     "metadata": {},
     "output_type": "execute_result"
    }
   ],
   "source": [
    "a = [[2, 3, 4,5, 6],[7,3,4,2,1]]\n",
    "res = float('inf')\n",
    "for i in range(len(a)):\n",
    "    res = min(min(a[i]), res)\n",
    "res"
   ]
  },
  {
   "cell_type": "code",
   "execution_count": 44,
   "id": "5dca76be",
   "metadata": {},
   "outputs": [
    {
     "name": "stdout",
     "output_type": "stream",
     "text": [
      "1 2\n",
      "3 4\n"
     ]
    }
   ],
   "source": [
    "a= [[1, 2],[3, 4]]\n",
    "for i, j in a:\n",
    "    print(i, j)"
   ]
  },
  {
   "cell_type": "markdown",
   "id": "bfc34995",
   "metadata": {},
   "source": [
    "## 286. Walls and Gates\n",
    "[286. Walls and Gates](https://leetcode.com/problems/walls-and-gates/)"
   ]
  },
  {
   "cell_type": "code",
   "execution_count": 52,
   "id": "ae153834",
   "metadata": {},
   "outputs": [
    {
     "name": "stdout",
     "output_type": "stream",
     "text": [
      "1 2 3\n"
     ]
    }
   ],
   "source": [
    "q = deque()\n",
    "q.append([1,2,3])\n",
    "q.append([4,5,6])\n",
    "a, b, c = q.popleft()\n",
    "print(a, b, c)"
   ]
  },
  {
   "cell_type": "code",
   "execution_count": 56,
   "id": "df838b20",
   "metadata": {},
   "outputs": [],
   "source": [
    "class Solution:\n",
    "    def wallsAndGates(self, rooms) -> None:\n",
    "        \"\"\"\n",
    "        Do not return anything, modify rooms in-place instead.\n",
    "        \n",
    "        For each gate call bfs and matain the minimum val to the empty room\n",
    "        \"\"\"\n",
    "        if not rooms:\n",
    "            return\n",
    "        m = len(rooms)\n",
    "        n = len(rooms[0])\n",
    "        directions = [[1, 0],[-1, 0],[0, 1],[0,-1]]\n",
    "        q = deque()\n",
    "        for i in range (m):\n",
    "            for j in range (n):\n",
    "                if rooms[i][j] == 0:\n",
    "                    q.append([i, j])\n",
    "        visited = [[False for _ in range(n)] for _ in range(m)]\n",
    "        self.bfs(rooms, visited, q, directions)\n",
    "    \n",
    "    def bfs(self, rooms, visited, q, directions):\n",
    "        while q:\n",
    "            size = len(q)\n",
    "            for i in range(size):\n",
    "                row, col = q.popleft()\n",
    "                for d in directions:\n",
    "                    r = row + d[0]\n",
    "                    c = col + d[1]\n",
    "                    if r >= 0 and r < len(rooms) and c >= 0 and c < len(rooms[0]):\n",
    "                        if not visited[r][c] and rooms[r][c] > 0:\n",
    "                            visited[r][c] = True\n",
    "                            q.append([r, c])\n",
    "                            rooms[r][c] = rooms[row][col] + 1"
   ]
  },
  {
   "cell_type": "markdown",
   "id": "984e4d7a",
   "metadata": {},
   "source": [
    "## 417. Pacific Atlantic Water Flow\n",
    "[417. Pacific Atlantic Water Flow](https://leetcode.com/problems/pacific-atlantic-water-flow/)"
   ]
  },
  {
   "cell_type": "code",
   "execution_count": null,
   "id": "fbdbee43",
   "metadata": {},
   "outputs": [],
   "source": []
  },
  {
   "cell_type": "markdown",
   "id": "6b32a587",
   "metadata": {},
   "source": [
    "## 490. The Maze\n",
    "[490. The Maze](https://leetcode.com/problems/the-maze/)"
   ]
  },
  {
   "cell_type": "code",
   "execution_count": 25,
   "id": "38c7fdd8",
   "metadata": {},
   "outputs": [
    {
     "name": "stdout",
     "output_type": "stream",
     "text": [
      "1 2\n",
      "3 4\n"
     ]
    }
   ],
   "source": [
    "a = [[False for _ in range(3)] for _ in range(3)]\n",
    "b = [[1,2],[3,4]]\n",
    "for row, col in b:\n",
    "    print(row, col)"
   ]
  },
  {
   "cell_type": "code",
   "execution_count": 31,
   "id": "292a8294",
   "metadata": {},
   "outputs": [],
   "source": [
    "class Solution:\n",
    "    def hasPath(self, maze, start, destination) -> bool:\n",
    "        \"\"\"\n",
    "        Build graph: \n",
    "            Node(State): the position that the ball stop (intermidiate position won't be the node)\n",
    "            Edge: 4 directions\n",
    "        \n",
    "        \"\"\"\n",
    "        m = len(maze)\n",
    "        n = len(maze[0])\n",
    "        # initial state\n",
    "        q = deque([(start[0], start[1])])\n",
    "        visited =  [[False for _ in range(n)] for _ in range(m)]\n",
    "        visited[start[0]][start[1]] = True\n",
    "        directions = [[0, 1],[0, -1],[-1, 0],[1, 0]]\n",
    "        while q:\n",
    "            cur = q.popleft()\n",
    "            row = cur[0]\n",
    "            col = cur[1]\n",
    "            \n",
    "            # check destination\n",
    "            if row == destination[0] and col == destination[1]:\n",
    "                return True\n",
    "            \n",
    "            # get neighbors\n",
    "            neighbors = self.getNeighbors(maze, row, col, directions)\n",
    "            for r, c in neighbors:\n",
    "                if not visited[r][c]:\n",
    "                    visited[r][c] = True\n",
    "                    q.append([r, c])\n",
    "        return False\n",
    "        \n",
    "    def getNeighbors(self, maze, row, col, directions):\n",
    "        neighbors = []\n",
    "        for dr, dc in directions:\n",
    "            r = row\n",
    "            c = col\n",
    "            # didn't go to this direction before\n",
    "            # go striaight \n",
    "            while r + dr >= 0 and r + dr < len(maze) and c + dc >= 0 and c + dc < len(maze[0]) and maze[r + dr][c + dc] == 0:\n",
    "                # not visited check here!!!!\n",
    "                r += dr\n",
    "                c += dc\n",
    "            neighbors.append([r, c])\n",
    "        return neighbors"
   ]
  },
  {
   "cell_type": "markdown",
   "id": "dee0b6e5",
   "metadata": {},
   "source": [
    "# Implicit Graph"
   ]
  },
  {
   "cell_type": "markdown",
   "id": "c42a836c",
   "metadata": {},
   "source": [
    "## 773. Sliding Puzzle\n",
    "[773. Sliding Puzzle](https://leetcode.com/problems/sliding-puzzle/)\n",
    "\n",
    "- Follw up: thousands of queries:\n",
    "    - Start and End is interchangable (undirected graph)\n",
    "    - End is fixed. Start = End, run BFS using a hashmap to record all the moves start to all the configurations."
   ]
  },
  {
   "cell_type": "code",
   "execution_count": 5,
   "id": "7c9b51c3",
   "metadata": {},
   "outputs": [],
   "source": [
    "class Solution:\n",
    "    def slidingPuzzle(self, board) -> int:\n",
    "        \"\"\"\n",
    "        1. Each configuration of the board represents a Node\n",
    "        2, Edge: unweighted \n",
    "        3. Successor function: 2 or 3 directions to move 0\n",
    "        \n",
    "        Implementation:\n",
    "        BFS\n",
    "        Hashset: visited\n",
    "        check if we get to the target Node tuple(1,2,3,4,5,0)\n",
    "        keep track of the minimum moves\n",
    "        \n",
    "        # matrix --> list\n",
    "          row = idx // c \n",
    "          col = idx % c\n",
    "        \"\"\"\n",
    "        m = len(board)\n",
    "        n = len(board[0])\n",
    "        end = (1,2,3,4,5,0)\n",
    "        directions = [[0, 1], [1, 0], [0, -1], [-1, 0]]\n",
    "        # Pre-processing input: convert matrix to string\n",
    "        start = tuple(board[0] + board[1]) # !!! tuple is hashable!\n",
    "        # print(start)\n",
    "        visited = set([start])\n",
    "        q = deque([start])\n",
    "        moves = -1\n",
    "        # BFS\n",
    "        # neis = self.findNeighbors(m, n, start, directions)\n",
    "        # print(neis)\n",
    "        while q:\n",
    "            size = len(q)\n",
    "            moves += 1\n",
    "            for i in range(size):\n",
    "                cur = q.popleft()\n",
    "                if cur == end:\n",
    "                    return moves\n",
    "                # find neighbors\n",
    "                neighbors = self.findNeighbors(m, n, cur, directions)\n",
    "                for nei in neighbors:\n",
    "                    if nei not in visited:\n",
    "                        q.append(nei)\n",
    "                        visited.add(nei)\n",
    "        return -1\n",
    "    \n",
    "    def findNeighbors(self, m, n, cur, directions):\n",
    "        neighbors = []\n",
    "        cur_list = list(cur)\n",
    "        # print(cur_list)\n",
    "        index_zero = cur_list.index(0)\n",
    "        # print(index_zero)\n",
    "        row = index_zero // n\n",
    "        col = index_zero % n\n",
    "        # print(row, col)\n",
    " \n",
    "        # print(cur_list)\n",
    "        for dr, dc in directions:\n",
    "            r = row + dr\n",
    "            c = col + dc\n",
    "            if r >= 0 and r < m and c >= 0 and c < n:\n",
    "                new_index = n * r + c\n",
    "                cur_list[new_index], cur_list[index_zero] = cur_list[index_zero], cur_list[new_index]\n",
    "                neighbors.append(tuple(cur_list))\n",
    "                cur_list[new_index], cur_list[index_zero] = cur_list[index_zero], cur_list[new_index]\n",
    "        return neighbors"
   ]
  },
  {
   "cell_type": "markdown",
   "id": "f1752a25",
   "metadata": {},
   "source": [
    "## 752. Open the Lock\n",
    "[752. Open the Lock](https://leetcode.com/problems/open-the-lock/)\n",
    "\n",
    "\n",
    "- Complexity: $ O(N^2 * A^N + D)$\n",
    "\n",
    "\n",
    "\n",
    "```\n",
    "N is Number of dials (4 in our case)\n",
    "A is number of alphabets (10 in our case -> 0 to 9)\n",
    "D is the size of deadends.\n",
    "\n",
    "There are 10 x 10 x 10 x 10 possible combinations => 10^4 => A^N\n",
    "For each combination, we are looping 4 times (which is N) and in each iteration, there are substring operations ( which is O(N) * constant) => O(4N*constant) => O(4N) => O(NN) => O(N^2)\n",
    "Total complexity => A^N * N^2, plus D to create the hashset => N^2 * A^N + D\n",
    "```"
   ]
  },
  {
   "cell_type": "code",
   "execution_count": null,
   "id": "5109a8a2",
   "metadata": {},
   "outputs": [],
   "source": [
    "class Solution:\n",
    "    def openLock(self, deadends: List[str], target: str) -> int:\n",
    "        \"\"\"\n",
    "        State: a str represents a state\n",
    "        Successor function: +1 / -1 for each digit (8)\n",
    "        Use a hashset to avoid to go to the deadends\n",
    "        Use the same hashset to deduplication\n",
    "        each level -> step\n",
    "        \"\"\"\n",
    "        # edge case\n",
    "        if target == '0000':\n",
    "            return 0\n",
    "        # edd deadends to the hashset\n",
    "        visited = set(deadends)\n",
    "        # print(visited)\n",
    "        if '0000' in visited:\n",
    "            return -1\n",
    "        # bfs\n",
    "        q = deque(['0000'])\n",
    "        visited.add('0000')\n",
    "        steps = 0\n",
    "        while q:\n",
    "            size = len(q)\n",
    "            for _ in range(size):\n",
    "                cur = q.popleft()\n",
    "                if cur == target:\n",
    "                    return steps\n",
    "                # add neighbors\n",
    "                # neighbors = self.getNeighbors(cur)\n",
    "                neighbors = self.successor(cur)\n",
    "                for nei in neighbors:\n",
    "                    if nei not in visited:\n",
    "                        q.append(nei)\n",
    "                        visited.add(nei)\n",
    "            steps += 1\n",
    "        return -1\n",
    "    \n",
    "    # Works\n",
    "    def getNeighbors(self, cur):\n",
    "        neis = []\n",
    "        for i in range(len(cur)):\n",
    "            chars = list(cur)\n",
    "            digit = int(chars[i])\n",
    "            # + 1\n",
    "            a = -1 if digit == 9 else digit\n",
    "            chars[i] = str(a + 1)\n",
    "            adds = \"\".join(chars)\n",
    "            neis.append(adds)\n",
    "            \n",
    "            # - 1\n",
    "            b = 10 if digit == 0 else digit\n",
    "            chars[i] = str(b - 1)\n",
    "            minus = \"\".join(chars)\n",
    "            neis.append(minus)\n",
    "        return neis\n",
    "    \n",
    "    # Works\n",
    "    def successor(self, state):  \n",
    "        res = []  \n",
    "        state_list = list(state) \n",
    "        # state_list = [int(x) for x in state_list] \n",
    "\n",
    "        for i in range(len(state_list)):  \n",
    "            increase = chr(ord(state_list[i]) + 1) if state_list[i] != '9' else '0' \n",
    "            state_list[i] = increase \n",
    "            res.append(''.join(state_list)) \n",
    "            state_list[i] = state[i]   \n",
    "            \n",
    "            decrease =  chr(ord(state_list[i]) - 1) if state_list[i] != '0' else '9' \n",
    "            state_list[i] = decrease \n",
    "            res.append(''.join(state_list)) \n",
    "            state_list[i] = state[i]   \n",
    "\n",
    "        return res"
   ]
  },
  {
   "cell_type": "code",
   "execution_count": 23,
   "id": "3b300479",
   "metadata": {},
   "outputs": [
    {
     "name": "stdout",
     "output_type": "stream",
     "text": [
      "list ['1', '2', '3']\n",
      "ch 2\n",
      "new_list ['1', '3', '3']\n"
     ]
    },
    {
     "data": {
      "text/plain": [
       "'133'"
      ]
     },
     "execution_count": 23,
     "metadata": {},
     "output_type": "execute_result"
    }
   ],
   "source": [
    "# Concatinate str\n",
    "cur = '123'\n",
    "# b = int(cur[1])\n",
    "# adds = cur[:1] + str(b + 1) + cur[1 + 1:]\n",
    "# minus = cur[:1] + str(b - 1) + cur[1 + 1:]\n",
    "# print(adds, minus)\n",
    "\n",
    "chars = list(cur)\n",
    "print(\"list\", chars)\n",
    "ch = int(chars[1])\n",
    "print(\"ch\", ch)\n",
    "chars[1] = str(ch + 1)\n",
    "print(\"new_list\", chars)\n",
    "new_s = \"\".join(chars)\n",
    "new_s"
   ]
  },
  {
   "cell_type": "code",
   "execution_count": 11,
   "id": "803fc57e",
   "metadata": {
    "scrolled": true
   },
   "outputs": [
    {
     "data": {
      "text/plain": [
       "8"
      ]
     },
     "execution_count": 11,
     "metadata": {},
     "output_type": "execute_result"
    }
   ],
   "source": [
    "digit = 8\n",
    "digit = 10 if digit == 0 else digit\n",
    "digit"
   ]
  },
  {
   "cell_type": "markdown",
   "id": "dc0c0cfc",
   "metadata": {},
   "source": [
    "# Topological Sort"
   ]
  },
  {
   "cell_type": "markdown",
   "id": "458e3ee5",
   "metadata": {},
   "source": [
    "## 207. Course Schedule\n",
    "[207. Course Schedule](https://leetcode.com/problems/course-schedule/)"
   ]
  },
  {
   "cell_type": "code",
   "execution_count": null,
   "id": "10ce6fc9",
   "metadata": {},
   "outputs": [],
   "source": []
  },
  {
   "cell_type": "markdown",
   "id": "5768dd77",
   "metadata": {},
   "source": [
    "## 210. Course Schedule II\n",
    "[210. Course Schedule II](https://leetcode.com/problems/course-schedule-ii/)"
   ]
  },
  {
   "cell_type": "code",
   "execution_count": null,
   "id": "bb4fe67d",
   "metadata": {},
   "outputs": [],
   "source": []
  },
  {
   "cell_type": "markdown",
   "id": "2e546a4b",
   "metadata": {},
   "source": [
    "## 953. Verifying an Alien Dictionary\n",
    "[953. Verifying an Alien Dictionary](https://leetcode.com/problems/verifying-an-alien-dictionary/)"
   ]
  },
  {
   "cell_type": "code",
   "execution_count": null,
   "id": "6ade73e5",
   "metadata": {},
   "outputs": [],
   "source": []
  },
  {
   "cell_type": "markdown",
   "id": "1bc4c690",
   "metadata": {},
   "source": [
    "## 269. Alien Dictionary\n",
    "[269. Alien Dictionary](https://leetcode.com/problems/alien-dictionary/)"
   ]
  },
  {
   "cell_type": "code",
   "execution_count": null,
   "id": "4627dfe2",
   "metadata": {},
   "outputs": [],
   "source": []
  },
  {
   "cell_type": "markdown",
   "id": "d8ead991",
   "metadata": {},
   "source": [
    "# Dijkstra"
   ]
  },
  {
   "cell_type": "markdown",
   "id": "13ac46d9",
   "metadata": {},
   "source": [
    "## 378. Kth Smallest Element in a Sorted Matrix\n",
    "[378. Kth Smallest Element in a Sorted Matrix](https://leetcode.com/problems/kth-smallest-element-in-a-sorted-matrix/)"
   ]
  },
  {
   "cell_type": "code",
   "execution_count": 39,
   "id": "df8fe9c7",
   "metadata": {},
   "outputs": [],
   "source": [
    "class Solution:\n",
    "    def kthSmallest(self, matrix, k: int) -> int:\n",
    "        \"\"\"\n",
    "        BFS: generate right and buttom elements\n",
    "        when expanding a node, k -= 1\n",
    "        when k == 0\n",
    "        it's the result\n",
    "        \"\"\"\n",
    "        m = len(matrix)\n",
    "        n = len(matrix[0])\n",
    "        q = [[matrix[0][0], 0, 0]]\n",
    "        heapq.heapify(q)\n",
    "        visited = [[False for _ in range(n)] for _ in range(m)]\n",
    "        visited[0][0] = True\n",
    "        directions = [[0, 1], [1, 0]]\n",
    "        while q:\n",
    "            cur = heapq.heappop(q)\n",
    "            val = cur[0]\n",
    "            r = cur[1]\n",
    "            c = cur[2]\n",
    "            k -= 1\n",
    "            # check if we find the result\n",
    "            if k == 0:\n",
    "                return val\n",
    "            # find neighbors\n",
    "            neighbors = self.findNeighbors(matrix, m, n, r, c, directions)\n",
    "            for row, col in neighbors:\n",
    "                if not visited[row][col]:\n",
    "                    heapq.heappush(q, [matrix[row][col], row, col])\n",
    "                    visited[row][col] = True\n",
    "        return -1\n",
    "    \n",
    "    def findNeighbors(self, matrix, m, n, row, col, directions):\n",
    "        neighbors = []\n",
    "        for dr, dc in directions:\n",
    "            r = row + dr\n",
    "            c = col + dc\n",
    "            if r >= 0 and r < m and c >= 0 and c < n:\n",
    "                neighbors.append([r, c])\n",
    "        return neighbors"
   ]
  },
  {
   "cell_type": "markdown",
   "id": "f07da291",
   "metadata": {},
   "source": [
    "## 318. Maximum Product of Word Lengths\n",
    "[318. Maximum Product of Word Lengths](https://leetcode.com/problems/maximum-product-of-word-lengths/)"
   ]
  },
  {
   "cell_type": "code",
   "execution_count": null,
   "id": "447c7d0f",
   "metadata": {},
   "outputs": [],
   "source": []
  },
  {
   "cell_type": "markdown",
   "id": "0e079966",
   "metadata": {},
   "source": [
    "## 2040. Kth Smallest Product of Two Sorted Arrays\n",
    "[2040. Kth Smallest Product of Two Sorted Arrays](https://leetcode.com/problems/kth-smallest-product-of-two-sorted-arrays/)"
   ]
  },
  {
   "cell_type": "code",
   "execution_count": null,
   "id": "bad9b6c4",
   "metadata": {},
   "outputs": [],
   "source": []
  },
  {
   "cell_type": "markdown",
   "id": "38823c64",
   "metadata": {},
   "source": [
    "## 505. The Maze II\n",
    "[505. The Maze II](https://leetcode.com/problems/the-maze-ii/)"
   ]
  },
  {
   "cell_type": "code",
   "execution_count": null,
   "id": "4dea235c",
   "metadata": {},
   "outputs": [],
   "source": [
    "# TC = O(log(n) * m * n)\n",
    "# SC = O(m*n)\n",
    "class Solution:\n",
    "    def shortestDistance(self, maze, start, destination) -> int:\n",
    "        \"\"\"\n",
    "        1. Graph:\n",
    "            Nodes: the positions that the ball stops \n",
    "                   Use a tuple to maintain the cordinate and current distance(distance, row, col)\n",
    "            Edge: 4 directions\n",
    "            Weight: the weight of the node is the distance from the neighbor node\n",
    "        \n",
    "        2. Uniform Cost search from start to destination (Dijkstra)\n",
    "        3. The same node might be generated many times if we find a shorter distance\n",
    "        4. Deduplication: \n",
    "            visited[r][c] represent the current shortest distance\n",
    "            if the distance doesn't change, we won't visited the node anymore\n",
    "        \"\"\"\n",
    "        m = len(maze)\n",
    "        n = len(maze[0])\n",
    "        visited = [[float('inf') for _ in range(n)] for _ in range(m)]\n",
    "        q = [(0, start[0], start[1])]\n",
    "        visited[start[0]][start[1]] = 0\n",
    "        heapq.heapify(q)\n",
    "        directions = [[0, 1], [0, -1], [1, 0], [-1, 0]]\n",
    "        while q:\n",
    "            cur = heapq.heappop(q)\n",
    "            dis = cur[0]\n",
    "            row = cur[1]\n",
    "            col = cur[2]\n",
    "            \n",
    "            # check current node\n",
    "            if row == destination[0] and col == destination[1]:\n",
    "                return dis\n",
    "            \n",
    "            # generate neighbors\n",
    "            neighbors = self.findNeighbors(maze, m, n, row, col, dis, directions)\n",
    "            for r, c, dis in neighbors:\n",
    "                if visited[r][c] > dis:\n",
    "                    heapq.heappush(q, (dis, r, c))\n",
    "                    visited[r][c] = dis\n",
    "        return -1\n",
    "        \n",
    "    def findNeighbors(self, maze, m , n, row, col, dis, directions):\n",
    "        neighbors = []\n",
    "        for dr, dc in directions:\n",
    "            r = row\n",
    "            c = col\n",
    "            distance = dis\n",
    "            while (r + dr) >= 0 and (r + dr) < m and (c + dc) >= 0 and (c + dc) < n and maze[r + dr][c + dc] == 0:\n",
    "                r += dr\n",
    "                c += dc\n",
    "                distance += 1\n",
    "            neighbors.append((r, c, distance))\n",
    "        return neighbors"
   ]
  },
  {
   "cell_type": "markdown",
   "id": "ebb2a1cc",
   "metadata": {},
   "source": [
    "## 499. The Maze III\n",
    "[499. The Maze III](https://leetcode.com/problems/the-maze-iii/)"
   ]
  },
  {
   "cell_type": "code",
   "execution_count": 36,
   "id": "35b239c2",
   "metadata": {},
   "outputs": [
    {
     "name": "stdout",
     "output_type": "stream",
     "text": [
      "True\n"
     ]
    }
   ],
   "source": [
    "visited = [[[float('inf'),\"\"] for _ in range(3)] for _ in range(3)]\n",
    "visited\n",
    "\n",
    "print(\"lu\" < \"lul\")"
   ]
  },
  {
   "cell_type": "code",
   "execution_count": 37,
   "id": "45f403ec",
   "metadata": {},
   "outputs": [],
   "source": [
    "class Solution:\n",
    "    def findShortestWay(self, maze, ball, hole) -> str:\n",
    "        \"\"\"\n",
    "        Same as Dijkstra solution in Maze 2\n",
    "        Custom heapq -> distance > path\n",
    "        Hole is a stop position\n",
    "        \"\"\"\n",
    "        m = len(maze)\n",
    "        n = len(maze[0])\n",
    "        visited = [[[float('inf'),\"\"] for _ in range(n)] for _ in range(m)]\n",
    "        # initial state\n",
    "        q = [Node(ball[0], ball[1], 0, \"\")]\n",
    "        heapq.heapify(q)\n",
    "        visited[ball[0]][ball[1]] = [0,\"\"]\n",
    "        directions = [[0, 1, \"r\"], [0, -1, \"l\"], [1, 0, \"d\"],[-1, 0, \"u\"]]\n",
    "        res = []\n",
    "        while q:\n",
    "            cur = heapq.heappop(q)\n",
    "            # print(cur.path, cur.distance)\n",
    "            # check if get to the hole\n",
    "            if cur.x == hole[0] and cur.y == hole[1]:\n",
    "                return cur.path\n",
    "            \n",
    "            # generate neighbors\n",
    "            neighbors = self.findNeighbors(maze, m, n, cur, hole, directions)\n",
    "            for x, y, dis, path in neighbors:\n",
    "                if visited[x][y][0] > dis or visited[x][y][0] == dis and visited[x][y][1] > path:\n",
    "                    heapq.heappush(q, Node(x, y, dis, path))\n",
    "                    visited[x][y][0] = dis\n",
    "                    visited[x][y][1] = path\n",
    "                    \n",
    "        return \"impossible\"\n",
    "    \n",
    "    def findNeighbors(self, maze, m, n, cur, hole, directions):\n",
    "        neighbors = []\n",
    "        for dr, dc, p in directions:\n",
    "            r = cur.x\n",
    "            c = cur.y\n",
    "            dis = cur.distance\n",
    "            path = cur.path\n",
    "            while (r + dr) >= 0 and (r + dr) < m and (c + dc) >= 0 and (c + dc) < n and maze[r+dr][c+dc] == 0:\n",
    "                r += dr\n",
    "                c += dc\n",
    "                dis += 1\n",
    "                # check if the ball passes by the hole\n",
    "                if r == hole[0] and c == hole[1]:\n",
    "                    neighbors.append((r, c, dis, path + p))\n",
    "                    break\n",
    "            neighbors.append((r, c, dis, path + p))\n",
    "        return neighbors\n",
    "    \n",
    "class Node:\n",
    "    def __init__(self, x, y, distance, path):\n",
    "        self.x = x\n",
    "        self.y = y\n",
    "        self.distance = distance\n",
    "        self.path = path\n",
    "    \n",
    "    def __lt__(self, node2):\n",
    "        if self.distance == node2.distance:\n",
    "            return self.path < node2.path\n",
    "        return self.distance < node2.distance"
   ]
  },
  {
   "cell_type": "code",
   "execution_count": 38,
   "id": "31cbfcf8",
   "metadata": {},
   "outputs": [],
   "source": [
    "class Solution:\n",
    "    def findShortestWay(self, maze, ball, hole) -> str:\n",
    "        \"\"\"\n",
    "        Same as Dijkstra solution in Maze 2\n",
    "        Custom heapq -> distance > path\n",
    "        Hole is a stop position\n",
    "        \"\"\"\n",
    "        m = len(maze)\n",
    "        n = len(maze[0])\n",
    "        visited = [[float('inf') for _ in range(n)] for _ in range(m)]\n",
    "        # initial state\n",
    "        q = [Node(ball[0], ball[1], 0, \"\")]\n",
    "        heapq.heapify(q)\n",
    "        visited[ball[0]][ball[1]] = 0\n",
    "        directions = [[0, 1, \"r\"], [0, -1, \"l\"], [1, 0, \"d\"],[-1, 0, \"u\"]]\n",
    "        res = []\n",
    "        while q:\n",
    "            cur = heapq.heappop(q)\n",
    "            # print(cur.path, cur.distance)\n",
    "            # check if get to the hole\n",
    "            if cur.x == hole[0] and cur.y == hole[1]:\n",
    "                return cur.path\n",
    "            \n",
    "            # generate neighbors\n",
    "            neighbors = self.findNeighbors(maze, m, n, cur, hole, directions)\n",
    "            for x, y, dis, path in neighbors:\n",
    "                if visited[x][y] >= dis:\n",
    "                    heapq.heappush(q, Node(x, y, dis, path))\n",
    "                    visited[x][y] = dis\n",
    "                    \n",
    "        return \"impossible\"\n",
    "    \n",
    "    def findNeighbors(self, maze, m, n, cur, hole, directions):\n",
    "        neighbors = []\n",
    "        for dr, dc, p in directions:\n",
    "            r = cur.x\n",
    "            c = cur.y\n",
    "            dis = cur.distance\n",
    "            path = cur.path\n",
    "            while r >= 0 and r < m and c >= 0 and c < n and maze[r][c] == 0:\n",
    "                r += dr\n",
    "                c += dc\n",
    "                dis += 1\n",
    "                # check if the ball passes by the hole\n",
    "                if r == hole[0] and c == hole[1]:\n",
    "                    neighbors.append((r, c, dis, path + p))\n",
    "                    break\n",
    "            # check if we don't move (or !!!!!)\n",
    "            if r - dr != cur.x or c - dc != cur.y:\n",
    "                neighbors.append((r - dr, c - dc, dis - 1, path + p))\n",
    "        return neighbors\n",
    "    \n",
    "class Node:\n",
    "    def __init__(self, x, y, distance, path):\n",
    "        self.x = x\n",
    "        self.y = y\n",
    "        self.distance = distance\n",
    "        self.path = path\n",
    "    \n",
    "    def __lt__(self, node2):\n",
    "        if self.distance == node2.distance:\n",
    "            return self.path < node2.path\n",
    "        return self.distance < node2.distance"
   ]
  },
  {
   "cell_type": "markdown",
   "id": "32fc7185",
   "metadata": {},
   "source": [
    "## 787. Cheapest Flights Within K Stops\n",
    "[787. Cheapest Flights Within K Stops](https://leetcode.com/problems/cheapest-flights-within-k-stops/)"
   ]
  },
  {
   "cell_type": "code",
   "execution_count": 4,
   "id": "ae03b4c7",
   "metadata": {},
   "outputs": [],
   "source": [
    "class Solution:\n",
    "    def findCheapestPrice(self, n: int, flights, src: int, dst: int, k: int) -> int:\n",
    "        \"\"\"\n",
    "        Node: (dis, num, cur_k)\n",
    "        Neighbors: (num, weight)\n",
    "        Visited: dict((num, [cur_dis, cur_k]))\n",
    "        \"\"\"\n",
    "        graph = self.buildGraph(flights)\n",
    "        # print(graph)\n",
    "        visited = defaultdict(list)\n",
    "        visited[src] = [0, k + 1]\n",
    "        pq = [(0, src, k + 1)]\n",
    "        heapq.heapify(pq)\n",
    "        while pq:\n",
    "            cur = heapq.heappop(pq)\n",
    "            cur_dis = cur[0]\n",
    "            cur_src = cur[1]\n",
    "            cur_k = cur[2]\n",
    "            \n",
    "            if dst == cur_src:\n",
    "                return cur_dis\n",
    "            \n",
    "            if cur_k > 0:\n",
    "                neighbors = graph[cur_src]\n",
    "                # print(\"neis\", neighbors)\n",
    "                for num, weight in neighbors:\n",
    "                    new_node = (cur_dis + weight, num, cur_k - 1)\n",
    "                    if num not in visited:\n",
    "                        visited[num] = [cur_dis + weight, cur_k - 1]\n",
    "                        heapq.heappush(pq, new_node)\n",
    "                    else:\n",
    "                        prev_dis = visited[num][0]\n",
    "                        prev_k = visited[num][1]\n",
    "                        # if prev_dis > cur_dis + weight or prev_k < cur_k - 1:\n",
    "                        if prev_dis != cur_dis + weight: #or prev_k < cur_k - 1:\n",
    "                            visited[num] = [cur_dis + weight, cur_k - 1]\n",
    "                            heapq.heappush(pq, new_node) \n",
    "\n",
    "        return -1\n",
    "\n",
    "    def buildGraph(self, flights):\n",
    "        # (num, [(des1, weight1), (des2, weight2)])\n",
    "        graph = defaultdict(list)\n",
    "        for cur in flights:\n",
    "            graph[cur[0]].append((cur[1], cur[2]))\n",
    "        return graph"
   ]
  },
  {
   "cell_type": "code",
   "execution_count": 3,
   "id": "c614b37d",
   "metadata": {},
   "outputs": [],
   "source": [
    "# Time exceed\n",
    "class Solution:\n",
    "    def findCheapestPrice(self, n: int, flights, src: int, dst: int, k: int) -> int:\n",
    "        \"\"\"\n",
    "        Node: (dis, num, cur_k)\n",
    "        Neighbors: (num, weight)\n",
    "        Visited: set((cur_dis, cur_src, cur_k))\n",
    "        \"\"\"\n",
    "        graph = self.buildGraph(flights)\n",
    "        # print(graph)\n",
    "        visited = set()\n",
    "        pq = [(0, src, k + 1)]\n",
    "        heapq.heapify(pq)\n",
    "        while pq:\n",
    "            cur = heapq.heappop(pq)\n",
    "            print(\"cur\", cur)\n",
    "            visited.add(cur)\n",
    "            \n",
    "            cur_dis = cur[0]\n",
    "            cur_src = cur[1]\n",
    "            cur_k = cur[2]\n",
    "            \n",
    "            if dst == cur_src:\n",
    "                return cur_dis\n",
    "            \n",
    "            if cur_k == 0:\n",
    "                continue\n",
    "\n",
    "            if cur_k > 0:\n",
    "                neighbors = graph[cur_src]\n",
    "                # print(\"neis\", neighbors)\n",
    "                for num, weight in neighbors:\n",
    "                    # print(\"nums\", num)\n",
    "                    # print(\"weight\", weight)\n",
    "                    new_node = (cur_dis + weight, num, cur_k - 1)\n",
    "                    if new_node not in visited:\n",
    "                        heapq.heappush(pq, new_node)\n",
    "\n",
    "        return -1\n",
    "\n",
    "    def buildGraph(self, flights):\n",
    "        # (num, [(des1, weight1), (des2, weight2)])\n",
    "        graph = defaultdict(list)\n",
    "        for cur in flights:\n",
    "            graph[cur[0]].append((cur[1], cur[2]))\n",
    "        return graph"
   ]
  },
  {
   "cell_type": "markdown",
   "id": "5f87d38f",
   "metadata": {},
   "source": [
    "## 743. Network Delay Time\n",
    "[743. Network Delay Time](https://leetcode.com/problems/network-delay-time/)"
   ]
  },
  {
   "cell_type": "code",
   "execution_count": 6,
   "id": "38151839",
   "metadata": {},
   "outputs": [],
   "source": [
    "class Solution:\n",
    "    def networkDelayTime(self, times, n: int, k: int) -> int:\n",
    "        \"\"\"\n",
    "        Weighted Directed Graph\n",
    "        BuildGraph -> adjacency list\n",
    "        Node: (cur_time, num)\n",
    "        Dijktra --> until all the nodes are visited\n",
    "        Visited: dict(key = num, value: cur_time)\n",
    "        check expand a node, add to a final check set() == n\n",
    "        \"\"\"\n",
    "        \n",
    "        # build graph\n",
    "        graph = self.buildGraph(times)\n",
    "        # print(graph)\n",
    "        # intial state\n",
    "        pq = [(0, k)]\n",
    "        heapq.heapify(pq)\n",
    "        visited = defaultdict(int)\n",
    "        visited[k] = 0\n",
    "        received = set()\n",
    "        while pq:\n",
    "            cur = heapq.heappop(pq)\n",
    "            cur_time = cur[0]\n",
    "            num = cur[1]\n",
    "            received.add(num)\n",
    "            \n",
    "            #check the termination condition\n",
    "            if len(received) == n:\n",
    "                return cur_time\n",
    "            \n",
    "            # find neighbors\n",
    "            neighbors = graph[num]\n",
    "            for nei, weight in neighbors:\n",
    "                if nei not in visited:\n",
    "                    visited[nei] = cur_time + weight\n",
    "                    heapq.heappush(pq, (cur_time + weight, nei))\n",
    "                else:\n",
    "                    if cur_time + weight < visited[nei]:\n",
    "                        visited[nei] = cur_time + weight\n",
    "                        heapq.heappush(pq, (cur_time + weight, nei))\n",
    "        return -1\n",
    "                \n",
    "    \n",
    "    def buildGraph(self, times):\n",
    "        graph = defaultdict(list)\n",
    "        for u, v, w in times:\n",
    "            graph[u].append((v, w))\n",
    "        return graph"
   ]
  },
  {
   "cell_type": "markdown",
   "id": "f830ecba",
   "metadata": {},
   "source": [
    "## 127. Word Ladder\n",
    "[127. Word Ladder](https://leetcode.com/problems/word-ladder/)"
   ]
  },
  {
   "cell_type": "code",
   "execution_count": 13,
   "id": "36f9df00",
   "metadata": {},
   "outputs": [
    {
     "name": "stdout",
     "output_type": "stream",
     "text": [
      "97\n",
      "a\n"
     ]
    }
   ],
   "source": [
    "# chr() and ord()\n",
    "a = ord('a')\n",
    "print(a)\n",
    "for i in range(1):\n",
    "    print(chr(a))"
   ]
  },
  {
   "cell_type": "code",
   "execution_count": null,
   "id": "621174ad",
   "metadata": {},
   "outputs": [],
   "source": [
    "class Solution:\n",
    "    def ladderLength(self, beginWord: str, endWord: str, wordList: List[str]) -> int:\n",
    "        \"\"\"\n",
    "        Node: each word in the wordlist\n",
    "        Edge: differ by a single word\n",
    "        \n",
    "        Build Graph: for each digit, modify to 26 letters(exclude itself and check if it exist in the wordlist\n",
    "        \n",
    "        BFS1\n",
    "        \"\"\"\n",
    "        word_dict = set(wordList)\n",
    "        # edge case\n",
    "        if endWord not in word_dict:\n",
    "            return 0\n",
    "        # initial\n",
    "        q = deque([beginWord])\n",
    "        visited = set([beginWord])\n",
    "        moves = 0\n",
    "        # neis = self.findNeighbors(\"cog\", word_dict)\n",
    "        # print(neis)\n",
    "        while q:\n",
    "            size = len(q)\n",
    "            moves += 1\n",
    "            for _ in range(size):\n",
    "                cur = q.popleft()\n",
    "                if cur == endWord:\n",
    "                    return moves\n",
    "                neighbors = self.findNeighbors(cur, word_dict)\n",
    "                for nei in neighbors:\n",
    "                    if nei not in visited:\n",
    "                        q.append(nei)\n",
    "                        visited.add(nei)\n",
    "        return 0\n",
    "    \n",
    "    def findNeighbors(self, word, word_dict):\n",
    "        neighbors = []\n",
    "        cur = list(word)\n",
    "        for i in range(len(cur)):\n",
    "            original = cur[i]\n",
    "            # print(original)\n",
    "            a = ord('a')\n",
    "            for j in range(26):\n",
    "                new_letter = chr(j + a)\n",
    "                # print(new_letter)\n",
    "                if new_letter != original:\n",
    "                    cur[i] = new_letter\n",
    "                    new_word = \"\".join(cur)\n",
    "                    # print(new_word)\n",
    "                    if new_word in word_dict:\n",
    "                        neighbors.append(new_word)\n",
    "            cur[i] = original\n",
    "        return neighbors"
   ]
  },
  {
   "cell_type": "markdown",
   "id": "00ffa008",
   "metadata": {},
   "source": [
    "## 126. Word Ladder II\n",
    "[126. Word Ladder II](https://leetcode.com/problems/word-ladder-ii/)"
   ]
  },
  {
   "cell_type": "code",
   "execution_count": null,
   "id": "3b96c5e5",
   "metadata": {},
   "outputs": [],
   "source": []
  },
  {
   "cell_type": "markdown",
   "id": "2ea861af",
   "metadata": {},
   "source": [
    "## 79. Word Search\n",
    "[79. Word Search](https://leetcode.com/problems/word-search/)"
   ]
  },
  {
   "cell_type": "code",
   "execution_count": null,
   "id": "d4f6b60b",
   "metadata": {},
   "outputs": [],
   "source": []
  },
  {
   "cell_type": "markdown",
   "id": "883d7efe",
   "metadata": {},
   "source": [
    "## 212. Word Search II\n",
    "[212. Word Search II](https://leetcode.com/problems/word-ladder-ii/)"
   ]
  },
  {
   "cell_type": "code",
   "execution_count": null,
   "id": "ccd71a36",
   "metadata": {},
   "outputs": [],
   "source": []
  },
  {
   "cell_type": "markdown",
   "id": "18a86810",
   "metadata": {},
   "source": [
    "## 1293. Shortest Path in a Grid with Obstacles Elimination\n",
    "[1293. Shortest Path in a Grid with Obstacles Elimination](https://leetcode.com/problems/shortest-path-in-a-grid-with-obstacles-elimination/)"
   ]
  },
  {
   "cell_type": "code",
   "execution_count": 1,
   "id": "1248bcc0",
   "metadata": {},
   "outputs": [],
   "source": [
    "class Solution:\n",
    "    def shortestPath(self, grid, k: int) -> int:\n",
    "        \"\"\"\n",
    "        Node (i, j, cur_k)\n",
    "        Call BFS\n",
    "        ！！！！ cur_k should be in the state\n",
    "        we might visit the same cell but if the k is different, the path and distance are also different!\n",
    "        \"\"\"\n",
    "        m = len(grid)\n",
    "        n = len(grid[0])\n",
    "        target = (m - 1, n - 1)\n",
    "        q = deque([(0, 0, k, 0)])\n",
    "        visited = set()\n",
    "        visited.add((0,0,k))\n",
    "        directions = [[0, 1], [0, -1], [1, 0], [-1, 0]]\n",
    "        while q:\n",
    "            cur = q.popleft()\n",
    "            row = cur[0]\n",
    "            col = cur[1]\n",
    "            cur_k = cur[2]\n",
    "            dis = cur[3]\n",
    "            \n",
    "            if (row, col) == target:\n",
    "                return dis\n",
    "            \n",
    "            neighbors = self.findNeighbors(grid, m, n, row, col, directions)\n",
    "            for r, c in neighbors:\n",
    "                k_eli = cur_k - grid[r][c]\n",
    "                if k_eli >= 0:\n",
    "                    if (r, c, k_eli) not in visited:\n",
    "                        q.append((r, c, k_eli, dis + 1))\n",
    "                        visited.add((r, c, k_eli))\n",
    "        return -1\n",
    "    \n",
    "    def findNeighbors(self, grid, m, n, row, col, directions):\n",
    "        neighbors = []\n",
    "        for dr, dc in directions:\n",
    "            r = row + dr\n",
    "            c = col + dc\n",
    "            if 0 <= r < m and 0 <= c < n:\n",
    "                neighbors.append((r, c))\n",
    "        return neighbors"
   ]
  },
  {
   "cell_type": "markdown",
   "id": "15165d32",
   "metadata": {},
   "source": [
    "## 1263. Minimum Moves to Move a Box to Their Target Location\n",
    "[1263. Minimum Moves to Move a Box to Their Target Location](https://leetcode.com/problems/minimum-moves-to-move-a-box-to-their-target-location/)"
   ]
  },
  {
   "cell_type": "code",
   "execution_count": null,
   "id": "b40db4f4",
   "metadata": {},
   "outputs": [],
   "source": []
  },
  {
   "cell_type": "markdown",
   "id": "85f8fed3",
   "metadata": {},
   "source": [
    "## 489. Robot Room Cleaner\n",
    "[489. Robot Room Cleaner](https://leetcode.com/problems/robot-room-cleaner/)"
   ]
  },
  {
   "cell_type": "code",
   "execution_count": null,
   "id": "9d1004ef",
   "metadata": {},
   "outputs": [],
   "source": []
  },
  {
   "cell_type": "markdown",
   "id": "98af0235",
   "metadata": {},
   "source": [
    "# Graph\n",
    "\n",
    "- Unidirected Graph\n",
    "- Directed Graph\n",
    "- Weighted Graph\n",
    "- Bipartite Graph\n",
    "- Connected Graph\n",
    "- DAG: directed acyslic Graph\n",
    "- Circle and Cycle: circle(shape 圈）and Cycle(order 闭环）"
   ]
  },
  {
   "cell_type": "markdown",
   "id": "dffd6c72",
   "metadata": {},
   "source": [
    "## 261. Graph Valid Tree\n",
    "[261. Graph Valid Tree](https://leetcode.com/problems/graph-valid-tree/)\n",
    "\n",
    "- Acyclic\n",
    "- Connected"
   ]
  },
  {
   "cell_type": "code",
   "execution_count": null,
   "id": "1b371871",
   "metadata": {},
   "outputs": [],
   "source": []
  },
  {
   "cell_type": "markdown",
   "id": "14d92161",
   "metadata": {},
   "source": [
    "## 133. Clone Graph\n",
    "[133. Clone Graph](https://leetcode.com/problems/clone-graph/)"
   ]
  },
  {
   "cell_type": "code",
   "execution_count": null,
   "id": "df4fb84b",
   "metadata": {},
   "outputs": [],
   "source": []
  },
  {
   "cell_type": "markdown",
   "id": "88ebc4e5",
   "metadata": {},
   "source": [
    "## 323. Number of Connected Components in an Undirected Graph\n",
    "[323. Number of Connected Components in an Undirected Graph](https://leetcode.com/problems/number-of-connected-components-in-an-undirected-graph/)"
   ]
  },
  {
   "cell_type": "code",
   "execution_count": null,
   "id": "7c3f5aaa",
   "metadata": {},
   "outputs": [],
   "source": []
  },
  {
   "cell_type": "markdown",
   "id": "406a3693",
   "metadata": {},
   "source": [
    "## 684. Redundant Connection\n",
    "[684. Redundant Connection](https://leetcode.com/problems/redundant-connection/)"
   ]
  },
  {
   "cell_type": "code",
   "execution_count": null,
   "id": "56596a9d",
   "metadata": {},
   "outputs": [],
   "source": []
  },
  {
   "cell_type": "markdown",
   "id": "c5a6cb69",
   "metadata": {},
   "source": [
    "## 332. Reconstruct Itinerary\n",
    "[332. Reconstruct Itinerary](https://leetcode.com/problems/reconstruct-itinerary/)"
   ]
  },
  {
   "cell_type": "code",
   "execution_count": null,
   "id": "e87d7d5c",
   "metadata": {},
   "outputs": [],
   "source": []
  },
  {
   "cell_type": "markdown",
   "id": "2a909e79",
   "metadata": {},
   "source": [
    "# Others"
   ]
  },
  {
   "cell_type": "markdown",
   "id": "64370ed1",
   "metadata": {},
   "source": [
    "## 543. Diameter of Binary Tree\n",
    "[543. Diameter of Binary Tree](https://leetcode.com/problems/diameter-of-binary-tree/)"
   ]
  },
  {
   "cell_type": "code",
   "execution_count": null,
   "id": "dbab3c23",
   "metadata": {},
   "outputs": [],
   "source": []
  },
  {
   "cell_type": "markdown",
   "id": "ec8def3c",
   "metadata": {},
   "source": [
    "## 1245. Tree Diameter\n",
    "[1245. Tree Diameter](https://leetcode.com/problems/tree-diameter/)"
   ]
  },
  {
   "cell_type": "code",
   "execution_count": null,
   "id": "9e38bd4b",
   "metadata": {},
   "outputs": [],
   "source": []
  },
  {
   "cell_type": "markdown",
   "id": "f4e34154",
   "metadata": {},
   "source": [
    "## 1192. Critical Connections in a Network\n",
    "[1192. Critical Connections in a Network](https://leetcode.com/problems/critical-connections-in-a-network/)"
   ]
  },
  {
   "cell_type": "code",
   "execution_count": null,
   "id": "1fb6c1c2",
   "metadata": {},
   "outputs": [],
   "source": []
  },
  {
   "cell_type": "markdown",
   "id": "c58d6da0",
   "metadata": {},
   "source": [
    "## 399. Evaluate Division\n",
    "[399. Evaluate Division](https://leetcode.com/problems/evaluate-division/)"
   ]
  },
  {
   "cell_type": "code",
   "execution_count": null,
   "id": "dbd3a9be",
   "metadata": {},
   "outputs": [],
   "source": []
  },
  {
   "cell_type": "markdown",
   "id": "af44024d",
   "metadata": {},
   "source": [
    "## 329. Longest Increasing Path in a Matrix\n",
    "[329. Longest Increasing Path in a Matrix](https://leetcode.com/problems/longest-increasing-path-in-a-matrix/)"
   ]
  },
  {
   "cell_type": "code",
   "execution_count": null,
   "id": "b01677ac",
   "metadata": {},
   "outputs": [],
   "source": []
  },
  {
   "cell_type": "markdown",
   "id": "93a92624",
   "metadata": {},
   "source": [
    "## 2092. Find All People With Secret\n",
    "[2092. Find All People With Secret](https://leetcode.com/problems/find-all-people-with-secret/)"
   ]
  },
  {
   "cell_type": "code",
   "execution_count": null,
   "id": "d541feaf",
   "metadata": {},
   "outputs": [],
   "source": []
  },
  {
   "cell_type": "markdown",
   "id": "16cae281",
   "metadata": {},
   "source": [
    "## 797. All Paths From Source to Target\n",
    "[797. All Paths From Source to Target](https://leetcode.com/problems/all-paths-from-source-to-target/)"
   ]
  },
  {
   "cell_type": "code",
   "execution_count": 14,
   "id": "a8177e81",
   "metadata": {},
   "outputs": [],
   "source": [
    "class Solution:\n",
    "    def allPathsSourceTarget(self, graph):\n",
    "        \"\"\"\n",
    "        Adjacency matrix:\n",
    "        initial: graph[0]\n",
    "        DFS\n",
    "        \"\"\"\n",
    "        result = [] \n",
    "        if not graph:\n",
    "            return result \n",
    "        \n",
    "        self.dfs(graph, 0, [], result) \n",
    "        return result\n",
    "    \n",
    "    def dfs(self, graph, cur_node, curRes, result): \n",
    "        # terminate condition \n",
    "        if cur_node == len(graph) - 1: \n",
    "            curRes.append(cur_node) \n",
    "            result.append(copy.deepcopy(curRes)) \n",
    "            curRes.pop()\n",
    "            return \n",
    "        \n",
    "        # find neighbors\n",
    "        curRes.append(cur_node)\n",
    "        for nei in graph[cur_node]:\n",
    "            # print(cur)\n",
    "            # curRes.append(cur_node)\n",
    "            self.dfs(graph, nei, curRes, result) \n",
    "        curRes.pop()"
   ]
  },
  {
   "cell_type": "markdown",
   "id": "585d0a8b",
   "metadata": {},
   "source": [
    "## Robot Path Planning"
   ]
  },
  {
   "cell_type": "code",
   "execution_count": 6,
   "id": "191c0141",
   "metadata": {},
   "outputs": [
    {
     "data": {
      "text/plain": [
       "[[0, 1], [1, 0], [0, -1], [-1, 0]]"
      ]
     },
     "execution_count": 6,
     "metadata": {},
     "output_type": "execute_result"
    }
   ],
   "source": [
    "visited = [[False for _ in range(2)] for _ in range(3)]\n",
    "dir = [[0, 1],[1, 0], [0, -1], [-1, 0]]\n",
    "dir"
   ]
  },
  {
   "cell_type": "code",
   "execution_count": 43,
   "id": "ceb0fc64",
   "metadata": {},
   "outputs": [
    {
     "name": "stdout",
     "output_type": "stream",
     "text": [
      "ESSEE\n"
     ]
    }
   ],
   "source": [
    "from collections import deque\n",
    "def plan(grid):\n",
    "    # corner case\n",
    "    if not grid:\n",
    "        return \"\"\n",
    "    # find the start position\n",
    "    m = len(grid)\n",
    "    n = len(grid[0])\n",
    "    q = deque()\n",
    "    visited = [[False for _ in range(n)] for _ in range(m)]\n",
    "    direction = [[0, 1],[0, -1],[1, 0],[-1, 0]]\n",
    "    d_char = ['E','W','S','N']\n",
    "    for i in range(m):\n",
    "        for j in range(n):\n",
    "            if grid[i][j] == 'S':\n",
    "                q.append((i, j, \"\"))\n",
    "                visited[i][j] = True\n",
    "                res = bfs(grid, q, visited, direction, d_char)\n",
    "    return res\n",
    "\n",
    "def bfs(grid, q, visited, direction, d_char):\n",
    "    while q:\n",
    "        cur = q.popleft()\n",
    "        row = cur[0]\n",
    "        col = cur[1]\n",
    "        path = cur[2]\n",
    "        \n",
    "        # desitination\n",
    "        if grid[row][col] == 'G':\n",
    "            return path\n",
    "        # build path with it's neighbors\n",
    "        for i in range(len(direction)):\n",
    "            r = row + direction[i][0]\n",
    "            c = col + direction[i][1]\n",
    "            if r >= 0 and r < len(grid) and c >= 0 and c < len(grid[0]):\n",
    "                if not visited[r][c] and grid[r][c] != 'O':\n",
    "                    # generated\n",
    "                    visited[r][c] = True\n",
    "                    q.append((r, c, path+d_char[i]))\n",
    "    return \"\"\n",
    "                    \n",
    "    \n",
    "a = [['O','E','E','O','E','E'],\n",
    "     ['O','E','O','O','E','O'],\n",
    "     ['S','E','E','E','E','E'],\n",
    "     ['O','E','O','O','E','E'],\n",
    "     ['O','E','E','E','E','O']]\n",
    "print(plan(a))"
   ]
  },
  {
   "cell_type": "code",
   "execution_count": 40,
   "id": "64575fcf",
   "metadata": {
    "scrolled": true
   },
   "outputs": [
    {
     "name": "stdout",
     "output_type": "stream",
     "text": [
      "\n"
     ]
    }
   ],
   "source": [
    "b = [['O','E','E','O','E','E'],\n",
    "     ['O','E','O','O','E','O'],\n",
    "     ['S','E','E','E','E','G'],\n",
    "     ['O','E','O','O','E','E'],\n",
    "     ['O','E','E','E','E','E']]\n",
    "m = len(b)\n",
    "n = len(b[0])\n",
    "visited = [[False for _ in range(n)] for _ in range(m)]\n",
    "# print(visited)\n",
    "# print(m, n)\n",
    "print(plan(b))"
   ]
  }
 ],
 "metadata": {
  "kernelspec": {
   "display_name": "Python 3 (ipykernel)",
   "language": "python",
   "name": "python3"
  },
  "language_info": {
   "codemirror_mode": {
    "name": "ipython",
    "version": 3
   },
   "file_extension": ".py",
   "mimetype": "text/x-python",
   "name": "python",
   "nbconvert_exporter": "python",
   "pygments_lexer": "ipython3",
   "version": "3.8.12"
  }
 },
 "nbformat": 4,
 "nbformat_minor": 5
}
