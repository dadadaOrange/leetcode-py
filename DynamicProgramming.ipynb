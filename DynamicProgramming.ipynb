{
 "cells": [
  {
   "cell_type": "markdown",
   "id": "06ce600e",
   "metadata": {},
   "source": [
    "# Array"
   ]
  },
  {
   "cell_type": "markdown",
   "id": "4d8f7afc",
   "metadata": {},
   "source": [
    "## 674. Longest Continuous Increasing Subsequence\n",
    "[674. Longest Continuous Increasing Subsequence](https://leetcode.com/problems/longest-continuous-increasing-subsequence/)"
   ]
  },
  {
   "cell_type": "code",
   "execution_count": 1,
   "id": "a632e0e1",
   "metadata": {},
   "outputs": [],
   "source": [
    "def findLengthOfLCIS(self, nums) -> int:\n",
    "    \"\"\"\n",
    "    dp[i]: from the 0-th index to i-th index, the length of lcs ending with i(must include the i-th index)\n",
    "    \"\"\"\n",
    "    dp = [0 for _ in range(len(nums))]\n",
    "    # base case\n",
    "    dp[0] = 1\n",
    "    res = 1\n",
    "    for i in range(1, len(nums)):\n",
    "        if nums[i] > nums[i - 1]:\n",
    "            dp[i] = dp[i - 1] + 1\n",
    "            res = max(res, dp[i])\n",
    "        else:\n",
    "            dp[i] = 1\n",
    "    return res"
   ]
  },
  {
   "cell_type": "markdown",
   "id": "af805c5f",
   "metadata": {},
   "source": [
    "## 300. Longest Increasing Subsequence\n",
    "[300. Longest Increasing Subsequence](https://leetcode.com/problems/longest-increasing-subsequence/)"
   ]
  },
  {
   "cell_type": "code",
   "execution_count": null,
   "id": "ec406a50",
   "metadata": {},
   "outputs": [],
   "source": []
  },
  {
   "cell_type": "markdown",
   "id": "f54d9947",
   "metadata": {},
   "source": [
    "## 53. Maximum Subarray\n",
    "[53. Maximum Subarray](https://leetcode.com/problems/maximum-subarray/)"
   ]
  },
  {
   "cell_type": "code",
   "execution_count": null,
   "id": "643d5890",
   "metadata": {},
   "outputs": [],
   "source": []
  },
  {
   "cell_type": "markdown",
   "id": "38d033a3",
   "metadata": {},
   "source": [
    "## 152. Maximum Product Subarray\n",
    "[152. Maximum Product Subarray](https://leetcode.com/problems/maximum-product-subarray/)"
   ]
  },
  {
   "cell_type": "code",
   "execution_count": null,
   "id": "9a994d01",
   "metadata": {},
   "outputs": [],
   "source": []
  },
  {
   "cell_type": "markdown",
   "id": "33ade05f",
   "metadata": {},
   "source": [
    "## 410. Split Array Largest Sum\n",
    "[410. Split Array Largest Sum](https://leetcode.com/problems/split-array-largest-sum/)"
   ]
  },
  {
   "cell_type": "code",
   "execution_count": null,
   "id": "7cc22c94",
   "metadata": {},
   "outputs": [],
   "source": []
  },
  {
   "cell_type": "markdown",
   "id": "43f50992",
   "metadata": {},
   "source": [
    "# Cut Something"
   ]
  },
  {
   "cell_type": "markdown",
   "id": "a4258b60",
   "metadata": {},
   "source": [
    "## Cutting Rope\n",
    "\n",
    "Given a rope with positive integer-length n, how to cut the rope into m_integer-length parts with length_p[0],p[1], ...,p[m-1], in order to get the maximal product of p[0]*p[1]* ... *p[m-1]?m is determined by you and must be greater than 0(at least one cut must be made). Return the max product you can have."
   ]
  },
  {
   "cell_type": "code",
   "execution_count": null,
   "id": "27990d89",
   "metadata": {},
   "outputs": [],
   "source": [
    "    \"\"\"\n",
    "    n = 6\n",
    "    _ dp[1] = 1\n",
    "    \n",
    "    _ _ dp[2] = _|_ 1 * 1 = 2  \n",
    "                _ _ 2               --> dp[2] = 2\n",
    "                \n",
    "    _ _ _ dp[3]: _|_ _ dp[1] * dp[2] \n",
    "                 _ _|_ dp[2] * dp[1]\n",
    "                 _ _ _ 3            --> dp[3] = 3\n",
    "                 \n",
    "    _ _ _ _ dp[4]: _|_ _ _ dp[1]*dp[3] = 1 * 3 = 3\n",
    "                   _ _|_ _ dp[2]*dp[2] = 2 * 2 = 4\n",
    "                   _ _ _|_ dp[3]*dp[1]\n",
    "                   _ _ _ _ 4        --> dp[4] = 4\n",
    "    \n",
    "    dp[n] represents the largest product that can be made by cutting n meter long rope(at least one cut must be made)\n",
    "    dp[n] = max(max(dp[k],k)*max(dp[n - k], , n) 1<= k < n\n",
    "    \n",
    "    \"\"\"\n",
    "def maxProduct(length):\n",
    "    # base case\n",
    "    dp = [1 for _ in range(length + 1)]\n",
    "    for i in range(2, length + 1):\n",
    "        for j in range(1, i):\n",
    "            left = max(dp[j], j) # dp[i] cut, j not cut\n",
    "            right = max(dp[i - j], i - j) # dp[i - j] cut, i - j not cut\n",
    "            dp[i] = max(left * right, dp[i])\n",
    "    return dp[-1]                "
   ]
  },
  {
   "cell_type": "markdown",
   "id": "824473be",
   "metadata": {},
   "source": [
    "# String/Words"
   ]
  },
  {
   "cell_type": "markdown",
   "id": "5829b4f0",
   "metadata": {},
   "source": [
    "## 5. Longest Palindromic Substring\n",
    "[5. Longest Palindromic Substring](https://leetcode.com/problems/longest-palindromic-substring/)"
   ]
  },
  {
   "cell_type": "code",
   "execution_count": null,
   "id": "4da03e66",
   "metadata": {},
   "outputs": [],
   "source": []
  },
  {
   "cell_type": "markdown",
   "id": "728aab73",
   "metadata": {},
   "source": [
    "## 139. Word Break\n",
    "[139. Word Break](https://leetcode.com/problems/word-break/)"
   ]
  },
  {
   "cell_type": "code",
   "execution_count": null,
   "id": "d8d8ddfa",
   "metadata": {},
   "outputs": [],
   "source": []
  },
  {
   "cell_type": "markdown",
   "id": "1479ab6e",
   "metadata": {},
   "source": [
    "## 140. Word Break II\n",
    "[140. Word Break II](https://leetcode.com/problems/word-break-ii/)"
   ]
  },
  {
   "cell_type": "code",
   "execution_count": null,
   "id": "8febff60",
   "metadata": {},
   "outputs": [],
   "source": []
  },
  {
   "cell_type": "markdown",
   "id": "0a2bed4f",
   "metadata": {},
   "source": [
    "## 472. Concatenated Words\n",
    "[472. Concatenated Words](https://leetcode.com/problems/concatenated-words/)"
   ]
  },
  {
   "cell_type": "code",
   "execution_count": null,
   "id": "5f0b1c3a",
   "metadata": {},
   "outputs": [],
   "source": []
  },
  {
   "cell_type": "markdown",
   "id": "03e8b5ff",
   "metadata": {},
   "source": [
    "## 91. Decode Ways\n",
    "[91. Decode Ways](https://leetcode.com/problems/decode-ways/)"
   ]
  },
  {
   "cell_type": "code",
   "execution_count": null,
   "id": "9ff4e679",
   "metadata": {},
   "outputs": [],
   "source": []
  },
  {
   "cell_type": "markdown",
   "id": "80f75a73",
   "metadata": {},
   "source": [
    "## 55. Jump Game\n",
    "[55. Jump Game](https://leetcode.com/problems/jump-game/)"
   ]
  },
  {
   "cell_type": "code",
   "execution_count": null,
   "id": "aac37044",
   "metadata": {},
   "outputs": [],
   "source": []
  },
  {
   "cell_type": "markdown",
   "id": "0c04842f",
   "metadata": {},
   "source": [
    "## 45. Jump Game II\n",
    "[45. Jump Game II](https://leetcode.com/problems/jump-game-ii/)"
   ]
  },
  {
   "cell_type": "code",
   "execution_count": null,
   "id": "892be9cd",
   "metadata": {},
   "outputs": [],
   "source": []
  },
  {
   "cell_type": "markdown",
   "id": "6f4d53c7",
   "metadata": {},
   "source": [
    "## 72. Edit Distance\n",
    "[72. Edit Distance](https://leetcode.com/problems/edit-distance/)"
   ]
  },
  {
   "cell_type": "code",
   "execution_count": null,
   "id": "0b181280",
   "metadata": {},
   "outputs": [],
   "source": []
  },
  {
   "cell_type": "markdown",
   "id": "d306a770",
   "metadata": {},
   "source": [
    "## 1048. Longest String Chain\n",
    "[1048. Longest String Chain](https://leetcode.com/problems/longest-string-chain/)"
   ]
  },
  {
   "cell_type": "code",
   "execution_count": null,
   "id": "bc3f538f",
   "metadata": {},
   "outputs": [],
   "source": []
  },
  {
   "cell_type": "markdown",
   "id": "870682f0",
   "metadata": {},
   "source": [
    "# Matrix"
   ]
  },
  {
   "cell_type": "markdown",
   "id": "6798d540",
   "metadata": {},
   "source": [
    "## 485. Max Consecutive Ones\n",
    "[485. Max Consecutive Ones](https://leetcode.com/problems/max-consecutive-ones/)"
   ]
  },
  {
   "cell_type": "code",
   "execution_count": null,
   "id": "8f179e45",
   "metadata": {},
   "outputs": [],
   "source": []
  },
  {
   "cell_type": "markdown",
   "id": "3cab2d8c",
   "metadata": {},
   "source": [
    "## 221. Maximal Square\n",
    "[221. Maximal Square](https://leetcode.com/problems/maximal-square/)"
   ]
  },
  {
   "cell_type": "code",
   "execution_count": null,
   "id": "7394ec2d",
   "metadata": {},
   "outputs": [],
   "source": []
  },
  {
   "cell_type": "markdown",
   "id": "6baf17e3",
   "metadata": {},
   "source": [
    "## 85. Maximal Rectangle\n",
    "[85. Maximal Rectangle](https://leetcode.com/problems/maximal-rectangle/)"
   ]
  },
  {
   "cell_type": "code",
   "execution_count": null,
   "id": "9b646a9e",
   "metadata": {},
   "outputs": [],
   "source": []
  },
  {
   "cell_type": "markdown",
   "id": "db3701df",
   "metadata": {},
   "source": [
    "## 562. Longest Line of Consecutive One in Matrix\n",
    "[562. Longest Line of Consecutive One in Matrix](https://leetcode.com/problems/longest-line-of-consecutive-one-in-matrix/)"
   ]
  },
  {
   "cell_type": "code",
   "execution_count": null,
   "id": "0f4e8ae1",
   "metadata": {},
   "outputs": [],
   "source": []
  },
  {
   "cell_type": "markdown",
   "id": "be8b18c6",
   "metadata": {},
   "source": [
    "## 329. Longest Increasing Path in a Matrix\n",
    "[329. Longest Increasing Path in a Matrix](https://leetcode.com/problems/longest-increasing-path-in-a-matrix/)"
   ]
  },
  {
   "cell_type": "code",
   "execution_count": null,
   "id": "fc12b533",
   "metadata": {},
   "outputs": [],
   "source": []
  },
  {
   "cell_type": "markdown",
   "id": "cbe67c71",
   "metadata": {},
   "source": [
    "## 1937. Maximum Number of Points with Cost\n",
    "[1937. Maximum Number of Points with Cost](https://leetcode.com/problems/maximum-number-of-points-with-cost/)"
   ]
  },
  {
   "cell_type": "code",
   "execution_count": null,
   "id": "eedd2ef6",
   "metadata": {},
   "outputs": [],
   "source": []
  },
  {
   "cell_type": "markdown",
   "id": "4c33b9f8",
   "metadata": {},
   "source": [
    "## 1240. Tiling a Rectangle with the Fewest Squares\n",
    "[1240. Tiling a Rectangle with the Fewest Squares](https://leetcode.com/problems/tiling-a-rectangle-with-the-fewest-squares/)"
   ]
  },
  {
   "cell_type": "code",
   "execution_count": null,
   "id": "808b19fe",
   "metadata": {},
   "outputs": [],
   "source": []
  },
  {
   "cell_type": "markdown",
   "id": "1df1c0f3",
   "metadata": {},
   "source": [
    "## 764. Largest Plus Sign\n",
    "[764. Largest Plus Sign](https://leetcode.com/problems/largest-plus-sign/)"
   ]
  },
  {
   "cell_type": "code",
   "execution_count": null,
   "id": "dd66ff08",
   "metadata": {},
   "outputs": [],
   "source": []
  },
  {
   "cell_type": "markdown",
   "id": "08c82b97",
   "metadata": {},
   "source": [
    "## 1277. Count Square Submatrices with All Ones\n",
    "[1277. Count Square Submatrices with All Ones](https://leetcode.com/problems/count-square-submatrices-with-all-ones/)"
   ]
  },
  {
   "cell_type": "code",
   "execution_count": null,
   "id": "7ca37223",
   "metadata": {},
   "outputs": [],
   "source": []
  },
  {
   "cell_type": "markdown",
   "id": "6497eeb5",
   "metadata": {},
   "source": [
    "## 1139. Largest 1-Bordered Square\n",
    "[1139. Largest 1-Bordered Square](https://leetcode.com/problems/largest-1-bordered-square/)"
   ]
  },
  {
   "cell_type": "code",
   "execution_count": null,
   "id": "8da18d00",
   "metadata": {},
   "outputs": [],
   "source": []
  },
  {
   "cell_type": "markdown",
   "id": "bc10cfe0",
   "metadata": {},
   "source": [
    "## 363. Max Sum of Rectangle No Larger Than K\n",
    "[363. Max Sum of Rectangle No Larger Than K](https://leetcode.com/problems/max-sum-of-rectangle-no-larger-than-k/)"
   ]
  },
  {
   "cell_type": "code",
   "execution_count": null,
   "id": "a01c3f14",
   "metadata": {},
   "outputs": [],
   "source": []
  },
  {
   "cell_type": "markdown",
   "id": "c475d10c",
   "metadata": {},
   "source": [
    "# Knapsack"
   ]
  },
  {
   "cell_type": "markdown",
   "id": "5528a7d6",
   "metadata": {},
   "source": [
    "## 416. Partition Equal Subset Sum\n",
    "[416. Partition Equal Subset Sum](https://leetcode.com/problems/partition-equal-subset-sum/)"
   ]
  },
  {
   "cell_type": "code",
   "execution_count": null,
   "id": "63ff2b4d",
   "metadata": {},
   "outputs": [],
   "source": []
  },
  {
   "cell_type": "markdown",
   "id": "45a95328",
   "metadata": {},
   "source": [
    "## 322. Coin Change\n",
    "[322. Coin Change](https://leetcode.com/problems/coin-change/)"
   ]
  },
  {
   "cell_type": "code",
   "execution_count": null,
   "id": "0aa553a2",
   "metadata": {},
   "outputs": [],
   "source": []
  },
  {
   "cell_type": "markdown",
   "id": "6226e349",
   "metadata": {},
   "source": [
    "## 518. Coin Change 2\n",
    "[518. Coin Change 2](https://leetcode.com/problems/coin-change-2/)"
   ]
  },
  {
   "cell_type": "code",
   "execution_count": null,
   "id": "b72e04db",
   "metadata": {},
   "outputs": [],
   "source": []
  },
  {
   "cell_type": "markdown",
   "id": "a08aec31",
   "metadata": {},
   "source": [
    "## 494. Target Sum\n",
    "[494. Target Sum](https://leetcode.com/problems/target-sum/)"
   ]
  },
  {
   "cell_type": "code",
   "execution_count": null,
   "id": "a5278159",
   "metadata": {},
   "outputs": [],
   "source": []
  },
  {
   "cell_type": "markdown",
   "id": "8d151942",
   "metadata": {},
   "source": [
    "# Buy Stocks"
   ]
  },
  {
   "cell_type": "markdown",
   "id": "b4a8c1cc",
   "metadata": {},
   "source": [
    "## 121. Best Time to Buy and Sell Stock\n",
    "[121. Best Time to Buy and Sell Stock](https://leetcode.com/problems/best-time-to-buy-and-sell-stock/)"
   ]
  },
  {
   "cell_type": "code",
   "execution_count": null,
   "id": "c8324807",
   "metadata": {},
   "outputs": [],
   "source": []
  },
  {
   "cell_type": "markdown",
   "id": "cbf510f5",
   "metadata": {},
   "source": [
    "## 122. Best Time to Buy and Sell Stock II\n",
    "[122. Best Time to Buy and Sell Stock II](https://leetcode.com/problems/best-time-to-buy-and-sell-stock-ii/)"
   ]
  },
  {
   "cell_type": "code",
   "execution_count": null,
   "id": "8b48b302",
   "metadata": {},
   "outputs": [],
   "source": []
  },
  {
   "cell_type": "markdown",
   "id": "58316e7d",
   "metadata": {},
   "source": [
    "## 123. Best Time to Buy and Sell Stock III\n",
    "[123. Best Time to Buy and Sell Stock III](https://leetcode.com/problems/best-time-to-buy-and-sell-stock-iii/)"
   ]
  },
  {
   "cell_type": "code",
   "execution_count": null,
   "id": "8b325300",
   "metadata": {},
   "outputs": [],
   "source": []
  },
  {
   "cell_type": "markdown",
   "id": "69a9f918",
   "metadata": {},
   "source": [
    "## 188. Best Time to Buy and Sell Stock IV\n",
    "[188. Best Time to Buy and Sell Stock IV](https://leetcode.com/problems/best-time-to-buy-and-sell-stock-iv/)"
   ]
  },
  {
   "cell_type": "code",
   "execution_count": null,
   "id": "d0ebfa9e",
   "metadata": {},
   "outputs": [],
   "source": []
  },
  {
   "cell_type": "markdown",
   "id": "2724fe09",
   "metadata": {},
   "source": [
    "## 309. Best Time to Buy and Sell Stock with Cooldown\n",
    "[309. Best Time to Buy and Sell Stock with Cooldown](https://leetcode.com/problems/best-time-to-buy-and-sell-stock-with-cooldown/)"
   ]
  },
  {
   "cell_type": "code",
   "execution_count": null,
   "id": "f429fc38",
   "metadata": {},
   "outputs": [],
   "source": []
  },
  {
   "cell_type": "markdown",
   "id": "f3213761",
   "metadata": {},
   "source": [
    "## 2291. Maximum Profit From Trading Stocks\n",
    "[2291. Maximum Profit From Trading Stocks](https://leetcode.com/problems/maximum-profit-from-trading-stocks/)"
   ]
  },
  {
   "cell_type": "code",
   "execution_count": null,
   "id": "841e8feb",
   "metadata": {},
   "outputs": [],
   "source": []
  },
  {
   "cell_type": "markdown",
   "id": "a2525cf6",
   "metadata": {},
   "source": [
    "# Game Theory"
   ]
  },
  {
   "cell_type": "markdown",
   "id": "47f62205",
   "metadata": {},
   "source": [
    "## 464. Can I Win\n",
    "[464. Can I Win](https://leetcode.com/problems/can-i-win/)"
   ]
  },
  {
   "cell_type": "code",
   "execution_count": null,
   "id": "77a82d2f",
   "metadata": {},
   "outputs": [],
   "source": []
  },
  {
   "cell_type": "markdown",
   "id": "fdc2ac80",
   "metadata": {},
   "source": [
    "# Range"
   ]
  },
  {
   "cell_type": "markdown",
   "id": "6f3538c8",
   "metadata": {},
   "source": [
    "## 312. Burst Balloons\n",
    "[312. Burst Balloons](https://leetcode.com/problems/burst-balloons/)"
   ]
  },
  {
   "cell_type": "code",
   "execution_count": null,
   "id": "67c16f7b",
   "metadata": {},
   "outputs": [],
   "source": []
  },
  {
   "cell_type": "markdown",
   "id": "202dfee8",
   "metadata": {},
   "source": [
    "## 1000. Minimum Cost to Merge Stones\n",
    "[1000. Minimum Cost to Merge Stones](https://leetcode.com/problems/minimum-cost-to-merge-stones/)"
   ]
  },
  {
   "cell_type": "code",
   "execution_count": null,
   "id": "cc497d25",
   "metadata": {},
   "outputs": [],
   "source": []
  },
  {
   "cell_type": "markdown",
   "id": "394e7571",
   "metadata": {},
   "source": [
    "# High Freqency"
   ]
  },
  {
   "cell_type": "markdown",
   "id": "c4e01cd0",
   "metadata": {},
   "source": [
    "## 22. Generate Parentheses\n",
    "[22. Generate Parentheses](https://leetcode.com/problems/generate-parentheses/)"
   ]
  },
  {
   "cell_type": "code",
   "execution_count": null,
   "id": "b93fef1e",
   "metadata": {},
   "outputs": [],
   "source": []
  },
  {
   "cell_type": "markdown",
   "id": "1bb550a8",
   "metadata": {},
   "source": [
    "## 32. Longest Valid Parentheses\n",
    "[32. Longest Valid Parentheses](https://leetcode.com/problems/longest-valid-parentheses/)"
   ]
  },
  {
   "cell_type": "code",
   "execution_count": null,
   "id": "fec78b71",
   "metadata": {},
   "outputs": [],
   "source": []
  },
  {
   "cell_type": "markdown",
   "id": "0965ac8c",
   "metadata": {},
   "source": [
    "## 828. Count Unique Characters of All Substrings of a Given String\n",
    "[828. Count Unique Characters of All Substrings of a Given String](https://leetcode.com/problems/count-unique-characters-of-all-substrings-of-a-given-string/)"
   ]
  },
  {
   "cell_type": "code",
   "execution_count": null,
   "id": "6fe6c1b7",
   "metadata": {},
   "outputs": [],
   "source": []
  },
  {
   "cell_type": "markdown",
   "id": "71726603",
   "metadata": {},
   "source": [
    "## 10. Regular Expression Matching\n",
    "[10. Regular Expression Matching](https://leetcode.com/problems/regular-expression-matching/)"
   ]
  },
  {
   "cell_type": "code",
   "execution_count": null,
   "id": "24270d2c",
   "metadata": {},
   "outputs": [],
   "source": []
  },
  {
   "cell_type": "markdown",
   "id": "153ffbf6",
   "metadata": {},
   "source": [
    "## 1235. Maximum Profit in Job Scheduling\n",
    "[1235. Maximum Profit in Job Scheduling](https://leetcode.com/problems/maximum-profit-in-job-scheduling/)"
   ]
  },
  {
   "cell_type": "code",
   "execution_count": null,
   "id": "0cbf43a6",
   "metadata": {},
   "outputs": [],
   "source": []
  },
  {
   "cell_type": "markdown",
   "id": "c9213249",
   "metadata": {},
   "source": [
    "## 124. Binary Tree Maximum Path Sum\n",
    "[124. Binary Tree Maximum Path Sum](https://leetcode.com/problems/binary-tree-maximum-path-sum/)"
   ]
  },
  {
   "cell_type": "code",
   "execution_count": null,
   "id": "6c449773",
   "metadata": {},
   "outputs": [],
   "source": []
  },
  {
   "cell_type": "markdown",
   "id": "e48f1c9f",
   "metadata": {},
   "source": [
    "## 70. Climbing Stairs\n",
    "[70. Climbing Stairs](https://leetcode.com/problems/climbing-stairs/)"
   ]
  },
  {
   "cell_type": "code",
   "execution_count": null,
   "id": "73fc50dd",
   "metadata": {},
   "outputs": [],
   "source": []
  },
  {
   "cell_type": "markdown",
   "id": "e10577b4",
   "metadata": {},
   "source": [
    "## 818. Race Car\n",
    "[818. Race Car](https://leetcode.com/problems/race-car/)"
   ]
  },
  {
   "cell_type": "code",
   "execution_count": null,
   "id": "346451ed",
   "metadata": {},
   "outputs": [],
   "source": []
  },
  {
   "cell_type": "markdown",
   "id": "d53d823a",
   "metadata": {},
   "source": [
    "## 551. Student Attendance Record I\n",
    "[551. Student Attendance Record I](https://leetcode.com/problems/student-attendance-record-i/)"
   ]
  },
  {
   "cell_type": "code",
   "execution_count": null,
   "id": "d7aea4ad",
   "metadata": {},
   "outputs": [],
   "source": []
  },
  {
   "cell_type": "markdown",
   "id": "06f4ffb7",
   "metadata": {},
   "source": [
    "## 552. Student Attendance Record II\n",
    "[552. Student Attendance Record II](https://leetcode.com/problems/student-attendance-record-ii/)"
   ]
  },
  {
   "cell_type": "code",
   "execution_count": null,
   "id": "d9af2e7c",
   "metadata": {},
   "outputs": [],
   "source": []
  }
 ],
 "metadata": {
  "kernelspec": {
   "display_name": "Python 3 (ipykernel)",
   "language": "python",
   "name": "python3"
  },
  "language_info": {
   "codemirror_mode": {
    "name": "ipython",
    "version": 3
   },
   "file_extension": ".py",
   "mimetype": "text/x-python",
   "name": "python",
   "nbconvert_exporter": "python",
   "pygments_lexer": "ipython3",
   "version": "3.8.12"
  }
 },
 "nbformat": 4,
 "nbformat_minor": 5
}
