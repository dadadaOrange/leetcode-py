{
 "cells": [
  {
   "cell_type": "markdown",
   "id": "2e24e6d8",
   "metadata": {},
   "source": [
    "## 509. Fibonacci Number\n",
    "[509. Fibonacci Number](https://leetcode.com/problems/fibonacci-number/)"
   ]
  },
  {
   "cell_type": "code",
   "execution_count": 1,
   "id": "97d4138c",
   "metadata": {},
   "outputs": [],
   "source": [
    "class Solution:\n",
    "    cache = {0: 0, 1: 1}\n",
    "    def fib(self, n: int) -> int:\n",
    "        if n in self.cache:\n",
    "            return self.cache[n]\n",
    "        self.cache[n] = self.fib(n - 1) + self.fib(n - 2)\n",
    "        return self.cache[n]\n",
    "    # TC = o(n)\n",
    "    # SC = O(n)"
   ]
  },
  {
   "cell_type": "markdown",
   "id": "688e1fef",
   "metadata": {},
   "source": [
    "## 231. Power of Two\n",
    "[231. Power of Two](https://leetcode.com/problems/power-of-two/)"
   ]
  },
  {
   "cell_type": "code",
   "execution_count": 2,
   "id": "9680782c",
   "metadata": {},
   "outputs": [],
   "source": [
    "class Solution(object):\n",
    "    def isPowerOfTwo(self, n):\n",
    "        if n == 0:\n",
    "            return False\n",
    "        while n % 2 == 0:\n",
    "            n /= 2\n",
    "        return n == 1"
   ]
  },
  {
   "cell_type": "markdown",
   "id": "745118de",
   "metadata": {},
   "source": [
    "## 50. Pow(x, n)\n",
    "[50. Pow(x, n)](https://leetcode.com/problems/powx-n/)"
   ]
  },
  {
   "cell_type": "code",
   "execution_count": 3,
   "id": "22a68152",
   "metadata": {},
   "outputs": [],
   "source": [
    "class Solution:\n",
    "    def myPow(self, x: float, n: int) -> float:\n",
    "        # edge cases\n",
    "        if x == 0:\n",
    "            return 0\n",
    "        if n == 0:\n",
    "            return 1\n",
    "        if n < 0:\n",
    "            x = 1 / x\n",
    "            n = -1 * n\n",
    "        return self.power(x, n)\n",
    "    \n",
    "    def power(self, x, n):\n",
    "        # base case\n",
    "        if n == 0:\n",
    "            return 1\n",
    "        half = self.power(x, n // 2)\n",
    "        if n % 2 == 0:\n",
    "            return half * half\n",
    "        else:\n",
    "            return half * half * x\n",
    "            \n",
    "    # TC = O(logn)\n",
    "    # SC = O(logn)"
   ]
  },
  {
   "cell_type": "markdown",
   "id": "06ef6052",
   "metadata": {},
   "source": [
    "## 54. Spiral Matrix\n",
    "[54. Spiral Matrix](https://leetcode.com/problems/spiral-matrix/)"
   ]
  },
  {
   "cell_type": "code",
   "execution_count": 22,
   "id": "7febed50",
   "metadata": {},
   "outputs": [],
   "source": [
    "class Solution:\n",
    "    \"\"\"\n",
    "        set 4 boundries r1 r2 c1 c2 (inclusive)\n",
    "        shirnk the boundries for each recursion\n",
    "        TC = O(mn)\n",
    "        SC = O(min(m, n) / 2)\n",
    "        \n",
    "        care about if elif else logic\n",
    "    \"\"\"\n",
    "    def spiralOrder(self, matrix):\n",
    "        self.res = []\n",
    "        m = len(matrix)\n",
    "        n = len(matrix[0])\n",
    "        self.spiral(matrix, 0, m - 1, 0, n - 1)\n",
    "        return self.res\n",
    "    \n",
    "    def spiral(self, matrix, r1, r2, c1, c2):\n",
    "        # base case\n",
    "        if r1 > r2 or c1 > c2:\n",
    "            # no elements need to append\n",
    "            return\n",
    "        elif r2 == r1:\n",
    "            # append row\n",
    "            for j in range(c1, c2 + 1):\n",
    "                self.res.append(matrix[r1][j])\n",
    "        elif c2 == c1:\n",
    "            # append col\n",
    "            for i in range(r1, r2 + 1):\n",
    "                self.res.append(matrix[i][c1])\n",
    "        else:\n",
    "            # top row\n",
    "            for j in range(c1, c2):\n",
    "                self.res.append(matrix[r1][j])\n",
    "            # right col\n",
    "            for i in range(r1, r2):\n",
    "                self.res.append(matrix[i][c2])\n",
    "            # buttom row\n",
    "            for j in range(c2, c1, -1):\n",
    "                self.res.append(matrix[r2][j])\n",
    "\n",
    "            # left col\n",
    "            for i in range(r2, r1, -1):\n",
    "                self.res.append(matrix[i][c1])\n",
    "            # shrink and call recursion\n",
    "            return self.spiral(matrix, r1 + 1, r2 - 1, c1 + 1, c2 - 1)\n"
   ]
  },
  {
   "cell_type": "markdown",
   "id": "f66cb706",
   "metadata": {},
   "source": [
    "## 59. Spiral Matrix II\n",
    "[59. Spiral Matrix II](https://leetcode.com/problems/spiral-matrix-ii/)"
   ]
  },
  {
   "cell_type": "code",
   "execution_count": 14,
   "id": "a9b95305",
   "metadata": {},
   "outputs": [
    {
     "data": {
      "text/plain": [
       "0"
      ]
     },
     "execution_count": 14,
     "metadata": {},
     "output_type": "execute_result"
    }
   ],
   "source": [
    "res = [[0] * 4] * 4\n",
    "res[0][0]"
   ]
  },
  {
   "cell_type": "code",
   "execution_count": 17,
   "id": "e94dd9a9",
   "metadata": {},
   "outputs": [
    {
     "name": "stdout",
     "output_type": "stream",
     "text": [
      "10\n",
      "9\n",
      "8\n",
      "7\n"
     ]
    }
   ],
   "source": [
    "for i in range(10, 6, -1):\n",
    "    print(i)"
   ]
  },
  {
   "cell_type": "code",
   "execution_count": 23,
   "id": "d433a18a",
   "metadata": {},
   "outputs": [],
   "source": [
    "class Solution:\n",
    "    def generateMatrix(self, n: int):\n",
    "        # self.res = [[0] * n] * n (wrong!!!! each row of list copy the same reference, shallow copy)\n",
    "        self.res = [[0 for _ in range(n)] for _ in range(n)]\n",
    "        self.val = 1\n",
    "        self.spiral(0, n - 1, 0, n - 1)\n",
    "        return self.res\n",
    "    \n",
    "    def spiral(self, r1, r2, c1, c2):\n",
    "        # base case\n",
    "        if r1 == r2 or c1 == c2:\n",
    "            self.res[r1][c1] = self.val\n",
    "            return\n",
    "        elif r1 > r2 or c1 > c2:\n",
    "            return\n",
    "        # top row\n",
    "        for j in range(c1, c2):\n",
    "            self.res[r1][j] = self.val\n",
    "            self.val +=1\n",
    "        \n",
    "        # right col\n",
    "        for i in range(r1, r2):\n",
    "            self.res[i][c2] = self.val\n",
    "            self.val += 1\n",
    "            \n",
    "        # buttom row\n",
    "        for j in range(c2, c1, -1):\n",
    "            self.res[r2][j] = self.val\n",
    "            self.val += 1\n",
    "\n",
    "        # left col\n",
    "        for i in range(r2, r1, -1):\n",
    "            self.res[i][c1] = self.val\n",
    "            self.val += 1\n",
    "        # recursion\n",
    "        return self.spiral(r1 + 1, r2 -1, c1 + 1, c2 - 1)"
   ]
  },
  {
   "cell_type": "markdown",
   "id": "52c836ea",
   "metadata": {},
   "source": [
    "## 51. N-Queens\n",
    "[51. N-Queens](https://leetcode.com/problems/n-queens/)\n",
    "\n",
    "- TC = $O(N!)$\n",
    "- SC = $O(N^2)$"
   ]
  },
  {
   "cell_type": "code",
   "execution_count": 1,
   "id": "8805e480",
   "metadata": {},
   "outputs": [
    {
     "name": "stdout",
     "output_type": "stream",
     "text": [
      "[['d...'], ['e....']] [['a...'], ['b....']]\n"
     ]
    }
   ],
   "source": [
    "import copy\n",
    "a = [['a...'],['b....']]\n",
    "b = copy.deepcopy(a)\n",
    "a = [['d...'],['e....']]\n",
    "print(a, b)"
   ]
  },
  {
   "cell_type": "code",
   "execution_count": 2,
   "id": "a663d218",
   "metadata": {},
   "outputs": [],
   "source": [
    "class Solution:\n",
    "    def solveNQueens(self, n: int):\n",
    "        \"\"\"\n",
    "        1. Each row could only put one queen\n",
    "        N levels in the recursion tree, each level represents a queen\n",
    "        in each level, valid posiitons to put the queen \n",
    "        result to save all the possible configurations\n",
    "        \n",
    "        \"\"\"\n",
    "        chess = [['.' for _ in range(n)] for _ in range(n)]\n",
    "        result = []\n",
    "        self.dfs(chess, 0, n, result)\n",
    "        return result\n",
    "    \n",
    "    def dfs(self, chess, row, n, result):\n",
    "        # base case\n",
    "        if row == n:\n",
    "            oneRes = self.format_res(chess, n)\n",
    "            # print(oneRes)\n",
    "            result.append(oneRes)\n",
    "            return\n",
    "        # put a valid Queen at current level\n",
    "        for j in range(n):\n",
    "            chess[row][j] = 'Q'\n",
    "            if self.isValid(chess, n, row, j):\n",
    "                self.dfs(chess, row + 1, n, result)\n",
    "            chess[row][j] = '.'\n",
    "        \n",
    "    \n",
    "    def isValid(self, chess, n, row, col):\n",
    "        for i in range(row):\n",
    "            for j in range(n):\n",
    "                if chess[i][j] == 'Q':\n",
    "                    # check with current Q\n",
    "                    if i == row or j == col or abs((col-j) / (row - i)) == 1:\n",
    "                        return False\n",
    "        return True\n",
    "    \n",
    "    def format_res(self, chess, n):\n",
    "        res = []\n",
    "        for i in range(n):\n",
    "            res.append(\"\".join(chess[i]))\n",
    "        return res"
   ]
  },
  {
   "cell_type": "markdown",
   "id": "0834ad42",
   "metadata": {},
   "source": [
    "## 24. Swap Nodes in Pairs\n",
    "[24. Swap Nodes in Pairs](https://leetcode.com/problems/swap-nodes-in-pairs/)"
   ]
  },
  {
   "cell_type": "code",
   "execution_count": 19,
   "id": "16b382b0",
   "metadata": {},
   "outputs": [],
   "source": [
    "class ListNode:\n",
    "    def __init__(self, val=0, next=None):\n",
    "        self.val = val\n",
    "        self.next = next\n",
    "        \n",
    "class Solution:\n",
    "    def swapPairs(self, head):\n",
    "        # base case\n",
    "        if head is None or head.next is None:\n",
    "            return head\n",
    "        # recursive rule\n",
    "        newHead = head.next\n",
    "        head.next = self.swapPairs(head.next.next)\n",
    "        newHead.next = head\n",
    "        return newHead\n",
    "        \n",
    "    # TC = O(n)\n",
    "    # SC = O(n) -- call stack 1 branch"
   ]
  },
  {
   "cell_type": "markdown",
   "id": "91ec28a6",
   "metadata": {},
   "source": [
    "## 25. Reverse Nodes in k-Group\n",
    "[25. Reverse Nodes in k-Group](https://leetcode.com/problems/reverse-nodes-in-k-group/)"
   ]
  },
  {
   "cell_type": "code",
   "execution_count": 21,
   "id": "ef201db3",
   "metadata": {},
   "outputs": [],
   "source": [
    "# TC = O(n)\n",
    "# SC = O(n / k)\n",
    "class Solution:\n",
    "    def reverseKGroup(self, head, k: int):\n",
    "        \"\"\"\n",
    "        step 1: reverse first k elements (iterative)\n",
    "                - not k elments left: no reverse, return head (like base case)\n",
    "                - have k elments\n",
    "        step 2: reverse rest of elements (recursive)\n",
    "        step 3: combine two part\n",
    "        \"\"\"\n",
    "        # check if there are k elements left\n",
    "        count = 0\n",
    "        cur = head\n",
    "        prev = None\n",
    "        \n",
    "        while count < k and cur: # cannot change k\n",
    "            prev = cur\n",
    "            cur = cur.next\n",
    "            count += 1\n",
    "            # k -= 1 (Wrong!!! we still need to pass k to the next recursion function)\n",
    "        if count < k:\n",
    "            # not enough k elements\n",
    "            return head\n",
    "        \n",
    "        # reverse\n",
    "        prev.next = None # split two part\n",
    "        newHead = self.reverse(head)\n",
    "        # recursion to next \n",
    "        rest_newHead = self.reverseKGroup(cur, k)\n",
    "        \n",
    "        # connect the two part\n",
    "        head.next = rest_newHead\n",
    "        return newHead\n",
    "    \n",
    "    # building blocks\n",
    "    def reverse(self, head):\n",
    "        if head is None or head.next is None:\n",
    "            return head\n",
    "        prev = None\n",
    "        cur = head\n",
    "        while cur:\n",
    "            next_node = cur.next\n",
    "            \n",
    "            cur.next = prev\n",
    "            prev = cur\n",
    "            cur = next_node\n",
    "        return prev"
   ]
  }
 ],
 "metadata": {
  "kernelspec": {
   "display_name": "Python 3 (ipykernel)",
   "language": "python",
   "name": "python3"
  },
  "language_info": {
   "codemirror_mode": {
    "name": "ipython",
    "version": 3
   },
   "file_extension": ".py",
   "mimetype": "text/x-python",
   "name": "python",
   "nbconvert_exporter": "python",
   "pygments_lexer": "ipython3",
   "version": "3.8.12"
  }
 },
 "nbformat": 4,
 "nbformat_minor": 5
}
