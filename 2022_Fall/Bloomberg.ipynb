{
 "cells": [
  {
   "cell_type": "markdown",
   "id": "8c32f71d",
   "metadata": {},
   "source": [
    "# === Design ==="
   ]
  },
  {
   "cell_type": "markdown",
   "id": "f37367ad",
   "metadata": {},
   "source": [
    "## 706. Design HashMap\n",
    "[706. Design HashMap](https://leetcode.com/problems/design-hashmap/)"
   ]
  },
  {
   "cell_type": "code",
   "execution_count": null,
   "id": "92415be0",
   "metadata": {},
   "outputs": [],
   "source": []
  },
  {
   "cell_type": "markdown",
   "id": "f298eacf",
   "metadata": {},
   "source": [
    "## *** 155. Min Stack\n",
    "[155. Min Stack](https://leetcode.com/problems/min-stack/)\n",
    "\n",
    "- O(n) --> O(1)"
   ]
  },
  {
   "cell_type": "code",
   "execution_count": null,
   "id": "bad9b9ed",
   "metadata": {},
   "outputs": [],
   "source": []
  },
  {
   "cell_type": "markdown",
   "id": "77df646b",
   "metadata": {},
   "source": [
    "## 146. LRU Cache\n",
    "[146. LRU Cache](https://leetcode.com/problems/lru-cache/)\n",
    "\n",
    "```\n",
    "算法题 设计历史记录\n",
    "插入新记录时要删除原来旧的。比如原来是12345，现在插入3，结果是12453\n",
    "follow up：\n",
    "内存有限制怎么办？持久化一部分，或者设置内存的limit‍‌‍‌‌‍‌‍‍‍‌‍‍‍‌‌‌‌‌\n",
    "达到内存限制怎么办？淘汰最旧的记录。\n",
    "这道题其实就是LRU cache的变种\n",
    "```\n",
    "\n",
    "- HM: 条件是数据非常大million级一次性输入然后给返回"
   ]
  },
  {
   "cell_type": "code",
   "execution_count": null,
   "id": "c5f47324",
   "metadata": {},
   "outputs": [],
   "source": []
  },
  {
   "cell_type": "markdown",
   "id": "494be23c",
   "metadata": {},
   "source": [
    "## 1396. Design Underground System\n",
    "[1396. Design Underground System](https://leetcode.com/problems/design-underground-system/)"
   ]
  },
  {
   "cell_type": "code",
   "execution_count": 6,
   "id": "ea10198e",
   "metadata": {},
   "outputs": [
    {
     "name": "stdout",
     "output_type": "stream",
     "text": [
      "defaultdict(<function <lambda> at 0x7f849de09670>, {'cc': [1, 1]})\n"
     ]
    }
   ],
   "source": [
    "from collections import defaultdict\n",
    "a = defaultdict(lambda: [0, 0])\n",
    "a['cc'] = [1,1]\n",
    "print(a)"
   ]
  },
  {
   "cell_type": "code",
   "execution_count": 8,
   "id": "f358c8b6",
   "metadata": {},
   "outputs": [],
   "source": [
    "from collections import defaultdict\n",
    "\n",
    "class UndergroundSystem:\n",
    "\n",
    "    def __init__(self):\n",
    "        # P\n",
    "        self.check_in_dict = {}\n",
    "        # S chose 2 = S^2\n",
    "        self.trip_dict = defaultdict(lambda: [0, 0])\n",
    "\n",
    "    def checkIn(self, id: int, stationName: str, t: int) -> None:\n",
    "        self.check_in_dict[id] = (stationName, t)\n",
    "        \n",
    "\n",
    "    def checkOut(self, id: int, stationName: str, t: int) -> None:\n",
    "        # look up the id in check_in_dict and transfer the data to trip_dict\n",
    "        start_station, start_time = self.check_in_dict.pop(id)\n",
    "        self.trip_dict[(start_station, stationName)][0] += t - start_time\n",
    "        self.trip_dict[(start_station, stationName)][1] += 1\n",
    "        \n",
    "\n",
    "    def getAverageTime(self, startStation: str, endStation: str) -> float:\n",
    "        total_time, total_count = self.trip_dict[(startStation, endStation)]\n",
    "        return total_time / total_count\n",
    "\n",
    "\n",
    "# Your UndergroundSystem object will be instantiated and called as such:\n",
    "# obj = UndergroundSystem()\n",
    "# obj.checkIn(id,stationName,t)\n",
    "# obj.checkOut(id,stationName,t)\n",
    "# param_3 = obj.getAverageTime(startStation,endStation)"
   ]
  },
  {
   "cell_type": "markdown",
   "id": "fbab9425",
   "metadata": {},
   "source": [
    "## 1656. Design an Ordered Stream\n",
    "[1656. Design an Ordered Stream](https://leetcode.com/problems/design-an-ordered-stream/)\n",
    "\n",
    "- 优化一下space， 从list换成dic 就好\n",
    "- 如果insert的顺序基本都是连续的话怎么能特判一下提高效率"
   ]
  },
  {
   "cell_type": "code",
   "execution_count": 2,
   "id": "c6f16c18",
   "metadata": {},
   "outputs": [],
   "source": [
    "\"\"\"\n",
    "Basically , we need to store every incoming value at the given index. And\n",
    "with every incoming index, we have to check\n",
    "\n",
    "If the current index is less than the incoming index, the we have to return\n",
    "an empty list\n",
    "\n",
    "Else , we have to return an sliced list from the incoming index to the first index\n",
    "where there is no insertion till yet.\n",
    "\n",
    "Solution:\n",
    "    Initialize a list of size n with None\n",
    "    Maintain the current index with self.ptr\n",
    "    For every insert call, with idKey, value\n",
    "    Assign the list[idKey-1] to the value # Since array is 0-index reduce 1\n",
    "    Check if the current index is less than incoming index(idKey-1) and return []\n",
    "    Else return sliced list from incoming index(idKey-1) till we do not encounter None.\n",
    "\"\"\"\n",
    "\n",
    "class OrderedStream:\n",
    "    def __init__(self, n: int):\n",
    "        self.stream = [None for _ in range(n)]\n",
    "        self.ptr = 0\n",
    "        \n",
    "    def insert(self, idKey: int, value: str):\n",
    "        idKey -= 1\n",
    "        self.stream[idKey] = value\n",
    "        if self.ptr < idKey:\n",
    "            return []\n",
    "        else:\n",
    "            while self.ptr < len(self.stream) and self.stream[self.ptr] is not None:\n",
    "                self.ptr += 1\n",
    "            return self.stream[idKey:self.ptr]\n",
    "\n",
    "# Your OrderedStream object will be instantiated and called as such:\n",
    "# obj = OrderedStream(n)\n",
    "# param_1 = obj.insert(idKey,value)"
   ]
  },
  {
   "cell_type": "markdown",
   "id": "dfc32cc8",
   "metadata": {},
   "source": [
    "## *** 380. Insert Delete GetRandom O(1)\n",
    "[380. Insert Delete GetRandom O(1)](https://leetcode.com/problems/insert-delete-getrandom-o1/)\n",
    "\n",
    "- Lottery System\n",
    "- 1. duplicate的话怎么办，2. 多线程的话怎么办 （不需要写code，但一直在讨论怎么优化）"
   ]
  },
  {
   "cell_type": "code",
   "execution_count": 3,
   "id": "9a1e4511",
   "metadata": {},
   "outputs": [
    {
     "data": {
      "text/plain": [
       "1"
      ]
     },
     "execution_count": 3,
     "metadata": {},
     "output_type": "execute_result"
    }
   ],
   "source": [
    "from random import choice\n",
    "a = [1,2,3]\n",
    "b = choice(a)\n",
    "b"
   ]
  },
  {
   "cell_type": "code",
   "execution_count": 16,
   "id": "2f719ea1",
   "metadata": {},
   "outputs": [],
   "source": [
    "from random import choice\n",
    "class RandomizedSet:\n",
    "\n",
    "    def __init__(self):\n",
    "        self.rand_list = []\n",
    "        self.ele_idx = {}\n",
    "\n",
    "    def insert(self, val: int) -> bool:\n",
    "        if val in self.ele_idx:\n",
    "            return False\n",
    "        self.ele_idx[val] = len(self.rand_list)\n",
    "        self.rand_list.append(val)\n",
    "        return True\n",
    "\n",
    "    def remove(self, val: int) -> bool:\n",
    "        if val not in self.ele_idx:\n",
    "            return False\n",
    "        \n",
    "        # find the last element\n",
    "        last_ele = self.rand_list[-1]\n",
    "        # find the idx of delete ele\n",
    "        del_idx = self.ele_idx[val]\n",
    "        \n",
    "        # dict\n",
    "        # update the last_ele\n",
    "        self.ele_idx[last_ele] = del_idx\n",
    "        # delete val\n",
    "        self.ele_idx.pop(val)\n",
    "        \n",
    "        # list\n",
    "        # self.rand_list[-1], self.rand_list[del_idx] = self.rand_list[del_idx], self.rand_list[-1]\n",
    "        self.rand_list[del_idx] = last_ele\n",
    "        self.rand_list.pop()\n",
    "        return True\n",
    "\n",
    "    def getRandom(self) -> int:\n",
    "        return choice(self.rand_list)"
   ]
  },
  {
   "cell_type": "markdown",
   "id": "f764ff71",
   "metadata": {},
   "source": [
    "## 381. Insert Delete GetRandom O(1) - Duplicates allowed\n",
    "[381. Insert Delete GetRandom O(1) - Duplicates allowed](https://leetcode.com/problems/insert-delete-getrandom-o1-duplicates-allowed/)"
   ]
  },
  {
   "cell_type": "code",
   "execution_count": null,
   "id": "6661ce78",
   "metadata": {},
   "outputs": [],
   "source": []
  },
  {
   "cell_type": "markdown",
   "id": "b3ded11a",
   "metadata": {},
   "source": [
    "## 1244. Design A Leaderboard\n",
    "[1244. Design A Leaderboard](https://leetcode.com/problems/design-a-leaderboard/)\n",
    "\n",
    "```\n",
    "follow up: 会问多次请求如何处理\n",
    "我的理解是如果addScore请求较多就让addScore TC低一些，就maintain一个array每次addScore constant，如果top请求较多就让top TC低一些，就maintain一个heap每次top稳定klogn\n",
    "```"
   ]
  },
  {
   "cell_type": "markdown",
   "id": "63a1058d",
   "metadata": {},
   "source": [
    "## 就是码头，传进来的是货物有不同公司和大小， 然后传进来对应的公司ticket， 大小就要进行增加，还有topK\n",
    "ticket - volumn:\n",
    "    add(String ticket, int volumn)\n",
    "    List<String> topK(), 用hashmap 实现,  \n",
    "    follow up， 如果使用topk远大于 add，并且还要求能根据ticket查找volumn怎么办，  我是说添加一个linkedlist， 每次添加重新排序\n",
    "\n",
    "一个hashmap加一个treemap, 可以保证add是O(logN), topK是O(k)"
   ]
  },
  {
   "cell_type": "code",
   "execution_count": 3,
   "id": "bd7750b1",
   "metadata": {},
   "outputs": [],
   "source": [
    "from collections import defaultdict\n",
    "import heapq\n",
    "class Leaderboard:\n",
    "    # SC = O(N + K) dict + heap\n",
    "\n",
    "    def __init__(self):\n",
    "        self.scores = defaultdict(int)\n",
    "\n",
    "    # TC = O(1)\n",
    "    def addScore(self, playerId: int, score: int) -> None:\n",
    "        self.scores[playerId] += score\n",
    "        \n",
    "    # TC = K (heapify) + (N - K)logK(pop) + KlogK(add up)\n",
    "    def top(self, K: int) -> int:\n",
    "        minHeap = []\n",
    "        for x in self.scores.values():\n",
    "            heapq.heappush(minHeap, x)\n",
    "            if len(minHeap) > K:\n",
    "                heapq.heappop(minHeap)\n",
    "        # add top k\n",
    "        total = 0\n",
    "        while minHeap:\n",
    "            total += heapq.heappop(minHeap)\n",
    "        return total\n",
    "        \n",
    "    # TC = O(1)\n",
    "    def reset(self, playerId: int) -> None:\n",
    "        self.scores[playerId] = 0"
   ]
  },
  {
   "cell_type": "markdown",
   "id": "35fc081a",
   "metadata": {},
   "source": [
    "## 1472. Design Browser History\n",
    "[1472. Design Browser History](https://leetcode.com/problems/design-browser-history/)\n",
    "\n",
    "- 很多重复的url保持最后的访问顺序 LRU"
   ]
  },
  {
   "cell_type": "code",
   "execution_count": 4,
   "id": "43db3e6f",
   "metadata": {},
   "outputs": [],
   "source": [
    "class BrowserHistory:\n",
    "    \"\"\"\n",
    "    two stack to keep track of the dependency of previous and next pages\n",
    "    \n",
    "    homepage: b\n",
    "    stack previous [ a \n",
    "    stack next [ c\n",
    "    \n",
    "    # !!! when visiting a new page, no next url exist\n",
    "    \"\"\"\n",
    "\n",
    "    def __init__(self, homepage: str):\n",
    "        self.home = homepage\n",
    "        self.previous = deque()\n",
    "        self.next = deque()\n",
    "\n",
    "    def visit(self, url: str) -> None:\n",
    "        self.previous.append(self.home)\n",
    "        self.home = url\n",
    "        # !!! when visiting a new page, no next url exist\n",
    "        self.next.clear()\n",
    "\n",
    "    def back(self, steps: int) -> str:\n",
    "        while self.previous and steps > 0:\n",
    "            self.next.append(self.home)\n",
    "            self.home = self.previous.pop()\n",
    "            steps -= 1\n",
    "        return self.home\n",
    "\n",
    "    def forward(self, steps: int) -> str:\n",
    "        while self.next and steps > 0:\n",
    "            self.previous.append(self.home)\n",
    "            self.home = self.next.pop()\n",
    "            steps -= 1\n",
    "        return self.home"
   ]
  },
  {
   "cell_type": "markdown",
   "id": "707a6e61",
   "metadata": {},
   "source": [
    "## 1206. Design Skiplist\n",
    "[1206. Design Skiplist](https://leetcode.com/problems/design-skiplist/)"
   ]
  },
  {
   "cell_type": "code",
   "execution_count": null,
   "id": "6fd0dca3",
   "metadata": {},
   "outputs": [],
   "source": []
  },
  {
   "cell_type": "markdown",
   "id": "9e66ab9e",
   "metadata": {},
   "source": [
    "## 怎么design扑克牌和deck（用花色和rank来区分不同牌）最后简单问了问hashmap是怎么implement的\n",
    "- 用enum repsent花色和ranking就行"
   ]
  },
  {
   "cell_type": "code",
   "execution_count": null,
   "id": "0d8f2946",
   "metadata": {},
   "outputs": [],
   "source": []
  },
  {
   "cell_type": "markdown",
   "id": "295e43a5",
   "metadata": {},
   "source": [
    "# === Array/String ==="
   ]
  },
  {
   "cell_type": "markdown",
   "id": "76abd3fc",
   "metadata": {},
   "source": [
    "## ++++ Binary Search +++"
   ]
  },
  {
   "cell_type": "markdown",
   "id": "1a587ff0",
   "metadata": {},
   "source": [
    "## 852. Peak Index in a Mountain Array\n",
    "[852. Peak Index in a Mountain Array](https://leetcode.com/problems/peak-index-in-a-mountain-array/)"
   ]
  },
  {
   "cell_type": "code",
   "execution_count": 17,
   "id": "b73d3a7c",
   "metadata": {},
   "outputs": [],
   "source": [
    "class Solution:\n",
    "    def peakIndexInMountainArray(self, arr) -> int:\n",
    "        \"\"\"\n",
    "        0 1 2 3 4 5 6 7\n",
    "        0 2 4 6 10 5 2 1\n",
    "        l\n",
    "                       r\n",
    "              m\n",
    "        in the mountain array [1, 2, 3, 4, 1], the comparisons A[i] < A[i+1] would be True, True, True, False.\n",
    "\n",
    "        We can find the largest index i such that A[i] < A[i+1]。 A[i + 1] is the peak\n",
    "        \"\"\"\n",
    "        n = len(arr)\n",
    "        l = 0\n",
    "        r = n - 1\n",
    "        while l < r:\n",
    "            mid = l + (r - l) // 2\n",
    "            if arr[mid] < arr[mid + 1]:\n",
    "                l = mid + 1\n",
    "            else:\n",
    "                # r might be the peak\n",
    "                r = mid\n",
    "        return l"
   ]
  },
  {
   "cell_type": "code",
   "execution_count": 3,
   "id": "e86d724c",
   "metadata": {},
   "outputs": [],
   "source": [
    "def findMin(arr):\n",
    "    \"\"\"\n",
    "    寻找一个数列的最小值，可能是单增，单减，也可能是v型\n",
    "        前面数组前面半截是逆序\n",
    "        没有倒v这种情况\n",
    "\n",
    "    5 4 3 2 1 8 10 11\n",
    "    l\n",
    "                    r\n",
    "          mid\n",
    "    if arr[mid] > arr[mid+1]:\n",
    "        l = mid + 1\n",
    "    else:\n",
    "        r = mid\n",
    "    \"\"\"\n",
    "    n = len(arr)\n",
    "    l = 0\n",
    "    r = n - 1\n",
    "    while l < r:\n",
    "        mid = l + (r - l) // 2\n",
    "        if arr[mid] > arr[mid + 1]:\n",
    "            l = mid + 1\n",
    "        else:\n",
    "            r = mid\n",
    "    return l\n",
    "\n",
    "arr1 = [5,4,3,2,1]\n",
    "arr2 = [1,2,3,4,5]\n",
    "arr3 = [5,4,3,2,1,8,10]\n",
    "# print(findMin(arr1))\n",
    "# print(findMin(arr2))\n",
    "# print(findMin(arr3))"
   ]
  },
  {
   "cell_type": "markdown",
   "id": "f94c9dd9",
   "metadata": {},
   "source": [
    "## 153. Find Minimum in Rotated Sorted Array\n",
    "[153. Find Minimum in Rotated Sorted Array](https://leetcode.com/problems/find-minimum-in-rotated-sorted-array/)\n",
    "\n",
    "\n",
    "- Follow up: 寻找一个数列的最小值，可能是单增，单减，也可能是v型\n",
    "    - 前面数组前面半截是逆序\n",
    "    - 没有倒v这种情况"
   ]
  },
  {
   "cell_type": "code",
   "execution_count": 8,
   "id": "9f27dcfb",
   "metadata": {},
   "outputs": [],
   "source": [
    "class Solution:\n",
    "    def findMin(self, nums) -> int:\n",
    "        \"\"\"\n",
    "        \n",
    "        case1: no rotation\n",
    "        1 2 3 4 5 6 7   l < r: return l\n",
    "        l\n",
    "                    r\n",
    "        \n",
    "        case 2:\n",
    "        0 1 2 3 4 5 6 7  mid > mid + 1: return mid + 1\n",
    "        4 5 6 7 | 0 1 2\n",
    "        l\n",
    "                      r\n",
    "              m          \n",
    "       \n",
    "        Goal: find the cliff point\n",
    "        1. Find the mid element of the array.\n",
    "\n",
    "        2. If mid element > first element :look for the cliff point on the right of mid.\n",
    "\n",
    "            If mid element < first element :look for the cliff point on the left of mid.\n",
    "        \n",
    "        3. We stop our search when we find the inflection point, when either of the two conditions is satisfied:\n",
    "\n",
    "            nums[mid] > nums[mid + 1] Hence, mid+1 is the smallest.\n",
    "\n",
    "            nums[mid - 1] > nums[mid] Hence, mid is the smallest.\n",
    "        \n",
    "        Time: O(logn)\n",
    "        Space: O(1)\n",
    "              \n",
    "        \"\"\"\n",
    "        n = len(nums)\n",
    "        left = 0\n",
    "        right = n - 1\n",
    "        # corner case:\n",
    "        if n == 1:\n",
    "            return nums[0]\n",
    "        if nums[left] < nums[right]:\n",
    "            return nums[left]\n",
    "        \n",
    "        # binary search\n",
    "        while left <= right:\n",
    "            mid = left + (right - left) // 2\n",
    "            if mid < n - 1 and nums[mid] > nums[mid + 1]:\n",
    "                return nums[mid + 1]\n",
    "            if mid > 0 and nums[mid - 1] > nums[mid]:\n",
    "                return nums[mid]\n",
    "            \n",
    "            # left sorted\n",
    "            if nums[mid] > nums[left]:\n",
    "                left = mid + 1\n",
    "            else:\n",
    "                right = mid - 1"
   ]
  },
  {
   "cell_type": "markdown",
   "id": "bf2985aa",
   "metadata": {},
   "source": [
    "## 154. Find Minimum in Rotated Sorted Array II\n",
    "[154. Find Minimum in Rotated Sorted Array II](https://leetcode.com/problems/find-minimum-in-rotated-sorted-array-ii/)"
   ]
  },
  {
   "cell_type": "code",
   "execution_count": 10,
   "id": "1303aa24",
   "metadata": {},
   "outputs": [],
   "source": [
    "# Time: O(n)\n",
    "# Space: O(1)\n",
    "class Solution:\n",
    "    def findMin(self, nums) -> int:\n",
    "        left = 0\n",
    "        right = len(nums) - 1\n",
    "        \n",
    "        while left < right:\n",
    "            mid = left + (right - left) // 2\n",
    "            if nums[left] == nums[mid] == nums[right]:\n",
    "                left += 1\n",
    "                right -= 1\n",
    "            # mid might be the minimum value\n",
    "            elif nums[mid] <= nums[right]:\n",
    "                right = mid\n",
    "            else:\n",
    "                left = mid + 1\n",
    "\n",
    "        # cover only one element case\n",
    "        return nums[left]"
   ]
  },
  {
   "cell_type": "markdown",
   "id": "00213e6d",
   "metadata": {},
   "source": [
    "## 33. Search in Rotated Sorted Array\n",
    "[33. Search in Rotated Sorted Array](https://leetcode.com/problems/search-in-rotated-sorted-array/)"
   ]
  },
  {
   "cell_type": "code",
   "execution_count": 5,
   "id": "4f5f5d5e",
   "metadata": {},
   "outputs": [],
   "source": [
    "class Solution:\n",
    "    def search(self, nums, target: int) -> int:\n",
    "        \"\"\"\n",
    "                   mid\n",
    "        case 1: 4 5 6 7 0 1 2 --> left sorted\n",
    "        case 2: 5 6 0 1 2 3 4 --> right sorted\n",
    "        \n",
    "        the subarray is either left sorted or right sorted\n",
    "        we can determine if the target within the sorted part or not to tight the bound\n",
    "        \n",
    "        left sorted: \n",
    "            nums[left] <= target < nums[mid]: go left \n",
    "            else go right\n",
    "        rigth sorted: \n",
    "            nums[mid] < target <= nums[right: go right\n",
    "            else go left\n",
    "        \n",
    "        \"\"\"\n",
    "        n = len(nums)\n",
    "        left = 0\n",
    "        right = n - 1\n",
    "        while left <= right:\n",
    "            mid = left + (right - left) // 2\n",
    "            if nums[mid] == target:\n",
    "                return mid\n",
    "            \n",
    "            # left sorted\n",
    "            if nums[left] <= nums[mid]: # [3,1] target = 1  handle 2 elements case\n",
    "                # target in the left side\n",
    "                if nums[left] <= target < nums[mid]:\n",
    "                    # go left\n",
    "                    right = mid - 1\n",
    "                else:\n",
    "                    # go right\n",
    "                    left = mid + 1\n",
    "            # right sorted\n",
    "            else:\n",
    "                # target in the right side\n",
    "                if nums[mid] < target <= nums[right]:\n",
    "                    # go right\n",
    "                    left = mid + 1\n",
    "                else:\n",
    "                    right = mid - 1\n",
    "                \n",
    "        return -1"
   ]
  },
  {
   "cell_type": "markdown",
   "id": "a28231ab",
   "metadata": {},
   "source": [
    "## 81. Search in Rotated Sorted Array II\n",
    "[81. Search in Rotated Sorted Array II](https://leetcode.com/problems/search-in-rotated-sorted-array-ii/)"
   ]
  },
  {
   "cell_type": "code",
   "execution_count": 7,
   "id": "74905dbb",
   "metadata": {},
   "outputs": [],
   "source": [
    "class Solution:\n",
    "    def search(self, nums, target: int) -> bool:\n",
    "        \"\"\"\n",
    "        only difference: avoid duplicates\n",
    "        \n",
    "        Time: worse case all numbers are the same O(n)\n",
    "        Space: O(1)\n",
    "        \"\"\"\n",
    "        n = len(nums)\n",
    "        left = 0\n",
    "        right = n - 1\n",
    "        \n",
    "        while left <= right:\n",
    "            # avoid duplicates\n",
    "            while left < right and nums[left] == nums[left + 1]:\n",
    "                left += 1\n",
    "            while left < right and nums[right] == nums[right - 1]:\n",
    "                right -= 1\n",
    "            \n",
    "            # binary search\n",
    "            mid = left + (right - left) // 2\n",
    "            if nums[mid] == target:\n",
    "                return True\n",
    "            # left sorted\n",
    "            if nums[mid] >= nums[left]:\n",
    "                if nums[left] <= target < nums[mid]:\n",
    "                    # go left\n",
    "                    right = mid - 1\n",
    "                else:\n",
    "                    left = mid + 1\n",
    "            else:\n",
    "            # right sorted\n",
    "                if nums[mid] < target <= nums[right]:\n",
    "                    # go right\n",
    "                    left = mid + 1\n",
    "                else:\n",
    "                    right = mid - 1\n",
    "        return False"
   ]
  },
  {
   "cell_type": "markdown",
   "id": "939613a5",
   "metadata": {},
   "source": [
    "### 找一个b list比a list大的数量，但用two for loops不行，要用二分法提升Time Complexity"
   ]
  },
  {
   "cell_type": "code",
   "execution_count": null,
   "id": "623f4b8a",
   "metadata": {},
   "outputs": [],
   "source": []
  },
  {
   "cell_type": "markdown",
   "id": "364f564b",
   "metadata": {},
   "source": [
    "## ++++ Prefix Sum +++"
   ]
  },
  {
   "cell_type": "markdown",
   "id": "1cb94bc1",
   "metadata": {},
   "source": [
    "## 238. Product of Array Except Self\n",
    "[238. Product of Array Except Self](https://leetcode.com/problems/product-of-array-except-self/)"
   ]
  },
  {
   "cell_type": "code",
   "execution_count": 11,
   "id": "4adac1a8",
   "metadata": {},
   "outputs": [],
   "source": [
    "class Solution:\n",
    "    def productExceptSelf(self, nums):\n",
    "        \"\"\"\n",
    "        uodate the answer inplace\n",
    "        \"\"\"\n",
    "        n = len(nums)\n",
    "        answer = [0]*n\n",
    "        \n",
    "        # answer[i] contains the product of all the elements to the left\n",
    "        # Note: for the element at index '0', there are no elements to the left,\n",
    "        # so the answer[0] would be 1\n",
    "        answer[0] = 1\n",
    "        for i in range(1, n):\n",
    "            # answer[i - 1] already contains the product of elements to the left of 'i - 1'\n",
    "            # Simply multiplying it with nums[i - 1] would give the product of all \n",
    "            # elements to the left of index 'i'\n",
    "            answer[i] = nums[i - 1] * answer[i - 1]\n",
    "        \n",
    "        # R contains the product of all the elements to the right\n",
    "        # Note: for the element at index 'length - 1', there are no elements to the right,\n",
    "        # so the R would be 1\n",
    "        R = 1;\n",
    "        for i in reversed(range(n)):        \n",
    "            # For the index 'i', R would contain the \n",
    "            # product of all elements to the right. We update R accordingly\n",
    "            answer[i] = answer[i] * R\n",
    "            R *= nums[i]\n",
    "        \n",
    "        return answer"
   ]
  },
  {
   "cell_type": "code",
   "execution_count": 10,
   "id": "af6f93e7",
   "metadata": {},
   "outputs": [
    {
     "name": "stdout",
     "output_type": "stream",
     "text": [
      "3\n",
      "2\n",
      "1\n"
     ]
    }
   ],
   "source": [
    "a = [1, 2, 3]\n",
    "for i in reversed(range(len(a))):\n",
    "    print(a[i])"
   ]
  },
  {
   "cell_type": "code",
   "execution_count": 9,
   "id": "a49dd8cb",
   "metadata": {},
   "outputs": [],
   "source": [
    "# Solution 1: TC = O(n) SC = O(n)\n",
    "class Solution:\n",
    "    def productExceptSelf(self, nums):\n",
    "        \"\"\"\n",
    "        res[i] = mul(nums[0: i]) * mul(nums[i + 1:])\n",
    "        \n",
    "          1   2 3 4\n",
    "    left  1   1 2 6\n",
    "    right 24 12 4 1\n",
    "        \"\"\"\n",
    "        n = len(nums)\n",
    "        left = [1 for _ in range(n)]\n",
    "        for i in range(1, n):\n",
    "            left[i] = left[i - 1] * nums[i - 1]\n",
    "        \n",
    "        right = [1 for _ in range(n)]\n",
    "        for i in range(n - 2, -1, -1):\n",
    "            right[i] = right[i + 1] * nums[i + 1]\n",
    "        \n",
    "        res = [1 for _ in range(n)]\n",
    "        for i in range(n):\n",
    "            res[i] = left[i] * right[i]\n",
    "        return res"
   ]
  },
  {
   "cell_type": "markdown",
   "id": "d71b2889",
   "metadata": {},
   "source": [
    "## 128. Longest Consecutive Sequence\n",
    "[128. Longest Consecutive Sequence](https://leetcode.com/problems/longest-consecutive-sequence/)\n",
    "- 套扑克牌的，5个则是顺子\n",
    "- 就是幺二八套一个扑克牌的外壳，input是234JQKA这种，能连续数5个就是顺子\n",
    "- input String: JQKA235"
   ]
  },
  {
   "cell_type": "code",
   "execution_count": 9,
   "id": "17016c30",
   "metadata": {},
   "outputs": [],
   "source": [
    "class Solution:\n",
    "    def longestConsecutive(self, nums) -> int:\n",
    "        \"\"\"\n",
    "        100,4,200,1,3,2\n",
    "        i\n",
    "        \n",
    "        1 2 3 4 5\n",
    "        \n",
    "        5 4 3 2 1\n",
    "                j\n",
    "          \n",
    "        1. Brute force --> O(n^3)\n",
    "        2. 2 changes --> O(n)\n",
    "        \"\"\"\n",
    "        if not nums:\n",
    "            return 0\n",
    "        num_set = set(nums)\n",
    "        global_max = 0\n",
    "        \n",
    "        for num in num_set:\n",
    "            # avoid duplicate calculation\n",
    "            # start at a 断崖\n",
    "            if num - 1 not in num_set:\n",
    "                cur_num = num\n",
    "                cur_max = 1\n",
    "                while cur_num + 1 in num_set:\n",
    "                    cur_num += 1\n",
    "                    cur_max  += 1\n",
    "                global_max = max(global_max, cur_max)\n",
    "        return global_max"
   ]
  },
  {
   "cell_type": "markdown",
   "id": "4b162b95",
   "metadata": {},
   "source": [
    "## ++++ Sliding Window +++"
   ]
  },
  {
   "cell_type": "markdown",
   "id": "29cae2a3",
   "metadata": {},
   "source": [
    "## 3. Longest Substring Without Repeating Characters\n",
    "[3. Longest Substring Without Repeating Characters](https://leetcode.com/problems/longest-substring-without-repeating-characters/)\n",
    "\n",
    "- 最坏情况的最好情况: best: non-repeating worse: all-repeating"
   ]
  },
  {
   "cell_type": "code",
   "execution_count": 10,
   "id": "14cc0d64",
   "metadata": {},
   "outputs": [],
   "source": [
    "class Solution:\n",
    "    def lengthOfLongestSubstring(self, s: str) -> int:\n",
    "        \"\"\"\n",
    "        abcabcbb\n",
    "        i\n",
    "          j\n",
    "        abcdefgg\n",
    "        i\n",
    "              j\n",
    "        \n",
    "        [i, j] current longest substring witout rep chars\n",
    "        max: global_max = 1\n",
    "        set[a b c\n",
    "        \n",
    "        TC = O(n)\n",
    "        SC = O(n)\n",
    "        \"\"\"\n",
    "        n = len(s)\n",
    "        if n <= 1:\n",
    "            return n\n",
    "        dup = set()\n",
    "        l = 0\n",
    "        global_max = 0\n",
    "        for r in range(n):\n",
    "            while s[r] in dup:\n",
    "                # shrink left\n",
    "                dup.remove(s[l])\n",
    "                l += 1\n",
    "            # satisfy\n",
    "            global_max = max(global_max, r - l + 1)\n",
    "            # add current\n",
    "            dup.add(s[r])\n",
    "        return global_max"
   ]
  },
  {
   "cell_type": "markdown",
   "id": "2e9932f2",
   "metadata": {},
   "source": [
    "## ++++ Two Pointers +++"
   ]
  },
  {
   "cell_type": "markdown",
   "id": "e0f84379",
   "metadata": {},
   "source": [
    "## 283. Move Zeroes\n",
    "[283. Move Zeroes](https://leetcode.com/problems/move-zeroes/)"
   ]
  },
  {
   "cell_type": "code",
   "execution_count": 2,
   "id": "e0dc11a2",
   "metadata": {},
   "outputs": [],
   "source": [
    "class Solution:\n",
    "    def moveZeroes(self, nums) -> None:\n",
    "        \"\"\"\n",
    "        Do not return anything, modify nums in-place instead.\n",
    "        \n",
    "        1 3 12 0 0\n",
    "          i\n",
    "                 j\n",
    "        [0, i) non-zero\n",
    "        j: current element\n",
    "        (j, n] zero\n",
    "        \"\"\"\n",
    "        i = 0\n",
    "        j = 0\n",
    "        while j < len(nums):\n",
    "            if nums[j] != 0:\n",
    "                nums[i], nums[j] = nums[j], nums[i]\n",
    "                i += 1\n",
    "            j += 1"
   ]
  },
  {
   "cell_type": "markdown",
   "id": "06b82f2e",
   "metadata": {},
   "source": [
    "## 1209. Remove All Adjacent Duplicates in String II\n",
    "[1209. Remove All Adjacent Duplicates in String II](https://leetcode.com/problems/remove-all-adjacent-duplicates-in-string-ii/)\n",
    "\n",
    "- 变种亿儿零酒，不是给定的k长度，是所有大于等于k长度的都要删掉，follow up如何优化：时间上已经是O（n)了只能propose空间，问了可不可以只用一个counter来update出现的次数，并没有让implement。"
   ]
  },
  {
   "cell_type": "code",
   "execution_count": null,
   "id": "4a61544e",
   "metadata": {},
   "outputs": [],
   "source": []
  },
  {
   "cell_type": "markdown",
   "id": "6d7a5d93",
   "metadata": {},
   "source": [
    "## 1. Two Sum\n",
    "[1. Two Sum](https://leetcode.com/problems/two-sum/)\n",
    "- 变种 ： two sum变形，find how many pairs‍‌‍‌‌‍‌‍‍‍‌‍‍‍‌‌‌‌‌ (of 2 elements) in an array sum up to the target value，\n",
    "- sorted? duplicates?"
   ]
  },
  {
   "cell_type": "code",
   "execution_count": null,
   "id": "33ce9088",
   "metadata": {},
   "outputs": [],
   "source": []
  },
  {
   "cell_type": "markdown",
   "id": "074cae88",
   "metadata": {},
   "source": [
    "## 15. 3Sum\n",
    "[15. 3Sum](https://leetcode.com/problems/3sum/)"
   ]
  },
  {
   "cell_type": "code",
   "execution_count": null,
   "id": "44c84cf1",
   "metadata": {},
   "outputs": [],
   "source": []
  },
  {
   "cell_type": "markdown",
   "id": "5bc8fc7d",
   "metadata": {},
   "source": [
    "## 394. Decode String\n",
    "[394. Decode String](https://leetcode.com/problems/decode-string/)"
   ]
  },
  {
   "cell_type": "code",
   "execution_count": null,
   "id": "ee08200e",
   "metadata": {},
   "outputs": [],
   "source": []
  },
  {
   "cell_type": "markdown",
   "id": "67576eca",
   "metadata": {},
   "source": [
    "## 271. Encode and Decode Strings\n",
    "[271. Encode and Decode Strings](https://leetcode.com/problems/encode-and-decode-strings/)\n",
    "- 他会先问如果字符串只带字母怎么做，然后再问如果字符串涵盖所有字符怎么设计"
   ]
  },
  {
   "cell_type": "code",
   "execution_count": null,
   "id": "7a8086b2",
   "metadata": {},
   "outputs": [],
   "source": []
  },
  {
   "cell_type": "markdown",
   "id": "5dd0325c",
   "metadata": {},
   "source": [
    "## 1790. Check if One String Swap Can Make Strings Equal\n",
    "[1790. Check if One String Swap Can Make Strings Equal](https://leetcode.com/problems/check-if-one-string-swap-can-make-strings-equal/)\n",
    "\n",
    "- 判断两个string，如果 只做一次swap ，是否可以变的一样"
   ]
  },
  {
   "cell_type": "code",
   "execution_count": 1,
   "id": "393431c6",
   "metadata": {},
   "outputs": [],
   "source": [
    "class Solution:\n",
    "    def areAlmostEqual(self, s1: str, s2: str) -> bool:\n",
    "        if s1 == s2:\n",
    "            return True\n",
    "        pairs = []\n",
    "        for i in range(len(s1)):\n",
    "            if s1[i] != s2[i]:\n",
    "                # record the mismatch chars in pair\n",
    "                pairs.append([s1[i], s2[i]])\n",
    "        # check if only one swap could make two stirng equal\n",
    "        if len(pairs) == 2:\n",
    "            if pairs[0][0] == pairs[1][1] and pairs[0][1] == pairs[1][0]:\n",
    "                return True\n",
    "        return False"
   ]
  },
  {
   "cell_type": "markdown",
   "id": "c600ab4c",
   "metadata": {},
   "source": [
    "## 611. Valid Triangle Number\n",
    "[611. Valid Triangle Number](https://www.1point3acres.com/bbs/thread-918542-1-1.html)"
   ]
  },
  {
   "cell_type": "code",
   "execution_count": null,
   "id": "24042a12",
   "metadata": {},
   "outputs": [],
   "source": []
  },
  {
   "cell_type": "markdown",
   "id": "aaebb5d0",
   "metadata": {},
   "source": [
    "## 723. Candy Crush\n",
    "[723. Candy Crush](https://leetcode.com/problems/candy-crush/)\n",
    "\n",
    "- Time complexity analysis explanation: Suppose there are R rows and C Columns. Then the number of vertical repetitions of length 3 we can crush are R/3 per column * C columns. The number of horizontal repetitions of length 3 we can crush are C/3 per row * R rows. Each crushing session takes O (R * C) time so we have O((R * C * R/3 * C) + (RCC/3R)) = O(R^2C^2/3 + R^2C^2/3) = O(R^2C^2).\n",
    "- Space: O(1)"
   ]
  },
  {
   "cell_type": "code",
   "execution_count": 7,
   "id": "d6d3fcdc",
   "metadata": {},
   "outputs": [],
   "source": [
    "class Solution(object):\n",
    "    def candyCrush(self, board):\n",
    "        return self.cursh(board) if todo else board\n",
    "    \n",
    "    # one candy crush\n",
    "    def crush(self, board):\n",
    "        R = len(board)\n",
    "        C = len(board[0])\n",
    "        # flag to check if we need to recursivly call candy crush functions\n",
    "        todo = False\n",
    "\n",
    "        # mark same elements in the same row\n",
    "        for r in range(R):\n",
    "            for c in range(C-2):\n",
    "                if abs(board[r][c]) == abs(board[r][c+1]) == abs(board[r][c+2]) != 0:\n",
    "                    board[r][c] = board[r][c+1] = board[r][c+2] = -abs(board[r][c])\n",
    "                    todo = True\n",
    "\n",
    "        # mark same elements in the same col\n",
    "        for r in range(R-2):\n",
    "            for c in range(C):\n",
    "                if abs(board[r][c]) == abs(board[r+1][c]) == abs(board[r+2][c]) != 0:\n",
    "                    board[r][c] = board[r+1][c] = board[r+2][c] = -abs(board[r][c])\n",
    "                    todo = True\n",
    "\n",
    "        \"\"\"\n",
    "        elements drop\n",
    "        start at the bottom of the row\n",
    "            if not candy:\n",
    "                copy wr --\n",
    "            if it's candy:\n",
    "                skip\n",
    "        \"\"\"\n",
    "        for c in range(C):\n",
    "            wr = R-1\n",
    "            # fill drop elements\n",
    "            for r in range(R-1, -1, -1):\n",
    "                if board[r][c] > 0:\n",
    "                    board[wr][c] = board[r][c]\n",
    "                    wr -= 1\n",
    "            # fill top cells to 0\n",
    "            for wr in range(wr, -1, -1):\n",
    "                board[wr][c] = 0"
   ]
  },
  {
   "cell_type": "markdown",
   "id": "22019beb",
   "metadata": {},
   "source": [
    "## ++++  Intervals +++"
   ]
  },
  {
   "cell_type": "markdown",
   "id": "8ec30309",
   "metadata": {},
   "source": [
    "## 253. Meeting Rooms II\n",
    "[253. Meeting Rooms II](https://leetcode.com/problems/meeting-rooms-ii/)\n",
    "-  follow up是 如果要返回最大重叠的meetingroom怎么整\n",
    "- 某时刻meeting room如何计算\n",
    "[C++ follow up](https://www.1point3acres.com/bbs/thread-923941-1-1.html)"
   ]
  },
  {
   "cell_type": "code",
   "execution_count": 2,
   "id": "4d643db5",
   "metadata": {},
   "outputs": [],
   "source": [
    "class Solution:\n",
    "    def minMeetingRooms(self, intervals) -> int: \n",
    "        \"\"\"\n",
    "        Minimum number of conference room --- maximium number of overlapping at the same time. \n",
    "        [[0,30], [5,10], [15,20]] \n",
    "        \n",
    "        time stamp: \n",
    "        start time: +1 \n",
    "        end time: -1 \n",
    "        \n",
    "        list: (time,number)\n",
    "        0 +1; 30 -1; 5: +1; etc. \n",
    "        \n",
    "        sort() \n",
    "        \n",
    "        0   5    10    15    20    30 \n",
    "        1   1     -1    1     -1    -1   \n",
    "        \n",
    "        arr = 1   2      1     2     1    0       \n",
    "        \n",
    "        max(arr) \n",
    "        time: n log (n) \n",
    "        space: O(n)  \n",
    "        \"\"\"   \n",
    "        # dict time stamps\n",
    "        time_stamps = []\n",
    "        for start, end in intervals:\n",
    "            # cover smae time stamps\n",
    "            time_stamps.append((start, 1))\n",
    "            time_stamps.append((end, -1))\n",
    "\n",
    "        # sort\n",
    "        time_stamps.sort()\n",
    "\n",
    "        # calculate the accumulated sum and keep track of the global max\n",
    "        global_max = 0\n",
    "        cur_room = 0\n",
    "        for time, val in time_stamps:\n",
    "            cur_room += val\n",
    "            global_max = max(global_max, cur_room)\n",
    "        # return global max\n",
    "        return global_max"
   ]
  },
  {
   "cell_type": "markdown",
   "id": "929fd7ec",
   "metadata": {},
   "source": [
    "## 759. Employee Free Time\n",
    "[759. Employee Free Time](https://leetcode.com/problems/employee-free-time/)"
   ]
  },
  {
   "cell_type": "markdown",
   "id": "65ad64e3",
   "metadata": {},
   "source": [
    "简单来说就是 给定一个总体的time frame，然后再给你一个time interval的list 让你找出其中空出来的interval\n",
    "被挂倒是不冤 第一轮我就给出了灾难级的表现 国人大哥给接雨水那题很可能是想帮我 毕竟算是刷题网很经典的题了 可惜我没把握住 上一次做这题得半年前了\n",
    "我就给了一个当时自己做的解法 然后让我优化 我依稀记得可以用单调栈 但是中间很多的细节记不起来"
   ]
  },
  {
   "cell_type": "code",
   "execution_count": 4,
   "id": "a34dded0",
   "metadata": {},
   "outputs": [],
   "source": [
    "# optmize by default dict (avoid same time stamps has not interval)\n",
    "class Solution:\n",
    "    def employeeFreeTime(self, schedule: '[[Interval]]') -> '[Interval]':\n",
    "        \"\"\"\n",
    "        [[1,2],   [5,6]],\n",
    "        [[1,  3]],\n",
    "               [[4,       10]]\n",
    "         2 -1 -1 1 1  -1   -1\n",
    "         2  1  0 1 2  1     0\n",
    "        \n",
    "        accumulated sum == 0\n",
    "        \n",
    "        \n",
    "        edge case:\n",
    "                       [94,99]\n",
    "        [57,87],[91,94]\n",
    "        1    -1  1  -1\n",
    "                         1  -1\n",
    "        1    0   1   0   1   0\n",
    "        \"\"\"\n",
    "        # time_stamps\n",
    "        time_stamps = defaultdict(int)\n",
    "        for cur in schedule:\n",
    "            for s in cur:\n",
    "                time_stamps[s.start] += 1\n",
    "                time_stamps[s.end] -= 1\n",
    "        # sort\n",
    "        time_sort = sorted(time_stamps.keys())\n",
    "        # accumulated sum\n",
    "        cur_sum = 0\n",
    "        res = []\n",
    "        for i in range(len(time_sort) - 1):\n",
    "            pre = time_sort[i]\n",
    "            val = time_stamps[pre]\n",
    "            cur_sum += val\n",
    "            if cur_sum == 0:\n",
    "                cur = time_sort[i + 1]\n",
    "                res.append(Interval(pre, cur))\n",
    "        return res"
   ]
  },
  {
   "cell_type": "code",
   "execution_count": 3,
   "id": "66379029",
   "metadata": {},
   "outputs": [],
   "source": [
    "class Solution:\n",
    "    def employeeFreeTime(self, schedule: '[[Interval]]') -> '[Interval]':\n",
    "        \"\"\"\n",
    "        [[1,2],   [5,6]],\n",
    "        [[1,  3]],\n",
    "               [[4,       10]]\n",
    "         2 -1 -1 1 1  -1   -1\n",
    "         2  1  0 1 2  1     0\n",
    "        \n",
    "        accumulated sum == 0\n",
    "        \n",
    "        \n",
    "        !! edge case:\n",
    "                       [94,99]\n",
    "        [57,87],[91,94]\n",
    "        1    -1  1  -1\n",
    "                         1  -1\n",
    "        1    0   1   0   1   0\n",
    "        \"\"\"\n",
    "        # time_stamps\n",
    "        time_stamps = []\n",
    "        for cur in schedule:\n",
    "            for s in cur:\n",
    "                time_stamps.append((s.start, 1))\n",
    "                time_stamps.append((s.end, -1))\n",
    "        # sort\n",
    "        time_stamps.sort()\n",
    "        # accumulated sum\n",
    "        accumulated_sum = []\n",
    "        cur_sum = 0\n",
    "        for time, val in time_stamps:\n",
    "            cur_sum += val\n",
    "            accumulated_sum.append((time, cur_sum))\n",
    "        # post processing\n",
    "        res = []\n",
    "        for i in range(len(accumulated_sum) - 1):\n",
    "            pre = accumulated_sum[i]\n",
    "            cur = accumulated_sum[i + 1]\n",
    "            if pre[1] == 0 and pre[0] != cur[0]:\n",
    "            # if pre[1] == 0:\n",
    "                res.append(Interval(pre[0], cur[0]))\n",
    "        return res"
   ]
  },
  {
   "cell_type": "markdown",
   "id": "d82e00e5",
   "metadata": {},
   "source": [
    "## 56. Merge Intervals\n",
    "[56. Merge Intervals](https://leetcode.com/problems/merge-intervals/)"
   ]
  },
  {
   "cell_type": "code",
   "execution_count": 8,
   "id": "043b4b93",
   "metadata": {},
   "outputs": [],
   "source": [
    "class Solution:\n",
    "    def merge(self, intervals):\n",
    "        \"\"\"\n",
    "        TC = O(nlogn)\n",
    "        SC = O(n)\n",
    "        \n",
    "        sort by start time\n",
    "        [1,3],[2,6],[8,10],[15,18]\n",
    "        compare pair by pair\n",
    "        case 1: cur start > previous end (not merge)\n",
    "        case 2: cur start <= previous end (merge)\n",
    "        \"\"\"\n",
    "        res = []\n",
    "        n = len(intervals)\n",
    "        intervals.sort()\n",
    "        res.append(intervals[0])\n",
    "        for i in range(1, n):\n",
    "            cur = intervals[i]\n",
    "            if cur[0] > res[-1][1]:\n",
    "                # not merge\n",
    "                res.append(cur)\n",
    "            else:\n",
    "                # merge\n",
    "                res[-1] = [res[-1][0], max(res[-1][1], cur[1])]\n",
    "        return res"
   ]
  },
  {
   "cell_type": "markdown",
   "id": "9b112e1f",
   "metadata": {},
   "source": [
    "## 986. Interval List Intersections\n",
    "[986. Interval List Intersections](https://leetcode.com/problems/interval-list-intersections/)"
   ]
  },
  {
   "cell_type": "code",
   "execution_count": 9,
   "id": "1fd79911",
   "metadata": {},
   "outputs": [],
   "source": [
    "# Solution 2: merge intervals\n",
    "class Solution:\n",
    "    def intervalIntersection(self, A, B):\n",
    "        ans = []\n",
    "        i = j = 0\n",
    "\n",
    "        while i < len(A) and j < len(B):\n",
    "            # Let's check if A[i] intersects B[j].\n",
    "            # lo - the startpoint of the intersection\n",
    "            # hi - the endpoint of the intersection\n",
    "            lo = max(A[i][0], B[j][0])\n",
    "            hi = min(A[i][1], B[j][1])\n",
    "            if lo <= hi:\n",
    "                ans.append([lo, hi])\n",
    "\n",
    "            # Remove the interval with the smallest endpoint\n",
    "            if A[i][1] < B[j][1]:\n",
    "                i += 1\n",
    "            else:\n",
    "                j += 1\n",
    "\n",
    "        return ans"
   ]
  },
  {
   "cell_type": "code",
   "execution_count": 6,
   "id": "bd433c3e",
   "metadata": {},
   "outputs": [],
   "source": [
    "# Solution 1: accummulated sum\n",
    "# !!! edge case same time stamp one start one end\n",
    "class Solution:\n",
    "    def intervalIntersection(self, firstList, secondList):\n",
    "        \"\"\"\n",
    "        [0,  2],  [5,10]\n",
    "          [1,   5]\n",
    "         1 1 -1 -1 1 -1\n",
    "         1 2  1  0 1  0\n",
    "        \n",
    "        !!! edge case\n",
    "        same time stamp: one is start, one is end\n",
    "        \"\"\"\n",
    "        time_stamps = []\n",
    "        for start, end in firstList:\n",
    "            time_stamps.append((start, 1))\n",
    "            time_stamps.append((end, -1))\n",
    "        for start, end in secondList:\n",
    "            time_stamps.append((start, 1))\n",
    "            time_stamps.append((end, -1))\n",
    "        # sort\n",
    "        time_stamps.sort()\n",
    "        # find the intervals with val 2\n",
    "        cur_sum = 0\n",
    "        res = []\n",
    "        for i in range(len(time_stamps) - 1):\n",
    "            pre = time_stamps[i]\n",
    "            cur = time_stamps[i + 1]\n",
    "            cur_sum += pre[1]\n",
    "            if cur_sum == 2 or (pre[0] == cur[0] and pre[1] + cur[1] == 0):\n",
    "                res.append((pre[0], cur[0]))\n",
    "        return res"
   ]
  },
  {
   "cell_type": "markdown",
   "id": "f7918bfd",
   "metadata": {},
   "source": [
    "## 151. Reverse Words in a String\n",
    "[151. Reverse Words in a String](https://leetcode.com/problems/reverse-words-in-a-string/)"
   ]
  },
  {
   "cell_type": "code",
   "execution_count": null,
   "id": "a6677719",
   "metadata": {},
   "outputs": [],
   "source": []
  },
  {
   "cell_type": "markdown",
   "id": "99129b73",
   "metadata": {},
   "source": [
    "## +++ Sorting +++"
   ]
  },
  {
   "cell_type": "markdown",
   "id": "ffaa763f",
   "metadata": {},
   "source": [
    "## 75. Sort Colors\n",
    "[75. Sort Colors](https://leetcode.com/problems/sort-colors/)"
   ]
  },
  {
   "cell_type": "code",
   "execution_count": null,
   "id": "2635433d",
   "metadata": {},
   "outputs": [],
   "source": []
  },
  {
   "cell_type": "markdown",
   "id": "a8e3cdcc",
   "metadata": {},
   "source": [
    "# === Heap / PriorityQueue ==="
   ]
  },
  {
   "cell_type": "markdown",
   "id": "a8fe371c",
   "metadata": {},
   "source": [
    "# === HashTable ==="
   ]
  },
  {
   "cell_type": "markdown",
   "id": "71f5fbbd",
   "metadata": {},
   "source": [
    "## 1347. Minimum Number of Steps to Make Two Strings Anagram\n",
    "[1347. Minimum Number of Steps to Make Two Strings Anagram](https://leetcode.com/problems/minimum-number-of-steps-to-make-two-strings-anagram/)"
   ]
  },
  {
   "cell_type": "code",
   "execution_count": 2,
   "id": "c6472cce",
   "metadata": {},
   "outputs": [],
   "source": [
    "class Solution:\n",
    "    def minSteps(self, s: str, t: str) -> int:\n",
    "        \"\"\"\n",
    "        1. calculate the char an it's count\n",
    "            s leetcode -> {l:1, e:3, t:1, c:1, o:1, d:1}\n",
    "            t practice -> {p:1, e:1, r:1, c:2, a:1, t:1, i:1}\n",
    "        2. iterate over t:\n",
    "            if ch in s:\n",
    "                if s_count < t_count: need to modify the dif\n",
    "                if s_count > t_count: offset the dif\n",
    "           if ch not in s:\n",
    "                modify ch\n",
    "        \"\"\"\n",
    "        s_dict = Counter(s)\n",
    "        t_dict = Counter(t)\n",
    "        steps = 0\n",
    "        for ch, count in t_dict.items():\n",
    "            if ch in s_dict:\n",
    "                dif = count - s_dict[ch]\n",
    "                steps += dif if dif > 0 else 0\n",
    "            else:\n",
    "                steps += count\n",
    "        return steps"
   ]
  },
  {
   "cell_type": "markdown",
   "id": "d72eff03",
   "metadata": {},
   "source": [
    "## 1169. Invalid Transactions\n",
    "[1169. Invalid Transactions](https://leetcode.com/problems/invalid-transactions/)"
   ]
  },
  {
   "cell_type": "code",
   "execution_count": 1,
   "id": "fd4adddd",
   "metadata": {},
   "outputs": [],
   "source": [
    "from collections import defaultdict\n",
    "\"\"\"\n",
    "Clarify:\n",
    "    1. duplicate output\n",
    "    \n",
    "Solution:\n",
    "        prev_tran = dictionary --> create a dictionary to keep track of previous transaction \n",
    "        invalid_tran = set --> to store invalid transaction /set to avoid duplication \n",
    "        \n",
    "        Iterate over transactions:\n",
    "            -> if the amount is greater than 1000 add it to the invalid_tran\n",
    "            -> if there is any other previous transaction done by similar person , check it from the prev_tran\n",
    "                    -> bring all previous transaction done by similar person (iterate over the prev_tran)\n",
    "                            -> check if the absolute time difference is less than 60 and the city is different \n",
    "                            -> if that is true add it to the invalid transaction \n",
    "            -> add the transaction to the prev_tran - always keep track of previous transaction \n",
    "\"\"\"\n",
    "class Solution:\n",
    "    def invalidTransactions(self, transactions):\n",
    "        if not transactions:\n",
    "            return []\n",
    "        prev_tran = defaultdict(list)\n",
    "        invalid_tran = set()\n",
    "        for i, tran in enumerate(transactions):\n",
    "            cur_info = tran.split(',')\n",
    "            # get info\n",
    "            name, time, amount, city = cur_info[0], int(cur_info[1]), int(cur_info[2]), cur_info[3]\n",
    "            # check amount\n",
    "            if amount > 1000:\n",
    "                invalid_tran.add((tran, i))\n",
    "            # check same person transactions\n",
    "            if name in prev_tran:\n",
    "                for pre, idx in prev_tran[name]:\n",
    "                    prev_info = pre.split(',')\n",
    "                    prev_time = int(prev_info[1])\n",
    "                    prev_city = prev_info[3]\n",
    "                    if abs(prev_time - time) <= 60 and prev_city != city:\n",
    "                        invalid_tran.add((pre,idx))\n",
    "                        invalid_tran.add((tran, i))\n",
    "            # add current transaction into pre_tran\n",
    "            prev_tran[name].append((tran, i))\n",
    "        return [ele[0] for ele in invalid_tran]\n",
    "# TC = O(n^2)\n",
    "# SC = O(n)"
   ]
  },
  {
   "cell_type": "markdown",
   "id": "32c90017",
   "metadata": {},
   "source": [
    "## 1636. Sort Array by Increasing Frequency\n",
    "[1636. Sort Array by Increasing Frequency](https://leetcode.com/problems/sort-array-by-increasing-frequency/)\n",
    "\n",
    "- hashmap implementation"
   ]
  },
  {
   "cell_type": "code",
   "execution_count": null,
   "id": "0c820e6b",
   "metadata": {},
   "outputs": [],
   "source": []
  },
  {
   "cell_type": "markdown",
   "id": "00c5f927",
   "metadata": {},
   "source": [
    "## Predict next word的题。给出一堆sentences，作为数据样本，根据每个word的下一个word的出现频率，预测当前word的下一个word是什么。核心思想是用二维map来记录frequency来做查找"
   ]
  },
  {
   "cell_type": "code",
   "execution_count": null,
   "id": "748897bc",
   "metadata": {},
   "outputs": [],
   "source": []
  },
  {
   "cell_type": "markdown",
   "id": "14d378a3",
   "metadata": {},
   "source": [
    "## Order list in welsh alphabetical order\n",
    "[Order list in welsh alphabetical order](https://leetcode.com/discuss/interview-question/682583/bloomberg-phone-order-list-in-welsh-alphabetical-order)"
   ]
  },
  {
   "cell_type": "code",
   "execution_count": null,
   "id": "273ac941",
   "metadata": {},
   "outputs": [],
   "source": []
  },
  {
   "cell_type": "markdown",
   "id": "1566ad40",
   "metadata": {},
   "source": [
    "# === Linkedlist ==="
   ]
  },
  {
   "cell_type": "markdown",
   "id": "e8bcea04",
   "metadata": {},
   "source": [
    "## 21. Merge Two Sorted Lists\n",
    "[21. Merge Two Sorted Lists](https://leetcode.com/problems/merge-two-sorted-lists/)\n",
    "\n",
    "- 要求不能new 新的node，只能修改原来的next指针"
   ]
  },
  {
   "cell_type": "code",
   "execution_count": null,
   "id": "3a38b306",
   "metadata": {},
   "outputs": [],
   "source": []
  },
  {
   "cell_type": "markdown",
   "id": "5481891d",
   "metadata": {},
   "source": [
    "## 23. Merge k Sorted Lists\n",
    "[23. Merge k Sorted Lists](https://leetcode.com/problems/merge-k-sorted-lists/)"
   ]
  },
  {
   "cell_type": "code",
   "execution_count": null,
   "id": "6f0fc965",
   "metadata": {},
   "outputs": [],
   "source": []
  },
  {
   "cell_type": "markdown",
   "id": "8cbbb2c2",
   "metadata": {},
   "source": [
    "## 138. Copy List with Random Pointer\n",
    "[138. Copy List with Random Pointer](https://leetcode.com/problems/copy-list-with-random-pointer/)"
   ]
  },
  {
   "cell_type": "code",
   "execution_count": null,
   "id": "2717b777",
   "metadata": {},
   "outputs": [],
   "source": []
  },
  {
   "cell_type": "markdown",
   "id": "2fbb7bb5",
   "metadata": {},
   "source": [
    "## 83. Remove Duplicates from Sorted List\n",
    "[83. Remove Duplicates from Sorted List](https://leetcode.com/problems/remove-duplicates-from-sorted-list/)"
   ]
  },
  {
   "cell_type": "code",
   "execution_count": 1,
   "id": "20ae1f8d",
   "metadata": {},
   "outputs": [],
   "source": [
    "class Solution:\n",
    "    def deleteDuplicates(self, head):\n",
    "        \"\"\"\n",
    "         [1,   1,1,2,3,3]\n",
    "                  cur \n",
    "          res\n",
    "        \"\"\"\n",
    "        if not head:\n",
    "            return head\n",
    "        cur = head\n",
    "        while cur and cur.next:\n",
    "            if cur.val == cur.next.val:\n",
    "                cur.next = cur.next.next\n",
    "            else:\n",
    "                cur = cur.next\n",
    "        return head"
   ]
  },
  {
   "cell_type": "markdown",
   "id": "dae6fd1d",
   "metadata": {},
   "source": [
    "## 24. Swap Nodes in Pairs\n",
    "[24. Swap Nodes in Pairs](https://leetcode.com/problems/swap-nodes-in-pairs/)"
   ]
  },
  {
   "cell_type": "code",
   "execution_count": 2,
   "id": "28b218a2",
   "metadata": {},
   "outputs": [],
   "source": [
    "class Solution:\n",
    "    \"\"\"\n",
    "        1 2 3 4\n",
    "        newHead = head.next\n",
    "        head.next.next = reverse(head.next.next)\n",
    "    \"\"\"\n",
    "    def swapPairs(self, head):\n",
    "        # base case\n",
    "        if head is None or head.next is None:\n",
    "            return head\n",
    "        # recursive rule\n",
    "        newHead = head.next\n",
    "        head.next = self.swapPairs(head.next.next)\n",
    "        newHead.next = head\n",
    "        return newHead"
   ]
  },
  {
   "cell_type": "markdown",
   "id": "77e2fe7f",
   "metadata": {},
   "source": [
    "## 2. Add Two Numbers\n",
    "[2. Add Two Numbers](https://leetcode.com/problems/add-two-numbers/)"
   ]
  },
  {
   "cell_type": "code",
   "execution_count": 7,
   "id": "94436cc8",
   "metadata": {},
   "outputs": [],
   "source": [
    "class Solution:\n",
    "    def addTwoNumbers(self, l1, l2):\n",
    "        \"\"\"\n",
    "         2 4 3 \n",
    "               i\n",
    "         5 6 4 8\n",
    "                 j\n",
    " carry 0\n",
    "         7 0 8 8\n",
    "        \"\"\"\n",
    "        \n",
    "        # Time = O(max(m, n))   m = len(l1)\n",
    "        # Space = O(max(m, n))  n = len(l2)\n",
    "        dummyHead = ListNode(226)\n",
    "        dummy = dummyHead\n",
    "        i = l1\n",
    "        j = l2\n",
    "        carry = 0\n",
    "        while i or j or carry:\n",
    "            l1_val = i.val if i else 0\n",
    "            l2_val = j.val if j else 0\n",
    "            # total sum\n",
    "            cur_sum = l1_val + l2_val + carry\n",
    "            # set cur_val and update carry\n",
    "            carry = cur_sum // 10\n",
    "            cur_val = cur_sum % 10\n",
    "            dummy.next = ListNode(cur_val)\n",
    "            dummy = dummy.next\n",
    "            i = i.next if i else None\n",
    "            j = j.next if j else None\n",
    "        return dummyHead.next"
   ]
  },
  {
   "cell_type": "markdown",
   "id": "92ae5109",
   "metadata": {},
   "source": [
    "## 445. Add Two Numbers II\n",
    "\n",
    "[445. Add Two Numbers II](https://leetcode.com/problems/add-two-numbers-ii/)"
   ]
  },
  {
   "cell_type": "code",
   "execution_count": 6,
   "id": "044e1879",
   "metadata": {},
   "outputs": [],
   "source": [
    "class Solution:\n",
    "    # TC = O(m + n)\n",
    "    # SC = O(max(m, n))\n",
    "    def addTwoNumbers(self, l1, l2):\n",
    "        l1 = self.reverse(l1)\n",
    "        l2 = self.reverse(l2)\n",
    "        carry = 0\n",
    "        dummyHead = ListNode(226)\n",
    "        dummy = dummyHead\n",
    "        while l1 or l2 or carry > 0:\n",
    "            val1 = l1.val if l1 else 0\n",
    "            val2 = l2.val if l2 else 0\n",
    "            cur_sum = val1 + val2 + carry\n",
    "            num = cur_sum % 10\n",
    "            carry = cur_sum // 10\n",
    "            dummy.next = ListNode(num)\n",
    "            dummy = dummy.next\n",
    "            \n",
    "            l1 = l1.next if l1 else None\n",
    "            l2 = l2.next if l2 else None\n",
    "        return self.reverse(dummyHead.next)\n",
    "            \n",
    "        \n",
    "    def reverse(self, head):\n",
    "        if head is None or head.next is None:\n",
    "            return head\n",
    "        newHead = self.reverse(head.next)\n",
    "        head.next.next = head\n",
    "        head.next = None\n",
    "        return newHead"
   ]
  },
  {
   "cell_type": "markdown",
   "id": "3903116f",
   "metadata": {},
   "source": [
    "## 430. Flatten a Multilevel Doubly Linked List\n",
    "[430. Flatten a Multilevel Doubly Linked List](https://leetcode.com/problems/flatten-a-multilevel-doubly-linked-list/)"
   ]
  },
  {
   "cell_type": "code",
   "execution_count": 8,
   "id": "35a17631",
   "metadata": {},
   "outputs": [],
   "source": [
    "#    TC = O(n)\n",
    "#    SC = O(n)\n",
    "class Solution:\n",
    "    def flatten(self, head: 'Optional[Node]') -> 'Optional[Node]':\n",
    "        res = head\n",
    "        self.helper(head)\n",
    "        return res\n",
    "    \n",
    "    def helper(self, head):\n",
    "        # base case\n",
    "        if not head:\n",
    "            return head\n",
    "        # keep track of the previous pointer\n",
    "        pre = head\n",
    "        while head:\n",
    "            # if current node has child, recursion\n",
    "            if head.child:\n",
    "                # get the tail of the sub-problem\n",
    "                tail = self.helper(head.child)\n",
    "                # connect child tail and next node\n",
    "                tail.next = head.next\n",
    "                if head.next:\n",
    "                    head.next.prev = tail\n",
    "                # connct child head to current node\n",
    "                head.next, head.child.prev = head.child, head\n",
    "                # update previous node\n",
    "                pre = tail\n",
    "                # set child pointer to None\n",
    "                head.child = None\n",
    "                # go to next node\n",
    "                head = tail.next\n",
    "            else:\n",
    "                pre = head\n",
    "                head = head.next\n",
    "        return pre"
   ]
  },
  {
   "cell_type": "code",
   "execution_count": 3,
   "id": "124baf88",
   "metadata": {},
   "outputs": [],
   "source": [
    "\"\"\"\n",
    "# Definition for a Node.\n",
    "class Node:\n",
    "    def __init__(self, val, prev, next, child):\n",
    "        self.val = val\n",
    "        self.prev = prev\n",
    "        self.next = next\n",
    "        self.child = child\n",
    "\"\"\"\n",
    "\n",
    "class Solution:\n",
    "    \"\"\"\n",
    "    TC = O(n)\n",
    "    SC = O(n)\n",
    "    1. iterate over the current level\n",
    "    2. if cur node has child, recursion(keep track if the head and taill of subproblem)\n",
    "    3. connect sub_problem node to cuurent level node\n",
    "        \n",
    "    \"\"\"\n",
    "    def flatten(self, head: 'Optional[Node]') -> 'Optional[Node]':\n",
    "        return self.helper(head)[0]\n",
    "    \n",
    "    def helper(self, head):\n",
    "        # base case\n",
    "        if not head:\n",
    "            return head, head\n",
    "        # current level\n",
    "        cur = head\n",
    "        while cur:\n",
    "            if not cur.child:\n",
    "                cur = cur.next\n",
    "            else:\n",
    "                child_head, child_tail = self.helper(cur.child)\n",
    "                # record next node\n",
    "                next_node = cur.next\n",
    "                if cur.next:\n",
    "                    child_tail.next = next_node\n",
    "                    next_node.prev = child_tail\n",
    "                    \n",
    "                cur.next = child_head\n",
    "                child_head.prev = cur\n",
    "                cur.child = None\n",
    "                # next loop\n",
    "                cur = next_node\n",
    "        # record tail of current list\n",
    "        tail = head\n",
    "        while tail.next:\n",
    "            tail = tail.next\n",
    "        return head, tail"
   ]
  },
  {
   "cell_type": "markdown",
   "id": "fedde2e4",
   "metadata": {},
   "source": [
    "### print linked list(with next pointer to another linkedlist) level by level\n",
    "```\n",
    "1-> 2->3->9\n",
    "|                  |\n",
    "4->5->6     10-> 11\n",
    "      |\n",
    "      7->8\n",
    "input: listnode(1)\n",
    "output: print result [[1,2,3,9],[4,5,6, 10, 11],[7,8]]\n",
    "```"
   ]
  },
  {
   "cell_type": "code",
   "execution_count": null,
   "id": "dab47bd6",
   "metadata": {},
   "outputs": [],
   "source": []
  },
  {
   "cell_type": "markdown",
   "id": "3db09b74",
   "metadata": {},
   "source": [
    "# === Queue/Stack/Deque ==="
   ]
  },
  {
   "cell_type": "markdown",
   "id": "9de42cd1",
   "metadata": {},
   "source": [
    "## +++ Parentheses +++"
   ]
  },
  {
   "cell_type": "markdown",
   "id": "1413cc7e",
   "metadata": {},
   "source": [
    "## 1614. Maximum Nesting Depth of the Parentheses\n",
    "[1614. Maximum Nesting Depth of the Parentheses](https://leetcode.com/problems/maximum-nesting-depth-of-the-parentheses/)\n",
    "\n",
    "- follow up: keep track of index using map, not use stack\n",
    "```\n",
    "應該是說題目跟1614很像，也是找出max depth，然後要 return 所有 等於 max depth 的 字串\n",
    "我是用 stack 存了 index ，follow up 考官說可以用 map 存就好\n",
    "/*\n",
    "Given a string that may contain brackets, and no unbalanced brackets, find the substring(s) within the most deeply nested balanced bracket(s).\n",
    "\"ab(c(d)e)\" -> \"d\"\n",
    "\"[a{{b}c}d(e)]\" -> \"b\"\n",
    "\"((a)b(cd)ef)\"    ->  \"a\", \"cd\"\n",
    "\"(ab[]c){d{e}}\"  ->  \"\", \"e\"\n",
    "\"Hello, World!\"  ->  \"Hello, World!\"\n",
    "The following sets of characters should be considered as open/close brackets respectively: ( ), [ ], { }\n",
    "```"
   ]
  },
  {
   "cell_type": "code",
   "execution_count": null,
   "id": "337389bf",
   "metadata": {},
   "outputs": [],
   "source": []
  },
  {
   "cell_type": "markdown",
   "id": "84b5bb5f",
   "metadata": {},
   "source": [
    "## 20. Valid Parentheses\n",
    "[20. Valid Parentheses](https://leetcode.com/problems/valid-parentheses/)"
   ]
  },
  {
   "cell_type": "code",
   "execution_count": 7,
   "id": "1fafb31e",
   "metadata": {},
   "outputs": [],
   "source": [
    "# directly use a stack\n",
    "# use a list to store 三种 parentheses\n",
    "class Solution:\n",
    "    def isValid(self, s: str) -> bool:\n",
    "        bracket = ['(', ')', '{' ,'}' ,'[' ,']']\n",
    "        stack = deque()\n",
    "        for i in range (len(s)):\n",
    "            index = bracket.index(s[i])\n",
    "            if index % 2 == 0:\n",
    "                # left\n",
    "                stack.append(index)\n",
    "            else:\n",
    "                # right\n",
    "                if not stack or stack[-1] != index - 1:\n",
    "                    return False\n",
    "                else:\n",
    "                    stack.pop()\n",
    "        return not stack"
   ]
  },
  {
   "cell_type": "markdown",
   "id": "0ea7843e",
   "metadata": {},
   "source": [
    "## +++ Duplicates +++"
   ]
  },
  {
   "cell_type": "markdown",
   "id": "a3e21f50",
   "metadata": {},
   "source": [
    "## 1D Candy Crush"
   ]
  },
  {
   "cell_type": "code",
   "execution_count": 6,
   "id": "fa441141",
   "metadata": {},
   "outputs": [],
   "source": [
    "def candy_crush(s, k):\n",
    "    \"\"\"\n",
    "    stack: (char, count)\n",
    "    0 1 2 3 4 5 6 7\n",
    "    a a b b b a c d\n",
    "              i\n",
    "    \n",
    "    i = 0 | stack = (a, 1)\n",
    "    i = 1 | stack = (a, 2)\n",
    "    i = 2 | stack = (a, 2) | (b, 1)\n",
    "    i = 3 | stack = (a, 2) | (b, 2)\n",
    "    i = 4 | stack = (a, 2) | (b, 3)\n",
    "    i = 5 | stack = pop (b, 3) --> (a, 3)\n",
    "    i = 6 | stack = pop (a, 3) --> (c, 1)\n",
    "    i = 7 | stack = (c, 1) | (d, 1)\n",
    "\n",
    "    \"\"\"\n",
    "    stack = []\n",
    "    for i in range(len(s)):\n",
    "        # check the top of stack \n",
    "        # cur char is the same as top char\n",
    "        if stack and stack[-1][0]==s[i]:\n",
    "            stack[-1][1] += 1\n",
    "        else:\n",
    "            # not same as stack top\n",
    "            if stack and stack[-1][1]>=3:\n",
    "                stack.pop()\n",
    "            if stack and stack[-1][0]==candy[i]:\n",
    "                stack[-1][1] += 1\n",
    "            else:\n",
    "                stack.append([candy[i], 1])\n",
    "    # post processing\n",
    "    if stack and stack[-1][1]>=3:\n",
    "        stack.pop()\n",
    "    return ''.join(char*freq for char, freq in stack)"
   ]
  },
  {
   "cell_type": "markdown",
   "id": "1932532b",
   "metadata": {},
   "source": [
    "## 1209. Remove All Adjacent Duplicates in String II\n",
    "[1209. Remove All Adjacent Duplicates in String II](https://leetcode.com/problems/remove-all-adjacent-duplicates-in-string-ii/)"
   ]
  },
  {
   "cell_type": "code",
   "execution_count": null,
   "id": "6d330c98",
   "metadata": {},
   "outputs": [],
   "source": []
  },
  {
   "cell_type": "markdown",
   "id": "c7131b74",
   "metadata": {},
   "source": [
    "## +++ Monotone Stack +++"
   ]
  },
  {
   "cell_type": "markdown",
   "id": "916ed7c0",
   "metadata": {},
   "source": [
    "## 84. Largest Rectangle in Histogram\n",
    "[84. Largest Rectangle in Histogram](https://leetcode.com/problems/largest-rectangle-in-histogram/)"
   ]
  },
  {
   "cell_type": "code",
   "execution_count": null,
   "id": "b661aeed",
   "metadata": {},
   "outputs": [],
   "source": [
    "class Solution:\n",
    "    def largestRectangleArea(self, heights) -> int:\n",
    "        \"\"\"\n",
    "        [-1,2,1,5,6,2,3,-1]\n",
    "            p\n",
    "\n",
    "        TC = O(n)\n",
    "        SC = O(n)\n",
    "        \"\"\"\n",
    "        global_max = 0\n",
    "        # add -1 to head and tail of the input list\n",
    "        heights.insert(0, -1)\n",
    "        heights.append(-1)\n",
    "        n = len(heights)\n",
    "        # initial\n",
    "        stack = deque([(0, heights[0])])\n",
    "        p = 1\n",
    "        while p < n:\n",
    "            # cliff\n",
    "            if stack and stack[-1][1] > heights[p]:\n",
    "                idx, h = stack.pop()\n",
    "                # determine the left and right border\n",
    "                l = stack[-1][0] + 1\n",
    "                r = p - 1\n",
    "                width = r - l + 1\n",
    "                cur_area = width * h\n",
    "                global_max = max(global_max, cur_area)\n",
    "            else:\n",
    "                # append the current height\n",
    "                stack.append((p, heights[p]))\n",
    "                p += 1\n",
    "        return global_max"
   ]
  },
  {
   "cell_type": "markdown",
   "id": "1c3b118b",
   "metadata": {},
   "source": [
    "## 42. Trapping Rain Water\n",
    "[42. Trapping Rain Water](https://leetcode.com/problems/trapping-rain-water/)\n",
    "\n",
    "- Solution 1: DP\n",
    "- Solution 2: Decreasing stack\n",
    "- Solution 3: Two pointers"
   ]
  },
  {
   "cell_type": "code",
   "execution_count": 1,
   "id": "6c7502ce",
   "metadata": {},
   "outputs": [],
   "source": [
    "# Solution 1: DP\n",
    "class Solution:\n",
    "    def trap(self, height) -> int:\n",
    "        \"\"\"\n",
    "        Solution 1: DP\n",
    "            left[]: max height seen from current position to left\n",
    "                    max(left_max[i-1], height[i])\n",
    "            right[]: max height seen from current position to right\n",
    "            res += min(right_max[i], left_max[i]) - height[i]\n",
    "        \"\"\"\n",
    "        n = len(height)\n",
    "        left_max = [0 for _ in range(n)]\n",
    "        left_max[0] = height[0]\n",
    "        for i in range(1, n):\n",
    "            left_max[i] = max(left_max[i-1], height[i])\n",
    "\n",
    "        right_max = [0 for _ in range(n)]\n",
    "        right_max[n - 1] = height[n - 1]\n",
    "        for i in range(n - 2, -1, -1):\n",
    "            right_max[i] = max(right_max[i + 1], height[i])\n",
    "        \n",
    "        res = 0\n",
    "        for i in range(n):\n",
    "            res += min(left_max[i], right_max[i]) - height[i]\n",
    "        \n",
    "        return res"
   ]
  },
  {
   "cell_type": "code",
   "execution_count": 2,
   "id": "e6205e35",
   "metadata": {},
   "outputs": [],
   "source": [
    "# Solution 2: Stack\n",
    "class Solution:\n",
    "    def trap(self, height) -> int:\n",
    "        \"\"\"\n",
    "        Solution 2: Descresing Monotone Stack\n",
    "        stack store the index of the height\n",
    "        accumulate the water layer by layer\n",
    "        if cur_height < top_stack(might trap water)\n",
    "                push to stakl\n",
    "        if cur_height > top_stack(the right_boundry is fixed)\n",
    "                pop the stack and calculate the water\n",
    "        \"\"\"\n",
    "        stack = deque([0])\n",
    "        res = 0\n",
    "        i = 1\n",
    "        while i < len(height):\n",
    "            if stack and height[stack[-1]] < height[i]:\n",
    "                # trap water\n",
    "                cur_hei = height[stack.pop()]\n",
    "                if stack:\n",
    "                    # calculate the left and right bounday\n",
    "                    new_height = min(height[stack[-1]], height[i]) - cur_hei \n",
    "                    cur_width = i - stack[-1] - 1\n",
    "                    res += new_height * cur_width\n",
    "            else:\n",
    "                stack.append(i)\n",
    "                i += 1\n",
    "        return res"
   ]
  },
  {
   "cell_type": "code",
   "execution_count": 3,
   "id": "89f55c15",
   "metadata": {},
   "outputs": [],
   "source": [
    "# Solution 3: Two pointers\n",
    "class Solution:\n",
    "    def trap(self, height) -> int:\n",
    "        \"\"\"\n",
    "        Solution 3: Two pointers\n",
    "        left = 0\n",
    "        right = n - 1\n",
    "        \"\"\"\n",
    "        left = 0\n",
    "        right = len(height) -1\n",
    "        res = 0\n",
    "        left_max = 0\n",
    "        right_max = 0\n",
    "        while left < right:\n",
    "            if height[left] < height[right]:\n",
    "                # right boundry is fixed\n",
    "                # check left\n",
    "                if height[left] > left_max:\n",
    "                    left_max = height[left]\n",
    "                else:\n",
    "                    # calculate the water at left\n",
    "                    res += left_max - height[left]\n",
    "                left += 1\n",
    "            else:\n",
    "                if height[right] >= right_max:\n",
    "                    right_max = height[right]\n",
    "                else:\n",
    "                    # calculate the right\n",
    "                    res += right_max - height[right]\n",
    "                right -= 1\n",
    "        return res"
   ]
  },
  {
   "cell_type": "markdown",
   "id": "13e1f594",
   "metadata": {},
   "source": [
    "## 496. Next Greater Element I\n",
    "[496. Next Greater Element I](https://leetcode.com/problems/next-greater-element-i/)"
   ]
  },
  {
   "cell_type": "code",
   "execution_count": 5,
   "id": "21cbf757",
   "metadata": {},
   "outputs": [],
   "source": [
    "from collections import deque\n",
    "class Solution:\n",
    "    def nextGreaterElement(self, nums1, nums2):\n",
    "        \"\"\"\n",
    "        Hashmap {element, next_greater_element}\n",
    "        Decreasing Stack\n",
    "        \n",
    "        TC = O(n)\n",
    "        SC = O(n)\n",
    "        \"\"\"\n",
    "        stack = deque()\n",
    "        greater_dict = {}\n",
    "        for i in range(len(nums2)):\n",
    "            while stack and nums2[i] > stack[-1]:\n",
    "                greater_dict[stack.pop()] = nums2[i]\n",
    "            stack.append(nums2[i])\n",
    "        # no next-greater element \n",
    "        while stack:\n",
    "            greater_dict[stack.pop()] = -1\n",
    "            \n",
    "        # iterate over nums1\n",
    "        res = []\n",
    "        for num in nums1:\n",
    "            res.append(greater_dict[num])\n",
    "        return res"
   ]
  },
  {
   "cell_type": "markdown",
   "id": "84cff1a5",
   "metadata": {},
   "source": [
    "## 503. Next Greater Element II\n",
    "[503. Next Greater Element II](https://leetcode.com/problems/next-greater-element-ii/)"
   ]
  },
  {
   "cell_type": "code",
   "execution_count": null,
   "id": "c080af68",
   "metadata": {},
   "outputs": [],
   "source": [
    "class Solution:\n",
    "    def nextGreaterElements(self, nums):\n",
    "        n = len(nums)\n",
    "        res = [-1 for _ in range(n)]\n",
    "        nums += nums\n",
    "        \n",
    "        stack = deque()\n",
    "        for i, num in enumerate(nums):\n",
    "            while stack and stack[-1][1] < num:\n",
    "                res[stack.pop()[0]] = num\n",
    "            if i < n:\n",
    "                stack.append((i, num))\n",
    "        return res"
   ]
  },
  {
   "cell_type": "markdown",
   "id": "1b850f44",
   "metadata": {},
   "source": [
    "## 735. Asteroid Collision\n",
    "[735. Asteroid Collision](https://leetcode.com/problems/asteroid-collision/)"
   ]
  },
  {
   "cell_type": "code",
   "execution_count": null,
   "id": "43154a35",
   "metadata": {},
   "outputs": [],
   "source": []
  },
  {
   "cell_type": "markdown",
   "id": "c3e40e17",
   "metadata": {},
   "source": [
    "## 224. Basic Calculator\n",
    "[224. Basic Calculator](https://leetcode.com/problems/basic-calculator/)"
   ]
  },
  {
   "cell_type": "code",
   "execution_count": null,
   "id": "23bec094",
   "metadata": {},
   "outputs": [],
   "source": []
  },
  {
   "cell_type": "markdown",
   "id": "2fc4a50c",
   "metadata": {},
   "source": [
    "## 227. Basic Calculator II\n",
    "[227. Basic Calculator II](https://leetcode.com/problems/basic-calculator-ii/)"
   ]
  },
  {
   "cell_type": "code",
   "execution_count": null,
   "id": "a0f47d00",
   "metadata": {},
   "outputs": [],
   "source": []
  },
  {
   "cell_type": "markdown",
   "id": "7a137f37",
   "metadata": {},
   "source": [
    "## 772. Basic Calculator III\n",
    "[772. Basic Calculator III](https://leetcode.com/problems/basic-calculator-iii/)"
   ]
  },
  {
   "cell_type": "code",
   "execution_count": null,
   "id": "0c5823d2",
   "metadata": {},
   "outputs": [],
   "source": [
    "\n"
   ]
  },
  {
   "cell_type": "markdown",
   "id": "8be72ba0",
   "metadata": {},
   "source": [
    "# === Greedy ==="
   ]
  },
  {
   "cell_type": "markdown",
   "id": "37e94910",
   "metadata": {},
   "source": [
    "## 1029. Two City Scheduling\n",
    "[1029. Two City Scheduling](https://leetcode.com/problems/two-city-scheduling/)"
   ]
  },
  {
   "cell_type": "code",
   "execution_count": 18,
   "id": "725bc86f",
   "metadata": {},
   "outputs": [],
   "source": [
    "# TC = O(nlogn)\n",
    "# SC = O(n)\n",
    "class Solution:\n",
    "    def twoCitySchedCost(self, costs) -> int:\n",
    "        \"\"\"\n",
    "        diff = [B - A] (diff is larger, the cost to B is larger)\n",
    "        sort diff\n",
    "        put first half people to A, and second half to B\n",
    "        \"\"\"\n",
    "        diffs = []\n",
    "        for c1, c2 in costs:\n",
    "            diffs.append([c2 - c1, c1, c2])\n",
    "        diffs.sort()\n",
    "        res = 0\n",
    "        for i in range(len(diffs)):\n",
    "            if i < len(diffs) // 2:\n",
    "                res += diffs[i][2]\n",
    "            else:\n",
    "                res += diffs[i][1]\n",
    "        return res"
   ]
  },
  {
   "cell_type": "markdown",
   "id": "4c381ed8",
   "metadata": {},
   "source": [
    "# === Tree ==="
   ]
  },
  {
   "cell_type": "markdown",
   "id": "b249203a",
   "metadata": {},
   "source": [
    "## 652. Find Duplicate Subtrees\n",
    "[652. Find Duplicate Subtrees](https://leetcode.com/problems/find-duplicate-subtrees/)"
   ]
  },
  {
   "cell_type": "code",
   "execution_count": 3,
   "id": "88e130a5",
   "metadata": {},
   "outputs": [],
   "source": [
    "class Solution:\n",
    "    def findDuplicateSubtrees(self, root):\n",
    "        \"\"\"\n",
    "        dict: \n",
    "            key = all subtree paths (string)\n",
    "            value = [count, node]\n",
    "        \n",
    "        iterate over the dict, if count > 1, add corrodspinding root to result\n",
    "        TC: O(n)\n",
    "        SC = O(n) --> hashmap n entries\n",
    "        \"\"\"\n",
    "        path_dict = {}\n",
    "        res = []\n",
    "        self.findAllPaths(root, path_dict)\n",
    "        \n",
    "        for count, node in path_dict.values():\n",
    "            if count > 1:\n",
    "                res.append(node)\n",
    "        return res\n",
    "        \n",
    "    \n",
    "    def findAllPaths(self, root, path_dict):\n",
    "        # base case\n",
    "        if not root:\n",
    "            return 'N'\n",
    "        # post order traversal to build the path\n",
    "        left = self.findAllPaths(root.left, path_dict)\n",
    "        right = self.findAllPaths(root.right, path_dict)\n",
    "        \n",
    "        # append as a path string\n",
    "        cur_path = str(root.val) + ' ' + left + ' ' + right\n",
    "        \n",
    "        # add to dict\n",
    "        if cur_path in path_dict:\n",
    "            path_dict[cur_path][0] += 1\n",
    "        else:\n",
    "            path_dict[cur_path] = [1, root]\n",
    "        \n",
    "        return cur_path\n",
    "        "
   ]
  },
  {
   "cell_type": "markdown",
   "id": "43dc5356",
   "metadata": {},
   "source": [
    "## 226. Invert Binary Tree\n",
    "[226. Invert Binary Tree](https://leetcode.com/problems/invert-binary-tree/)\n",
    "\n",
    "- DFS and BFS"
   ]
  },
  {
   "cell_type": "code",
   "execution_count": 21,
   "id": "34e71a08",
   "metadata": {},
   "outputs": [],
   "source": [
    "# DFS: recursion\n",
    "# Time: O(n)\n",
    "# Space: O(height) --> O(n)\n",
    "class Solution:\n",
    "    def invertTree(self, root):\n",
    "        # base case\n",
    "        if root is None:\n",
    "            return root\n",
    "        if root.left is None and root.right is None:\n",
    "            return root\n",
    "        # current level: invert\n",
    "        left = self.invertTree(root.left)\n",
    "        right = self.invertTree(root.right)\n",
    "        \n",
    "        root.left = right\n",
    "        root.right = left        \n",
    "        \n",
    "        return root"
   ]
  },
  {
   "cell_type": "code",
   "execution_count": 20,
   "id": "64ea839d",
   "metadata": {},
   "outputs": [],
   "source": [
    "# BFS: Iterativly\n",
    "# Time: O(n)\n",
    "# Space: O(n)\n",
    "class Solution:\n",
    "    def invertTree(self, root):\n",
    "        \"\"\"\n",
    "        queue: store nodes whose left and right children are not swapped\n",
    "           4\n",
    "         7  2\n",
    "        9 6 3 1\n",
    "      \n",
    "      q [ \n",
    "      4 --> swap 2, 7\n",
    "      7 --> swap 6 9\n",
    "      2 --> swap 1 3\n",
    "      9 --> null\n",
    "      same as 6 3 1\n",
    "        \"\"\"\n",
    "        if not root:\n",
    "            return root\n",
    "        q = deque([root])\n",
    "        while q:\n",
    "            cur = q.popleft()\n",
    "            # swap\n",
    "            cur.left, cur.right = cur.right, cur.left\n",
    "            if cur.left:\n",
    "                q.append(cur.left)\n",
    "            if cur.right:\n",
    "                q.append(cur.right)\n",
    "        return root\n"
   ]
  },
  {
   "cell_type": "markdown",
   "id": "ae9a4254",
   "metadata": {},
   "source": [
    "## 116. Populating Next Right Pointers in Each Node\n",
    "[116. Populating Next Right Pointers in Each Node](https://leetcode.com/problems/populating-next-right-pointers-in-each-node/)\n",
    "- perfect binary tree"
   ]
  },
  {
   "cell_type": "code",
   "execution_count": null,
   "id": "0d0071b1",
   "metadata": {},
   "outputs": [],
   "source": [
    "# Solution 1: BFS\n",
    "# TC = O(n)\n",
    "# SC = O(n)\n",
    "from collections import deque\n",
    "class Solution:\n",
    "    def connect(self, root):\n",
    "        \"\"\"\n",
    "        BFS:\n",
    "        queue: save the same level nodes\n",
    "        [1]  pop 1, check q[0]: 1.next = None\n",
    "        [2 3] pop 2, q[0] = 3 2.next = q[0]\n",
    "        [4 5 6 7] \n",
    "        \"\"\"\n",
    "        if not root:\n",
    "            return None\n",
    "        q = deque([root])\n",
    "        while q:\n",
    "            size = len(q)\n",
    "            for i in range(size):\n",
    "                cur = q.popleft()\n",
    "                # next pointer point to next right node\n",
    "                if i < size - 1:\n",
    "                    cur.next = q[0]\n",
    "                if cur.left:\n",
    "                    q.append(cur.left)\n",
    "                if cur.right:\n",
    "                    q.append(cur.right)\n",
    "        return root"
   ]
  },
  {
   "cell_type": "code",
   "execution_count": 23,
   "id": "ce39890e",
   "metadata": {},
   "outputs": [],
   "source": [
    "# Solution 2: Make use of next pointer\n",
    "# TC = O(n)\n",
    "# SC = O(1)\n",
    "class Solution:\n",
    "    def connect(self, root):\n",
    "        \"\"\"\n",
    "        Make use of next pointer --> linked list --> save head node\n",
    "        next level = current leftmost.left\n",
    "        \"\"\"\n",
    "        if not root:\n",
    "            return root\n",
    "        # set up first level\n",
    "        leftmost = root\n",
    "        while leftmost.left:\n",
    "            # record the start of the current level\n",
    "            head = leftmost\n",
    "            while head:\n",
    "                # connect left and right children from same root node\n",
    "                head.left.next = head.right\n",
    "                # connect children from different root node\n",
    "                if head.next:\n",
    "                    head.right.next = head.next.left\n",
    "                \n",
    "                # like linked list\n",
    "                head = head.next\n",
    "            leftmost = leftmost.left\n",
    "        return root"
   ]
  },
  {
   "attachments": {
    "Screen%20Shot%202022-09-18%20at%2023.42.10.png": {
     "image/png": "[encoded data removed]"
    }
   },
   "cell_type": "markdown",
   "id": "df76f41d",
   "metadata": {},
   "source": [
    "![Screen%20Shot%202022-09-18%20at%2023.42.10.png](attachment:Screen%20Shot%202022-09-18%20at%2023.42.10.png)"
   ]
  },
  {
   "cell_type": "markdown",
   "id": "5c77fef9",
   "metadata": {},
   "source": [
    "## 117. Populating Next Right Pointers in Each Node II\n",
    "[117. Populating Next Right Pointers in Each Node II](https://leetcode.com/problems/populating-next-right-pointers-in-each-node-ii/)\n",
    "- not perfect binary tree"
   ]
  },
  {
   "cell_type": "code",
   "execution_count": 24,
   "id": "65c54c62",
   "metadata": {},
   "outputs": [],
   "source": [
    "class Solution:\n",
    "    def connect(self, root: 'Node') -> 'Node':\n",
    "        if not root:\n",
    "            return None\n",
    "        q = deque([root])\n",
    "        while q:\n",
    "            size = len(q)\n",
    "            for i in range(size):\n",
    "                cur = q.popleft()\n",
    "                # next pointer point to next right node\n",
    "                if i < size - 1:\n",
    "                    cur.next = q[0]\n",
    "                if cur.left:\n",
    "                    q.append(cur.left)\n",
    "                if cur.right:\n",
    "                    q.append(cur.right)\n",
    "        return root\n",
    "        "
   ]
  },
  {
   "cell_type": "markdown",
   "id": "04ff54bd",
   "metadata": {},
   "source": [
    "## 98. Validate Binary Search Tree\n",
    "[98. Validate Binary Search Tree](https://leetcode.com/problems/validate-binary-search-tree/)\n",
    "- O(1) space"
   ]
  },
  {
   "cell_type": "code",
   "execution_count": 27,
   "id": "e8d5bdf6",
   "metadata": {},
   "outputs": [],
   "source": [
    "# Solution 1: recursion with min/max boundry\n",
    "class Solution:\n",
    "    def isValidBST(self, root) -> bool:\n",
    "        if not root:\n",
    "            return True\n",
    "        return self.isBST(root, float('-inf'), float('inf'))\n",
    "    \n",
    "    def isBST(self, root, minimum, maximum):\n",
    "        # base case\n",
    "        if root is None:\n",
    "            return True\n",
    "        # current level: val should be unique\n",
    "        if root.val >= maximum or root.val <= minimum:\n",
    "            return False\n",
    "        # recursivly check left and right subtree\n",
    "        left = self.isBST(root.left, minimum, root.val)\n",
    "        right = self.isBST(root.right, root.val, maximum)\n",
    "        \n",
    "        # report the result to parent\n",
    "        return left and right"
   ]
  },
  {
   "cell_type": "code",
   "execution_count": 29,
   "id": "8c1d0663",
   "metadata": {},
   "outputs": [],
   "source": [
    "# Solution 2: iterativly inorder traversal (non-decreasing order)\n",
    "class Solution:\n",
    "    def isValidBST(self, root) -> bool:\n",
    "        \"\"\"\n",
    "        Inorder iterativly traversal\n",
    "        compare the cur.val and prev.val\n",
    "        \"\"\"\n",
    "        if root is None:\n",
    "            return True\n",
    "        stack = deque()\n",
    "        self.pushleft(root, stack)\n",
    "        prev = None\n",
    "        while stack:\n",
    "            cur = stack.pop()\n",
    "            # comapre cur and prev\n",
    "            if prev and prev.val >= cur.val:\n",
    "                return False\n",
    "            prev = cur\n",
    "            # push right\n",
    "            self.pushleft(cur.right, stack)\n",
    "        return True\n",
    "            \n",
    "    def pushleft(self, root, stack):\n",
    "        while root:\n",
    "            stack.append(root)\n",
    "            root = root.left\n",
    "    "
   ]
  },
  {
   "cell_type": "markdown",
   "id": "8132e48a",
   "metadata": {},
   "source": [
    "## 314. Binary Tree Vertical Order Traversal\n",
    "[314. Binary Tree Vertical Order Traversal](https://leetcode.com/problems/binary-tree-vertical-order-traversal/)"
   ]
  },
  {
   "cell_type": "code",
   "execution_count": null,
   "id": "8365353a",
   "metadata": {},
   "outputs": [],
   "source": [
    "class Solution:\n",
    "    def verticalOrder(self, root):\n",
    "        if not root:\n",
    "            return []\n",
    "        # initial state: use a dict{key = index, val = []} to collect all the nodes with the same vertival index\n",
    "        q = deque([(root, 0)])\n",
    "        vertical = defaultdict(list)\n",
    "        vertical[0].append(root.val)\n",
    "        while q:\n",
    "            cur, index = q.popleft()\n",
    "            if cur.left:\n",
    "                q.append((cur.left, index - 1))\n",
    "                vertical[index - 1].append(cur.left.val)\n",
    "            if cur.right:\n",
    "                q.append((cur.right, index + 1))\n",
    "                vertical[index + 1].append(cur.right.val)\n",
    "        # post processing: return list of list by keys\n",
    "        return [vertical[x] for x in sorted(vertical.keys())]"
   ]
  },
  {
   "cell_type": "markdown",
   "id": "2d9106ec",
   "metadata": {},
   "source": [
    "## 105. Construct Binary Tree from Preorder and Inorder Traversal\n",
    "[105. Construct Binary Tree from Preorder and Inorder Traversal](https://leetcode.com/problems/construct-binary-tree-from-preorder-and-inorder-traversal/)"
   ]
  },
  {
   "cell_type": "code",
   "execution_count": 32,
   "id": "5059fb08",
   "metadata": {},
   "outputs": [],
   "source": [
    "class Solution:\n",
    "    \"\"\"\n",
    "    pre: [3,9,20,15,7]\n",
    "          R l  r\n",
    "    in:  [9,3,15,20,7]\n",
    "            R\n",
    "         [9]  [15 20 7]\n",
    "          l       r\n",
    "    Time: O(n)\n",
    "    Space: O(n)\n",
    "    \"\"\"\n",
    "    def buildTree(self, preorder, inorder):\n",
    "        n = len(preorder)\n",
    "        if n == 1:\n",
    "            return TreeNode(preorder[0])\n",
    "        return self.helper(preorder, 0, n - 1, inorder, 0, n - 1)\n",
    "        \n",
    "    def helper(self, preorder, preL, preR, inorder, inL, inR):\n",
    "        # base case\n",
    "        if preL > preR:\n",
    "            return None\n",
    "        \n",
    "        # current\n",
    "        root_val = preorder[preL]\n",
    "        # find the root index in inorder list\n",
    "        root_idx = inorder.index(root_val)\n",
    "        left_size = root_idx - inL\n",
    "        \n",
    "        root = TreeNode(root_val)\n",
    "        root.left = self.helper(preorder, preL + 1, preL + left_size,\n",
    "                           inorder, inL, root_idx - 1)\n",
    "        root.right = self.helper(preorder, preL + left_size + 1, preR,\n",
    "                           inorder, root_idx + 1, inR)\n",
    "        \n",
    "        return root"
   ]
  },
  {
   "cell_type": "markdown",
   "id": "759caac2",
   "metadata": {},
   "source": [
    "## 297. Serialize and Deserialize Binary Tree\n",
    "[297. Serialize and Deserialize Binary Tree](https://leetcode.com/problems/serialize-and-deserialize-binary-tree/)"
   ]
  },
  {
   "cell_type": "code",
   "execution_count": 5,
   "id": "137d746c",
   "metadata": {},
   "outputs": [],
   "source": [
    "# Definition for a binary tree node.\n",
    "# class TreeNode(object):\n",
    "#     def __init__(self, x):\n",
    "#         self.val = x\n",
    "#         self.left = None\n",
    "#         self.right = None\n",
    "\n",
    "class Codec:\n",
    "\n",
    "    \"\"\"\n",
    "    Pre-order traversal\n",
    "    [1, 2, N, N, 3, 4, N, N, 5, N, N]\n",
    "    \n",
    "    O(n)\n",
    "    O(n)\n",
    "    \"\"\"\n",
    "    def serialize(self, root):\n",
    "        \"\"\"Encodes a tree to a single string.\n",
    "        \n",
    "        :type root: TreeNode\n",
    "        :rtype: str\n",
    "        \"\"\"\n",
    "        res = []\n",
    "        def dfs(root):\n",
    "            # base case\n",
    "            if not root:\n",
    "                res.append(\"N\")\n",
    "                return\n",
    "            \n",
    "            # pre-order\n",
    "            res.append(str(root.val))\n",
    "            dfs(root.left)\n",
    "            dfs(root.right)\n",
    "            \n",
    "        # call dfs\n",
    "        dfs(root)\n",
    "        return \",\".join(res)\n",
    "            \n",
    "        \n",
    "\n",
    "    def deserialize(self, data):\n",
    "        \"\"\"Decodes your encoded data to tree.\n",
    "        \n",
    "        :type data: str\n",
    "        :rtype: TreeNode\n",
    "        \"\"\"\n",
    "        vals = data.split(\",\")\n",
    "        self.i = 0\n",
    "        \n",
    "        def dfs():\n",
    "            # base case\n",
    "            if vals[self.i] == 'N':\n",
    "                self.i += 1\n",
    "                return None\n",
    "            node = TreeNode(int(vals[self.i]))\n",
    "            self.i += 1\n",
    "            node.left = dfs()\n",
    "            node.right = dfs()\n",
    "            return node\n",
    "        return dfs()"
   ]
  },
  {
   "cell_type": "markdown",
   "id": "c802a238",
   "metadata": {},
   "source": [
    "## 449. Serialize and Deserialize BST\n",
    "[449. Serialize and Deserialize BST](https://leetcode.com/problems/serialize-and-deserialize-bst/)\n",
    "\n",
    "- Solution 1: exactly same as Binary Tree\n",
    "\n",
    "- Solution 2: make use of the feature of BST\n",
    "    - Add upper and lower bound when calling recursion"
   ]
  },
  {
   "cell_type": "code",
   "execution_count": 9,
   "id": "4f0b01a7",
   "metadata": {},
   "outputs": [],
   "source": [
    "# Solution 2\n",
    "class Codec:\n",
    "\n",
    "    def serialize(self, root) -> str:\n",
    "        \"\"\"Encodes a tree to a single string.\n",
    "        \"\"\"\n",
    "        res = []\n",
    "        def pre_order(node):\n",
    "            # base case\n",
    "            if not node:\n",
    "                return\n",
    "            res.append(str(node.val))\n",
    "            pre_order(node.left)\n",
    "            pre_order(node.right)\n",
    "        \n",
    "        pre_order(root)\n",
    "        return \",\".join(res)\n",
    "        \n",
    "\n",
    "    def deserialize(self, data: str):\n",
    "        \"\"\"Decodes your encoded data to tree.\n",
    "        \"\"\"\n",
    "        if not data:\n",
    "            return None\n",
    "        \n",
    "        vals = [int(d) for d in data.split(\",\")]\n",
    "        \n",
    "        def dfs(vals, minimum, maximum):\n",
    "            # base case\n",
    "            if not vals:\n",
    "                return None\n",
    "            if not minimum < vals[0] < maximum:\n",
    "                return None\n",
    "            # get the first value\n",
    "            cur = vals.pop(0)\n",
    "            root = TreeNode(cur)\n",
    "            \n",
    "            root.left = dfs(vals, minimum, cur)\n",
    "            root.right = dfs(vals, cur, maximum)\n",
    "            \n",
    "            return root\n",
    "        \n",
    "        return dfs(vals, float('-inf'), float('inf'))"
   ]
  },
  {
   "cell_type": "markdown",
   "id": "5a9a1655",
   "metadata": {},
   "source": [
    "## 428. Serialize and Deserialize N-ary Tree\n",
    "[428. Serialize and Deserialize N-ary Tree](https://leetcode.com/problems/serialize-and-deserialize-n-ary-tree/)"
   ]
  },
  {
   "cell_type": "code",
   "execution_count": 10,
   "id": "cb1f5608",
   "metadata": {},
   "outputs": [],
   "source": [
    "class Codec:\n",
    "    def serialize(self, root: 'Node') -> str:\n",
    "        \"\"\"Encodes a tree to a single string.\n",
    "        \n",
    "        :type root: Node\n",
    "        :rtype: str\n",
    "        \"\"\"\n",
    "        res = []\n",
    "        def dfs(node):\n",
    "            # not enter since for-loop\n",
    "            # if not node:\n",
    "            #     res.append(\"N\")\n",
    "            #     return\n",
    "            # pre-order\n",
    "            \n",
    "            if not node:\n",
    "                return\n",
    "            res.append(str(node.val))\n",
    "            \n",
    "            for child in node.children:\n",
    "                dfs(child)\n",
    "            res.append(\"N\")\n",
    "        \n",
    "        dfs(root)\n",
    "        return \",\".join(res)\n",
    "                \n",
    "        \n",
    "\t\n",
    "    def deserialize(self, data: str) -> 'Node':\n",
    "        \"\"\"Decodes your encoded data to tree.\n",
    "        \n",
    "        :type data: str\n",
    "        :rtype: Node\n",
    "        \"\"\"\n",
    "        if not data:\n",
    "            return None\n",
    "        \n",
    "        vals = data.split(\",\")\n",
    "        # print(vals)\n",
    "        root = Node(int(vals.pop(0)), [])\n",
    "        \n",
    "        def dfs(node):\n",
    "            # base case\n",
    "            if not vals:\n",
    "                return\n",
    "            \n",
    "            while vals[0] != \"N\":\n",
    "                # has child\n",
    "                child = Node(int(vals.pop(0)), [])\n",
    "                node.children.append(child)\n",
    "                dfs(child)\n",
    "            vals.pop(0) # discard \"N\"\n",
    "        \n",
    "        dfs(root)\n",
    "        return root"
   ]
  },
  {
   "cell_type": "markdown",
   "id": "9d87e65f",
   "metadata": {},
   "source": [
    "## 173. Binary Search Tree Iterator\n",
    "[173. Binary Search Tree Iterator](https://leetcode.com/problems/binary-search-tree-iterator/)"
   ]
  },
  {
   "cell_type": "code",
   "execution_count": 12,
   "id": "d96edeee",
   "metadata": {},
   "outputs": [],
   "source": [
    "class BSTIterator:\n",
    "    def __init__(self, root):\n",
    "        self.stack = deque()\n",
    "        self.pushleft(root)\n",
    "    \n",
    "    def pushleft(self, root):\n",
    "        while root:\n",
    "            self.stack.append(root)\n",
    "            root = root.left\n",
    "        \n",
    "\n",
    "    # Time: amortized (average) time complexity for this function would still be O(1)\n",
    "    def next(self) -> int:\n",
    "        node = self.stack.pop()\n",
    "        # go to right\n",
    "        self.pushleft(node.right)\n",
    "        return node.val\n",
    "        \n",
    "\n",
    "    # Time: O(1)\n",
    "    def hasNext(self) -> bool:\n",
    "        if len(self.stack) > 0:\n",
    "            return True\n",
    "        return False\n"
   ]
  },
  {
   "cell_type": "markdown",
   "id": "193ee16a",
   "metadata": {},
   "source": [
    "## 94. Binary Tree Inorder Traversal\n",
    "[94. Binary Tree Inorder Traversal](https://leetcode.com/problems/binary-tree-inorder-traversal/)"
   ]
  },
  {
   "cell_type": "code",
   "execution_count": 15,
   "id": "d28a34a9",
   "metadata": {},
   "outputs": [],
   "source": [
    "class Solution:\n",
    "    def inorderTraversal(self, root):\n",
    "        \"\"\"\n",
    "            1. initial:\n",
    "                push the left nodes all the way down to the leaf： pushleft()\n",
    "            2. visit: root\n",
    "            3. push right subtree's left nodes all the way down to the leaf: pushleft()\n",
    "        \"\"\"\n",
    "        if root is None:\n",
    "            return []\n",
    "        from collections import deque\n",
    "        res = []\n",
    "        self.stack =  deque()\n",
    "        self.pushleft(root)\n",
    "        while self.stack:\n",
    "            cur = self.stack.pop()\n",
    "            res.append(cur.val)\n",
    "            # push the right subtree\n",
    "            self.pushleft(cur.right)\n",
    "        return res\n",
    "    \n",
    "    def pushleft(self, root):\n",
    "        while root:\n",
    "            self.stack.append(root)\n",
    "            root = root.left"
   ]
  },
  {
   "cell_type": "markdown",
   "id": "7cbbcd30",
   "metadata": {},
   "source": [
    "# === DFS ==="
   ]
  },
  {
   "cell_type": "markdown",
   "id": "78c06cf0",
   "metadata": {},
   "source": [
    "## 200. Number of Islands\n",
    "[200. Number of Islands](https://leetcode.com/problems/number-of-islands/)\n",
    "\n",
    "- Time: O(M*N)\n",
    "- Space: O(M*n)"
   ]
  },
  {
   "cell_type": "code",
   "execution_count": null,
   "id": "da91a790",
   "metadata": {},
   "outputs": [],
   "source": [
    "# BFS\n",
    "class Solution:\n",
    "    def numIslands(self, grid) -> int:\n",
    "        count = 0\n",
    "        m = len(grid)\n",
    "        n = len(grid[0])\n",
    "        directions = [[0, 1],[1, 0],[0,-1],[-1, 0]]\n",
    "        for i in range(m):\n",
    "            for j in range(n):\n",
    "                if grid[i][j] == '1':\n",
    "                    grid[i][j] = '0'\n",
    "                    self.bfs(grid, i, j, directions)\n",
    "                    count += 1\n",
    "        return count\n",
    "    \n",
    "    def bfs(self, grid, i, j, directions):\n",
    "        q = deque([[i,j]])\n",
    "        while q:\n",
    "            row, col = q.popleft()\n",
    "            for d in directions:\n",
    "                r = row + d[0]\n",
    "                c = col + d[1]\n",
    "                if r >= 0 and r < len(grid) and c >= 0 and c < len(grid[0]) and grid[r][c] == '1':\n",
    "                    grid[r][c] = '0'\n",
    "                    q.append([r, c])"
   ]
  },
  {
   "cell_type": "code",
   "execution_count": null,
   "id": "e8151fc9",
   "metadata": {},
   "outputs": [],
   "source": [
    "class Solution:\n",
    "    def numIslands(self, grid) -> int:\n",
    "        count = 0\n",
    "        for i in range(len(grid)):\n",
    "            for j in range(len(grid[0])):\n",
    "                if grid[i][j] == '1':\n",
    "                    print(i,j)\n",
    "                    self.dfs(grid,i,j)\n",
    "                    count  += 1\n",
    "        #print(grid)\n",
    "        return count\n",
    "    # use a helper function to flip connected '1's to 0\n",
    "    def dfs(self,grid,i,j):\n",
    "        grid[i][j] = 0\n",
    "        for dr,dc in (1,0), (-1,0), (0,-1), (0,1):\n",
    "            r = i + dr\n",
    "            c = j + dc\n",
    "            if 0 <= r < len(grid) and 0 <= c < len(grid[0]) and grid[r][c]=='1':\n",
    "                self.dfs(grid,r,c)"
   ]
  },
  {
   "cell_type": "markdown",
   "id": "27a51eac",
   "metadata": {},
   "source": [
    "## 694. Number of Distinct Islands\n",
    "[694. Number of Distinct Islands](https://leetcode.com/problems/number-of-distinct-islands/)\n",
    "- LC的find all island题目。但是一点一点的变复杂。每个岛有颜色。Red，blue, red etc. 先是找出有几个岛，然后找出有几个unique island（颜色跟形状）"
   ]
  },
  {
   "cell_type": "code",
   "execution_count": null,
   "id": "5e3407bd",
   "metadata": {},
   "outputs": [],
   "source": []
  },
  {
   "cell_type": "markdown",
   "id": "76249831",
   "metadata": {},
   "source": [
    "## 78. Subsets\n",
    "[78. Subsets](https://leetcode.com/problems/subsets/)"
   ]
  },
  {
   "cell_type": "code",
   "execution_count": null,
   "id": "c3b5971d",
   "metadata": {},
   "outputs": [],
   "source": []
  },
  {
   "cell_type": "markdown",
   "id": "a4a3ed59",
   "metadata": {},
   "source": [
    "## 46. Permutations\n",
    "[46. Permutations](https://leetcode.com/problems/permutations/)"
   ]
  },
  {
   "cell_type": "code",
   "execution_count": null,
   "id": "bf0e37ab",
   "metadata": {},
   "outputs": [],
   "source": []
  },
  {
   "cell_type": "markdown",
   "id": "ed7a256f",
   "metadata": {},
   "source": [
    "## 47. Permutations II\n",
    "[47. Permutations II](https://leetcode.com/problems/permutations-ii/)"
   ]
  },
  {
   "cell_type": "code",
   "execution_count": null,
   "id": "f73a5543",
   "metadata": {},
   "outputs": [],
   "source": []
  },
  {
   "cell_type": "markdown",
   "id": "4b70c220",
   "metadata": {},
   "source": [
    "## 1274. Number of Ships in a Rectangle\n",
    "[1274. Number of Ships in a Rectangle](https://leetcode.com/problems/number-of-ships-in-a-rectangle/)"
   ]
  },
  {
   "cell_type": "code",
   "execution_count": null,
   "id": "33168b64",
   "metadata": {},
   "outputs": [],
   "source": []
  },
  {
   "cell_type": "markdown",
   "id": "62b63495",
   "metadata": {},
   "source": [
    "## 79. Word Search\n",
    "[79. Word Search](https://leetcode.com/problems/word-search/)"
   ]
  },
  {
   "cell_type": "code",
   "execution_count": null,
   "id": "86198763",
   "metadata": {},
   "outputs": [],
   "source": []
  },
  {
   "cell_type": "markdown",
   "id": "1e381dfc",
   "metadata": {},
   "source": [
    "## 212. Word Search II\n",
    "[212. Word Search II](https://leetcode.com/problems/word-search-ii/)"
   ]
  },
  {
   "cell_type": "code",
   "execution_count": null,
   "id": "e4e66aa8",
   "metadata": {},
   "outputs": [],
   "source": []
  },
  {
   "cell_type": "markdown",
   "id": "b51fa3c8",
   "metadata": {},
   "source": [
    "### 给一个目标数字，问从1开始要么*2要么/3如何找到是否可以得到目标数字，propose了backtracking但是实在是没有时间了，问了一下base case,如果不可能找到解什么时候程序停止。问了是BFS还是DFS。如果用DFS怎么实现，如果BFS怎么实现。Return path\n"
   ]
  },
  {
   "cell_type": "code",
   "execution_count": null,
   "id": "6b51343a",
   "metadata": {},
   "outputs": [],
   "source": []
  },
  {
   "cell_type": "markdown",
   "id": "5a55379a",
   "metadata": {},
   "source": [
    "## 490. The Maze\n",
    "[490. The Maze](https://leetcode.com/problems/the-maze/)\n",
    "\n",
    "-follow up: 汽车中间某个点可以加油这种"
   ]
  },
  {
   "cell_type": "code",
   "execution_count": null,
   "id": "81522d44",
   "metadata": {},
   "outputs": [],
   "source": []
  },
  {
   "cell_type": "markdown",
   "id": "88667185",
   "metadata": {},
   "source": [
    "## Rat in Maze\n",
    "[Rat in Maze](https://www.geeksforgeeks.org/rat-in-a-maze-backtracking-2/)\n",
    "[Rat in Maze](https://leetcode.com/discuss/interview-question/algorithms/124715/amazon-is-cheese-reachable-in-the-maze)"
   ]
  },
  {
   "cell_type": "code",
   "execution_count": null,
   "id": "b7be2f93",
   "metadata": {},
   "outputs": [],
   "source": []
  },
  {
   "cell_type": "markdown",
   "id": "f7a523f2",
   "metadata": {},
   "source": [
    "## 797. All Paths From Source to Target\n",
    "[797. All Paths From Source to Target](https://leetcode.com/problems/all-paths-from-source-to-target/)"
   ]
  },
  {
   "cell_type": "code",
   "execution_count": null,
   "id": "0c1fc1c7",
   "metadata": {},
   "outputs": [],
   "source": []
  },
  {
   "cell_type": "markdown",
   "id": "f6ea73b5",
   "metadata": {},
   "source": [
    "## Bloomberg | Phone Screen | Find Path b/w 2 objects in a desert\n",
    "[Bloomberg | Phone Screen | Find Path b/w 2 objects in a desert](https://leetcode.com/discuss/interview-question/1608777/bloomberg-phone-screen-find-path-bw-2-objects-in-a-desert)\n",
    "\n",
    "[follow-up](https://www.1point3acres.com/bbs/thread-929625-1-1.html )"
   ]
  },
  {
   "cell_type": "code",
   "execution_count": null,
   "id": "281c9fd3",
   "metadata": {},
   "outputs": [],
   "source": []
  },
  {
   "cell_type": "markdown",
   "id": "1d8c6f6d",
   "metadata": {},
   "source": [
    "# === DP ==="
   ]
  },
  {
   "cell_type": "markdown",
   "id": "6d8d6b5a",
   "metadata": {},
   "source": [
    "## 62. Unique Paths\n",
    "[62. Unique Paths](https://leetcode.com/problems/unique-paths/)"
   ]
  },
  {
   "cell_type": "code",
   "execution_count": null,
   "id": "26f8e665",
   "metadata": {},
   "outputs": [],
   "source": []
  },
  {
   "cell_type": "markdown",
   "id": "b84b6d31",
   "metadata": {},
   "source": [
    "## 63. Unique Paths II\n",
    "[63. Unique Paths II](https://leetcode.com/problems/unique-paths-ii/)"
   ]
  },
  {
   "cell_type": "code",
   "execution_count": null,
   "id": "3fbedab5",
   "metadata": {},
   "outputs": [],
   "source": []
  },
  {
   "cell_type": "markdown",
   "id": "5ad2b848",
   "metadata": {},
   "source": [
    "## 53. Maximum Subarray\n",
    "[53. Maximum Subarray](https://leetcode.com/problems/maximum-subarray/)"
   ]
  },
  {
   "cell_type": "code",
   "execution_count": null,
   "id": "d1b2eeb6",
   "metadata": {},
   "outputs": [],
   "source": []
  },
  {
   "cell_type": "markdown",
   "id": "de54474d",
   "metadata": {},
   "source": [
    "## 322. Coin Change\n",
    "[322. Coin Change](https://leetcode.com/problems/coin-change/)"
   ]
  },
  {
   "cell_type": "code",
   "execution_count": null,
   "id": "7d9897c5",
   "metadata": {},
   "outputs": [],
   "source": []
  },
  {
   "cell_type": "markdown",
   "id": "15842bfc",
   "metadata": {},
   "source": [
    "## 139. Word Break\n",
    "[139. Word Break](https://leetcode.com/problems/word-break/)\n",
    "\n",
    "```\n",
    "给一个string 和word dict\n",
    "返回用空格分隔的 valid string（assume 只有一个解）\n",
    "follow up：返回所有 valid string\n",
    "```"
   ]
  },
  {
   "cell_type": "code",
   "execution_count": null,
   "id": "795eca85",
   "metadata": {},
   "outputs": [],
   "source": []
  },
  {
   "cell_type": "markdown",
   "id": "a69e8c5c",
   "metadata": {},
   "source": [
    "## 140. Word Break II\n",
    "[140. Word Break II](https://leetcode.com/problems/word-break-ii/)"
   ]
  },
  {
   "cell_type": "code",
   "execution_count": null,
   "id": "8ad8ad8d",
   "metadata": {},
   "outputs": [],
   "source": []
  },
  {
   "cell_type": "markdown",
   "id": "5aca251c",
   "metadata": {},
   "source": [
    "## 935. Knight Dialer\n",
    "[935. Knight Dialer](https://leetcode.com/problems/knight-dialer/)"
   ]
  },
  {
   "cell_type": "code",
   "execution_count": null,
   "id": "cb1f92e5",
   "metadata": {},
   "outputs": [],
   "source": []
  },
  {
   "cell_type": "markdown",
   "id": "02945623",
   "metadata": {},
   "source": [
    "# === Trie ==="
   ]
  },
  {
   "cell_type": "markdown",
   "id": "36b0b833",
   "metadata": {},
   "source": [
    "## 642. Design Search Autocomplete System\n",
    "[642. Design Search Autocomplete System](https://leetcode.com/problems/design-search-autocomplete-system/)"
   ]
  },
  {
   "cell_type": "code",
   "execution_count": null,
   "id": "7a772fd9",
   "metadata": {},
   "outputs": [],
   "source": []
  },
  {
   "cell_type": "markdown",
   "id": "dc51d750",
   "metadata": {},
   "source": [
    "# === Matrix ==="
   ]
  },
  {
   "cell_type": "markdown",
   "id": "16381ec6",
   "metadata": {},
   "source": [
    "## 73. Set Matrix Zeroes\n",
    "[73. Set Matrix Zeroes](https://leetcode.com/problems/set-matrix-zeroes/)\n",
    "\n",
    "- 要求in-place， 空间复杂度要求O(1)"
   ]
  },
  {
   "cell_type": "code",
   "execution_count": null,
   "id": "b7fa065e",
   "metadata": {},
   "outputs": [],
   "source": []
  },
  {
   "cell_type": "markdown",
   "id": "468edef0",
   "metadata": {},
   "source": [
    "## 1583. Count Unhappy Friends\n",
    "[1583. Count Unhappy Friends](https://leetcode.com/problems/count-unhappy-friends/)"
   ]
  },
  {
   "cell_type": "code",
   "execution_count": null,
   "id": "f65751e6",
   "metadata": {},
   "outputs": [],
   "source": []
  },
  {
   "cell_type": "markdown",
   "id": "bfd38d99",
   "metadata": {},
   "source": [
    "### 时间没剩很多所以问了我一到很奇怪的题目。一个drone，往上飞需要花费能源，往下飞会得到能源。给了我一个list。里面是不同的高度。得出初始需要多少能源才能够飞完。"
   ]
  },
  {
   "cell_type": "markdown",
   "id": "3310dd86",
   "metadata": {},
   "source": [
    "https://www.1point3acres.com/bbs/thread-891136-1-1.html\n",
    "\n",
    "https://www.1point3acres.com/bbs/thread-905390-1-1.html\n",
    "\n",
    "5.1 - 7.30(done)\n",
    "\n",
    "https://www.1point3acres.com/bbs/thread-921835-1-1.html\n",
    "\n",
    "8.1 - 8.23(done)\n",
    "\n",
    "8.24 - 8.31(done)\n",
    "\n",
    "9.1 - 9.9 (done)\n",
    "\n",
    "9.10 - 9.16(done)\n",
    "\n",
    "https://www.1point3acres.com/bbs/thread-928859-2-1.html\n",
    "\n",
    "https://www.1point3acres.com/bbs/thread-924473-1-1.html\n"
   ]
  },
  {
   "cell_type": "code",
   "execution_count": null,
   "id": "aea280fd",
   "metadata": {},
   "outputs": [],
   "source": []
  }
 ],
 "metadata": {
  "kernelspec": {
   "display_name": "Python 3 (ipykernel)",
   "language": "python",
   "name": "python3"
  },
  "language_info": {
   "codemirror_mode": {
    "name": "ipython",
    "version": 3
   },
   "file_extension": ".py",
   "mimetype": "text/x-python",
   "name": "python",
   "nbconvert_exporter": "python",
   "pygments_lexer": "ipython3",
   "version": "3.8.12"
  }
 },
 "nbformat": 4,
 "nbformat_minor": 5
}
