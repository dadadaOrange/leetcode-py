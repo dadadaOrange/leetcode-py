{
 "cells": [
  {
   "cell_type": "markdown",
   "id": "032ba3f0",
   "metadata": {},
   "source": [
    "# LinkedList"
   ]
  },
  {
   "cell_type": "markdown",
   "id": "1bae0448",
   "metadata": {},
   "source": [
    "# Fast Slow Pointers (Two Pointers)"
   ]
  },
  {
   "cell_type": "markdown",
   "id": "c5152937",
   "metadata": {},
   "source": [
    "## 876. Middle of the Linked List\n",
    "[876. Middle of the Linked List](https://leetcode.com/problems/middle-of-the-linked-list/)"
   ]
  },
  {
   "cell_type": "code",
   "execution_count": null,
   "id": "46b9c3c5",
   "metadata": {},
   "outputs": [],
   "source": []
  },
  {
   "cell_type": "markdown",
   "id": "87409a29",
   "metadata": {},
   "source": [
    "## 141. Linked List Cycle\n",
    "[141. Linked List Cycle](https://leetcode.com/problems/linked-list-cycle/)"
   ]
  },
  {
   "cell_type": "code",
   "execution_count": null,
   "id": "89e9d840",
   "metadata": {},
   "outputs": [],
   "source": []
  },
  {
   "cell_type": "markdown",
   "id": "c99010b8",
   "metadata": {},
   "source": [
    "## 142. Linked List Cycle II\n",
    "[142. Linked List Cycle II](https://leetcode.com/problems/linked-list-cycle-ii/)"
   ]
  },
  {
   "cell_type": "code",
   "execution_count": null,
   "id": "f3da3274",
   "metadata": {},
   "outputs": [],
   "source": []
  },
  {
   "cell_type": "markdown",
   "id": "66112b22",
   "metadata": {},
   "source": [
    "# Dummy Head"
   ]
  },
  {
   "cell_type": "markdown",
   "id": "f5666050",
   "metadata": {},
   "source": [
    "## 708. Insert into a Sorted Circular Linked List\n",
    "[708. Insert into a Sorted Circular Linked List](https://leetcode.com/problems/insert-into-a-sorted-circular-linked-list/)"
   ]
  },
  {
   "cell_type": "code",
   "execution_count": null,
   "id": "808fc203",
   "metadata": {},
   "outputs": [],
   "source": []
  },
  {
   "cell_type": "markdown",
   "id": "6c12aaa8",
   "metadata": {},
   "source": [
    "## 203. Remove Linked List Elements\n",
    "[203. Remove Linked List Elements](https://leetcode.com/problems/remove-linked-list-elements/)"
   ]
  },
  {
   "cell_type": "code",
   "execution_count": null,
   "id": "97088087",
   "metadata": {},
   "outputs": [],
   "source": []
  },
  {
   "cell_type": "markdown",
   "id": "6702af60",
   "metadata": {},
   "source": [
    "## 86. Partition List\n",
    "[86. Partition List](https://leetcode.com/problems/partition-list/)"
   ]
  },
  {
   "cell_type": "code",
   "execution_count": null,
   "id": "94cdba04",
   "metadata": {},
   "outputs": [],
   "source": []
  },
  {
   "cell_type": "markdown",
   "id": "ed36d055",
   "metadata": {},
   "source": [
    "## Add Two Numbers\n",
    "[Add Two Numbers](https://leetcode.com/problems/add-two-numbers/)"
   ]
  },
  {
   "cell_type": "code",
   "execution_count": null,
   "id": "8d5a2227",
   "metadata": {},
   "outputs": [],
   "source": []
  },
  {
   "cell_type": "markdown",
   "id": "7ff0a416",
   "metadata": {},
   "source": [
    "## 234. Palindrome Linked List\n",
    "[234. Palindrome Linked List](https://leetcode.com/problems/palindrome-linked-list/)"
   ]
  },
  {
   "cell_type": "code",
   "execution_count": null,
   "id": "4a001e8b",
   "metadata": {},
   "outputs": [],
   "source": []
  },
  {
   "cell_type": "markdown",
   "id": "ab8e4afb",
   "metadata": {},
   "source": [
    "# Design"
   ]
  },
  {
   "cell_type": "markdown",
   "id": "6c27bea6",
   "metadata": {},
   "source": [
    "## 707. Design Linked List\n",
    "[707. Design Linked List](https://leetcode.com/problems/design-linked-list/)"
   ]
  },
  {
   "cell_type": "code",
   "execution_count": null,
   "id": "9d01787b",
   "metadata": {},
   "outputs": [],
   "source": []
  },
  {
   "cell_type": "markdown",
   "id": "6464a7f7",
   "metadata": {},
   "source": [
    "## 146. LRU Cache\n",
    "[146. LRU Cache](https://leetcode.com/problems/lru-cache/)"
   ]
  },
  {
   "cell_type": "code",
   "execution_count": null,
   "id": "37d3701b",
   "metadata": {},
   "outputs": [],
   "source": []
  },
  {
   "cell_type": "markdown",
   "id": "3b35dde8",
   "metadata": {},
   "source": [
    "# Reverse LinkedList"
   ]
  },
  {
   "cell_type": "markdown",
   "id": "f45b337f",
   "metadata": {},
   "source": [
    "## 206. Reverse Linked List\n",
    "[206. Reverse Linked List](https://leetcode.com/problems/reverse-linked-list/)"
   ]
  },
  {
   "cell_type": "code",
   "execution_count": null,
   "id": "80f831b3",
   "metadata": {},
   "outputs": [],
   "source": []
  },
  {
   "cell_type": "markdown",
   "id": "6c8e9665",
   "metadata": {},
   "source": [
    "## 92. Reverse Linked List II\n",
    "[92. Reverse Linked List II](https://leetcode.com/problems/reverse-linked-list-ii/)"
   ]
  },
  {
   "cell_type": "code",
   "execution_count": null,
   "id": "1b3a63c7",
   "metadata": {},
   "outputs": [],
   "source": []
  },
  {
   "cell_type": "markdown",
   "id": "4bf779e0",
   "metadata": {},
   "source": [
    "## 25. Reverse Nodes in k-Group\n",
    "[25. Reverse Nodes in k-Group](https://leetcode.com/problems/reverse-nodes-in-k-group/)"
   ]
  },
  {
   "cell_type": "code",
   "execution_count": null,
   "id": "545145f1",
   "metadata": {},
   "outputs": [],
   "source": []
  },
  {
   "cell_type": "markdown",
   "id": "360e7848",
   "metadata": {},
   "source": [
    "# Sort LinkedList"
   ]
  },
  {
   "cell_type": "markdown",
   "id": "fbc6cb9c",
   "metadata": {},
   "source": [
    "## 148. Sort List\n",
    "[148. Sort List](https://leetcode.com/problems/sort-list/)"
   ]
  },
  {
   "cell_type": "code",
   "execution_count": null,
   "id": "cce67b34",
   "metadata": {},
   "outputs": [],
   "source": []
  },
  {
   "cell_type": "markdown",
   "id": "36f7886d",
   "metadata": {},
   "source": [
    "## 143. Reorder List\n",
    "[143. Reorder List](https://leetcode.com/problems/reorder-list/)"
   ]
  },
  {
   "cell_type": "code",
   "execution_count": null,
   "id": "2dc6fb28",
   "metadata": {},
   "outputs": [],
   "source": []
  },
  {
   "cell_type": "markdown",
   "id": "51a67fc3",
   "metadata": {},
   "source": [
    "# Merge Sorted LinkedList"
   ]
  },
  {
   "cell_type": "markdown",
   "id": "dfcced5d",
   "metadata": {},
   "source": [
    "## 21. Merge Two Sorted Lists\n",
    "[21. Merge Two Sorted Lists](https://leetcode.com/problems/merge-two-sorted-lists/)"
   ]
  },
  {
   "cell_type": "code",
   "execution_count": null,
   "id": "dc9e8f30",
   "metadata": {},
   "outputs": [],
   "source": []
  },
  {
   "cell_type": "markdown",
   "id": "40b92033",
   "metadata": {},
   "source": [
    "## 23. Merge k Sorted Lists\n",
    "[23. Merge k Sorted Lists](https://leetcode.com/problems/merge-k-sorted-lists/)"
   ]
  },
  {
   "cell_type": "code",
   "execution_count": null,
   "id": "dad129ba",
   "metadata": {},
   "outputs": [],
   "source": []
  },
  {
   "cell_type": "markdown",
   "id": "a8510283",
   "metadata": {},
   "source": [
    "## 138. Copy List with Random Pointer\n",
    "[138. Copy List with Random Pointer](https://leetcode.com/problems/copy-list-with-random-pointer/)"
   ]
  },
  {
   "cell_type": "code",
   "execution_count": null,
   "id": "19172818",
   "metadata": {},
   "outputs": [],
   "source": []
  }
 ],
 "metadata": {
  "kernelspec": {
   "display_name": "Python 3 (ipykernel)",
   "language": "python",
   "name": "python3"
  },
  "language_info": {
   "codemirror_mode": {
    "name": "ipython",
    "version": 3
   },
   "file_extension": ".py",
   "mimetype": "text/x-python",
   "name": "python",
   "nbconvert_exporter": "python",
   "pygments_lexer": "ipython3",
   "version": "3.8.12"
  }
 },
 "nbformat": 4,
 "nbformat_minor": 5
}
