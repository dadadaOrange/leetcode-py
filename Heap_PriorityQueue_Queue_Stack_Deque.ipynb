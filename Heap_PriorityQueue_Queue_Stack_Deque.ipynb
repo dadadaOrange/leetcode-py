{
 "cells": [
  {
   "cell_type": "markdown",
   "id": "0d552740",
   "metadata": {},
   "source": [
    "# Heap Heapq PriorityQueue"
   ]
  },
  {
   "cell_type": "markdown",
   "id": "46bbfd92",
   "metadata": {},
   "source": [
    "## 347. Top K Frequent Elements\n",
    "[347. Top K Frequent Elements](https://leetcode.com/problems/top-k-frequent-elements/)\n",
    "\n",
    "- Counter\n",
    "- defaultdict\n",
    "- heapq\n",
    "- loop dict: k_map.items()"
   ]
  },
  {
   "cell_type": "code",
   "execution_count": 3,
   "id": "4b979bea",
   "metadata": {},
   "outputs": [],
   "source": [
    "def topKFrequent(self, nums, k):\n",
    "    k_map = defaultdict(int)\n",
    "    # # calculate the freq of each element\n",
    "    for item in nums:\n",
    "        k_map[item] += 1\n",
    "    # k_map = Counter(nums)\n",
    "    # use heapq to pop the top k element\n",
    "    pq = []\n",
    "    for ele,freq in k_map.items():\n",
    "        if len(pq) < k:\n",
    "            pq.append([freq, ele])\n",
    "            if len(pq) == k:\n",
    "                heapq.heapify(pq)\n",
    "        else:\n",
    "            top = pq[0]\n",
    "            if top[0] < freq:\n",
    "                heapq.heappushpop(pq, [freq, ele])\n",
    "    res = []\n",
    "    for i in pq:\n",
    "        res.append(i[1])\n",
    "    return res\n",
    "\n",
    "# TC = O(n + k + (n - k)logk)\n",
    "# SC = O(n + k)"
   ]
  },
  {
   "cell_type": "markdown",
   "id": "b35ad5f6",
   "metadata": {},
   "source": [
    "## 692. Top K Frequent Words\n",
    "[692. Top K Frequent Words](https://leetcode.com/problems/top-k-frequent-words/)"
   ]
  },
  {
   "cell_type": "code",
   "execution_count": null,
   "id": "dfac46c7",
   "metadata": {},
   "outputs": [],
   "source": [
    "class Solution:\n",
    "    def topKFrequent(self, words: List[str], k: int) -> List[str]:\n",
    "        # calculate the freq of each word\n",
    "        k_map = Counter(words)\n",
    "        # heapq\n",
    "        pq = []\n",
    "        for w, count in k_map.items():\n",
    "            if len(pq) < k:\n",
    "                pq.append(word(count, w))\n",
    "                if len(pq) == k:\n",
    "                    heapq.heapify(pq)\n",
    "            else:\n",
    "                cur = word(count, w)\n",
    "                heapq.heappushpop(pq, cur)\n",
    "        \n",
    "        # Cannot reverse minHeap\n",
    "        # pq.reverse()\n",
    "        res = []\n",
    "        while pq:\n",
    "            # res.append(heapq.heappop(pq).w)\n",
    "            wd = heapq.heappop(pq)\n",
    "            # wd.display()\n",
    "            res.append(wd.w)\n",
    "        res.reverse()\n",
    "        return res\n",
    "\n",
    "class word:\n",
    "    def __init__(self, count, w):\n",
    "        self.count = count\n",
    "        self.w = w\n",
    "    \n",
    "    def __lt__(self, word2):\n",
    "        if self.count == word2.count:\n",
    "            return self.w > word2.w\n",
    "        return self.count < word2.count\n",
    "\n",
    "    def display(self):\n",
    "        print(self.count, self.w)"
   ]
  },
  {
   "cell_type": "markdown",
   "id": "519ae765",
   "metadata": {},
   "source": [
    "## 215. Kth Largest Element in an Array\n",
    "[215. Kth Largest Element in an Array](https://leetcode.com/problems/kth-largest-element-in-an-array/)"
   ]
  },
  {
   "cell_type": "code",
   "execution_count": null,
   "id": "d87e9799",
   "metadata": {},
   "outputs": [],
   "source": []
  },
  {
   "cell_type": "markdown",
   "id": "b824ef9a",
   "metadata": {},
   "source": [
    "## 973. K Closest Points to Origin\n",
    "[973. K Closest Points to Origin](https://leetcode.com/problems/k-closest-points-to-origin/)"
   ]
  },
  {
   "cell_type": "code",
   "execution_count": null,
   "id": "fc48c032",
   "metadata": {},
   "outputs": [],
   "source": []
  },
  {
   "cell_type": "markdown",
   "id": "b621bf78",
   "metadata": {},
   "source": [
    "## 149. Max Points on a Line\n",
    "[149. Max Points on a Line](https://leetcode.com/problems/max-points-on-a-line/)"
   ]
  },
  {
   "cell_type": "code",
   "execution_count": null,
   "id": "394a4e2c",
   "metadata": {},
   "outputs": [],
   "source": []
  },
  {
   "cell_type": "markdown",
   "id": "86649048",
   "metadata": {},
   "source": [
    "# Queue Stack Deque"
   ]
  },
  {
   "cell_type": "markdown",
   "id": "f9f3866d",
   "metadata": {},
   "source": [
    "## 225. Implement Stack using Queues\n",
    "[225. Implement Stack using Queues](https://leetcode.com/problems/implement-stack-using-queues/)"
   ]
  },
  {
   "cell_type": "code",
   "execution_count": null,
   "id": "46d15d14",
   "metadata": {},
   "outputs": [],
   "source": []
  },
  {
   "cell_type": "markdown",
   "id": "c5ad3314",
   "metadata": {},
   "source": [
    "## 232. Implement Queue using Stacks\n",
    "[232. Implement Queue using Stacks](https://leetcode.com/problems/implement-queue-using-stacks/)"
   ]
  },
  {
   "cell_type": "code",
   "execution_count": null,
   "id": "23750f17",
   "metadata": {},
   "outputs": [],
   "source": []
  },
  {
   "cell_type": "markdown",
   "id": "28423b60",
   "metadata": {},
   "source": [
    "## 150. Evaluate Reverse Polish Notation\n",
    "[150. Evaluate Reverse Polish Notation](https://leetcode.com/problems/evaluate-reverse-polish-notation/)"
   ]
  },
  {
   "cell_type": "code",
   "execution_count": null,
   "id": "4bc89f55",
   "metadata": {},
   "outputs": [],
   "source": []
  },
  {
   "cell_type": "markdown",
   "id": "66629658",
   "metadata": {},
   "source": [
    "## 155. Min Stack\n",
    "[155. Min Stack](https://leetcode.com/problems/min-stack/)"
   ]
  },
  {
   "cell_type": "code",
   "execution_count": null,
   "id": "9cc0e0b1",
   "metadata": {},
   "outputs": [],
   "source": []
  },
  {
   "cell_type": "markdown",
   "id": "65804c7f",
   "metadata": {},
   "source": [
    "## 239. Sliding Window Maximum\n",
    "[239. Sliding Window Maximum](https://leetcode.com/problems/sliding-window-maximum/)"
   ]
  },
  {
   "cell_type": "code",
   "execution_count": null,
   "id": "d51e89c6",
   "metadata": {},
   "outputs": [],
   "source": []
  },
  {
   "cell_type": "markdown",
   "id": "7e01b0bf",
   "metadata": {},
   "source": [
    "# Histograms"
   ]
  },
  {
   "cell_type": "markdown",
   "id": "dca5b63a",
   "metadata": {},
   "source": [
    "## 84. Largest Rectangle in Histogram\n",
    "[84. Largest Rectangle in Histogram](https://leetcode.com/problems/largest-rectangle-in-histogram/)"
   ]
  },
  {
   "cell_type": "code",
   "execution_count": null,
   "id": "4c7ed91a",
   "metadata": {},
   "outputs": [],
   "source": []
  },
  {
   "cell_type": "markdown",
   "id": "947b02e8",
   "metadata": {},
   "source": [
    "## 85. Maximal Rectangle\n",
    "[85. Maximal Rectangle](https://leetcode.com/problems/maximal-rectangle/)"
   ]
  },
  {
   "cell_type": "code",
   "execution_count": null,
   "id": "76b21a11",
   "metadata": {},
   "outputs": [],
   "source": []
  },
  {
   "cell_type": "markdown",
   "id": "2887944c",
   "metadata": {},
   "source": [
    "## 42. Trapping Rain Water\n",
    "[42. Trapping Rain Water](https://leetcode.com/problems/trapping-rain-water/)"
   ]
  },
  {
   "cell_type": "code",
   "execution_count": null,
   "id": "bd479562",
   "metadata": {},
   "outputs": [],
   "source": []
  },
  {
   "cell_type": "markdown",
   "id": "e2a334cc",
   "metadata": {},
   "source": [
    "## 407. Trapping Rain Water II\n",
    "[407. Trapping Rain Water II](https://leetcode.com/problems/trapping-rain-water-ii/)"
   ]
  },
  {
   "cell_type": "code",
   "execution_count": null,
   "id": "ba232e62",
   "metadata": {},
   "outputs": [],
   "source": []
  }
 ],
 "metadata": {
  "kernelspec": {
   "display_name": "Python 3 (ipykernel)",
   "language": "python",
   "name": "python3"
  },
  "language_info": {
   "codemirror_mode": {
    "name": "ipython",
    "version": 3
   },
   "file_extension": ".py",
   "mimetype": "text/x-python",
   "name": "python",
   "nbconvert_exporter": "python",
   "pygments_lexer": "ipython3",
   "version": "3.8.12"
  }
 },
 "nbformat": 4,
 "nbformat_minor": 5
}
