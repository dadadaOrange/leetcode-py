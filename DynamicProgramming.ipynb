{
 "cells": [
  {
   "cell_type": "markdown",
   "id": "52786799",
   "metadata": {},
   "source": [
    "# Array"
   ]
  },
  {
   "cell_type": "markdown",
   "id": "ccc821df",
   "metadata": {},
   "source": [
    "## 674. Longest Continuous Increasing Subsequence\n",
    "[674. Longest Continuous Increasing Subsequence](https://leetcode.com/problems/longest-continuous-increasing-subsequence/)"
   ]
  },
  {
   "cell_type": "code",
   "execution_count": null,
   "id": "17f092d4",
   "metadata": {},
   "outputs": [],
   "source": []
  },
  {
   "cell_type": "markdown",
   "id": "d105296a",
   "metadata": {},
   "source": [
    "## 300. Longest Increasing Subsequence\n",
    "[300. Longest Increasing Subsequence](https://leetcode.com/problems/longest-increasing-subsequence/)"
   ]
  },
  {
   "cell_type": "code",
   "execution_count": null,
   "id": "b7418806",
   "metadata": {},
   "outputs": [],
   "source": []
  },
  {
   "cell_type": "markdown",
   "id": "882a0db9",
   "metadata": {},
   "source": [
    "## 53. Maximum Subarray\n",
    "[53. Maximum Subarray](https://leetcode.com/problems/maximum-subarray/)"
   ]
  },
  {
   "cell_type": "code",
   "execution_count": null,
   "id": "4a551db6",
   "metadata": {},
   "outputs": [],
   "source": []
  },
  {
   "cell_type": "markdown",
   "id": "5243aac5",
   "metadata": {},
   "source": [
    "## 152. Maximum Product Subarray\n",
    "[152. Maximum Product Subarray](https://leetcode.com/problems/maximum-product-subarray/)"
   ]
  },
  {
   "cell_type": "code",
   "execution_count": null,
   "id": "86fddbba",
   "metadata": {},
   "outputs": [],
   "source": []
  },
  {
   "cell_type": "markdown",
   "id": "dbdc3700",
   "metadata": {},
   "source": [
    "## 410. Split Array Largest Sum\n",
    "[410. Split Array Largest Sum](https://leetcode.com/problems/split-array-largest-sum/)"
   ]
  },
  {
   "cell_type": "code",
   "execution_count": null,
   "id": "4f46aee3",
   "metadata": {},
   "outputs": [],
   "source": []
  },
  {
   "cell_type": "markdown",
   "id": "019db061",
   "metadata": {},
   "source": [
    "# String/Words"
   ]
  },
  {
   "cell_type": "markdown",
   "id": "a6c3df0e",
   "metadata": {},
   "source": [
    "## 5. Longest Palindromic Substring\n",
    "[5. Longest Palindromic Substring](https://leetcode.com/problems/longest-palindromic-substring/)"
   ]
  },
  {
   "cell_type": "code",
   "execution_count": null,
   "id": "5118206f",
   "metadata": {},
   "outputs": [],
   "source": []
  },
  {
   "cell_type": "markdown",
   "id": "ef4166e3",
   "metadata": {},
   "source": [
    "## 139. Word Break\n",
    "[139. Word Break](https://leetcode.com/problems/word-break/)"
   ]
  },
  {
   "cell_type": "code",
   "execution_count": null,
   "id": "b6e6c985",
   "metadata": {},
   "outputs": [],
   "source": []
  },
  {
   "cell_type": "markdown",
   "id": "d6fe52c5",
   "metadata": {},
   "source": [
    "## 140. Word Break II\n",
    "[140. Word Break II](https://leetcode.com/problems/word-break-ii/)"
   ]
  },
  {
   "cell_type": "code",
   "execution_count": null,
   "id": "27b12f1e",
   "metadata": {},
   "outputs": [],
   "source": []
  },
  {
   "cell_type": "markdown",
   "id": "1f3b74f7",
   "metadata": {},
   "source": [
    "## 472. Concatenated Words\n",
    "[472. Concatenated Words](https://leetcode.com/problems/concatenated-words/)"
   ]
  },
  {
   "cell_type": "code",
   "execution_count": null,
   "id": "33bbf4b0",
   "metadata": {},
   "outputs": [],
   "source": []
  },
  {
   "cell_type": "markdown",
   "id": "91857a3f",
   "metadata": {},
   "source": [
    "## 91. Decode Ways\n",
    "[91. Decode Ways](https://leetcode.com/problems/decode-ways/)"
   ]
  },
  {
   "cell_type": "code",
   "execution_count": null,
   "id": "106c4e55",
   "metadata": {},
   "outputs": [],
   "source": []
  },
  {
   "cell_type": "markdown",
   "id": "f10fedd3",
   "metadata": {},
   "source": [
    "## 55. Jump Game\n",
    "[55. Jump Game](https://leetcode.com/problems/jump-game/)"
   ]
  },
  {
   "cell_type": "code",
   "execution_count": null,
   "id": "1f536c53",
   "metadata": {},
   "outputs": [],
   "source": []
  },
  {
   "cell_type": "markdown",
   "id": "a6f12fb7",
   "metadata": {},
   "source": [
    "## 45. Jump Game II\n",
    "[45. Jump Game II](https://leetcode.com/problems/jump-game-ii/)"
   ]
  },
  {
   "cell_type": "code",
   "execution_count": null,
   "id": "5b91e0e3",
   "metadata": {},
   "outputs": [],
   "source": []
  },
  {
   "cell_type": "markdown",
   "id": "4ea3576d",
   "metadata": {},
   "source": [
    "## 72. Edit Distance\n",
    "[72. Edit Distance](https://leetcode.com/problems/edit-distance/)"
   ]
  },
  {
   "cell_type": "code",
   "execution_count": null,
   "id": "27e27025",
   "metadata": {},
   "outputs": [],
   "source": []
  },
  {
   "cell_type": "markdown",
   "id": "aecd60e4",
   "metadata": {},
   "source": [
    "## 1048. Longest String Chain\n",
    "[1048. Longest String Chain](https://leetcode.com/problems/longest-string-chain/)"
   ]
  },
  {
   "cell_type": "code",
   "execution_count": null,
   "id": "5fdd8f3c",
   "metadata": {},
   "outputs": [],
   "source": []
  },
  {
   "cell_type": "markdown",
   "id": "b09abd5f",
   "metadata": {},
   "source": [
    "# Matrix"
   ]
  },
  {
   "cell_type": "markdown",
   "id": "9a05139b",
   "metadata": {},
   "source": [
    "## 485. Max Consecutive Ones\n",
    "[485. Max Consecutive Ones](https://leetcode.com/problems/max-consecutive-ones/)"
   ]
  },
  {
   "cell_type": "code",
   "execution_count": null,
   "id": "3499b4ef",
   "metadata": {},
   "outputs": [],
   "source": []
  },
  {
   "cell_type": "markdown",
   "id": "06aa9521",
   "metadata": {},
   "source": [
    "## 221. Maximal Square\n",
    "[221. Maximal Square](https://leetcode.com/problems/maximal-square/)"
   ]
  },
  {
   "cell_type": "code",
   "execution_count": null,
   "id": "580723fd",
   "metadata": {},
   "outputs": [],
   "source": []
  },
  {
   "cell_type": "markdown",
   "id": "a89bef28",
   "metadata": {},
   "source": [
    "## 85. Maximal Rectangle\n",
    "[85. Maximal Rectangle](https://leetcode.com/problems/maximal-rectangle/)"
   ]
  },
  {
   "cell_type": "code",
   "execution_count": null,
   "id": "cdb2091d",
   "metadata": {},
   "outputs": [],
   "source": []
  },
  {
   "cell_type": "markdown",
   "id": "696d7b82",
   "metadata": {},
   "source": [
    "## 562. Longest Line of Consecutive One in Matrix\n",
    "[562. Longest Line of Consecutive One in Matrix](https://leetcode.com/problems/longest-line-of-consecutive-one-in-matrix/)"
   ]
  },
  {
   "cell_type": "code",
   "execution_count": null,
   "id": "b21284b5",
   "metadata": {},
   "outputs": [],
   "source": []
  },
  {
   "cell_type": "markdown",
   "id": "9d18e206",
   "metadata": {},
   "source": [
    "## 329. Longest Increasing Path in a Matrix\n",
    "[329. Longest Increasing Path in a Matrix](https://leetcode.com/problems/longest-increasing-path-in-a-matrix/)"
   ]
  },
  {
   "cell_type": "code",
   "execution_count": null,
   "id": "5639aed7",
   "metadata": {},
   "outputs": [],
   "source": []
  },
  {
   "cell_type": "markdown",
   "id": "367fdd10",
   "metadata": {},
   "source": [
    "## 1937. Maximum Number of Points with Cost\n",
    "[1937. Maximum Number of Points with Cost](https://leetcode.com/problems/maximum-number-of-points-with-cost/)"
   ]
  },
  {
   "cell_type": "code",
   "execution_count": null,
   "id": "ecdeec5c",
   "metadata": {},
   "outputs": [],
   "source": []
  },
  {
   "cell_type": "markdown",
   "id": "86077ee6",
   "metadata": {},
   "source": [
    "## 1240. Tiling a Rectangle with the Fewest Squares\n",
    "[1240. Tiling a Rectangle with the Fewest Squares](https://leetcode.com/problems/tiling-a-rectangle-with-the-fewest-squares/)"
   ]
  },
  {
   "cell_type": "code",
   "execution_count": null,
   "id": "3ce28a56",
   "metadata": {},
   "outputs": [],
   "source": []
  },
  {
   "cell_type": "markdown",
   "id": "037b66f4",
   "metadata": {},
   "source": [
    "## 764. Largest Plus Sign\n",
    "[764. Largest Plus Sign](https://leetcode.com/problems/largest-plus-sign/)"
   ]
  },
  {
   "cell_type": "code",
   "execution_count": null,
   "id": "084cd885",
   "metadata": {},
   "outputs": [],
   "source": []
  },
  {
   "cell_type": "markdown",
   "id": "49d1181f",
   "metadata": {},
   "source": [
    "## 1277. Count Square Submatrices with All Ones\n",
    "[1277. Count Square Submatrices with All Ones](https://leetcode.com/problems/count-square-submatrices-with-all-ones/)"
   ]
  },
  {
   "cell_type": "code",
   "execution_count": null,
   "id": "6d6239f9",
   "metadata": {},
   "outputs": [],
   "source": []
  },
  {
   "cell_type": "markdown",
   "id": "c393d0a5",
   "metadata": {},
   "source": [
    "## 1139. Largest 1-Bordered Square\n",
    "[1139. Largest 1-Bordered Square](https://leetcode.com/problems/largest-1-bordered-square/)"
   ]
  },
  {
   "cell_type": "code",
   "execution_count": null,
   "id": "478f2f55",
   "metadata": {},
   "outputs": [],
   "source": []
  },
  {
   "cell_type": "markdown",
   "id": "18e12f43",
   "metadata": {},
   "source": [
    "## 363. Max Sum of Rectangle No Larger Than K\n",
    "[363. Max Sum of Rectangle No Larger Than K](https://leetcode.com/problems/max-sum-of-rectangle-no-larger-than-k/)"
   ]
  },
  {
   "cell_type": "code",
   "execution_count": null,
   "id": "2070f57f",
   "metadata": {},
   "outputs": [],
   "source": []
  },
  {
   "cell_type": "markdown",
   "id": "92d58c1b",
   "metadata": {},
   "source": [
    "# Knapsack"
   ]
  },
  {
   "cell_type": "markdown",
   "id": "cec961ed",
   "metadata": {},
   "source": [
    "## 416. Partition Equal Subset Sum\n",
    "[416. Partition Equal Subset Sum](https://leetcode.com/problems/partition-equal-subset-sum/)"
   ]
  },
  {
   "cell_type": "code",
   "execution_count": null,
   "id": "75af8833",
   "metadata": {},
   "outputs": [],
   "source": []
  },
  {
   "cell_type": "markdown",
   "id": "3fc5c9c2",
   "metadata": {},
   "source": [
    "## 322. Coin Change\n",
    "[322. Coin Change](https://leetcode.com/problems/coin-change/)"
   ]
  },
  {
   "cell_type": "code",
   "execution_count": null,
   "id": "ec9ebbc1",
   "metadata": {},
   "outputs": [],
   "source": []
  },
  {
   "cell_type": "markdown",
   "id": "8e56c1de",
   "metadata": {},
   "source": [
    "## 518. Coin Change 2\n",
    "[518. Coin Change 2](https://leetcode.com/problems/coin-change-2/)"
   ]
  },
  {
   "cell_type": "code",
   "execution_count": null,
   "id": "5dfd03bb",
   "metadata": {},
   "outputs": [],
   "source": []
  },
  {
   "cell_type": "markdown",
   "id": "2498dfe2",
   "metadata": {},
   "source": [
    "## 494. Target Sum\n",
    "[494. Target Sum](https://leetcode.com/problems/target-sum/)"
   ]
  },
  {
   "cell_type": "code",
   "execution_count": null,
   "id": "5875a387",
   "metadata": {},
   "outputs": [],
   "source": []
  },
  {
   "cell_type": "markdown",
   "id": "be4c2568",
   "metadata": {},
   "source": [
    "# Buy Stocks"
   ]
  },
  {
   "cell_type": "markdown",
   "id": "4dfe5168",
   "metadata": {},
   "source": [
    "## 121. Best Time to Buy and Sell Stock\n",
    "[121. Best Time to Buy and Sell Stock](https://leetcode.com/problems/best-time-to-buy-and-sell-stock/)"
   ]
  },
  {
   "cell_type": "code",
   "execution_count": null,
   "id": "a05b386e",
   "metadata": {},
   "outputs": [],
   "source": []
  },
  {
   "cell_type": "markdown",
   "id": "e6f0a0fb",
   "metadata": {},
   "source": [
    "## 122. Best Time to Buy and Sell Stock II\n",
    "[122. Best Time to Buy and Sell Stock II](https://leetcode.com/problems/best-time-to-buy-and-sell-stock-ii/)"
   ]
  },
  {
   "cell_type": "code",
   "execution_count": null,
   "id": "8e7dbd74",
   "metadata": {},
   "outputs": [],
   "source": []
  },
  {
   "cell_type": "markdown",
   "id": "00630ebf",
   "metadata": {},
   "source": [
    "## 123. Best Time to Buy and Sell Stock III\n",
    "[123. Best Time to Buy and Sell Stock III](https://leetcode.com/problems/best-time-to-buy-and-sell-stock-iii/)"
   ]
  },
  {
   "cell_type": "code",
   "execution_count": null,
   "id": "525473f1",
   "metadata": {},
   "outputs": [],
   "source": []
  },
  {
   "cell_type": "markdown",
   "id": "bf54520d",
   "metadata": {},
   "source": [
    "## 188. Best Time to Buy and Sell Stock IV\n",
    "[188. Best Time to Buy and Sell Stock IV](https://leetcode.com/problems/best-time-to-buy-and-sell-stock-iv/)"
   ]
  },
  {
   "cell_type": "code",
   "execution_count": null,
   "id": "cdc48186",
   "metadata": {},
   "outputs": [],
   "source": []
  },
  {
   "cell_type": "markdown",
   "id": "14bb953b",
   "metadata": {},
   "source": [
    "## 309. Best Time to Buy and Sell Stock with Cooldown\n",
    "[309. Best Time to Buy and Sell Stock with Cooldown](https://leetcode.com/problems/best-time-to-buy-and-sell-stock-with-cooldown/)"
   ]
  },
  {
   "cell_type": "code",
   "execution_count": null,
   "id": "13b7010e",
   "metadata": {},
   "outputs": [],
   "source": []
  },
  {
   "cell_type": "markdown",
   "id": "c34ae303",
   "metadata": {},
   "source": [
    "## 2291. Maximum Profit From Trading Stocks\n",
    "[2291. Maximum Profit From Trading Stocks](https://leetcode.com/problems/maximum-profit-from-trading-stocks/)"
   ]
  },
  {
   "cell_type": "code",
   "execution_count": null,
   "id": "e50b779e",
   "metadata": {},
   "outputs": [],
   "source": []
  },
  {
   "cell_type": "markdown",
   "id": "8662f831",
   "metadata": {},
   "source": [
    "# Game Theory"
   ]
  },
  {
   "cell_type": "markdown",
   "id": "f76a0c65",
   "metadata": {},
   "source": [
    "## 464. Can I Win\n",
    "[464. Can I Win](https://leetcode.com/problems/can-i-win/)"
   ]
  },
  {
   "cell_type": "code",
   "execution_count": null,
   "id": "fdc32628",
   "metadata": {},
   "outputs": [],
   "source": []
  },
  {
   "cell_type": "markdown",
   "id": "3fa889b4",
   "metadata": {},
   "source": [
    "# Range"
   ]
  },
  {
   "cell_type": "markdown",
   "id": "9b9a1070",
   "metadata": {},
   "source": [
    "## 312. Burst Balloons\n",
    "[312. Burst Balloons](https://leetcode.com/problems/burst-balloons/)"
   ]
  },
  {
   "cell_type": "code",
   "execution_count": null,
   "id": "7ee3c91b",
   "metadata": {},
   "outputs": [],
   "source": []
  },
  {
   "cell_type": "markdown",
   "id": "4a5c9f8a",
   "metadata": {},
   "source": [
    "## 1000. Minimum Cost to Merge Stones\n",
    "[1000. Minimum Cost to Merge Stones](https://leetcode.com/problems/minimum-cost-to-merge-stones/)"
   ]
  },
  {
   "cell_type": "code",
   "execution_count": null,
   "id": "f6bb783a",
   "metadata": {},
   "outputs": [],
   "source": []
  },
  {
   "cell_type": "markdown",
   "id": "f126d7e5",
   "metadata": {},
   "source": [
    "# High Freqency"
   ]
  },
  {
   "cell_type": "markdown",
   "id": "d7559405",
   "metadata": {},
   "source": [
    "## 22. Generate Parentheses\n",
    "[22. Generate Parentheses](https://leetcode.com/problems/generate-parentheses/)"
   ]
  },
  {
   "cell_type": "code",
   "execution_count": null,
   "id": "5d093e5b",
   "metadata": {},
   "outputs": [],
   "source": []
  },
  {
   "cell_type": "markdown",
   "id": "9c5e16a3",
   "metadata": {},
   "source": [
    "## 32. Longest Valid Parentheses\n",
    "[32. Longest Valid Parentheses](https://leetcode.com/problems/longest-valid-parentheses/)"
   ]
  },
  {
   "cell_type": "code",
   "execution_count": null,
   "id": "6bb93925",
   "metadata": {},
   "outputs": [],
   "source": []
  },
  {
   "cell_type": "markdown",
   "id": "70de6c0b",
   "metadata": {},
   "source": [
    "## 828. Count Unique Characters of All Substrings of a Given String\n",
    "[828. Count Unique Characters of All Substrings of a Given String](https://leetcode.com/problems/count-unique-characters-of-all-substrings-of-a-given-string/)"
   ]
  },
  {
   "cell_type": "code",
   "execution_count": null,
   "id": "d0217c7c",
   "metadata": {},
   "outputs": [],
   "source": []
  },
  {
   "cell_type": "markdown",
   "id": "88d71da2",
   "metadata": {},
   "source": [
    "## 10. Regular Expression Matching\n",
    "[10. Regular Expression Matching](https://leetcode.com/problems/regular-expression-matching/)"
   ]
  },
  {
   "cell_type": "code",
   "execution_count": null,
   "id": "58a183ed",
   "metadata": {},
   "outputs": [],
   "source": []
  },
  {
   "cell_type": "markdown",
   "id": "fa903a36",
   "metadata": {},
   "source": [
    "## 1235. Maximum Profit in Job Scheduling\n",
    "[1235. Maximum Profit in Job Scheduling](https://leetcode.com/problems/maximum-profit-in-job-scheduling/)"
   ]
  },
  {
   "cell_type": "code",
   "execution_count": null,
   "id": "37e9391e",
   "metadata": {},
   "outputs": [],
   "source": []
  },
  {
   "cell_type": "markdown",
   "id": "86e8ca38",
   "metadata": {},
   "source": [
    "## 124. Binary Tree Maximum Path Sum\n",
    "[124. Binary Tree Maximum Path Sum](https://leetcode.com/problems/binary-tree-maximum-path-sum/)"
   ]
  },
  {
   "cell_type": "code",
   "execution_count": null,
   "id": "d9e6bb8f",
   "metadata": {},
   "outputs": [],
   "source": []
  },
  {
   "cell_type": "markdown",
   "id": "0b2329c4",
   "metadata": {},
   "source": [
    "## 70. Climbing Stairs\n",
    "[70. Climbing Stairs](https://leetcode.com/problems/climbing-stairs/)"
   ]
  },
  {
   "cell_type": "code",
   "execution_count": null,
   "id": "eedb096d",
   "metadata": {},
   "outputs": [],
   "source": []
  },
  {
   "cell_type": "markdown",
   "id": "3b0fb7a6",
   "metadata": {},
   "source": [
    "## 818. Race Car\n",
    "[818. Race Car](https://leetcode.com/problems/race-car/)"
   ]
  },
  {
   "cell_type": "code",
   "execution_count": null,
   "id": "068841fe",
   "metadata": {},
   "outputs": [],
   "source": []
  },
  {
   "cell_type": "markdown",
   "id": "e367dd15",
   "metadata": {},
   "source": [
    "## 551. Student Attendance Record I\n",
    "[551. Student Attendance Record I](https://leetcode.com/problems/student-attendance-record-i/)"
   ]
  },
  {
   "cell_type": "code",
   "execution_count": null,
   "id": "bbf6e971",
   "metadata": {},
   "outputs": [],
   "source": []
  },
  {
   "cell_type": "markdown",
   "id": "c3983c28",
   "metadata": {},
   "source": [
    "## 552. Student Attendance Record II\n",
    "[552. Student Attendance Record II](https://leetcode.com/problems/student-attendance-record-ii/)"
   ]
  },
  {
   "cell_type": "code",
   "execution_count": null,
   "id": "d7ccb6db",
   "metadata": {},
   "outputs": [],
   "source": []
  }
 ],
 "metadata": {
  "kernelspec": {
   "display_name": "Python 3 (ipykernel)",
   "language": "python",
   "name": "python3"
  },
  "language_info": {
   "codemirror_mode": {
    "name": "ipython",
    "version": 3
   },
   "file_extension": ".py",
   "mimetype": "text/x-python",
   "name": "python",
   "nbconvert_exporter": "python",
   "pygments_lexer": "ipython3",
   "version": "3.8.12"
  }
 },
 "nbformat": 4,
 "nbformat_minor": 5
}
