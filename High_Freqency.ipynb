{
 "cells": [
  {
   "cell_type": "markdown",
   "id": "c95ac28b",
   "metadata": {},
   "source": [
    "# === Array ==="
   ]
  },
  {
   "cell_type": "markdown",
   "id": "9e0c4db7",
   "metadata": {},
   "source": [
    "## - Binary Search"
   ]
  },
  {
   "cell_type": "markdown",
   "id": "9aa44d53",
   "metadata": {},
   "source": [
    "## 35. Search Insert Position\n",
    "[35. Search Insert Position](https://leetcode.com/problems/search-insert-position/)"
   ]
  },
  {
   "cell_type": "code",
   "execution_count": 2,
   "id": "c8ee2ec1",
   "metadata": {},
   "outputs": [],
   "source": [
    "class Solution:\n",
    "    def searchInsert(self, nums, target: int) -> int:\n",
    "        \"\"\"\n",
    "        find the largest num that smaller or equals to the target\n",
    "        \n",
    "        0 1 2 3 4 5 \n",
    "        1 3 5 6 8 9  target = 0  10\n",
    "                    l\n",
    "                  r\n",
    "                m\n",
    "        \"\"\"\n",
    "        left = 0\n",
    "        right = len(nums) - 1\n",
    "        while left <= right:\n",
    "            mid = left + (right - left) // 2\n",
    "            if nums[mid] == target:\n",
    "                return mid\n",
    "            elif nums[mid] < target:\n",
    "                left = mid + 1\n",
    "            else:\n",
    "                right = mid - 1\n",
    "        return left"
   ]
  },
  {
   "cell_type": "code",
   "execution_count": 1,
   "id": "f5ce62c1",
   "metadata": {},
   "outputs": [],
   "source": [
    "class Solution:\n",
    "    def searchInsert(self, nums, target) -> int:\n",
    "        \"\"\"\n",
    "        find the largest num that smaller or equals to the target\n",
    "        \n",
    "        0 1 2 3 4 5 \n",
    "        1 3 5 6 8 9  target = 4\n",
    "            l\n",
    "          r\n",
    "        m\n",
    "        \"\"\"\n",
    "        if target < nums[0]:\n",
    "            return 0\n",
    "        if target > nums[-1]:\n",
    "            return len(nums)\n",
    "        \n",
    "        left = 0\n",
    "        right = len(nums) - 1\n",
    "        res = -1\n",
    "        while left <= right:\n",
    "            mid = left + (right - left) // 2\n",
    "            if nums[mid] == target:\n",
    "                return mid\n",
    "            elif nums[mid] < target:\n",
    "                res = mid\n",
    "                left = mid + 1\n",
    "            else:\n",
    "                right = mid - 1\n",
    "        return res + 1"
   ]
  },
  {
   "cell_type": "markdown",
   "id": "0cd727e4",
   "metadata": {},
   "source": [
    "## - Two Pointers"
   ]
  },
  {
   "cell_type": "markdown",
   "id": "2f86aa3a",
   "metadata": {},
   "source": [
    "## 408. Valid Word Abbreviation\n",
    "[408. Valid Word Abbreviation](https://leetcode.com/problems/valid-word-abbreviation/)"
   ]
  },
  {
   "cell_type": "code",
   "execution_count": 1,
   "id": "1e96d438",
   "metadata": {},
   "outputs": [],
   "source": [
    "class Solution:\n",
    "    \"\"\"\n",
    "    internationalization\n",
    "    i\n",
    "    \n",
    "    i12iz4n\n",
    "     j\n",
    "       j'\n",
    "    \n",
    "    if abbr[j] is a letter: abbr[j] = word[i] i++, j ++\n",
    "    if abbr[j] is a number:\n",
    "        # corner case: \n",
    "         1. replace empty string: abbr[j] == '0' return False\n",
    "        abbr[j:j'] the total number: \n",
    "            i += number\n",
    "            j == j'\n",
    "    \n",
    "    \"\"\"\n",
    "    def validWordAbbreviation(self, word: str, abbr: str) -> bool:\n",
    "        # corner case\n",
    "        if word == abbr:\n",
    "            return True\n",
    "        \n",
    "        m = len(word)\n",
    "        n = len(abbr)\n",
    "        if m < n:\n",
    "            return False\n",
    "        \n",
    "        # two pointers\n",
    "        i = 0\n",
    "        j = 0\n",
    "        while i < m and j < n:\n",
    "            # abbr[j] is a letter\n",
    "            if abbr[j].isalpha():\n",
    "                if abbr[j] == word[i]:\n",
    "                    j += 1\n",
    "                    i += 1\n",
    "                else:\n",
    "                    return False\n",
    "            else:\n",
    "            # abbr[j] is digit\n",
    "                # j = 0\n",
    "                if abbr[j] == '0':\n",
    "                    return False\n",
    "                j1 = j\n",
    "                while j1 < n and abbr[j1].isdigit():\n",
    "                    j1 += 1\n",
    "                number = int(abbr[j:j1])\n",
    "                i += number\n",
    "                j = j1\n",
    "        # post processing\n",
    "        if i == m and j == n:\n",
    "            return True\n",
    "        return False"
   ]
  },
  {
   "cell_type": "markdown",
   "id": "c7826215",
   "metadata": {},
   "source": [
    "## 1570. Dot Product of Two Sparse Vectors\n",
    "[1570. Dot Product of Two Sparse Vectors](https://leetcode.com/problems/dot-product-of-two-sparse-vectors/)"
   ]
  },
  {
   "cell_type": "code",
   "execution_count": 2,
   "id": "7a2fc6e6",
   "metadata": {},
   "outputs": [],
   "source": [
    "class SparseVector:\n",
    "    def __init__(self, nums):\n",
    "        self.non_zero_dict = {}\n",
    "        self.save_non_zero(nums)\n",
    "        \n",
    "    def save_non_zero(self, nums):\n",
    "        for i in range(len(nums)):\n",
    "            if nums[i] != 0:\n",
    "                self.non_zero_dict[i] = nums[i]\n",
    "\n",
    "    # Return the dotProduct of two sparse vectors\n",
    "    def dotProduct(self, vec: 'SparseVector') -> int:\n",
    "        res = 0\n",
    "        for key, val in self.non_zero_dict.items():\n",
    "            if key in vec.non_zero_dict:\n",
    "                res += val * vec.non_zero_dict[key]\n",
    "        return res\n",
    "        \n",
    "\n",
    "# Your SparseVector object will be instantiated and called as such:\n",
    "# v1 = SparseVector(nums1)\n",
    "# v2 = SparseVector(nums2)\n",
    "# ans = v1.dotProduct(v2)"
   ]
  },
  {
   "cell_type": "markdown",
   "id": "004d2fbe",
   "metadata": {},
   "source": [
    "## 252. Meeting Rooms\n",
    "[252. Meeting Rooms](https://leetcode.com/problems/meeting-rooms/)"
   ]
  },
  {
   "cell_type": "code",
   "execution_count": 3,
   "id": "524eca6d",
   "metadata": {},
   "outputs": [],
   "source": [
    "def canAttendMeetings(intervals):\n",
    "    intervals.sort()\n",
    "    for i in range(len(intervals) - 1):\n",
    "        pre = intervals[i]\n",
    "        cur = intervals[i + 1]\n",
    "        if pre[1] > cur[0]:\n",
    "            return False\n",
    "    return True"
   ]
  },
  {
   "cell_type": "markdown",
   "id": "bb18ba03",
   "metadata": {},
   "source": [
    "## 253. Meeting Rooms II\n",
    "[253. Meeting Rooms II](https://leetcode.com/problems/meeting-rooms-ii/)\n",
    "\n",
    "- solution1: sort + minheap\n",
    "- solution2: sort + time stamp"
   ]
  },
  {
   "cell_type": "code",
   "execution_count": 5,
   "id": "44bfd076",
   "metadata": {},
   "outputs": [],
   "source": [
    "# Solution 1\n",
    "# TC = O(nlogn)\n",
    "# SC = O(n)\n",
    "class Solution:\n",
    "    def minMeetingRooms(self, intervals) -> int:\n",
    "        \"\"\"\n",
    "        sort by start time\n",
    "        use a minheap to keep track of the end time\n",
    "        [1, 4], [2, 6], [5, 7]\n",
    "        min_heap [4] \n",
    "                 [4, 6]\n",
    "                 [6, 7]\n",
    "        \"\"\"\n",
    "        intervals.sort()\n",
    "        free_rooms = []\n",
    "        # add the end time of the first meeting\n",
    "        heapq.heappush(free_rooms, intervals[0][1])\n",
    "        \n",
    "        for i in intervals[1:]:\n",
    "            # do not confilct\n",
    "            if free_rooms[0] <= i[0]:\n",
    "                heapq.heappop(free_rooms)\n",
    "            # update the end date to i[1]\n",
    "            # have conflict, push to pq\n",
    "            heapq.heappush(free_rooms, i[1])\n",
    "        return len(free_rooms)"
   ]
  },
  {
   "cell_type": "markdown",
   "id": "2fd11d34",
   "metadata": {},
   "source": [
    "## 56. Merge Intervals\n",
    "[56. Merge Intervals](https://leetcode.com/problems/merge-intervals/)"
   ]
  },
  {
   "cell_type": "code",
   "execution_count": 6,
   "id": "738247a1",
   "metadata": {},
   "outputs": [],
   "source": [
    "def merge(intervals):\n",
    "    \"\"\"\n",
    "    sort by start time\n",
    "    [1,3],[2,6],[8,10],[15,18]\n",
    "    compare pair by pair\n",
    "    case 1: cur start > previous end (not merge)\n",
    "    case 2: cur start <= previous end (merge)\n",
    "    \"\"\"\n",
    "    res = []\n",
    "    n = len(intervals)\n",
    "    intervals.sort()\n",
    "    res.append(intervals[0])\n",
    "    for i in range(1, n):\n",
    "        cur = intervals[i]\n",
    "        if cur[0] > res[-1][1]:\n",
    "            # not merge\n",
    "            res.append(cur)\n",
    "        else:\n",
    "            # merge\n",
    "            res[-1] = [res[-1][0], max(res[-1][1], cur[1])]\n",
    "    return res"
   ]
  },
  {
   "cell_type": "markdown",
   "id": "f4d684ee",
   "metadata": {},
   "source": [
    "## 169. Majority Element\n",
    "[169. Majority Element](https://leetcode.com/problems/majority-element/)\n",
    "\n",
    "- Boyer-Moore Voting Algorithm\n",
    "- cross traing 4"
   ]
  },
  {
   "cell_type": "code",
   "execution_count": 4,
   "id": "9de7bfee",
   "metadata": {},
   "outputs": [],
   "source": [
    "class Solution:\n",
    "    def majorityElement(self, nums) -> int:\n",
    "        for num, count in Counter(nums).items():\n",
    "            if count > len(nums) // 2:\n",
    "                return num"
   ]
  },
  {
   "cell_type": "markdown",
   "id": "2b329598",
   "metadata": {},
   "source": [
    "## 229. Majority Element II\n",
    "[229. Majority Element II](https://leetcode.com/problems/majority-element-ii/)"
   ]
  },
  {
   "cell_type": "code",
   "execution_count": 6,
   "id": "6ca478a9",
   "metadata": {},
   "outputs": [],
   "source": [
    "class Solution:\n",
    "    def majorityElement(self, nums):\n",
    "        res = []\n",
    "        for num, count in Counter(nums).items():\n",
    "            if count > len(nums) // 3:\n",
    "                res.append(num)\n",
    "        return res"
   ]
  },
  {
   "cell_type": "markdown",
   "id": "772b8a4e",
   "metadata": {},
   "source": [
    "# === Binary Search ==="
   ]
  },
  {
   "cell_type": "code",
   "execution_count": null,
   "id": "8dff14e0",
   "metadata": {},
   "outputs": [],
   "source": []
  },
  {
   "cell_type": "markdown",
   "id": "ae3eb336",
   "metadata": {},
   "source": [
    "# === Sorting ==="
   ]
  },
  {
   "cell_type": "code",
   "execution_count": null,
   "id": "5e4a7281",
   "metadata": {},
   "outputs": [],
   "source": []
  },
  {
   "cell_type": "markdown",
   "id": "eaa831f2",
   "metadata": {},
   "source": [
    "# === String ==="
   ]
  },
  {
   "cell_type": "markdown",
   "id": "8bce2296",
   "metadata": {},
   "source": [
    "## 13. Roman to Integer\n",
    "[13. Roman to Integer](https://leetcode.com/problems/roman-to-integer/)"
   ]
  },
  {
   "cell_type": "code",
   "execution_count": 1,
   "id": "232980c7",
   "metadata": {},
   "outputs": [],
   "source": [
    "class Solution:\n",
    "    def romanToInt(self, s: str) -> int:\n",
    "        \"\"\"\n",
    "        1. hasmap to map roman and integer\n",
    "        2, left to right\n",
    "            compare i and i + 1\n",
    "            1) add the value to the sum\n",
    "            2) subtract if the smaller value is before the larger value\n",
    "        \"\"\"\n",
    "        values = {\n",
    "            \"I\" : 1,\n",
    "            \"V\" : 5,\n",
    "            \"X\" : 10,\n",
    "            \"L\" : 50,\n",
    "            \"C\" : 100,\n",
    "            \"D\" : 500,\n",
    "            \"M\" : 1000\n",
    "        }\n",
    "        total = 0\n",
    "        i = 0\n",
    "        n = len(s)\n",
    "        while i < n:\n",
    "            # substract\n",
    "            if i < n - 1 and values[s[i]] < values[s[i + 1]]:\n",
    "                total += values[s[i + 1]] - values[s[i]]\n",
    "                i += 2\n",
    "            else:\n",
    "                total += values[s[i]]\n",
    "                i += 1\n",
    "        return total"
   ]
  },
  {
   "cell_type": "code",
   "execution_count": null,
   "id": "8cf38484",
   "metadata": {},
   "outputs": [],
   "source": [
    "values = {\n",
    "    \"I\": 1,\n",
    "    \"V\": 5,\n",
    "    \"X\": 10,\n",
    "    \"L\": 50,\n",
    "    \"C\": 100,\n",
    "    \"D\": 500,\n",
    "    \"M\": 1000,\n",
    "    \"IV\": 4,\n",
    "    \"IX\": 9,\n",
    "    \"XL\": 40, \n",
    "    \"XC\": 90,\n",
    "    \"CD\": 400,\n",
    "    \"CM\": 900\n",
    "}\n",
    "\n",
    "class Solution:\n",
    "    def romanToInt(self, s: str) -> int:\n",
    "        total = 0\n",
    "        i = 0\n",
    "        while i < len(s):\n",
    "            # This is the subtractive case.\n",
    "            if i < len(s) - 1 and s[i:i+2] in values:\n",
    "                total += values[s[i:i+2]] \n",
    "                i += 2\n",
    "            else:\n",
    "                total += values[s[i]]\n",
    "                i += 1\n",
    "        return total"
   ]
  },
  {
   "cell_type": "markdown",
   "id": "dfbbb8f7",
   "metadata": {},
   "source": [
    "## 12. Integer to Roman\n",
    "[12. Integer to Roman](https://leetcode.com/problems/integer-to-roman/)"
   ]
  },
  {
   "cell_type": "code",
   "execution_count": null,
   "id": "dc0112f4",
   "metadata": {},
   "outputs": [],
   "source": [
    "# divmod\n"
   ]
  },
  {
   "cell_type": "markdown",
   "id": "a5f12fb2",
   "metadata": {},
   "source": [
    "## 14. Longest Common Prefix\n",
    "[14. Longest Common Prefix](https://leetcode.com/problems/longest-common-prefix/)\n",
    "- Solution 1: Compare one by one(Iterative)\n",
    "- Solution 2: Binary Reduction (divide and conquer)\n",
    "- Solution 3: All together (vertical comparision)"
   ]
  },
  {
   "cell_type": "code",
   "execution_count": 4,
   "id": "7e65560b",
   "metadata": {},
   "outputs": [],
   "source": [
    "# Solution 1: Compare one by one(Iterative)\n",
    "# TC = O(sum(strs))\n",
    "# SC = O(1)\n",
    "class Solution:\n",
    "    def longestCommonPrefix(self, strs):\n",
    "        \"\"\"\n",
    "        compare pair by pair\n",
    "        \"flower\",\"flow\",\"flight\"\n",
    "               i       i + 1\n",
    "          \n",
    "          prefix = \"flow\" \n",
    "        \"\"\"\n",
    "        if len(strs) <= 1:\n",
    "            return strs[0]\n",
    "        \n",
    "        n = len(strs)\n",
    "        res = strs[0]\n",
    "        for i in range(n - 1):\n",
    "            cur_res = self.find_prefix(strs[i], strs[i + 1])\n",
    "            res = res if len(res) < len(cur_res) else cur_res\n",
    "        return res\n",
    "\n",
    "    def find_prefix(self, str1, str2):\n",
    "        if str1 == str2:\n",
    "            return str1\n",
    "        \n",
    "        res = \"\"\n",
    "        m = min(len(str1), len(str2))\n",
    "        j = 0\n",
    "        while j < m:\n",
    "            if str1[j] != str2[j]:\n",
    "                break\n",
    "            j += 1\n",
    "        return str1[:j]"
   ]
  },
  {
   "cell_type": "code",
   "execution_count": 6,
   "id": "e0a195d3",
   "metadata": {},
   "outputs": [],
   "source": [
    "# Solution 2: Binary Reduction (divide and conquer)\n",
    "# TC = (logn* n * average L)\n",
    "# SC = (logn* average L)\n",
    "class Solution:\n",
    "    def longestCommonPrefix(self, strs) -> str:\n",
    "        \"\"\"\n",
    "        binary reduction\n",
    "        \"\"\"\n",
    "        if len(strs) <= 1:\n",
    "            return strs[0]\n",
    "        return self.lcp(strs, 0, len(strs) - 1)\n",
    "    \n",
    "    def lcp(self, strs, left, right):\n",
    "        if left == right:\n",
    "            return strs[left]\n",
    "        mid = left + (right - left) // 2\n",
    "        l = self.lcp(strs, 0, mid)\n",
    "        r = self.lcp(strs, mid + 1, right)\n",
    "        \n",
    "        return self.find_prefix(l, r)\n",
    "    \n",
    "    def find_prefix(self, left, right):\n",
    "        if left == right:\n",
    "            return left\n",
    "        i = 0\n",
    "        while i < min(len(left),len(right)):\n",
    "            if left[i] != right[i]:\n",
    "                return left[:i]\n",
    "            i += 1\n",
    "        return left[:i]"
   ]
  },
  {
   "cell_type": "code",
   "execution_count": 5,
   "id": "abc08649",
   "metadata": {},
   "outputs": [],
   "source": [
    "# Solution 3: All together (vertical comparision)\n",
    "# TC = n * average L\n",
    "# SC = O(1)\n",
    "class Solution:\n",
    "    def longestCommonPrefix(self, strs) -> str:\n",
    "        \"\"\"\n",
    "        \"flower\"  \n",
    "         i\n",
    "        \"flow\"    j\n",
    "         i\n",
    "        \"flight\"\n",
    "         i\n",
    "        \"\"\"\n",
    "        if len(strs) <= 1:\n",
    "            return strs[0]\n",
    "        for i in range(len(strs[0])):\n",
    "            ch = strs[0][i]\n",
    "            for j in range(1, len(strs)):\n",
    "                cur_str = strs[j]\n",
    "                if i == len(cur_str) or cur_str[i] != ch:\n",
    "                    return strs[0][:i]\n",
    "        return strs[0]"
   ]
  },
  {
   "cell_type": "markdown",
   "id": "b4939acd",
   "metadata": {},
   "source": [
    "## 412. Fizz Buzz\n",
    "[412. Fizz Buzz](https://leetcode.com/problems/fizz-buzz/)"
   ]
  },
  {
   "cell_type": "code",
   "execution_count": 7,
   "id": "58a05aad",
   "metadata": {},
   "outputs": [],
   "source": [
    "class Solution:\n",
    "    def fizzBuzz(self, n: int):\n",
    "        res = []\n",
    "        for i in range(1, n + 1):\n",
    "            if i % 3 == 0 and i % 5 == 0:\n",
    "                res.append(\"FizzBuzz\")\n",
    "            elif i % 3 == 0:\n",
    "                res.append(\"Fizz\")\n",
    "            elif i % 5 == 0:\n",
    "                res.append(\"Buzz\")\n",
    "            else:\n",
    "                res.append(str(i))\n",
    "        return res"
   ]
  },
  {
   "cell_type": "markdown",
   "id": "0d0b7ef9",
   "metadata": {},
   "source": [
    "## 242. Valid Anagram\n",
    "[242. Valid Anagram](https://leetcode.com/problems/valid-anagram/)"
   ]
  },
  {
   "cell_type": "code",
   "execution_count": null,
   "id": "8a30ed2e",
   "metadata": {},
   "outputs": [],
   "source": []
  },
  {
   "cell_type": "markdown",
   "id": "122d3ff1",
   "metadata": {},
   "source": [
    "## 1507. Reformat Date\n",
    "[1507. Reformat Date](https://leetcode.com/problems/reformat-date/)"
   ]
  },
  {
   "cell_type": "code",
   "execution_count": 12,
   "id": "4b34dba9",
   "metadata": {},
   "outputs": [],
   "source": [
    "class Solution:\n",
    "    def reformatDate(self, date: str) -> str:\n",
    "        month_dict = {\n",
    "            \"Jan\":'01', \n",
    "            \"Feb\":'02',\n",
    "            \"Mar\":'03', \n",
    "            \"Apr\":'04',\n",
    "            \"May\":'05',\n",
    "            \"Jun\":'06', \n",
    "            \"Jul\":'07', \n",
    "            \"Aug\":'08', \n",
    "            \"Sep\":'09', \n",
    "            \"Oct\":'10', \n",
    "            \"Nov\":'11', \n",
    "            \"Dec\":'12'\n",
    "        }\n",
    "        strs = date.split(' ')\n",
    "        year = strs[2]\n",
    "        month = month_dict[strs[1]]\n",
    "        date = strs[0][:-2]\n",
    "        if len(date) == 1:\n",
    "            date = '0' + date\n",
    "        res = year + '-' + month + '-' + date\n",
    "        return res"
   ]
  },
  {
   "cell_type": "markdown",
   "id": "4c221b17",
   "metadata": {},
   "source": [
    "## 217. Contains Duplicate\n",
    "[217. Contains Duplicate](https://leetcode.com/problems/contains-duplicate/)"
   ]
  },
  {
   "cell_type": "code",
   "execution_count": 8,
   "id": "a91a2abd",
   "metadata": {},
   "outputs": [],
   "source": [
    "class Solution:\n",
    "    def containsDuplicate(self, nums) -> bool:\n",
    "        dedup = set()\n",
    "        for i in range(len(nums)):\n",
    "            if nums[i] in dedup:\n",
    "                return True\n",
    "            dedup.add(nums[i])\n",
    "        return False"
   ]
  },
  {
   "cell_type": "markdown",
   "id": "094fd9ff",
   "metadata": {},
   "source": [
    "## 219. Contains Duplicate II\n",
    "[219. Contains Duplicate II](https://leetcode.com/problems/contains-duplicate-ii/)"
   ]
  },
  {
   "cell_type": "code",
   "execution_count": 10,
   "id": "bc32d7de",
   "metadata": {},
   "outputs": [],
   "source": [
    "class Solution:\n",
    "    def containsNearbyDuplicate(self, nums, k: int) -> bool:\n",
    "        dedup = {}\n",
    "        for i in range(len(nums)):\n",
    "            if nums[i] in dedup and i - dedup[nums[i]] <= k:\n",
    "                return True\n",
    "            dedup[nums[i]] = i\n",
    "        return False"
   ]
  },
  {
   "cell_type": "markdown",
   "id": "6157cc3b",
   "metadata": {},
   "source": [
    "## 220. Contains Duplicate III\n",
    "[220. Contains Duplicate III](https://leetcode.com/problems/contains-duplicate-iii/)"
   ]
  },
  {
   "cell_type": "code",
   "execution_count": null,
   "id": "6bfe7bb8",
   "metadata": {},
   "outputs": [],
   "source": [
    "# Time exceed\n",
    "class Solution:\n",
    "    def containsNearbyAlmostDuplicate(self, nums: List[int], k: int, t: int) -> bool:\n",
    "        dedup = {}\n",
    "        for i in range(len(nums)):\n",
    "            cur = 0\n",
    "            while cur <= t:\n",
    "                if (nums[i] + cur in dedup) and (i - dedup[cur + nums[i]]) <= k:\n",
    "                    return True\n",
    "                if (nums[i] - cur in dedup) and (i - dedup[nums[i] - cur]) <= k:\n",
    "                    return True\n",
    "                cur += 1\n",
    "            dedup[nums[i]] = i\n",
    "        return False"
   ]
  },
  {
   "cell_type": "markdown",
   "id": "7fc48acf",
   "metadata": {},
   "source": [
    "# === Math ==="
   ]
  },
  {
   "cell_type": "markdown",
   "id": "bc0de73c",
   "metadata": {},
   "source": [
    "## 1523. Count Odd Numbers in an Interval Range\n",
    "[1523. Count Odd Numbers in an Interval Range](https://leetcode.com/problems/count-odd-numbers-in-an-interval-range/)"
   ]
  },
  {
   "cell_type": "code",
   "execution_count": null,
   "id": "e28e4103",
   "metadata": {},
   "outputs": [],
   "source": [
    "class Solution:\n",
    "    def countOdds(self, low: int, high: int) -> int:\n",
    "        # number of integer in the range (inclusive)\n",
    "        count = high - low + 1\n",
    "        # odd/even is the same\n",
    "        if count % 2 == 0:\n",
    "            return count // 2\n",
    "        # odd/even depands on the first and last element\n",
    "        if low % 2 == 0:\n",
    "            return count // 2\n",
    "        else:\n",
    "            return count // 2 + 1"
   ]
  },
  {
   "cell_type": "markdown",
   "id": "ba068edc",
   "metadata": {},
   "source": [
    "# === Linked List ==="
   ]
  },
  {
   "cell_type": "markdown",
   "id": "ca4be4d4",
   "metadata": {},
   "source": [
    "## 160. Intersection of Two Linked Lists\n",
    "[160. Intersection of Two Linked Lists](https://leetcode.com/problems/intersection-of-two-linked-lists/)"
   ]
  },
  {
   "cell_type": "code",
   "execution_count": 3,
   "id": "7ace12c6",
   "metadata": {},
   "outputs": [],
   "source": [
    "class Solution:\n",
    "    def getIntersectionNode(self, headA, headB):\n",
    "        if not headA or not headB:\n",
    "            return None\n",
    "        m = self.getLen(headA)\n",
    "        n = self.getLen(headB)\n",
    "        if m > n:\n",
    "            k = m - n\n",
    "            while k > 0:\n",
    "                headA = headA.next\n",
    "                k -= 1\n",
    "        elif m < n:\n",
    "            k = n - m\n",
    "            while k > 0:\n",
    "                headB = headB.next\n",
    "                k -= 1\n",
    "          \n",
    "        # find intersection\n",
    "        while headA and headB:\n",
    "            if headA == headB:\n",
    "                return headA\n",
    "            headA = headA.next\n",
    "            headB = headB.next\n",
    "        return None\n",
    "        \n",
    "    \n",
    "    def getLen(self, head):\n",
    "        len = 0\n",
    "        while head:\n",
    "            len += 1\n",
    "            head = head.next\n",
    "        return len"
   ]
  },
  {
   "cell_type": "markdown",
   "id": "ee974cd4",
   "metadata": {},
   "source": [
    "## 19. Remove Nth Node From End of List\n",
    "[19. Remove Nth Node From End of List](https://leetcode.com/problems/remove-nth-node-from-end-of-list/)"
   ]
  },
  {
   "cell_type": "code",
   "execution_count": null,
   "id": "9d2d849f",
   "metadata": {},
   "outputs": [],
   "source": [
    "class Solution:\n",
    "    def removeNthFromEnd(self, head, n: int):\n",
    "        \"\"\"\n",
    "        Step1: size of the linkedlist\n",
    "        Step2: remove\n",
    "               edge case: remove head\n",
    "        \"\"\"\n",
    "        size = self.getSize(head)\n",
    "        idx = size - n\n",
    "        # corner case: remove head\n",
    "        if idx == 0:\n",
    "            return head.next\n",
    "        cur = head\n",
    "        \n",
    "        # stop at the previous one\n",
    "        while idx > 1:\n",
    "            cur = cur.next\n",
    "            idx -= 1\n",
    "        # remove\n",
    "        cur.next = cur.next.next\n",
    "        return head\n",
    "    \n",
    "    def getSize(self, head):\n",
    "        size = 0\n",
    "        while head:\n",
    "            size += 1\n",
    "            head = head.next\n",
    "        return size\n",
    "            "
   ]
  },
  {
   "cell_type": "markdown",
   "id": "71178f76",
   "metadata": {},
   "source": [
    "# === Queue & Stack ==="
   ]
  },
  {
   "cell_type": "markdown",
   "id": "2e22a947",
   "metadata": {},
   "source": [
    "## 346. Moving Average from Data Stream\n",
    "[346. Moving Average from Data Stream](https://leetcode.com/problems/moving-average-from-data-stream/)"
   ]
  },
  {
   "cell_type": "code",
   "execution_count": 11,
   "id": "ddca5e12",
   "metadata": {},
   "outputs": [],
   "source": [
    "class MovingAverage:\n",
    "\n",
    "    def __init__(self, size: int):\n",
    "        self.size = size\n",
    "        self.q = deque()\n",
    "\n",
    "    def next(self, val: int) -> float:\n",
    "        if len(self.q) < self.size:\n",
    "            self.q.append(val)\n",
    "        else:\n",
    "            self.q.popleft()\n",
    "            self.q.append(val)\n",
    "        return sum(self.q) / len(self.q)\n",
    "        \n",
    "\n",
    "\n",
    "# Your MovingAverage object will be instantiated and called as such:\n",
    "# obj = MovingAverage(size)\n",
    "# param_1 = obj.next(val)"
   ]
  },
  {
   "cell_type": "markdown",
   "id": "a8470dbf",
   "metadata": {},
   "source": [
    "# === Hash Table ==="
   ]
  },
  {
   "cell_type": "markdown",
   "id": "57a82ac9",
   "metadata": {},
   "source": [
    "## 1207. Unique Number of Occurrences\n",
    "[1207. Unique Number of Occurrences](https://leetcode.com/problems/unique-number-of-occurrences/)"
   ]
  },
  {
   "cell_type": "code",
   "execution_count": null,
   "id": "b9473ebf",
   "metadata": {},
   "outputs": [],
   "source": [
    "class Solution:\n",
    "    def uniqueOccurrences(self, arr) -> bool:\n",
    "        count = set()\n",
    "        count_dict = Counter(arr)\n",
    "        for key, val in count_dict.items():\n",
    "            if val in count:\n",
    "                return False\n",
    "            count.add(val)\n",
    "        return True"
   ]
  },
  {
   "cell_type": "markdown",
   "id": "601724f2",
   "metadata": {},
   "source": [
    "## 706. Design HashMap\n",
    "[706. Design HashMap](https://leetcode.com/problems/design-hashmap/)"
   ]
  },
  {
   "cell_type": "code",
   "execution_count": null,
   "id": "0aeeeff3",
   "metadata": {},
   "outputs": [],
   "source": []
  },
  {
   "cell_type": "markdown",
   "id": "b37af255",
   "metadata": {},
   "source": [
    "## 705. Design HashSet\n",
    "[705. Design HashSet](https://leetcode.com/problems/design-hashset/)"
   ]
  },
  {
   "cell_type": "code",
   "execution_count": null,
   "id": "7829cdee",
   "metadata": {},
   "outputs": [],
   "source": []
  },
  {
   "cell_type": "markdown",
   "id": "2fee06c3",
   "metadata": {},
   "source": [
    "# === Heap & Priority Queue ==="
   ]
  },
  {
   "cell_type": "code",
   "execution_count": null,
   "id": "47bb085f",
   "metadata": {},
   "outputs": [],
   "source": []
  },
  {
   "cell_type": "markdown",
   "id": "3cdf02dd",
   "metadata": {},
   "source": [
    "# === Tree ==="
   ]
  },
  {
   "cell_type": "markdown",
   "id": "5a34b558",
   "metadata": {},
   "source": [
    "## 226. Invert Binary Tree\n",
    "[226. Invert Binary Tree](https://leetcode.com/problems/invert-binary-tree/)"
   ]
  },
  {
   "cell_type": "code",
   "execution_count": 7,
   "id": "198546d2",
   "metadata": {},
   "outputs": [],
   "source": [
    "class Solution:\n",
    "    def invertTree(self, root):\n",
    "        # base case\n",
    "        if root is None:\n",
    "            return root\n",
    "        if root.left is None and root.right is None:\n",
    "            return root\n",
    "        # current level: invert\n",
    "        left = self.invertTree(root.left)\n",
    "        right = self.invertTree(root.right)\n",
    "        \n",
    "        root.left = right\n",
    "        root.right = left        \n",
    "        \n",
    "        return root"
   ]
  },
  {
   "cell_type": "markdown",
   "id": "331a3ad9",
   "metadata": {},
   "source": [
    "## 543. Diameter of Binary Tree\n",
    "[543. Diameter of Binary Tree](https://leetcode.com/problems/diameter-of-binary-tree/)\n",
    "\n",
    "- tree path"
   ]
  },
  {
   "cell_type": "code",
   "execution_count": null,
   "id": "c0f44ba6",
   "metadata": {},
   "outputs": [],
   "source": [
    "class Solution:\n",
    "    def diameterOfBinaryTree(self, root) -> int:\n",
    "        self.res = 0\n",
    "        self.helper(root)\n",
    "        return self.res\n",
    "    \n",
    "    def helper(self, root):\n",
    "        # base case\n",
    "        if root is None:\n",
    "            return 0\n",
    "        if root.left is None and root.right is None:\n",
    "            return 1\n",
    "        \n",
    "        # current level\n",
    "        left = self.helper(root.left)\n",
    "        right = self.helper(root.right)\n",
    "        \n",
    "        # calculate the path including root\n",
    "        cur_max = left + right\n",
    "        self.res = max(self.res, cur_max)\n",
    "        \n",
    "        # return to parent\n",
    "        return 1 + max(left, right)"
   ]
  },
  {
   "cell_type": "markdown",
   "id": "23d8de30",
   "metadata": {},
   "source": [
    "# === Recursion ==="
   ]
  },
  {
   "cell_type": "code",
   "execution_count": null,
   "id": "c886c587",
   "metadata": {},
   "outputs": [],
   "source": []
  },
  {
   "cell_type": "markdown",
   "id": "e24c4d4d",
   "metadata": {},
   "source": [
    "## 273. Integer to English Words\n",
    "[273. Integer to English Words](https://leetcode.com/problems/integer-to-english-words/)"
   ]
  },
  {
   "cell_type": "code",
   "execution_count": null,
   "id": "57436ad4",
   "metadata": {},
   "outputs": [],
   "source": []
  },
  {
   "cell_type": "markdown",
   "id": "99825d75",
   "metadata": {},
   "source": [
    "## 394. Decode String\n",
    "[394. Decode String](https://leetcode.com/problems/decode-string/)"
   ]
  },
  {
   "cell_type": "code",
   "execution_count": null,
   "id": "2bd3a45e",
   "metadata": {},
   "outputs": [],
   "source": []
  },
  {
   "cell_type": "markdown",
   "id": "fa9eede5",
   "metadata": {},
   "source": [
    "## 224. Basic Calculator\n",
    "[224. Basic Calculator](https://leetcode.com/problems/basic-calculator/)"
   ]
  },
  {
   "cell_type": "code",
   "execution_count": null,
   "id": "88ffed7b",
   "metadata": {},
   "outputs": [],
   "source": []
  },
  {
   "cell_type": "markdown",
   "id": "edfe791d",
   "metadata": {},
   "source": [
    "## 227. Basic Calculator II\n",
    "[227. Basic Calculator II](https://leetcode.com/problems/basic-calculator-ii/)"
   ]
  },
  {
   "cell_type": "code",
   "execution_count": null,
   "id": "a0412b03",
   "metadata": {},
   "outputs": [],
   "source": []
  },
  {
   "cell_type": "markdown",
   "id": "c264d8b3",
   "metadata": {},
   "source": [
    "## 772. Basic Calculator III\n",
    "[772. Basic Calculator III](https://leetcode.com/problems/basic-calculator-iii/)"
   ]
  },
  {
   "cell_type": "code",
   "execution_count": null,
   "id": "59cb6cc2",
   "metadata": {},
   "outputs": [],
   "source": []
  },
  {
   "cell_type": "markdown",
   "id": "b23177e1",
   "metadata": {},
   "source": [
    "## 10. Regular Expression Matching\n",
    "[10. Regular Expression Matching](https://leetcode.com/problems/regular-expression-matching/)"
   ]
  },
  {
   "cell_type": "code",
   "execution_count": null,
   "id": "7d568ed8",
   "metadata": {},
   "outputs": [],
   "source": []
  },
  {
   "cell_type": "markdown",
   "id": "941ae340",
   "metadata": {},
   "source": [
    "## 44. Wildcard Matching\n",
    "[44. Wildcard Matching](https://leetcode.com/problems/wildcard-matching/)"
   ]
  },
  {
   "cell_type": "code",
   "execution_count": null,
   "id": "2ca9fbc2",
   "metadata": {},
   "outputs": [],
   "source": []
  },
  {
   "cell_type": "markdown",
   "id": "e3f7fc45",
   "metadata": {},
   "source": [
    "# === DFS ==="
   ]
  },
  {
   "cell_type": "markdown",
   "id": "3403d198",
   "metadata": {},
   "source": [
    "## 39. Combination Sum\n",
    "[39. Combination Sum](https://leetcode.com/problems/combination-sum/)"
   ]
  },
  {
   "cell_type": "code",
   "execution_count": 28,
   "id": "a9b0019b",
   "metadata": {},
   "outputs": [
    {
     "name": "stdout",
     "output_type": "stream",
     "text": [
      "[3, 2, 2, 2, 2]\n"
     ]
    },
    {
     "data": {
      "text/plain": [
       "[3, 2, 2, 2]"
      ]
     },
     "execution_count": 28,
     "metadata": {},
     "output_type": "execute_result"
    }
   ],
   "source": [
    "a = [2] * 4\n",
    "b = [3]\n",
    "b.extend(a)\n",
    "print(b)\n",
    "\n",
    "b.remove(2)\n",
    "b"
   ]
  },
  {
   "cell_type": "code",
   "execution_count": 19,
   "id": "158ef5a0",
   "metadata": {},
   "outputs": [],
   "source": [
    "class Solution:\n",
    "    def combinationSum(self, candidates, target: int):\n",
    "        \"\"\"\n",
    "        same as coin\n",
    "        each level is a number\n",
    "        branch is the times we choose\n",
    "        \n",
    "        \"\"\"\n",
    "        if target == 0:\n",
    "            return []\n",
    "        res = []\n",
    "        oneRes = []\n",
    "        self.dfs(0, candidates, target, oneRes, res)\n",
    "        return res\n",
    "    \n",
    "    def dfs(self, index, candidates, remain, oneRes, res):\n",
    "        # base case\n",
    "        if index == len(candidates):\n",
    "            if remain == 0:\n",
    "                res.append(copy.deepcopy(oneRes))\n",
    "            return\n",
    "        # current\n",
    "        cur = candidates[index]\n",
    "        times = remain // cur\n",
    "        for i in range(0, times + 1):\n",
    "            j = i\n",
    "            while j > 0:\n",
    "                oneRes.append(cur)\n",
    "                j -= 1\n",
    "            \n",
    "            # dfs\n",
    "            self.dfs(index + 1, candidates, remain - cur * i, oneRes, res)\n",
    "            \n",
    "            j = i\n",
    "            while j > 0:\n",
    "                oneRes.pop()\n",
    "                j -= 1"
   ]
  },
  {
   "cell_type": "markdown",
   "id": "894abf15",
   "metadata": {},
   "source": [
    "## 79. Word Search\n",
    "[79. Word Search](https://leetcode.com/problems/word-search/)"
   ]
  },
  {
   "cell_type": "code",
   "execution_count": null,
   "id": "484a139f",
   "metadata": {},
   "outputs": [],
   "source": []
  },
  {
   "cell_type": "markdown",
   "id": "72cec90b",
   "metadata": {},
   "source": [
    "## 212. Word Search II\n",
    "[212. Word Search II](https://leetcode.com/problems/word-search-ii/)"
   ]
  },
  {
   "cell_type": "code",
   "execution_count": null,
   "id": "438785db",
   "metadata": {},
   "outputs": [],
   "source": []
  },
  {
   "cell_type": "markdown",
   "id": "53f2b8f5",
   "metadata": {},
   "source": [
    "## 17. Letter Combinations of a Phone Number\n",
    "[17. Letter Combinations of a Phone Number](https://leetcode.com/problems/letter-combinations-of-a-phone-number/)"
   ]
  },
  {
   "cell_type": "code",
   "execution_count": 8,
   "id": "888d6ce2",
   "metadata": {},
   "outputs": [],
   "source": [
    "# TC : O(4^N * N) N is the len of digits\n",
    "# SC : O(N)\n",
    "class Solution:\n",
    "    def letterCombinations(self, digits: str):\n",
    "        \"\"\"\n",
    "        each digit represents a level\n",
    "        for each level, each letter corresponding the digit is a branch\n",
    "        \n",
    "                   root\n",
    "        2       a    b      c\n",
    "         \n",
    "        3   d e f   d e f   d e f \n",
    "        \"\"\"\n",
    "        if digits is None or len(digits) == 0:\n",
    "            return []\n",
    "        letters = {\n",
    "            '2' : ['a', 'b', 'c'],\n",
    "            '3' : ['d', 'e', 'f'],\n",
    "            '4' : ['g', 'h', 'i'],\n",
    "            '5' : ['j', 'k', 'l'],\n",
    "            '6' : ['m', 'n', 'o'],\n",
    "            '7' : ['p', 'q', 'r', 's'],\n",
    "            '8' : ['t', 'u', 'v'],\n",
    "            '9' : ['w', 'x', 'y','z']\n",
    "        }\n",
    "        \n",
    "        res = []\n",
    "        oneRes = []\n",
    "        self.dfs(0, digits, letters, oneRes, res)\n",
    "        return res\n",
    "    \n",
    "    def dfs(self, index, digits, letters, oneRes, res):\n",
    "        if index == len(digits):\n",
    "            res.append(\"\".join(oneRes))\n",
    "            return\n",
    "\n",
    "        for l in letters[digits[index]]:\n",
    "            oneRes.append(l)\n",
    "            self.dfs(index + 1, digits, letters, oneRes, res)\n",
    "            oneRes.pop()"
   ]
  },
  {
   "cell_type": "markdown",
   "id": "81b32a79",
   "metadata": {},
   "source": [
    "## 37. Sudoku Solver\n",
    "[37. Sudoku Solver](https://leetcode.com/problems/sudoku-solver/)"
   ]
  },
  {
   "cell_type": "code",
   "execution_count": null,
   "id": "adf09901",
   "metadata": {},
   "outputs": [],
   "source": []
  },
  {
   "cell_type": "markdown",
   "id": "f2278aac",
   "metadata": {},
   "source": [
    "## 126. Word Ladder II\n",
    "[126. Word Ladder II](https://leetcode.com/problems/word-ladder-ii/)"
   ]
  },
  {
   "cell_type": "code",
   "execution_count": null,
   "id": "7deac5d7",
   "metadata": {},
   "outputs": [],
   "source": []
  },
  {
   "cell_type": "markdown",
   "id": "18a12d9d",
   "metadata": {},
   "source": [
    "## 131. Palindrome Partitioning\n",
    "[131. Palindrome Partitioning](https://leetcode.com/problems/palindrome-partitioning/)"
   ]
  },
  {
   "cell_type": "code",
   "execution_count": null,
   "id": "3726167d",
   "metadata": {},
   "outputs": [],
   "source": []
  },
  {
   "cell_type": "markdown",
   "id": "396583fb",
   "metadata": {},
   "source": [
    "## 1219. Path with Maximum Gold\n",
    "[1219. Path with Maximum Gold](https://leetcode.com/problems/path-with-maximum-gold/)"
   ]
  },
  {
   "cell_type": "code",
   "execution_count": null,
   "id": "6384a582",
   "metadata": {},
   "outputs": [],
   "source": []
  },
  {
   "cell_type": "markdown",
   "id": "c26c93e8",
   "metadata": {},
   "source": [
    "## 93. Restore IP Addresses\n",
    "[93. Restore IP Addresses](https://leetcode.com/problems/restore-ip-addresses/)"
   ]
  },
  {
   "cell_type": "code",
   "execution_count": null,
   "id": "f3f3a1b9",
   "metadata": {},
   "outputs": [],
   "source": []
  },
  {
   "cell_type": "markdown",
   "id": "50bf9b7f",
   "metadata": {},
   "source": [
    "## 489. Robot Room Cleaner\n",
    "[489. Robot Room Cleaner](https://leetcode.com/problems/robot-room-cleaner/)"
   ]
  },
  {
   "cell_type": "code",
   "execution_count": null,
   "id": "fcb551bb",
   "metadata": {},
   "outputs": [],
   "source": []
  },
  {
   "cell_type": "markdown",
   "id": "5a49d73b",
   "metadata": {},
   "source": [
    "## 679. 24 Game\n",
    "[679. 24 Game](https://leetcode.com/problems/24-game/)"
   ]
  },
  {
   "cell_type": "code",
   "execution_count": null,
   "id": "2632bec1",
   "metadata": {},
   "outputs": [],
   "source": []
  },
  {
   "cell_type": "markdown",
   "id": "e410572f",
   "metadata": {},
   "source": [
    "## 282. Expression Add Operators\n",
    "[282. Expression Add Operators](https://leetcode.com/problems/expression-add-operators/)"
   ]
  },
  {
   "cell_type": "code",
   "execution_count": null,
   "id": "77f4d506",
   "metadata": {},
   "outputs": [],
   "source": []
  },
  {
   "cell_type": "markdown",
   "id": "d2ef4454",
   "metadata": {},
   "source": [
    "## 1240. Tiling a Rectangle with the Fewest Squares\n",
    "[1240. Tiling a Rectangle with the Fewest Squares](https://leetcode.com/problems/tiling-a-rectangle-with-the-fewest-squares/)"
   ]
  },
  {
   "cell_type": "code",
   "execution_count": null,
   "id": "ebd1fdee",
   "metadata": {},
   "outputs": [],
   "source": []
  },
  {
   "cell_type": "markdown",
   "id": "acde2f81",
   "metadata": {},
   "source": [
    "## 1820. Maximum Number of Accepted Invitations\n",
    "[1820. Maximum Number of Accepted Invitations](https://leetcode.com/problems/maximum-number-of-accepted-invitations/)"
   ]
  },
  {
   "cell_type": "code",
   "execution_count": null,
   "id": "4b555cf3",
   "metadata": {},
   "outputs": [],
   "source": []
  },
  {
   "cell_type": "markdown",
   "id": "efcddb35",
   "metadata": {},
   "source": [
    "## 1056. Confusing Number\n",
    "[1056. Confusing Number](https://leetcode.com/problems/confusing-number/)"
   ]
  },
  {
   "cell_type": "code",
   "execution_count": null,
   "id": "84c11cbd",
   "metadata": {},
   "outputs": [],
   "source": []
  },
  {
   "cell_type": "markdown",
   "id": "bb5fc2bf",
   "metadata": {},
   "source": [
    "## 1088. Confusing Number II\n",
    "[1088. Confusing Number II](https://leetcode.com/problems/confusing-number-ii/)"
   ]
  },
  {
   "cell_type": "code",
   "execution_count": null,
   "id": "bb27d5df",
   "metadata": {},
   "outputs": [],
   "source": []
  },
  {
   "cell_type": "markdown",
   "id": "d2d999dc",
   "metadata": {},
   "source": [
    "# === Graph ==="
   ]
  },
  {
   "cell_type": "code",
   "execution_count": null,
   "id": "b1f0f25c",
   "metadata": {},
   "outputs": [],
   "source": []
  },
  {
   "cell_type": "markdown",
   "id": "1cccf14d",
   "metadata": {},
   "source": [
    "# === BFS ==="
   ]
  },
  {
   "cell_type": "code",
   "execution_count": null,
   "id": "8871b718",
   "metadata": {},
   "outputs": [],
   "source": []
  },
  {
   "cell_type": "markdown",
   "id": "2259be54",
   "metadata": {},
   "source": [
    "# === Trie ==="
   ]
  },
  {
   "cell_type": "code",
   "execution_count": null,
   "id": "9433765c",
   "metadata": {},
   "outputs": [],
   "source": []
  },
  {
   "cell_type": "markdown",
   "id": "e9ea324a",
   "metadata": {},
   "source": [
    "# === DP ==="
   ]
  },
  {
   "cell_type": "markdown",
   "id": "9b2a441e",
   "metadata": {},
   "source": [
    "## 118. Pascal's Triangle\n",
    "[118. Pascal's Triangle](https://leetcode.com/problems/pascals-triangle/)"
   ]
  },
  {
   "cell_type": "code",
   "execution_count": 13,
   "id": "c9b9c5ae",
   "metadata": {},
   "outputs": [],
   "source": [
    "# TC = O(n^2)\n",
    "# SC = O(b)\n",
    "class Solution:\n",
    "    def generate(self, numRows: int):\n",
    "        \"\"\"\n",
    "        row 1: [1]\n",
    "        row 2: [1,1]\n",
    "        row 3: [1, 2, 1] --> 2: idx = 1 = row 2: (idx - 1) + (idx)\n",
    "        \"\"\"\n",
    "        # base case\n",
    "        if numRows == 1:\n",
    "            return [[1]]\n",
    "        if numRows == 2:\n",
    "            return [[1], [1,1]]\n",
    "        # dp\n",
    "        res = [[1], [1, 1]]\n",
    "        for i in range(3, numRows + 1):\n",
    "            cur_row = [1 for _ in range(i)]\n",
    "            for j in range(1, i - 1):\n",
    "                cur_row[j] = res[-1][j - 1] + res[-1][j]\n",
    "            res.append(cur_row)\n",
    "        return res"
   ]
  },
  {
   "cell_type": "markdown",
   "id": "ae193d72",
   "metadata": {},
   "source": [
    "## 119. Pascal's Triangle II\n",
    "[119. Pascal's Triangle II](https://leetcode.com/problems/pascals-triangle-ii/)"
   ]
  },
  {
   "cell_type": "code",
   "execution_count": null,
   "id": "b8b1e02b",
   "metadata": {},
   "outputs": [],
   "source": [
    "class Solution:\n",
    "    def getRow(self, rowIndex: int) -> List[int]:\n",
    "        \"\"\"\n",
    "        induction rule: pascal[i][j] = pascal[i-1][j -1] + pascal[i-1][j]\n",
    "        only one array could be enough for the dp table\n",
    "        \n",
    "        row 3: 1 3 3 1\n",
    "        row 4: dp [1, 3, 3, 1].append(1) -> [1, 3, 3, 1, 1]\n",
    "               dp[i] = dp[i - 1] + dp[i] (from 1, to len(dp) - 1)\n",
    "        \"\"\"\n",
    "        # base case\n",
    "        if rowIndex == 0:\n",
    "            return [1]\n",
    "        if rowIndex == 1:\n",
    "            return [1,1]\n",
    "        dp = [1, 1]\n",
    "        for i in range(2, rowIndex + 1):\n",
    "            dp.append(1)\n",
    "            for j in range(i - 1, 0, -1):\n",
    "                dp[j] = dp[j - 1] + dp[j]\n",
    "        return dp"
   ]
  },
  {
   "cell_type": "code",
   "execution_count": null,
   "id": "bb0f47f7",
   "metadata": {},
   "outputs": [],
   "source": []
  },
  {
   "cell_type": "code",
   "execution_count": null,
   "id": "8bcfb731",
   "metadata": {},
   "outputs": [],
   "source": []
  },
  {
   "cell_type": "markdown",
   "id": "1095cc07",
   "metadata": {},
   "source": []
  },
  {
   "cell_type": "code",
   "execution_count": null,
   "id": "d2244b8c",
   "metadata": {},
   "outputs": [],
   "source": []
  },
  {
   "cell_type": "code",
   "execution_count": null,
   "id": "77e30ab7",
   "metadata": {},
   "outputs": [],
   "source": []
  },
  {
   "cell_type": "code",
   "execution_count": null,
   "id": "5e994e22",
   "metadata": {},
   "outputs": [],
   "source": []
  },
  {
   "cell_type": "code",
   "execution_count": null,
   "id": "21fafec1",
   "metadata": {},
   "outputs": [],
   "source": []
  },
  {
   "cell_type": "code",
   "execution_count": null,
   "id": "eb2758a7",
   "metadata": {},
   "outputs": [],
   "source": []
  },
  {
   "cell_type": "code",
   "execution_count": null,
   "id": "cbfc37d5",
   "metadata": {},
   "outputs": [],
   "source": []
  },
  {
   "cell_type": "code",
   "execution_count": null,
   "id": "7409a610",
   "metadata": {},
   "outputs": [],
   "source": []
  },
  {
   "cell_type": "markdown",
   "id": "0adc9c7c",
   "metadata": {},
   "source": [
    "# === Bit Operation ==="
   ]
  },
  {
   "cell_type": "markdown",
   "id": "4cae52f2",
   "metadata": {},
   "source": [
    "## 136. Single Number\n",
    "[136. Single Number](https://leetcode.com/problems/single-number/)\n",
    "\n",
    "- a⊕0=a\n",
    "- a⊕a=0\n",
    "- a⊕b⊕a=(a⊕a)⊕b=0⊕b=b"
   ]
  },
  {
   "cell_type": "code",
   "execution_count": null,
   "id": "26905c71",
   "metadata": {},
   "outputs": [],
   "source": [
    "class Solution:\n",
    "    def singleNumber(self, nums) -> int:\n",
    "        res = 0\n",
    "        for num in nums:\n",
    "            res ^= num\n",
    "        return res"
   ]
  },
  {
   "cell_type": "markdown",
   "id": "4051e8b0",
   "metadata": {},
   "source": [
    "# === Design ==="
   ]
  },
  {
   "cell_type": "markdown",
   "id": "56e80716",
   "metadata": {},
   "source": [
    "## 359. Logger Rate Limiter\n",
    "[359. Logger Rate Limiter](https://leetcode.com/problems/logger-rate-limiter/)"
   ]
  },
  {
   "cell_type": "code",
   "execution_count": null,
   "id": "e7992d88",
   "metadata": {},
   "outputs": [],
   "source": []
  },
  {
   "cell_type": "markdown",
   "id": "74a292b9",
   "metadata": {},
   "source": [
    "## 1710. Maximum Units on a Truck\n",
    "[1710. Maximum Units on a Truck](https://leetcode.com/problems/maximum-units-on-a-truck/)"
   ]
  },
  {
   "cell_type": "code",
   "execution_count": null,
   "id": "e0d855db",
   "metadata": {},
   "outputs": [],
   "source": []
  }
 ],
 "metadata": {
  "kernelspec": {
   "display_name": "Python 3 (ipykernel)",
   "language": "python",
   "name": "python3"
  },
  "language_info": {
   "codemirror_mode": {
    "name": "ipython",
    "version": 3
   },
   "file_extension": ".py",
   "mimetype": "text/x-python",
   "name": "python",
   "nbconvert_exporter": "python",
   "pygments_lexer": "ipython3",
   "version": "3.8.12"
  }
 },
 "nbformat": 4,
 "nbformat_minor": 5
}
