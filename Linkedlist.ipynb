{
 "cells": [
  {
   "cell_type": "markdown",
   "id": "032ba3f0",
   "metadata": {},
   "source": [
    "# LinkedList"
   ]
  },
  {
   "cell_type": "markdown",
   "id": "1bae0448",
   "metadata": {},
   "source": [
    "# Fast Slow Pointers (Two Pointers)"
   ]
  },
  {
   "cell_type": "markdown",
   "id": "dfcced5d",
   "metadata": {},
   "source": [
    "## 21. Merge Two Sorted Lists\n",
    "[21. Merge Two Sorted Lists](https://leetcode.com/problems/merge-two-sorted-lists/)"
   ]
  },
  {
   "cell_type": "code",
   "execution_count": null,
   "id": "dc9e8f30",
   "metadata": {},
   "outputs": [],
   "source": []
  },
  {
   "cell_type": "markdown",
   "id": "40b92033",
   "metadata": {},
   "source": [
    "## 23. Merge k Sorted Lists\n",
    "[23. Merge k Sorted Lists](https://leetcode.com/problems/merge-k-sorted-lists/)"
   ]
  },
  {
   "cell_type": "code",
   "execution_count": null,
   "id": "dad129ba",
   "metadata": {},
   "outputs": [],
   "source": []
  },
  {
   "cell_type": "code",
   "execution_count": null,
   "id": "02e9b4c2",
   "metadata": {},
   "outputs": [],
   "source": []
  },
  {
   "cell_type": "markdown",
   "id": "66112b22",
   "metadata": {},
   "source": [
    "# Dummy Head"
   ]
  }
 ],
 "metadata": {
  "kernelspec": {
   "display_name": "Python 3 (ipykernel)",
   "language": "python",
   "name": "python3"
  },
  "language_info": {
   "codemirror_mode": {
    "name": "ipython",
    "version": 3
   },
   "file_extension": ".py",
   "mimetype": "text/x-python",
   "name": "python",
   "nbconvert_exporter": "python",
   "pygments_lexer": "ipython3",
   "version": "3.8.12"
  }
 },
 "nbformat": 4,
 "nbformat_minor": 5
}
