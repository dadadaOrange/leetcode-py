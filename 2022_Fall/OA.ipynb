{
 "cells": [
  {
   "cell_type": "markdown",
   "id": "015d1a95",
   "metadata": {},
   "source": [
    "## HRT"
   ]
  },
  {
   "cell_type": "markdown",
   "id": "137eb2ff",
   "metadata": {},
   "source": [
    "## 1. number of pivot"
   ]
  },
  {
   "cell_type": "code",
   "execution_count": 25,
   "id": "a88ff7b2",
   "metadata": {},
   "outputs": [
    {
     "name": "stdout",
     "output_type": "stream",
     "text": [
      "[1, -1, 0]\n"
     ]
    }
   ],
   "source": [
    "def solution(numbers, pivot):\n",
    "    res = []\n",
    "    for num in numbers:\n",
    "        if num == 0:\n",
    "            res.append(0)\n",
    "        elif num * pivot > 0:\n",
    "            res.append(1)\n",
    "        else:\n",
    "            res.append(-1)\n",
    "    return res\n",
    "\n",
    "a = [6,-5,0]\n",
    "print(solution(a, 2))"
   ]
  },
  {
   "cell_type": "markdown",
   "id": "f2590759",
   "metadata": {},
   "source": [
    "## 3. Board fail"
   ]
  },
  {
   "cell_type": "code",
   "execution_count": null,
   "id": "167b90f7",
   "metadata": {},
   "outputs": [],
   "source": [
    "def solution(matrix):\n",
    "    \"\"\"\n",
    "    1. figure out how many rows it needs to fall\n",
    "        caculate each col and get the min(row)\n",
    "    2. move figure\n",
    "\n",
    "    m = 8\n",
    "    n = 3\n",
    "    \"\"\"\n",
    "    m = len(matrix)\n",
    "    n = len(matrix[0])\n",
    "    maxRow = m\n",
    "    # traverse matrix col by col\n",
    "    for j in range(n):\n",
    "        o_idx = m - 1\n",
    "        for i in range(m-1, -1, -1):\n",
    "            if matrix[i][j] == 'F':\n",
    "                if o_idx - i >= 0:\n",
    "                    maxRow = min(maxRow, o_idx - i)\n",
    "            elif matrix[i][j] == '#':\n",
    "                o_idx = i - 1\n",
    "    print(maxRow)\n",
    "    for i in range(m - 1, -1, -1):\n",
    "        for j in range(n):\n",
    "            if matrix[i][j] != '#':\n",
    "                if i - maxRow >= 0:\n",
    "                    matrix[i][j] = matrix[i - maxRow][j]\n",
    "    return matrix\n",
    "\n",
    "\n",
    "matrix1 = [[\"F\", \"F\", \"F\"],\n",
    "          [\".\", \"F\", \".\"],\n",
    "          [\".\", \"F\", \"F\"],\n",
    "          [\"#\", \"F\", \".\"],\n",
    "          [\"F\", \"F\", \".\"],\n",
    "          [\"#\", \".\", \".\"],\n",
    "          [\".\", \".\", \"#\"],\n",
    "          [\".\", \".\", \".\"]]\n",
    "\n",
    "matrix= [[\"#\",\"#\",\"#\"],\n",
    "        [\"#\",\"F\",\"#\"],\n",
    "        [\"#\",\".\",\"#\"],\n",
    "        [\"#\",\".\",\"#\"],\n",
    "        [\"#\",\".\",\"#\"]]\n",
    "solution(matrix)"
   ]
  },
  {
   "cell_type": "code",
   "execution_count": 39,
   "id": "90469879",
   "metadata": {},
   "outputs": [
    {
     "name": "stdout",
     "output_type": "stream",
     "text": [
      "4\n"
     ]
    }
   ],
   "source": [
    "def solution(board):\n",
    "\th = len(board)\n",
    "\tw = len(board[0])\n",
    "\tmaxRow = 0\n",
    "\tcount = 0\n",
    "\n",
    "\tfor i in range(h - 1, 0, -1):\n",
    "\t\tfor j in range(w - 1, -1, -1):\n",
    "\t\t\tif board[i][j] == '*':\n",
    "\t\t\t\tmaxRow = i\n",
    "\t\t\t\tbreak\n",
    "\t\tif maxRow > 0:\n",
    "\t\t\tbreak\n",
    "\n",
    "\ttoMove = h - maxRow\n",
    "\tif toMove == 1:\n",
    "\t\treturn count\n",
    "\n",
    "\tfor i in range(0, h):\n",
    "\t\tfor j in range(0, w):\n",
    "\t\t\tif board[i][j] == '*':\n",
    "\t\t\t\tcount = checkBelow(i, j, toMove, board, count)\n",
    "\n",
    "\treturn count\n",
    "\n",
    "def checkBelow(row, col, toMove, board, count):\n",
    "\tfor i in range(row, row + toMove):\n",
    "\t\tif board[i][col] == '#':\n",
    "\t\t\tboard[i][col] = '.'\n",
    "\t\t\tcount += 1 \n",
    "\t\t\t\n",
    "\treturn count\n",
    "\n",
    "board = [[\"*\", \"*\", \"*\", \"*\"],\n",
    "        [\"#\", \"*\", \".\", \"*\"],\n",
    "        [\".\", \".\", \"#\", \".\"],\n",
    "        [\".\", \"#\", \".\", \"#\"] ]\n",
    "\n",
    "res = solution(board)\n",
    "print(res)"
   ]
  },
  {
   "cell_type": "markdown",
   "id": "8b4d6b1f",
   "metadata": {},
   "source": [
    "## 4. binary count"
   ]
  },
  {
   "cell_type": "code",
   "execution_count": 28,
   "id": "231e6d86",
   "metadata": {},
   "outputs": [
    {
     "name": "stdout",
     "output_type": "stream",
     "text": [
      "0b1111001\n",
      "0b111001\n",
      "0b1011001\n",
      "[2, 4, 0, 1, 4]\n"
     ]
    }
   ],
   "source": [
    "def solution(binaryString, requests):\n",
    "    if not requests:\n",
    "        return []\n",
    "    x = int(binaryString, 2)\n",
    "    n = len(binaryString) - 1\n",
    "    res = []\n",
    "    for req in requests:\n",
    "        if req == 'count':\n",
    "            cur_count = count_bit(x)\n",
    "            res.append(cur_count)\n",
    "        elif req == 'flip':\n",
    "            idx = find_idx(x, n)\n",
    "            res.append(n - idx)\n",
    "            x = flip(x, idx, n)\n",
    "    return res\n",
    "\n",
    "def flip(x, idx, n):\n",
    "    cur = x\n",
    "    while n >= idx:\n",
    "        cur = cur ^ (1 << n)\n",
    "        n -= 1\n",
    "    return cur\n",
    "    \n",
    "def find_idx(x, n):\n",
    "    while n >= 0:\n",
    "        if (x >> n) & 1 == 1:\n",
    "            return n\n",
    "        n -= 1\n",
    "    \n",
    "def count_bit(x):\n",
    "    count = 0\n",
    "    cur = x\n",
    "    while cur > 0:\n",
    "        count += cur & 1\n",
    "        cur = cur >> 1\n",
    "    return count\n",
    "\n",
    "b = '0000101'\n",
    "print(solution(b, ['count','flip', 'flip','flip','count']))"
   ]
  },
  {
   "cell_type": "code",
   "execution_count": null,
   "id": "e0744ee8",
   "metadata": {},
   "outputs": [],
   "source": []
  },
  {
   "cell_type": "markdown",
   "id": "e634936b",
   "metadata": {},
   "source": [
    "## Seven Eight"
   ]
  },
  {
   "cell_type": "code",
   "execution_count": 24,
   "id": "f45df619",
   "metadata": {},
   "outputs": [
    {
     "name": "stdout",
     "output_type": "stream",
     "text": [
      "back AB\n",
      "swap\n",
      "3\n",
      "XY\n",
      "back AA\n",
      "6\n",
      "XY\n",
      "swap\n",
      "9\n",
      "YX\n",
      "Y\n"
     ]
    }
   ],
   "source": [
    "def solutions(s):\n",
    "    \"\"\"\n",
    "    \"ABBXYAXYYYX\"\n",
    "     i\n",
    "       j\n",
    "    \"BBBXYAXYYYX\"\n",
    "      i\n",
    "          j\n",
    "    \"Y\"\n",
    "    \n",
    "    \n",
    "    \"\"\"\n",
    "    if not s or len(s) <= 1:\n",
    "        return s\n",
    "    adjacent_set = {'AB','BA','XY','YX'}\n",
    "    chars = list(s)\n",
    "    i = 1\n",
    "    j = 1\n",
    "    while j < len(s):\n",
    "        if i > 0 and chars[i-1]+chars[j] in adjacent_set:\n",
    "            j += 1\n",
    "            i -= 1\n",
    "        elif j + 1 < len(s) and s[j:j+2] in adjacent_set:\n",
    "            j += 2\n",
    "        else:\n",
    "            chars[i] = chars[j]\n",
    "            i += 1\n",
    "            j += 1\n",
    "    return \"\".join(chars[0:i])\n",
    "            \n",
    "a =\"ABBXYAXYYYX\"\n",
    "\"Y\"\n",
    "\n",
    "\"XYYYXBA\"\n",
    "\"Y\"\n",
    "\n",
    "print(solutions(a))"
   ]
  },
  {
   "cell_type": "code",
   "execution_count": null,
   "id": "56c48030",
   "metadata": {},
   "outputs": [],
   "source": [
    "from collections import deque\n",
    "def solutions(s):\n",
    "    if not s:\n",
    "        return \"\"\n",
    "    adjacent_set = {'AB','BA','XY','YX'}\n",
    "    res = deque(list(s))\n",
    "    print('res', res)\n",
    "    prev_len = float('inf')\n",
    "    while prev_len != len(res):\n",
    "        while res and len(res) >= 2:\n",
    "            prev_len = len(res)\n",
    "            cur = res[0]+res[1]\n",
    "            print('cur', cur)\n",
    "            if cur in adjacent_set:\n",
    "                res.popleft()\n",
    "                res.popleft()\n",
    "                print('cur_res', res)\n",
    "            else:\n",
    "                res.append(res.popleft())\n",
    "                print('cur_res', res)\n",
    "    return \"\".join(res)\n",
    "\n",
    "a =\"ABBXYAXYYYX\"\n",
    "\"Y\"\n",
    "\n",
    "\"XYYYXBA\"\n",
    "\"Y\"\n",
    "\n",
    "print(solutions(a))\n",
    "    "
   ]
  },
  {
   "cell_type": "markdown",
   "id": "f6d83eab",
   "metadata": {},
   "source": [
    "## HeartDub"
   ]
  },
  {
   "cell_type": "code",
   "execution_count": 1,
   "id": "45d53f69",
   "metadata": {},
   "outputs": [
    {
     "name": "stdout",
     "output_type": "stream",
     "text": [
      "sdaqnzn4a7syb2bvb9bbbbbbbbbb\n"
     ]
    }
   ],
   "source": [
    "token = \"dqz47y2v9\"\n",
    "result = \"sannasbbbbbbbbbbbbb\"\n",
    "\n",
    "newRes = []\n",
    "i = 0\n",
    "while i < len(result) and i <len(token):\n",
    "    newRes.append(result[i])\n",
    "    newRes.append(token[i])\n",
    "    i += 1\n",
    "\n",
    "if i == len(result):\n",
    "    newRes.append(token[i:])\n",
    "else:\n",
    "    newRes.append(result[i:])\n",
    "finalRes = \"\".join(newRes)\n",
    "print(finalRes)"
   ]
  },
  {
   "cell_type": "markdown",
   "id": "df9dd4d7",
   "metadata": {},
   "source": [
    "# Group points"
   ]
  },
  {
   "cell_type": "code",
   "execution_count": null,
   "id": "088070d9",
   "metadata": {},
   "outputs": [],
   "source": [
    "def calculate_distance(x1, y1, x2, y2):\n",
    "    dis = \n",
    "    sqrt()"
   ]
  },
  {
   "cell_type": "markdown",
   "id": "7747cc91",
   "metadata": {},
   "source": [
    "# Codesignal"
   ]
  },
  {
   "cell_type": "code",
   "execution_count": 1,
   "id": "0ffecf9c",
   "metadata": {},
   "outputs": [
    {
     "data": {
      "text/plain": [
       "[[-7, 1], [-5, -3], [0, 11]]"
      ]
     },
     "execution_count": 1,
     "metadata": {},
     "output_type": "execute_result"
    }
   ],
   "source": [
    "a = [[0,11],[-7, 1],[-5, -3]]\n",
    "a.sort()\n",
    "a"
   ]
  },
  {
   "cell_type": "markdown",
   "id": "5c5ede3c",
   "metadata": {},
   "source": [
    "## Minimum Euclidean Distance\n",
    "\n",
    "[solution](https://jishuin.proginn.com/p/763bfbd2ef74)\n",
    "- Divide and Conquer\n",
    "- divide all the points into two part by x-cordinate\n",
    "- find the minumum distance in left and right\n",
    "- calculate the distance of nearest left point and nearest right points"
   ]
  },
  {
   "cell_type": "code",
   "execution_count": 4,
   "id": "f1c885be",
   "metadata": {},
   "outputs": [
    {
     "name": "stdout",
     "output_type": "stream",
     "text": [
      "False\n"
     ]
    }
   ],
   "source": [
    "p = [[-12,3], \n",
    " [32,29], \n",
    " [-3,-8], \n",
    " [22,-6], \n",
    " [8,26], \n",
    " [14,13], \n",
    " [1,20], \n",
    " [25,27], \n",
    " [23,-9], \n",
    " [25,27], \n",
    " [-1,33], \n",
    " [31,-10], \n",
    " [25,14]]\n",
    "\n",
    "p_tuples = [tuple(l) for l in p]\n",
    "a = set(p_tuples)\n",
    "print(len(a) == len(p))"
   ]
  },
  {
   "cell_type": "code",
   "execution_count": null,
   "id": "40380ea9",
   "metadata": {},
   "outputs": [],
   "source": [
    "# brute force\n",
    "def distance(x, y):\n",
    "    return math.sqrt((x[0] - y[0]) ** 2 + (x[1] - y[1])** 2)\n",
    "\n",
    "\n",
    "def brute_force(points):\n",
    "    ret = sys.maxsize\n",
    "    a, b = None, None\n",
    "    n = len(points)\n",
    "    for i in range(n):\n",
    "        for j in range(i+1, n):\n",
    "            dis = distance(points[i], points[j])\n",
    "            if dis < ret:\n",
    "                ret = dis\n",
    "                a, b = i, j\n",
    "    return ret, points[a], points[b]"
   ]
  },
  {
   "cell_type": "code",
   "execution_count": null,
   "id": "41f2cba5",
   "metadata": {},
   "outputs": [],
   "source": [
    "# divide and conquer\n",
    "def divide_algorithm(points):\n",
    "    n = len(points)\n",
    "    # 特判只有一个点或者是两个点的情况\n",
    "    if n < 2:\n",
    "        return sys.maxsize, None, None\n",
    "    elif n == 2:\n",
    "        return distance(points[0], points[1]), points[0], points[1]\n",
    "\n",
    "    # 对所有点按照横坐标进行排序\n",
    "    points = sorted(points)\n",
    "    half = (n - 1) // 2\n",
    "    # 递归，这里有一个问题，为什么要先排序再递归？\n",
    "    d1, a1, b1 = divide_algorithm(points[:half])\n",
    "    d2, a2, b2 = divide_algorithm(points[half:])\n",
    "    d, a, b = (d1, a1, b1) if d1 < d2 else (d2, a2, b2)\n",
    "\n",
    "    calibration = points[half][0]\n",
    " \n",
    "    # 根据中间的位置将点集分成两个部分\n",
    "    for u in points:\n",
    "        if calibration - d < u[0] < calibration:\n",
    "            left.append(u)\n",
    "        elif calibration <= u[0] < calibration + d:\n",
    "            right.append(u)\n",
    "\n",
    "    # 右侧点集按照纵坐标排序\n",
    "    right = sorted(right, key=lambda x: (x[1], x[0]))\n",
    "\n",
    "    res = d\n",
    "\n",
    "    for u in left:\n",
    "        # 左开右闭的二分\n",
    "        l, r = -1, len(right)-1\n",
    "        while r - l > 1:\n",
    "            m = (l + r) >> 1\n",
    "            if right[m][1] <= u[1] - d:\n",
    "                l = m\n",
    "            else:\n",
    "                r = m\n",
    "\n",
    "        idx = r\n",
    "  \n",
    "        # 在范围内最多只有6个点能够构成最近点对\n",
    "        for j in range(7):\n",
    "            if j + idx >= len(right):\n",
    "                break\n",
    "            if distance(u, right[idx + j]) < res:\n",
    "                res = distance(u, right[idx + j])\n",
    "                a, b = u, right[idx + j]\n",
    "\n",
    "    return res, a, b"
   ]
  },
  {
   "cell_type": "markdown",
   "id": "403e1cec",
   "metadata": {},
   "source": [
    "## Sudoku"
   ]
  },
  {
   "cell_type": "code",
   "execution_count": 6,
   "id": "8c173439",
   "metadata": {},
   "outputs": [],
   "source": [
    "def solution(sudoku):\n",
    "    backtrack(sudoku, 0, 0)\n",
    "    return sudoku\n",
    "\n",
    "    def backtrack(self, sudoku: List[List[int]], r: int, c: int) -> bool:\n",
    "        # Go to next empty space\n",
    "        while sudoku[r][c] != 0:\n",
    "            c += 1\n",
    "            if c == 9: c, r = 0, r+1\n",
    "            if r == 9: return True\n",
    "        # Try all options, backtracking if not work\n",
    "        for k in range(1, 10):\n",
    "            if self.isValidSudokuMove(sudoku, r, c, k):\n",
    "                sudoku[r][c] = k\n",
    "                if self.backtrack(sudoku, r, c):\n",
    "                    return True\n",
    "        sudoku[r][c] = 0\n",
    "        return False\n",
    "    \n",
    "    def isValidSudokuMove(self, sudoku: List[List[str]], r: int, c: int, cand: int) -> bool:\n",
    "        # Check row\n",
    "        if any(sudoku[r][j] == cand for j in range(9)): return False\n",
    "        # Check col\n",
    "        if any(sudoku[i][c] == cand for i in range(9)): return False\n",
    "        # Check block\n",
    "        br, bc = 3*(r//3), 3*(c//3)\n",
    "        if any(sudoku[i][j] == cand for i in range(br, br+3) for j in range(bc, bc+3)): return False\n",
    "        return True"
   ]
  },
  {
   "cell_type": "markdown",
   "id": "1c7ee13c",
   "metadata": {},
   "source": [
    "# Cisco"
   ]
  },
  {
   "cell_type": "code",
   "execution_count": 6,
   "id": "503fe31a",
   "metadata": {
    "scrolled": true
   },
   "outputs": [
    {
     "name": "stdout",
     "output_type": "stream",
     "text": [
      "2\n"
     ]
    }
   ],
   "source": [
    "def sumDigits(numX, numY):\n",
    "    count = 0\n",
    "    for i in range(1, numX + 1):\n",
    "        curSum = 0\n",
    "        while i > 0:\n",
    "            curSum += i % 10\n",
    "            i //= 10\n",
    "        if curSum == numY:\n",
    "            count += 1\n",
    "    return count\n",
    "\n",
    "print(sumDigits(16, 5))"
   ]
  },
  {
   "cell_type": "code",
   "execution_count": 8,
   "id": "b17c4bc6",
   "metadata": {
    "scrolled": true
   },
   "outputs": [
    {
     "data": {
      "text/plain": [
       "'abcabc'"
      ]
     },
     "execution_count": 8,
     "metadata": {},
     "output_type": "execute_result"
    }
   ],
   "source": [
    "a = \"abc\"\n",
    "b = a * 2\n",
    "b"
   ]
  },
  {
   "cell_type": "code",
   "execution_count": 21,
   "id": "d42688e2",
   "metadata": {},
   "outputs": [
    {
     "name": "stdout",
     "output_type": "stream",
     "text": [
      "stack deque(['(', 'a', 'b'])\n",
      "letter d\n",
      "num 3\n",
      "cur_str d\n",
      "stack deque([])\n",
      "letter abddd\n",
      "num 2\n",
      "cur_str abddd\n",
      "abdddabddd\n"
     ]
    }
   ],
   "source": [
    "\"\"\"\n",
    "(ab(d){3}){12}\n",
    "\"\"\"\n",
    "from collections import deque\n",
    "def expandedString(inputStr):\n",
    "    stack = deque()\n",
    "    n = len(inputStr)\n",
    "    for c in inputStr:\n",
    "        if c == ')':\n",
    "            # encode letters\n",
    "            letters = []\n",
    "            while stack and stack[-1] != '(':\n",
    "                letters.append(stack.pop())\n",
    "            # pop '('\n",
    "            stack.pop()\n",
    "            print(\"stack\", stack)\n",
    "            letters.reverse()\n",
    "            l = \"\".join(letters)\n",
    "            print(\"letter\", l)\n",
    "            stack.append(l)\n",
    "        elif c == '}':\n",
    "            #encode digit\n",
    "            digits = []\n",
    "            while stack and stack[-1] != '{':\n",
    "                digits.append(stack.pop())\n",
    "            # pop '{'\n",
    "            stack.pop()\n",
    "            digits.reverse()\n",
    "            num = int(\"\".join(digits))\n",
    "            print(\"num\", num)\n",
    "            if stack:\n",
    "                cur_str = stack.pop()\n",
    "                print(\"cur_str\", cur_str)\n",
    "                stack.append(cur_str * num)\n",
    "        else:\n",
    "            stack.append(c)\n",
    "    return stack[-1]\n",
    "            \n",
    "\n",
    "a = \"(ab(d){3}){2}\"\n",
    "print(expandedString(a))\n",
    "    "
   ]
  }
 ],
 "metadata": {
  "kernelspec": {
   "display_name": "Python 3 (ipykernel)",
   "language": "python",
   "name": "python3"
  },
  "language_info": {
   "codemirror_mode": {
    "name": "ipython",
    "version": 3
   },
   "file_extension": ".py",
   "mimetype": "text/x-python",
   "name": "python",
   "nbconvert_exporter": "python",
   "pygments_lexer": "ipython3",
   "version": "3.8.12"
  }
 },
 "nbformat": 4,
 "nbformat_minor": 5
}
