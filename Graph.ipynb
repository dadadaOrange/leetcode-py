{
 "cells": [
  {
   "cell_type": "markdown",
   "id": "98af0235",
   "metadata": {},
   "source": [
    "# Graph\n",
    "\n",
    "- Unidirected Graph\n",
    "- Directed Graph\n",
    "- Weighted Graph\n",
    "- Bipartite Graph\n",
    "- Connected Graph\n",
    "- DAG: directed acyslic Graph\n",
    "- Circle and Cycle: circle(shape 圈）and Cycle(order 闭环）"
   ]
  }
 ],
 "metadata": {
  "kernelspec": {
   "display_name": "Python 3 (ipykernel)",
   "language": "python",
   "name": "python3"
  },
  "language_info": {
   "codemirror_mode": {
    "name": "ipython",
    "version": 3
   },
   "file_extension": ".py",
   "mimetype": "text/x-python",
   "name": "python",
   "nbconvert_exporter": "python",
   "pygments_lexer": "ipython3",
   "version": "3.8.12"
  }
 },
 "nbformat": 4,
 "nbformat_minor": 5
}
