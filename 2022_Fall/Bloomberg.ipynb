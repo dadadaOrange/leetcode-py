{
 "cells": [
  {
   "cell_type": "markdown",
   "id": "8c32f71d",
   "metadata": {},
   "source": [
    "# === Design ==="
   ]
  },
  {
   "cell_type": "markdown",
   "id": "77df646b",
   "metadata": {},
   "source": [
    "## 146. LRU Cache\n",
    "[146. LRU Cache](https://leetcode.com/problems/lru-cache/)"
   ]
  },
  {
   "cell_type": "code",
   "execution_count": null,
   "id": "c5f47324",
   "metadata": {},
   "outputs": [],
   "source": []
  },
  {
   "cell_type": "markdown",
   "id": "494be23c",
   "metadata": {},
   "source": [
    "## 1396. Design Underground System\n",
    "[1396. Design Underground System](https://leetcode.com/problems/design-underground-system/)"
   ]
  },
  {
   "cell_type": "code",
   "execution_count": 6,
   "id": "ea10198e",
   "metadata": {},
   "outputs": [
    {
     "name": "stdout",
     "output_type": "stream",
     "text": [
      "defaultdict(<function <lambda> at 0x7f849de09670>, {'cc': [1, 1]})\n"
     ]
    }
   ],
   "source": [
    "from collections import defaultdict\n",
    "a = defaultdict(lambda: [0, 0])\n",
    "a['cc'] = [1,1]\n",
    "print(a)"
   ]
  },
  {
   "cell_type": "code",
   "execution_count": 8,
   "id": "f358c8b6",
   "metadata": {},
   "outputs": [],
   "source": [
    "from collections import defaultdict\n",
    "\n",
    "class UndergroundSystem:\n",
    "\n",
    "    def __init__(self):\n",
    "        # P\n",
    "        self.check_in_dict = {}\n",
    "        # S chose 2 = S^2\n",
    "        self.trip_dict = defaultdict(lambda: [0, 0])\n",
    "\n",
    "    def checkIn(self, id: int, stationName: str, t: int) -> None:\n",
    "        self.check_in_dict[id] = (stationName, t)\n",
    "        \n",
    "\n",
    "    def checkOut(self, id: int, stationName: str, t: int) -> None:\n",
    "        # look up the id in check_in_dict and transfer the data to trip_dict\n",
    "        start_station, start_time = self.check_in_dict.pop(id)\n",
    "        self.trip_dict[(start_station, stationName)][0] += t - start_time\n",
    "        self.trip_dict[(start_station, stationName)][1] += 1\n",
    "        \n",
    "\n",
    "    def getAverageTime(self, startStation: str, endStation: str) -> float:\n",
    "        total_time, total_count = self.trip_dict[(startStation, endStation)]\n",
    "        return total_time / total_count\n",
    "\n",
    "\n",
    "# Your UndergroundSystem object will be instantiated and called as such:\n",
    "# obj = UndergroundSystem()\n",
    "# obj.checkIn(id,stationName,t)\n",
    "# obj.checkOut(id,stationName,t)\n",
    "# param_3 = obj.getAverageTime(startStation,endStation)"
   ]
  },
  {
   "cell_type": "markdown",
   "id": "fbab9425",
   "metadata": {},
   "source": [
    "## 1656. Design an Ordered Stream\n",
    "[1656. Design an Ordered Stream](https://leetcode.com/problems/design-an-ordered-stream/)"
   ]
  },
  {
   "cell_type": "code",
   "execution_count": 2,
   "id": "c6f16c18",
   "metadata": {},
   "outputs": [],
   "source": [
    "\"\"\"\n",
    "Basically , we need to store every incoming value at the given index. And\n",
    "with every incoming index, we have to check\n",
    "\n",
    "If the current index is less than the incoming index, the we have to return\n",
    "an empty list\n",
    "\n",
    "Else , we have to return an sliced list from the incoming index to the first index\n",
    "where there is no insertion till yet.\n",
    "\n",
    "Solution:\n",
    "    Initialize a list of size n with None\n",
    "    Maintain the current index with self.ptr\n",
    "    For every insert call, with idKey, value\n",
    "    Assign the list[idKey-1] to the value # Since array is 0-index reduce 1\n",
    "    Check if the current index is less than incoming index(idKey-1) and return []\n",
    "    Else return sliced list from incoming index(idKey-1) till we do not encounter None.\n",
    "\"\"\"\n",
    "\n",
    "class OrderedStream:\n",
    "    def __init__(self, n: int):\n",
    "        self.stream = [None for _ in range(n)]\n",
    "        self.ptr = 0\n",
    "        \n",
    "    def insert(self, idKey: int, value: str):\n",
    "        idKey -= 1\n",
    "        self.stream[idKey] = value\n",
    "        if self.ptr < idKey:\n",
    "            return []\n",
    "        else:\n",
    "            while self.ptr < len(self.stream) and self.stream[self.ptr] is not None:\n",
    "                self.ptr += 1\n",
    "            return self.stream[idKey:self.ptr]\n",
    "\n",
    "# Your OrderedStream object will be instantiated and called as such:\n",
    "# obj = OrderedStream(n)\n",
    "# param_1 = obj.insert(idKey,value)"
   ]
  },
  {
   "cell_type": "markdown",
   "id": "dfc32cc8",
   "metadata": {},
   "source": [
    "## 380. Insert Delete GetRandom O(1)\n",
    "[380. Insert Delete GetRandom O(1)](https://leetcode.com/problems/insert-delete-getrandom-o1/)"
   ]
  },
  {
   "cell_type": "code",
   "execution_count": 14,
   "id": "9a1e4511",
   "metadata": {},
   "outputs": [
    {
     "data": {
      "text/plain": [
       "3"
      ]
     },
     "execution_count": 14,
     "metadata": {},
     "output_type": "execute_result"
    }
   ],
   "source": [
    "from random import choice\n",
    "a = [1,2,3]\n",
    "b = choice(a)\n",
    "b"
   ]
  },
  {
   "cell_type": "code",
   "execution_count": 16,
   "id": "2f719ea1",
   "metadata": {},
   "outputs": [],
   "source": [
    "from random import choice\n",
    "class RandomizedSet:\n",
    "\n",
    "    def __init__(self):\n",
    "        self.rand_list = []\n",
    "        self.ele_idx = {}\n",
    "\n",
    "    def insert(self, val: int) -> bool:\n",
    "        if val in self.ele_idx:\n",
    "            return False\n",
    "        self.ele_idx[val] = len(self.rand_list)\n",
    "        self.rand_list.append(val)\n",
    "        return True\n",
    "\n",
    "    def remove(self, val: int) -> bool:\n",
    "        if val not in self.ele_idx:\n",
    "            return False\n",
    "        \n",
    "        # find the last element\n",
    "        last_ele = self.rand_list[-1]\n",
    "        # find the idx of delete ele\n",
    "        del_idx = self.ele_idx[val]\n",
    "        \n",
    "        # dict\n",
    "        # update the last_ele\n",
    "        self.ele_idx[last_ele] = del_idx\n",
    "        # delete val\n",
    "        self.ele_idx.pop(val)\n",
    "        \n",
    "        # list\n",
    "        # self.rand_list[-1], self.rand_list[del_idx] = self.rand_list[del_idx], self.rand_list[-1]\n",
    "        self.rand_list[del_idx] = last_ele\n",
    "        self.rand_list.pop()\n",
    "        return True\n",
    "\n",
    "    def getRandom(self) -> int:\n",
    "        return choice(self.rand_list)"
   ]
  },
  {
   "cell_type": "markdown",
   "id": "f764ff71",
   "metadata": {},
   "source": [
    "## 381. Insert Delete GetRandom O(1) - Duplicates allowed\n",
    "[381. Insert Delete GetRandom O(1) - Duplicates allowed](https://leetcode.com/problems/insert-delete-getrandom-o1-duplicates-allowed/)"
   ]
  },
  {
   "cell_type": "code",
   "execution_count": null,
   "id": "6661ce78",
   "metadata": {},
   "outputs": [],
   "source": []
  },
  {
   "cell_type": "markdown",
   "id": "295e43a5",
   "metadata": {},
   "source": [
    "# === Array/String ==="
   ]
  },
  {
   "cell_type": "markdown",
   "id": "6d7a5d93",
   "metadata": {},
   "source": [
    "## 1. Two Sum\n",
    "[1. Two Sum](https://leetcode.com/problems/two-sum/)\n",
    "- 变种 ： two sum变形，find how many pairs‍‌‍‌‌‍‌‍‍‍‌‍‍‍‌‌‌‌‌ (of 2 elements) in an array sum up to the target value，"
   ]
  },
  {
   "cell_type": "code",
   "execution_count": null,
   "id": "37c4e065",
   "metadata": {},
   "outputs": [],
   "source": []
  },
  {
   "cell_type": "markdown",
   "id": "5bc8fc7d",
   "metadata": {},
   "source": [
    "## 394. Decode String\n",
    "[394. Decode String](https://leetcode.com/problems/decode-string/)"
   ]
  },
  {
   "cell_type": "code",
   "execution_count": null,
   "id": "281881c8",
   "metadata": {},
   "outputs": [],
   "source": []
  },
  {
   "cell_type": "markdown",
   "id": "5dd0325c",
   "metadata": {},
   "source": [
    "## 1790. Check if One String Swap Can Make Strings Equal\n",
    "[1790. Check if One String Swap Can Make Strings Equal](https://leetcode.com/problems/check-if-one-string-swap-can-make-strings-equal/)\n",
    "\n",
    "- 判断两个string，如果 只做一次swap ，是否可以变的一样"
   ]
  },
  {
   "cell_type": "code",
   "execution_count": null,
   "id": "393431c6",
   "metadata": {},
   "outputs": [],
   "source": []
  },
  {
   "cell_type": "markdown",
   "id": "c600ab4c",
   "metadata": {},
   "source": [
    "## 611. Valid Triangle Number\n",
    "[611. Valid Triangle Number](https://www.1point3acres.com/bbs/thread-918542-1-1.html)"
   ]
  },
  {
   "cell_type": "code",
   "execution_count": null,
   "id": "24042a12",
   "metadata": {},
   "outputs": [],
   "source": []
  },
  {
   "cell_type": "markdown",
   "id": "aaebb5d0",
   "metadata": {},
   "source": [
    "## 723. Candy Crush\n",
    "[723. Candy Crush](https://leetcode.com/problems/candy-crush/)"
   ]
  },
  {
   "cell_type": "code",
   "execution_count": null,
   "id": "9ee89858",
   "metadata": {},
   "outputs": [],
   "source": []
  },
  {
   "cell_type": "markdown",
   "id": "22019beb",
   "metadata": {},
   "source": [
    "## ++++  Intervals +++"
   ]
  },
  {
   "cell_type": "markdown",
   "id": "8ec30309",
   "metadata": {},
   "source": [
    "## 253. Meeting Rooms II\n",
    "[253. Meeting Rooms II](https://leetcode.com/problems/meeting-rooms-ii/)"
   ]
  },
  {
   "cell_type": "code",
   "execution_count": 2,
   "id": "4d643db5",
   "metadata": {},
   "outputs": [],
   "source": [
    "class Solution:\n",
    "    def minMeetingRooms(self, intervals) -> int: \n",
    "        \"\"\"\n",
    "        Minimum number of conference room --- maximium number of overlapping at the same time. \n",
    "        [[0,30], [5,10], [15,20]] \n",
    "        \n",
    "        time stamp: \n",
    "        start time: +1 \n",
    "        end time: -1 \n",
    "        \n",
    "        list: (time,number)\n",
    "        0 +1; 30 -1; 5: +1; etc. \n",
    "        \n",
    "        sort() \n",
    "        \n",
    "        0   5    10    15    20    30 \n",
    "        1   1     -1    1     -1    -1   \n",
    "        \n",
    "        arr = 1   2      1     2     1    0       \n",
    "        \n",
    "        max(arr) \n",
    "        time: n log (n) \n",
    "        space: O(n)  \n",
    "        \"\"\"   \n",
    "        # dict time stamps\n",
    "        time_stamps = []\n",
    "        for start, end in intervals:\n",
    "            # cover smae time stamps\n",
    "            time_stamps.append((start, 1))\n",
    "            time_stamps.append((end, -1))\n",
    "\n",
    "        # sort\n",
    "        time_stamps.sort()\n",
    "\n",
    "        # calculate the accumulated sum and keep track of the global max\n",
    "        global_max = 0\n",
    "        cur_room = 0\n",
    "        for time, val in time_stamps:\n",
    "            cur_room += val\n",
    "            global_max = max(global_max, cur_room)\n",
    "        # return global max\n",
    "        return global_max"
   ]
  },
  {
   "cell_type": "markdown",
   "id": "929fd7ec",
   "metadata": {},
   "source": [
    "## 759. Employee Free Time\n",
    "[759. Employee Free Time](https://leetcode.com/problems/employee-free-time/)"
   ]
  },
  {
   "cell_type": "markdown",
   "id": "65ad64e3",
   "metadata": {},
   "source": [
    "简单来说就是 给定一个总体的time frame，然后再给你一个time interval的list 让你找出其中空出来的interval\n",
    "被挂倒是不冤 第一轮我就给出了灾难级的表现 国人大哥给接雨水那题很可能是想帮我 毕竟算是刷题网很经典的题了 可惜我没把握住 上一次做这题得半年前了\n",
    "我就给了一个当时自己做的解法 然后让我优化 我依稀记得可以用单调栈 但是中间很多的细节记不起来"
   ]
  },
  {
   "cell_type": "code",
   "execution_count": 4,
   "id": "a34dded0",
   "metadata": {},
   "outputs": [],
   "source": [
    "# optmize by default dict (avoid same time stamps has not interval)\n",
    "class Solution:\n",
    "    def employeeFreeTime(self, schedule: '[[Interval]]') -> '[Interval]':\n",
    "        \"\"\"\n",
    "        [[1,2],   [5,6]],\n",
    "        [[1,  3]],\n",
    "               [[4,       10]]\n",
    "         2 -1 -1 1 1  -1   -1\n",
    "         2  1  0 1 2  1     0\n",
    "        \n",
    "        accumulated sum == 0\n",
    "        \n",
    "        \n",
    "        edge case:\n",
    "                       [94,99]\n",
    "        [57,87],[91,94]\n",
    "        1    -1  1  -1\n",
    "                         1  -1\n",
    "        1    0   1   0   1   0\n",
    "        \"\"\"\n",
    "        # time_stamps\n",
    "        time_stamps = defaultdict(int)\n",
    "        for cur in schedule:\n",
    "            for s in cur:\n",
    "                time_stamps[s.start] += 1\n",
    "                time_stamps[s.end] -= 1\n",
    "        # sort\n",
    "        time_sort = sorted(time_stamps.keys())\n",
    "        # accumulated sum\n",
    "        cur_sum = 0\n",
    "        res = []\n",
    "        for i in range(len(time_sort) - 1):\n",
    "            pre = time_sort[i]\n",
    "            val = time_stamps[pre]\n",
    "            cur_sum += val\n",
    "            if cur_sum == 0:\n",
    "                cur = time_sort[i + 1]\n",
    "                res.append(Interval(pre, cur))\n",
    "        return res"
   ]
  },
  {
   "cell_type": "code",
   "execution_count": 3,
   "id": "66379029",
   "metadata": {},
   "outputs": [],
   "source": [
    "class Solution:\n",
    "    def employeeFreeTime(self, schedule: '[[Interval]]') -> '[Interval]':\n",
    "        \"\"\"\n",
    "        [[1,2],   [5,6]],\n",
    "        [[1,  3]],\n",
    "               [[4,       10]]\n",
    "         2 -1 -1 1 1  -1   -1\n",
    "         2  1  0 1 2  1     0\n",
    "        \n",
    "        accumulated sum == 0\n",
    "        \n",
    "        \n",
    "        !! edge case:\n",
    "                       [94,99]\n",
    "        [57,87],[91,94]\n",
    "        1    -1  1  -1\n",
    "                         1  -1\n",
    "        1    0   1   0   1   0\n",
    "        \"\"\"\n",
    "        # time_stamps\n",
    "        time_stamps = []\n",
    "        for cur in schedule:\n",
    "            for s in cur:\n",
    "                time_stamps.append((s.start, 1))\n",
    "                time_stamps.append((s.end, -1))\n",
    "        # sort\n",
    "        time_stamps.sort()\n",
    "        # accumulated sum\n",
    "        accumulated_sum = []\n",
    "        cur_sum = 0\n",
    "        for time, val in time_stamps:\n",
    "            cur_sum += val\n",
    "            accumulated_sum.append((time, cur_sum))\n",
    "        # post processing\n",
    "        res = []\n",
    "        for i in range(len(accumulated_sum) - 1):\n",
    "            pre = accumulated_sum[i]\n",
    "            cur = accumulated_sum[i + 1]\n",
    "            if pre[1] == 0 and pre[0] != cur[0]:\n",
    "            # if pre[1] == 0:\n",
    "                res.append(Interval(pre[0], cur[0]))\n",
    "        return res"
   ]
  },
  {
   "cell_type": "markdown",
   "id": "d82e00e5",
   "metadata": {},
   "source": [
    "## 56. Merge Intervals\n",
    "[56. Merge Intervals](https://leetcode.com/problems/merge-intervals/)"
   ]
  },
  {
   "cell_type": "code",
   "execution_count": 8,
   "id": "043b4b93",
   "metadata": {},
   "outputs": [],
   "source": [
    "class Solution:\n",
    "    def merge(self, intervals):\n",
    "        \"\"\"\n",
    "        TC = O(nlogn)\n",
    "        SC = O(n)\n",
    "        \n",
    "        sort by start time\n",
    "        [1,3],[2,6],[8,10],[15,18]\n",
    "        compare pair by pair\n",
    "        case 1: cur start > previous end (not merge)\n",
    "        case 2: cur start <= previous end (merge)\n",
    "        \"\"\"\n",
    "        res = []\n",
    "        n = len(intervals)\n",
    "        intervals.sort()\n",
    "        res.append(intervals[0])\n",
    "        for i in range(1, n):\n",
    "            cur = intervals[i]\n",
    "            if cur[0] > res[-1][1]:\n",
    "                # not merge\n",
    "                res.append(cur)\n",
    "            else:\n",
    "                # merge\n",
    "                res[-1] = [res[-1][0], max(res[-1][1], cur[1])]\n",
    "        return res"
   ]
  },
  {
   "cell_type": "markdown",
   "id": "9b112e1f",
   "metadata": {},
   "source": [
    "## 986. Interval List Intersections\n",
    "[986. Interval List Intersections](https://leetcode.com/problems/interval-list-intersections/)"
   ]
  },
  {
   "cell_type": "code",
   "execution_count": 9,
   "id": "1fd79911",
   "metadata": {},
   "outputs": [],
   "source": [
    "# Solution 2: merge intervals\n",
    "class Solution:\n",
    "    def intervalIntersection(self, A, B):\n",
    "        ans = []\n",
    "        i = j = 0\n",
    "\n",
    "        while i < len(A) and j < len(B):\n",
    "            # Let's check if A[i] intersects B[j].\n",
    "            # lo - the startpoint of the intersection\n",
    "            # hi - the endpoint of the intersection\n",
    "            lo = max(A[i][0], B[j][0])\n",
    "            hi = min(A[i][1], B[j][1])\n",
    "            if lo <= hi:\n",
    "                ans.append([lo, hi])\n",
    "\n",
    "            # Remove the interval with the smallest endpoint\n",
    "            if A[i][1] < B[j][1]:\n",
    "                i += 1\n",
    "            else:\n",
    "                j += 1\n",
    "\n",
    "        return ans"
   ]
  },
  {
   "cell_type": "code",
   "execution_count": 6,
   "id": "bd433c3e",
   "metadata": {},
   "outputs": [],
   "source": [
    "# Solution 1: accummulated sum\n",
    "# !!! edge case same time stamp one start one end\n",
    "class Solution:\n",
    "    def intervalIntersection(self, firstList, secondList):\n",
    "        \"\"\"\n",
    "        [0,  2],  [5,10]\n",
    "          [1,   5]\n",
    "         1 1 -1 -1 1 -1\n",
    "         1 2  1  0 1  0\n",
    "        \n",
    "        !!! edge case\n",
    "        same time stamp: one is start, one is end\n",
    "        \"\"\"\n",
    "        time_stamps = []\n",
    "        for start, end in firstList:\n",
    "            time_stamps.append((start, 1))\n",
    "            time_stamps.append((end, -1))\n",
    "        for start, end in secondList:\n",
    "            time_stamps.append((start, 1))\n",
    "            time_stamps.append((end, -1))\n",
    "        # sort\n",
    "        time_stamps.sort()\n",
    "        # find the intervals with val 2\n",
    "        cur_sum = 0\n",
    "        res = []\n",
    "        for i in range(len(time_stamps) - 1):\n",
    "            pre = time_stamps[i]\n",
    "            cur = time_stamps[i + 1]\n",
    "            cur_sum += pre[1]\n",
    "            if cur_sum == 2 or (pre[0] == cur[0] and pre[1] + cur[1] == 0):\n",
    "                res.append((pre[0], cur[0]))\n",
    "        return res"
   ]
  },
  {
   "cell_type": "markdown",
   "id": "85e34dde",
   "metadata": {},
   "source": [
    "## 42. Trapping Rain Water\n",
    "[42. Trapping Rain Water](https://leetcode.com/problems/trapping-rain-water/)"
   ]
  },
  {
   "cell_type": "code",
   "execution_count": null,
   "id": "00a68e59",
   "metadata": {},
   "outputs": [],
   "source": []
  },
  {
   "cell_type": "markdown",
   "id": "a8e3cdcc",
   "metadata": {},
   "source": [
    "# === Heap / PriorityQueue ==="
   ]
  },
  {
   "cell_type": "markdown",
   "id": "d16d5a51",
   "metadata": {},
   "source": [
    "## 1244. Design A Leaderboard\n",
    "[1244. Design A Leaderboard](https://leetcode.com/problems/design-a-leaderboard/)"
   ]
  },
  {
   "cell_type": "code",
   "execution_count": 3,
   "id": "bd18e0d3",
   "metadata": {},
   "outputs": [],
   "source": [
    "from collections import defaultdict\n",
    "import heapq\n",
    "class Leaderboard:\n",
    "    # SC = O(N + K) dict + heap\n",
    "\n",
    "    def __init__(self):\n",
    "        self.scores = defaultdict(int)\n",
    "\n",
    "    # TC = O(1)\n",
    "    def addScore(self, playerId: int, score: int) -> None:\n",
    "        self.scores[playerId] += score\n",
    "        \n",
    "    # TC = K (heapify) + (N - K)logK(pop) + KlogK(add up)\n",
    "    def top(self, K: int) -> int:\n",
    "        minHeap = []\n",
    "        for x in self.scores.values():\n",
    "            heapq.heappush(minHeap, x)\n",
    "            if len(minHeap) > K:\n",
    "                heapq.heappop(minHeap)\n",
    "        # add top k\n",
    "        total = 0\n",
    "        while minHeap:\n",
    "            total += heapq.heappop(minHeap)\n",
    "        return total\n",
    "        \n",
    "    # TC = O(1)\n",
    "    def reset(self, playerId: int) -> None:\n",
    "        self.scores[playerId] = 0"
   ]
  },
  {
   "cell_type": "markdown",
   "id": "a8fe371c",
   "metadata": {},
   "source": [
    "# === HashTable ==="
   ]
  },
  {
   "cell_type": "markdown",
   "id": "71f5fbbd",
   "metadata": {},
   "source": [
    "## 1347. Minimum Number of Steps to Make Two Strings Anagram\n",
    "[1347. Minimum Number of Steps to Make Two Strings Anagram](https://leetcode.com/problems/minimum-number-of-steps-to-make-two-strings-anagram/)"
   ]
  },
  {
   "cell_type": "code",
   "execution_count": 2,
   "id": "c6472cce",
   "metadata": {},
   "outputs": [],
   "source": [
    "class Solution:\n",
    "    def minSteps(self, s: str, t: str) -> int:\n",
    "        \"\"\"\n",
    "        1. calculate the char an it's count\n",
    "            s leetcode -> {l:1, e:3, t:1, c:1, o:1, d:1}\n",
    "            t practice -> {p:1, e:1, r:1, c:2, a:1, t:1, i:1}\n",
    "        2. iterate over t:\n",
    "            if ch in s:\n",
    "                if s_count < t_count: need to modify the dif\n",
    "                if s_count > t_count: offset the dif\n",
    "           if ch not in s:\n",
    "                modify ch\n",
    "        \"\"\"\n",
    "        s_dict = Counter(s)\n",
    "        t_dict = Counter(t)\n",
    "        steps = 0\n",
    "        for ch, count in t_dict.items():\n",
    "            if ch in s_dict:\n",
    "                dif = count - s_dict[ch]\n",
    "                steps += dif if dif > 0 else 0\n",
    "            else:\n",
    "                steps += count\n",
    "        return steps"
   ]
  },
  {
   "cell_type": "markdown",
   "id": "d72eff03",
   "metadata": {},
   "source": [
    "## 1169. Invalid Transactions\n",
    "[1169. Invalid Transactions](https://leetcode.com/problems/invalid-transactions/)"
   ]
  },
  {
   "cell_type": "code",
   "execution_count": 1,
   "id": "fd4adddd",
   "metadata": {},
   "outputs": [],
   "source": [
    "from collections import defaultdict\n",
    "\"\"\"\n",
    "Clarify:\n",
    "    1. duplicate output\n",
    "    \n",
    "Solution:\n",
    "        prev_tran = dictionary --> create a dictionary to keep track of previous transaction \n",
    "        invalid_tran = set --> to store invalid transaction /set to avoid duplication \n",
    "        \n",
    "        Iterate over transactions:\n",
    "            -> if the amount is greater than 1000 add it to the invalid_tran\n",
    "            -> if there is any other previous transaction done by similar person , check it from the prev_tran\n",
    "                    -> bring all previous transaction done by similar person (iterate over the prev_tran)\n",
    "                            -> check if the absolute time difference is less than 60 and the city is different \n",
    "                            -> if that is true add it to the invalid transaction \n",
    "            -> add the transaction to the prev_tran - always keep track of previous transaction \n",
    "\"\"\"\n",
    "class Solution:\n",
    "    def invalidTransactions(self, transactions):\n",
    "        if not transactions:\n",
    "            return []\n",
    "        prev_tran = defaultdict(list)\n",
    "        invalid_tran = set()\n",
    "        for i, tran in enumerate(transactions):\n",
    "            cur_info = tran.split(',')\n",
    "            # get info\n",
    "            name, time, amount, city = cur_info[0], int(cur_info[1]), int(cur_info[2]), cur_info[3]\n",
    "            # check amount\n",
    "            if amount > 1000:\n",
    "                invalid_tran.add((tran, i))\n",
    "            # check same person transactions\n",
    "            if name in prev_tran:\n",
    "                for pre, idx in prev_tran[name]:\n",
    "                    prev_info = pre.split(',')\n",
    "                    prev_time = int(prev_info[1])\n",
    "                    prev_city = prev_info[3]\n",
    "                    if abs(prev_time - time) <= 60 and prev_city != city:\n",
    "                        invalid_tran.add((pre,idx))\n",
    "                        invalid_tran.add((tran, i))\n",
    "            # add current transaction into pre_tran\n",
    "            prev_tran[name].append((tran, i))\n",
    "        return [ele[0] for ele in invalid_tran]\n",
    "# TC = O(n^2)\n",
    "# SC = O(n)"
   ]
  },
  {
   "cell_type": "markdown",
   "id": "1566ad40",
   "metadata": {},
   "source": [
    "# === Linkedlist ==="
   ]
  },
  {
   "cell_type": "markdown",
   "id": "2fbb7bb5",
   "metadata": {},
   "source": [
    "## 83. Remove Duplicates from Sorted List\n",
    "[83. Remove Duplicates from Sorted List](https://leetcode.com/problems/remove-duplicates-from-sorted-list/)"
   ]
  },
  {
   "cell_type": "code",
   "execution_count": null,
   "id": "20ae1f8d",
   "metadata": {},
   "outputs": [],
   "source": []
  },
  {
   "cell_type": "markdown",
   "id": "dae6fd1d",
   "metadata": {},
   "source": [
    "## 24. Swap Nodes in Pairs\n",
    "[24. Swap Nodes in Pairs](https://leetcode.com/problems/swap-nodes-in-pairs/)"
   ]
  },
  {
   "cell_type": "code",
   "execution_count": null,
   "id": "28b218a2",
   "metadata": {},
   "outputs": [],
   "source": []
  },
  {
   "cell_type": "markdown",
   "id": "77e2fe7f",
   "metadata": {},
   "source": [
    "## 2. Add Two Numbers\n",
    "[2. Add Two Numbers](https://leetcode.com/problems/add-two-numbers/)"
   ]
  },
  {
   "cell_type": "code",
   "execution_count": null,
   "id": "94436cc8",
   "metadata": {},
   "outputs": [],
   "source": []
  },
  {
   "cell_type": "markdown",
   "id": "92ae5109",
   "metadata": {},
   "source": [
    "## 445. Add Two Numbers II\n",
    "[445. Add Two Numbers II](https://leetcode.com/problems/add-two-numbers-ii/)"
   ]
  },
  {
   "cell_type": "code",
   "execution_count": null,
   "id": "044e1879",
   "metadata": {},
   "outputs": [],
   "source": []
  },
  {
   "cell_type": "markdown",
   "id": "3903116f",
   "metadata": {},
   "source": [
    "## 430. Flatten a Multilevel Doubly Linked List\n",
    "[430. Flatten a Multilevel Doubly Linked List](https://leetcode.com/problems/flatten-a-multilevel-doubly-linked-list/)"
   ]
  },
  {
   "cell_type": "code",
   "execution_count": 3,
   "id": "124baf88",
   "metadata": {},
   "outputs": [],
   "source": [
    "\"\"\"\n",
    "# Definition for a Node.\n",
    "class Node:\n",
    "    def __init__(self, val, prev, next, child):\n",
    "        self.val = val\n",
    "        self.prev = prev\n",
    "        self.next = next\n",
    "        self.child = child\n",
    "\"\"\"\n",
    "\n",
    "class Solution:\n",
    "    \"\"\"\n",
    "    TC = O(n)\n",
    "    SC = O(n)\n",
    "    \n",
    "    1. iterate over the current level\n",
    "    2. if cur node has child, recursion(keep track if the head and taill of subproblem)\n",
    "    3. connect sub_problem node to cuurent level node\n",
    "        \n",
    "    \"\"\"\n",
    "    def flatten(self, head: 'Optional[Node]') -> 'Optional[Node]':\n",
    "        return self.helper(head)[0]\n",
    "    \n",
    "    def helper(self, head):\n",
    "        # base case\n",
    "        if not head:\n",
    "            return head, head\n",
    "        # current level\n",
    "        cur = head\n",
    "        while cur:\n",
    "            if not cur.child:\n",
    "                cur = cur.next\n",
    "            else:\n",
    "                child_head, child_tail = self.helper(cur.child)\n",
    "                # record next node\n",
    "                next_node = cur.next\n",
    "                if cur.next:\n",
    "                    child_tail.next = next_node\n",
    "                    next_node.prev = child_tail\n",
    "                    \n",
    "                cur.next = child_head\n",
    "                child_head.prev = cur\n",
    "                cur.child = None\n",
    "                # next loop\n",
    "                cur = next_node\n",
    "        # record tail of current list\n",
    "        tail = head\n",
    "        while tail.next:\n",
    "            tail = tail.next\n",
    "        return head, tail"
   ]
  },
  {
   "cell_type": "markdown",
   "id": "3db09b74",
   "metadata": {},
   "source": [
    "# === Queue/Stack/Deque ==="
   ]
  },
  {
   "cell_type": "markdown",
   "id": "13e1f594",
   "metadata": {},
   "source": [
    "## 496. Next Greater Element I\n",
    "[496. Next Greater Element I](https://leetcode.com/problems/next-greater-element-i/)"
   ]
  },
  {
   "cell_type": "code",
   "execution_count": null,
   "id": "21cbf757",
   "metadata": {},
   "outputs": [],
   "source": []
  },
  {
   "cell_type": "markdown",
   "id": "109f598a",
   "metadata": {},
   "source": [
    "## 895. Maximum Frequency Stack\n",
    "[895. Maximum Frequency Stack](https://leetcode.com/problems/maximum-frequency-stack/)"
   ]
  },
  {
   "cell_type": "code",
   "execution_count": null,
   "id": "3a0cf875",
   "metadata": {},
   "outputs": [],
   "source": []
  },
  {
   "cell_type": "markdown",
   "id": "632a4627",
   "metadata": {},
   "source": [
    "## 1472. Design Browser History\n",
    "[1472. Design Browser History](https://leetcode.com/problems/design-browser-history/)"
   ]
  },
  {
   "cell_type": "code",
   "execution_count": 4,
   "id": "60c5b171",
   "metadata": {},
   "outputs": [],
   "source": [
    "class BrowserHistory:\n",
    "    \"\"\"\n",
    "    two stack to keep track of the dependency of previous and next pages\n",
    "    \n",
    "    homepage: b\n",
    "    stack previous [ a \n",
    "    stack next [ c\n",
    "    \n",
    "    # !!! when visiting a new page, no next url exist\n",
    "    \"\"\"\n",
    "\n",
    "    def __init__(self, homepage: str):\n",
    "        self.home = homepage\n",
    "        self.previous = deque()\n",
    "        self.next = deque()\n",
    "\n",
    "    def visit(self, url: str) -> None:\n",
    "        self.previous.append(self.home)\n",
    "        self.home = url\n",
    "        # !!! when visiting a new page, no next url exist\n",
    "        self.next.clear()\n",
    "\n",
    "    def back(self, steps: int) -> str:\n",
    "        while self.previous and steps > 0:\n",
    "            self.next.append(self.home)\n",
    "            self.home = self.previous.pop()\n",
    "            steps -= 1\n",
    "        return self.home\n",
    "\n",
    "    def forward(self, steps: int) -> str:\n",
    "        while self.next and steps > 0:\n",
    "            self.previous.append(self.home)\n",
    "            self.home = self.next.pop()\n",
    "            steps -= 1\n",
    "        return self.home"
   ]
  },
  {
   "cell_type": "markdown",
   "id": "8be72ba0",
   "metadata": {},
   "source": [
    "# === Greedy ==="
   ]
  },
  {
   "cell_type": "markdown",
   "id": "37e94910",
   "metadata": {},
   "source": [
    "## 1029. Two City Scheduling\n",
    "[1029. Two City Scheduling](https://leetcode.com/problems/two-city-scheduling/)"
   ]
  },
  {
   "cell_type": "code",
   "execution_count": 18,
   "id": "725bc86f",
   "metadata": {},
   "outputs": [],
   "source": [
    "# TC = O(nlogn)\n",
    "# SC = O(n)\n",
    "class Solution:\n",
    "    def twoCitySchedCost(self, costs) -> int:\n",
    "        \"\"\"\n",
    "        diff = [B - A] (diff is larger, the cost to B is larger)\n",
    "        sort diff\n",
    "        put first half people to A, and second half to B\n",
    "        \"\"\"\n",
    "        diffs = []\n",
    "        for c1, c2 in costs:\n",
    "            diffs.append([c2 - c1, c1, c2])\n",
    "        diffs.sort()\n",
    "        res = 0\n",
    "        for i in range(len(diffs)):\n",
    "            if i < len(diffs) // 2:\n",
    "                res += diffs[i][2]\n",
    "            else:\n",
    "                res += diffs[i][1]\n",
    "        return res"
   ]
  },
  {
   "cell_type": "markdown",
   "id": "4c381ed8",
   "metadata": {},
   "source": [
    "# === Tree ==="
   ]
  },
  {
   "cell_type": "markdown",
   "id": "04ff54bd",
   "metadata": {},
   "source": [
    "## 98. Validate Binary Search Tree\n",
    "[98. Validate Binary Search Tree](https://leetcode.com/problems/validate-binary-search-tree/)\n",
    "- O(1) space"
   ]
  },
  {
   "cell_type": "code",
   "execution_count": null,
   "id": "e8d5bdf6",
   "metadata": {},
   "outputs": [],
   "source": []
  },
  {
   "cell_type": "markdown",
   "id": "8132e48a",
   "metadata": {},
   "source": [
    "## 314. Binary Tree Vertical Order Traversal\n",
    "[314. Binary Tree Vertical Order Traversal](https://leetcode.com/problems/binary-tree-vertical-order-traversal/)"
   ]
  },
  {
   "cell_type": "code",
   "execution_count": null,
   "id": "8365353a",
   "metadata": {},
   "outputs": [],
   "source": []
  },
  {
   "cell_type": "markdown",
   "id": "5a9a1655",
   "metadata": {},
   "source": [
    "## 428. Serialize and Deserialize N-ary Tree\n",
    "[428. Serialize and Deserialize N-ary Tree](https://leetcode.com/problems/serialize-and-deserialize-n-ary-tree/)"
   ]
  },
  {
   "cell_type": "code",
   "execution_count": null,
   "id": "cb1f5608",
   "metadata": {},
   "outputs": [],
   "source": []
  },
  {
   "cell_type": "markdown",
   "id": "7cbbcd30",
   "metadata": {},
   "source": [
    "## === DFS ==="
   ]
  },
  {
   "cell_type": "markdown",
   "id": "78c06cf0",
   "metadata": {},
   "source": [
    "## 200. Number of Islands\n",
    "[200. Number of Islands](https://leetcode.com/problems/number-of-islands/)"
   ]
  },
  {
   "cell_type": "code",
   "execution_count": null,
   "id": "da91a790",
   "metadata": {},
   "outputs": [],
   "source": []
  },
  {
   "cell_type": "markdown",
   "id": "27a51eac",
   "metadata": {},
   "source": [
    "## 694. Number of Distinct Islands\n",
    "[694. Number of Distinct Islands](https://leetcode.com/problems/number-of-distinct-islands/)"
   ]
  },
  {
   "cell_type": "code",
   "execution_count": null,
   "id": "5e3407bd",
   "metadata": {},
   "outputs": [],
   "source": []
  },
  {
   "cell_type": "markdown",
   "id": "a4a3ed59",
   "metadata": {},
   "source": [
    "## 46. Permutations\n",
    "[46. Permutations](https://leetcode.com/problems/permutations/)"
   ]
  },
  {
   "cell_type": "code",
   "execution_count": null,
   "id": "99081a5c",
   "metadata": {},
   "outputs": [],
   "source": []
  },
  {
   "cell_type": "markdown",
   "id": "ed7a256f",
   "metadata": {},
   "source": [
    "## 47. Permutations II\n",
    "[47. Permutations II](https://leetcode.com/problems/permutations-ii/)"
   ]
  },
  {
   "cell_type": "code",
   "execution_count": null,
   "id": "f90a816a",
   "metadata": {},
   "outputs": [],
   "source": []
  },
  {
   "cell_type": "markdown",
   "id": "4b70c220",
   "metadata": {},
   "source": [
    "## 1274. Number of Ships in a Rectangle\n",
    "[1274. Number of Ships in a Rectangle](https://leetcode.com/problems/number-of-ships-in-a-rectangle/)"
   ]
  },
  {
   "cell_type": "code",
   "execution_count": null,
   "id": "33168b64",
   "metadata": {},
   "outputs": [],
   "source": []
  },
  {
   "cell_type": "markdown",
   "id": "1d8c6f6d",
   "metadata": {},
   "source": [
    "## === DP ==="
   ]
  },
  {
   "cell_type": "markdown",
   "id": "a69e8c5c",
   "metadata": {},
   "source": [
    "## 140. Word Break II\n",
    "[140. Word Break II](https://leetcode.com/problems/word-break-ii/)"
   ]
  },
  {
   "cell_type": "code",
   "execution_count": null,
   "id": "8ad8ad8d",
   "metadata": {},
   "outputs": [],
   "source": []
  },
  {
   "cell_type": "markdown",
   "id": "5aca251c",
   "metadata": {},
   "source": [
    "## 935. Knight Dialer\n",
    "[935. Knight Dialer](https://leetcode.com/problems/knight-dialer/)"
   ]
  },
  {
   "cell_type": "code",
   "execution_count": null,
   "id": "cb1f92e5",
   "metadata": {},
   "outputs": [],
   "source": []
  },
  {
   "cell_type": "markdown",
   "id": "3310dd86",
   "metadata": {},
   "source": [
    "https://www.1point3acres.com/bbs/thread-916935-1-1.html\n",
    "8.2 - 8.14"
   ]
  }
 ],
 "metadata": {
  "kernelspec": {
   "display_name": "Python 3 (ipykernel)",
   "language": "python",
   "name": "python3"
  },
  "language_info": {
   "codemirror_mode": {
    "name": "ipython",
    "version": 3
   },
   "file_extension": ".py",
   "mimetype": "text/x-python",
   "name": "python",
   "nbconvert_exporter": "python",
   "pygments_lexer": "ipython3",
   "version": "3.8.12"
  }
 },
 "nbformat": 4,
 "nbformat_minor": 5
}
