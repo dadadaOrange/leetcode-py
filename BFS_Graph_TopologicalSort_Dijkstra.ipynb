{
 "cells": [
  {
   "cell_type": "markdown",
   "id": "eaa3984e",
   "metadata": {},
   "source": [
    "# BFS"
   ]
  },
  {
   "cell_type": "markdown",
   "id": "4b7be738",
   "metadata": {},
   "source": [
    "## 785. Is Graph Bipartite?\n",
    "[785. Is Graph Bipartite?](https://leetcode.com/problems/is-graph-bipartite/)"
   ]
  },
  {
   "cell_type": "code",
   "execution_count": 2,
   "id": "b18b8be9",
   "metadata": {},
   "outputs": [
    {
     "data": {
      "text/plain": [
       "[0, 0, 0]"
      ]
     },
     "execution_count": 2,
     "metadata": {},
     "output_type": "execute_result"
    }
   ],
   "source": [
    "res = [0 for _ in range(3)]\n",
    "res"
   ]
  },
  {
   "cell_type": "code",
   "execution_count": 3,
   "id": "6d6dbf54",
   "metadata": {},
   "outputs": [],
   "source": [
    "def isBipartite(self, graph) -> bool:\n",
    "    \"\"\"\n",
    "    BFS: BFS for all nodes (not connected case)\n",
    "    visited = [0 for _ in range(n)]\n",
    "    \"\"\"\n",
    "    if not graph:\n",
    "        return True\n",
    "    n = len(graph)\n",
    "    visited = [0 for _ in range(n)]\n",
    "    for i in range(n):\n",
    "        if len(graph[i]) == 0 or visited[i] != 0:\n",
    "            continue\n",
    "        if not self.bfs(i, graph, visited):\n",
    "            return False\n",
    "    return True\n",
    "\n",
    "def bfs(self, cur, graph, visited):\n",
    "    q = deque([cur])\n",
    "    visited[cur] = 1\n",
    "    while q:\n",
    "        node = q.popleft()\n",
    "        # generate neighbors\n",
    "        for item in graph[node]:\n",
    "            if visited[item] == 0:\n",
    "                visited[item] = -1 * visited[node]\n",
    "                q.append(item)\n",
    "            if visited[item] != 0 and visited[item] == visited[node]:\n",
    "                return False\n",
    "    return True"
   ]
  },
  {
   "cell_type": "markdown",
   "id": "b7f3d089",
   "metadata": {},
   "source": [
    "## 773. Sliding Puzzle\n",
    "[773. Sliding Puzzle](https://leetcode.com/problems/sliding-puzzle/)"
   ]
  },
  {
   "cell_type": "code",
   "execution_count": null,
   "id": "de427915",
   "metadata": {},
   "outputs": [],
   "source": []
  },
  {
   "cell_type": "markdown",
   "id": "8640c42d",
   "metadata": {},
   "source": [
    "## 752. Open the Lock\n",
    "[752. Open the Lock](https://leetcode.com/problems/open-the-lock/)"
   ]
  },
  {
   "cell_type": "code",
   "execution_count": null,
   "id": "37dde73f",
   "metadata": {},
   "outputs": [],
   "source": []
  },
  {
   "cell_type": "markdown",
   "id": "dc0c0cfc",
   "metadata": {},
   "source": [
    "# Topological Sort"
   ]
  },
  {
   "cell_type": "markdown",
   "id": "458e3ee5",
   "metadata": {},
   "source": [
    "## 207. Course Schedule\n",
    "[207. Course Schedule](https://leetcode.com/problems/course-schedule/)"
   ]
  },
  {
   "cell_type": "code",
   "execution_count": null,
   "id": "10ce6fc9",
   "metadata": {},
   "outputs": [],
   "source": []
  },
  {
   "cell_type": "markdown",
   "id": "5768dd77",
   "metadata": {},
   "source": [
    "## 210. Course Schedule II\n",
    "[210. Course Schedule II](https://leetcode.com/problems/course-schedule-ii/)"
   ]
  },
  {
   "cell_type": "code",
   "execution_count": null,
   "id": "bb4fe67d",
   "metadata": {},
   "outputs": [],
   "source": []
  },
  {
   "cell_type": "markdown",
   "id": "2e546a4b",
   "metadata": {},
   "source": [
    "## 953. Verifying an Alien Dictionary\n",
    "[953. Verifying an Alien Dictionary](https://leetcode.com/problems/verifying-an-alien-dictionary/)"
   ]
  },
  {
   "cell_type": "code",
   "execution_count": null,
   "id": "6ade73e5",
   "metadata": {},
   "outputs": [],
   "source": []
  },
  {
   "cell_type": "markdown",
   "id": "1bc4c690",
   "metadata": {},
   "source": [
    "## 269. Alien Dictionary\n",
    "[269. Alien Dictionary](https://leetcode.com/problems/alien-dictionary/)"
   ]
  },
  {
   "cell_type": "code",
   "execution_count": null,
   "id": "4627dfe2",
   "metadata": {},
   "outputs": [],
   "source": []
  },
  {
   "cell_type": "markdown",
   "id": "d8ead991",
   "metadata": {},
   "source": [
    "# Dijkstra"
   ]
  },
  {
   "cell_type": "markdown",
   "id": "5cd1843a",
   "metadata": {},
   "source": [
    "## 490. The Maze\n",
    "[490. The Maze](https://leetcode.com/problems/the-maze/)"
   ]
  },
  {
   "cell_type": "code",
   "execution_count": null,
   "id": "cea7ab4a",
   "metadata": {},
   "outputs": [],
   "source": []
  },
  {
   "cell_type": "markdown",
   "id": "38823c64",
   "metadata": {},
   "source": [
    "## 505. The Maze II\n",
    "[505. The Maze II](https://leetcode.com/problems/the-maze-ii/)"
   ]
  },
  {
   "cell_type": "code",
   "execution_count": null,
   "id": "4dea235c",
   "metadata": {},
   "outputs": [],
   "source": []
  },
  {
   "cell_type": "markdown",
   "id": "ebb2a1cc",
   "metadata": {},
   "source": [
    "## 499. The Maze III\n",
    "[499. The Maze III](https://leetcode.com/problems/the-maze-iii/)"
   ]
  },
  {
   "cell_type": "code",
   "execution_count": null,
   "id": "35b239c2",
   "metadata": {},
   "outputs": [],
   "source": []
  },
  {
   "cell_type": "markdown",
   "id": "13ac46d9",
   "metadata": {},
   "source": [
    "## 378. Kth Smallest Element in a Sorted Matrix\n",
    "[378. Kth Smallest Element in a Sorted Matrix](https://leetcode.com/problems/kth-smallest-element-in-a-sorted-matrix/)"
   ]
  },
  {
   "cell_type": "code",
   "execution_count": null,
   "id": "df8fe9c7",
   "metadata": {},
   "outputs": [],
   "source": []
  },
  {
   "cell_type": "markdown",
   "id": "32fc7185",
   "metadata": {},
   "source": [
    "## 787. Cheapest Flights Within K Stops\n",
    "[787. Cheapest Flights Within K Stops](https://leetcode.com/problems/cheapest-flights-within-k-stops/)"
   ]
  },
  {
   "cell_type": "code",
   "execution_count": null,
   "id": "c614b37d",
   "metadata": {},
   "outputs": [],
   "source": []
  },
  {
   "cell_type": "markdown",
   "id": "5f87d38f",
   "metadata": {},
   "source": [
    "## 743. Network Delay Time\n",
    "[743. Network Delay Time](https://leetcode.com/problems/network-delay-time/)"
   ]
  },
  {
   "cell_type": "code",
   "execution_count": null,
   "id": "38151839",
   "metadata": {},
   "outputs": [],
   "source": []
  },
  {
   "cell_type": "markdown",
   "id": "8c52320c",
   "metadata": {},
   "source": [
    "# Shortest Path(BFS+DFS)"
   ]
  },
  {
   "cell_type": "markdown",
   "id": "f830ecba",
   "metadata": {},
   "source": [
    "## 127. Word Ladder\n",
    "[127. Word Ladder](https://leetcode.com/problems/word-ladder/)"
   ]
  },
  {
   "cell_type": "code",
   "execution_count": null,
   "id": "de98e85c",
   "metadata": {},
   "outputs": [],
   "source": []
  },
  {
   "cell_type": "markdown",
   "id": "00ffa008",
   "metadata": {},
   "source": [
    "## 126. Word Ladder II\n",
    "[126. Word Ladder II](https://leetcode.com/problems/word-ladder-ii/)"
   ]
  },
  {
   "cell_type": "code",
   "execution_count": null,
   "id": "3b96c5e5",
   "metadata": {},
   "outputs": [],
   "source": []
  },
  {
   "cell_type": "markdown",
   "id": "18a86810",
   "metadata": {},
   "source": [
    "## 1293. Shortest Path in a Grid with Obstacles Elimination\n",
    "[1293. Shortest Path in a Grid with Obstacles Elimination](https://leetcode.com/problems/shortest-path-in-a-grid-with-obstacles-elimination/)"
   ]
  },
  {
   "cell_type": "code",
   "execution_count": null,
   "id": "1248bcc0",
   "metadata": {},
   "outputs": [],
   "source": []
  },
  {
   "cell_type": "markdown",
   "id": "85f8fed3",
   "metadata": {},
   "source": [
    "## 489. Robot Room Cleaner\n",
    "[489. Robot Room Cleaner](https://leetcode.com/problems/robot-room-cleaner/)"
   ]
  },
  {
   "cell_type": "code",
   "execution_count": null,
   "id": "9d1004ef",
   "metadata": {},
   "outputs": [],
   "source": []
  },
  {
   "cell_type": "markdown",
   "id": "98af0235",
   "metadata": {},
   "source": [
    "# Graph\n",
    "\n",
    "- Unidirected Graph\n",
    "- Directed Graph\n",
    "- Weighted Graph\n",
    "- Bipartite Graph\n",
    "- Connected Graph\n",
    "- DAG: directed acyslic Graph\n",
    "- Circle and Cycle: circle(shape 圈）and Cycle(order 闭环）"
   ]
  },
  {
   "cell_type": "markdown",
   "id": "14d92161",
   "metadata": {},
   "source": [
    "## 133. Clone Graph\n",
    "[133. Clone Graph](https://leetcode.com/problems/clone-graph/)"
   ]
  },
  {
   "cell_type": "code",
   "execution_count": null,
   "id": "df4fb84b",
   "metadata": {},
   "outputs": [],
   "source": []
  },
  {
   "cell_type": "markdown",
   "id": "88ebc4e5",
   "metadata": {},
   "source": [
    "## 323. Number of Connected Components in an Undirected Graph\n",
    "[323. Number of Connected Components in an Undirected Graph](https://leetcode.com/problems/number-of-connected-components-in-an-undirected-graph/)"
   ]
  },
  {
   "cell_type": "code",
   "execution_count": null,
   "id": "7c3f5aaa",
   "metadata": {},
   "outputs": [],
   "source": []
  },
  {
   "cell_type": "markdown",
   "id": "dffd6c72",
   "metadata": {},
   "source": [
    "## 261. Graph Valid Tree\n",
    "[261. Graph Valid Tree](https://leetcode.com/problems/graph-valid-tree/)"
   ]
  },
  {
   "cell_type": "code",
   "execution_count": null,
   "id": "c2656094",
   "metadata": {},
   "outputs": [],
   "source": []
  },
  {
   "cell_type": "markdown",
   "id": "406a3693",
   "metadata": {},
   "source": [
    "## 684. Redundant Connection\n",
    "[684. Redundant Connection](https://leetcode.com/problems/redundant-connection/)"
   ]
  },
  {
   "cell_type": "code",
   "execution_count": null,
   "id": "56596a9d",
   "metadata": {},
   "outputs": [],
   "source": []
  },
  {
   "cell_type": "markdown",
   "id": "c5a6cb69",
   "metadata": {},
   "source": [
    "## 332. Reconstruct Itinerary\n",
    "[332. Reconstruct Itinerary](https://leetcode.com/problems/reconstruct-itinerary/)"
   ]
  },
  {
   "cell_type": "code",
   "execution_count": null,
   "id": "e87d7d5c",
   "metadata": {},
   "outputs": [],
   "source": []
  },
  {
   "cell_type": "markdown",
   "id": "2a909e79",
   "metadata": {},
   "source": [
    "# Others"
   ]
  },
  {
   "cell_type": "markdown",
   "id": "64370ed1",
   "metadata": {},
   "source": [
    "## 543. Diameter of Binary Tree\n",
    "[543. Diameter of Binary Tree](https://leetcode.com/problems/diameter-of-binary-tree/)"
   ]
  },
  {
   "cell_type": "code",
   "execution_count": null,
   "id": "dbab3c23",
   "metadata": {},
   "outputs": [],
   "source": []
  },
  {
   "cell_type": "markdown",
   "id": "ec8def3c",
   "metadata": {},
   "source": [
    "## 1245. Tree Diameter\n",
    "[1245. Tree Diameter](https://leetcode.com/problems/tree-diameter/)"
   ]
  },
  {
   "cell_type": "code",
   "execution_count": null,
   "id": "9e38bd4b",
   "metadata": {},
   "outputs": [],
   "source": []
  },
  {
   "cell_type": "markdown",
   "id": "f4e34154",
   "metadata": {},
   "source": [
    "## 1192. Critical Connections in a Network\n",
    "[1192. Critical Connections in a Network](https://leetcode.com/problems/critical-connections-in-a-network/)"
   ]
  },
  {
   "cell_type": "code",
   "execution_count": null,
   "id": "1fb6c1c2",
   "metadata": {},
   "outputs": [],
   "source": []
  },
  {
   "cell_type": "markdown",
   "id": "c58d6da0",
   "metadata": {},
   "source": [
    "## 399. Evaluate Division\n",
    "[399. Evaluate Division](https://leetcode.com/problems/evaluate-division/)"
   ]
  },
  {
   "cell_type": "code",
   "execution_count": null,
   "id": "dbd3a9be",
   "metadata": {},
   "outputs": [],
   "source": []
  },
  {
   "cell_type": "markdown",
   "id": "af44024d",
   "metadata": {},
   "source": [
    "## 329. Longest Increasing Path in a Matrix\n",
    "[329. Longest Increasing Path in a Matrix](https://leetcode.com/problems/longest-increasing-path-in-a-matrix/)"
   ]
  },
  {
   "cell_type": "code",
   "execution_count": null,
   "id": "b01677ac",
   "metadata": {},
   "outputs": [],
   "source": []
  },
  {
   "cell_type": "markdown",
   "id": "93a92624",
   "metadata": {},
   "source": [
    "## 2092. Find All People With Secret\n",
    "[2092. Find All People With Secret](https://leetcode.com/problems/find-all-people-with-secret/)"
   ]
  },
  {
   "cell_type": "code",
   "execution_count": null,
   "id": "d541feaf",
   "metadata": {},
   "outputs": [],
   "source": []
  },
  {
   "cell_type": "markdown",
   "id": "16cae281",
   "metadata": {},
   "source": [
    "## 797. All Paths From Source to Target\n",
    "[797. All Paths From Source to Target](https://leetcode.com/problems/all-paths-from-source-to-target/)"
   ]
  },
  {
   "cell_type": "code",
   "execution_count": null,
   "id": "a8177e81",
   "metadata": {},
   "outputs": [],
   "source": []
  }
 ],
 "metadata": {
  "kernelspec": {
   "display_name": "Python 3 (ipykernel)",
   "language": "python",
   "name": "python3"
  },
  "language_info": {
   "codemirror_mode": {
    "name": "ipython",
    "version": 3
   },
   "file_extension": ".py",
   "mimetype": "text/x-python",
   "name": "python",
   "nbconvert_exporter": "python",
   "pygments_lexer": "ipython3",
   "version": "3.8.12"
  }
 },
 "nbformat": 4,
 "nbformat_minor": 5
}
