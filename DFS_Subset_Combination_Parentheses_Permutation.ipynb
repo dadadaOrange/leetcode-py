{
 "cells": [
  {
   "cell_type": "markdown",
   "id": "adb12445",
   "metadata": {},
   "source": [
    "# Subset Problem"
   ]
  },
  {
   "cell_type": "markdown",
   "id": "0f508364",
   "metadata": {},
   "source": [
    "## 78. Subsets\n",
    "[78. Subsets](https://leetcode.com/problems/subsets/)"
   ]
  },
  {
   "cell_type": "code",
   "execution_count": null,
   "id": "f31941cf",
   "metadata": {},
   "outputs": [],
   "source": []
  },
  {
   "cell_type": "markdown",
   "id": "69f537e8",
   "metadata": {},
   "source": [
    "## 90. Subsets II\n",
    "[90. Subsets II](https://leetcode.com/problems/subsets-ii/)"
   ]
  },
  {
   "cell_type": "code",
   "execution_count": null,
   "id": "9d7c9fa4",
   "metadata": {},
   "outputs": [],
   "source": []
  },
  {
   "cell_type": "markdown",
   "id": "2c850977",
   "metadata": {},
   "source": [
    "## 416. Partition Equal Subset Sum\n",
    "[416. Partition Equal Subset Sum](https://leetcode.com/problems/partition-equal-subset-sum/)"
   ]
  },
  {
   "cell_type": "markdown",
   "id": "9e594f3d",
   "metadata": {},
   "source": [
    "## 263. Two Subsets With Min Difference\n",
    "[263. Two Subsets With Min Difference](https://app.laicode.io/app/problem/263?plan=3)"
   ]
  },
  {
   "cell_type": "code",
   "execution_count": null,
   "id": "831959ac",
   "metadata": {},
   "outputs": [],
   "source": []
  },
  {
   "cell_type": "markdown",
   "id": "61f4958b",
   "metadata": {},
   "source": [
    "## 698. Partition to K Equal Sum Subsets\n",
    "[698. Partition to K Equal Sum Subsets](https://leetcode.com/problems/partition-to-k-equal-sum-subsets/)"
   ]
  },
  {
   "cell_type": "code",
   "execution_count": null,
   "id": "8a088403",
   "metadata": {},
   "outputs": [],
   "source": []
  },
  {
   "cell_type": "markdown",
   "id": "b2e79e4f",
   "metadata": {},
   "source": [
    "# Combinations"
   ]
  },
  {
   "cell_type": "markdown",
   "id": "c4983968",
   "metadata": {},
   "source": [
    "## 77. Combinations\n",
    "[77. Combinations](https://leetcode.com/problems/combinations/)"
   ]
  },
  {
   "cell_type": "code",
   "execution_count": null,
   "id": "ba97ae8b",
   "metadata": {},
   "outputs": [],
   "source": []
  },
  {
   "cell_type": "markdown",
   "id": "434dee33",
   "metadata": {},
   "source": [
    "## 39. Combination Sum\n",
    "[39. Combination Sum](https://leetcode.com/problems/combination-sum/)"
   ]
  },
  {
   "cell_type": "code",
   "execution_count": null,
   "id": "ac4c8ee9",
   "metadata": {},
   "outputs": [],
   "source": []
  },
  {
   "cell_type": "markdown",
   "id": "7486bc35",
   "metadata": {},
   "source": [
    "## 40. Combination Sum II\n",
    "[40. Combination Sum II](https://leetcode.com/problems/combination-sum-ii/)"
   ]
  },
  {
   "cell_type": "code",
   "execution_count": null,
   "id": "eec5babc",
   "metadata": {},
   "outputs": [],
   "source": []
  },
  {
   "cell_type": "markdown",
   "id": "8081818c",
   "metadata": {},
   "source": [
    "## 216. Combination Sum III\n",
    "[216. Combination Sum III](https://leetcode.com/problems/combination-sum-iii/)"
   ]
  },
  {
   "cell_type": "code",
   "execution_count": null,
   "id": "980e940a",
   "metadata": {},
   "outputs": [],
   "source": []
  },
  {
   "cell_type": "markdown",
   "id": "03949a89",
   "metadata": {},
   "source": [
    "## 377. Combination Sum IV\n",
    "[377. Combination Sum IV](https://leetcode.com/problems/combination-sum-iv/)"
   ]
  },
  {
   "cell_type": "code",
   "execution_count": null,
   "id": "9363bae9",
   "metadata": {},
   "outputs": [],
   "source": []
  },
  {
   "cell_type": "markdown",
   "id": "e0dd7cc9",
   "metadata": {},
   "source": [
    "## 254. Factor Combinations\n",
    "[254. Factor Combinations](https://leetcode.com/problems/factor-combinations/)"
   ]
  },
  {
   "cell_type": "code",
   "execution_count": null,
   "id": "25c77b07",
   "metadata": {},
   "outputs": [],
   "source": []
  },
  {
   "cell_type": "markdown",
   "id": "a50a8f9c",
   "metadata": {},
   "source": [
    "# Parentheses"
   ]
  },
  {
   "cell_type": "markdown",
   "id": "024c049b",
   "metadata": {},
   "source": [
    "## 20. Valid Parentheses\n",
    "[20. Valid Parentheses](https://leetcode.com/problems/valid-parentheses/)"
   ]
  },
  {
   "cell_type": "code",
   "execution_count": null,
   "id": "1302db4b",
   "metadata": {},
   "outputs": [],
   "source": []
  },
  {
   "cell_type": "markdown",
   "id": "16bbe267",
   "metadata": {},
   "source": [
    "## 1249. Minimum Remove to Make Valid Parentheses\n",
    "[1249. Minimum Remove to Make Valid Parentheses](https://leetcode.com/problems/minimum-remove-to-make-valid-parentheses/)"
   ]
  },
  {
   "cell_type": "code",
   "execution_count": null,
   "id": "c1ab8bff",
   "metadata": {},
   "outputs": [],
   "source": []
  },
  {
   "cell_type": "markdown",
   "id": "3611c72c",
   "metadata": {},
   "source": [
    "## 22. Generate Parentheses\n",
    "[22. Generate Parentheses](https://leetcode.com/problems/generate-parentheses/)"
   ]
  },
  {
   "cell_type": "code",
   "execution_count": null,
   "id": "dc019074",
   "metadata": {},
   "outputs": [],
   "source": []
  },
  {
   "cell_type": "markdown",
   "id": "348ee881",
   "metadata": {},
   "source": [
    "## 179. All Valid Permutations Of Parentheses II\n",
    "[179. All Valid Permutations Of Parentheses II](https://app.laicode.io/app/problem/179?plan=3)"
   ]
  },
  {
   "cell_type": "code",
   "execution_count": null,
   "id": "6d53ded7",
   "metadata": {},
   "outputs": [],
   "source": []
  },
  {
   "cell_type": "markdown",
   "id": "28ee4a4f",
   "metadata": {},
   "source": [
    "## 642. All Valid Permutations Of Parentheses III\n",
    "[642. All Valid Permutations Of Parentheses III](https://app.laicode.io/app/problem/642?plan=3)"
   ]
  },
  {
   "cell_type": "code",
   "execution_count": null,
   "id": "32d9eabd",
   "metadata": {},
   "outputs": [],
   "source": []
  },
  {
   "cell_type": "markdown",
   "id": "a15b3a7e",
   "metadata": {},
   "source": [
    "## 921. Minimum Add to Make Parentheses Valid\n",
    "[921. Minimum Add to Make Parentheses Valid](https://leetcode.com/problems/minimum-add-to-make-parentheses-valid/)"
   ]
  },
  {
   "cell_type": "code",
   "execution_count": null,
   "id": "edb14a5c",
   "metadata": {},
   "outputs": [],
   "source": []
  },
  {
   "cell_type": "markdown",
   "id": "7c733824",
   "metadata": {},
   "source": [
    "## 301. Remove Invalid Parentheses\n",
    "[301. Remove Invalid Parentheses](https://leetcode.com/problems/remove-invalid-parentheses/)"
   ]
  },
  {
   "cell_type": "code",
   "execution_count": null,
   "id": "60c41b60",
   "metadata": {},
   "outputs": [],
   "source": []
  },
  {
   "cell_type": "markdown",
   "id": "cdb3f683",
   "metadata": {},
   "source": [
    "# Coin/Numbers"
   ]
  },
  {
   "cell_type": "code",
   "execution_count": null,
   "id": "81dcc853",
   "metadata": {},
   "outputs": [],
   "source": []
  },
  {
   "cell_type": "code",
   "execution_count": null,
   "id": "1823b7bc",
   "metadata": {},
   "outputs": [],
   "source": []
  },
  {
   "cell_type": "markdown",
   "id": "0fe4f958",
   "metadata": {},
   "source": [
    "# Permutations"
   ]
  },
  {
   "cell_type": "markdown",
   "id": "a0858a1f",
   "metadata": {},
   "source": [
    "## 46. Permutations\n",
    "[46. Permutations](https://leetcode.com/problems/permutations/)"
   ]
  },
  {
   "cell_type": "code",
   "execution_count": null,
   "id": "10e20b80",
   "metadata": {},
   "outputs": [],
   "source": []
  },
  {
   "cell_type": "markdown",
   "id": "a8e8b731",
   "metadata": {},
   "source": [
    "## 47. Permutations II\n",
    "[47. Permutations II](https://leetcode.com/problems/permutations-ii/)"
   ]
  },
  {
   "cell_type": "code",
   "execution_count": null,
   "id": "8322e7f1",
   "metadata": {},
   "outputs": [],
   "source": []
  },
  {
   "cell_type": "markdown",
   "id": "72d37214",
   "metadata": {},
   "source": [
    "## 266. Palindrome Permutation\n",
    "[266. Palindrome Permutation](https://leetcode.com/problems/palindrome-permutation/)"
   ]
  },
  {
   "cell_type": "code",
   "execution_count": null,
   "id": "df623ffc",
   "metadata": {},
   "outputs": [],
   "source": []
  },
  {
   "cell_type": "markdown",
   "id": "e122e28f",
   "metadata": {},
   "source": [
    "## 267. Palindrome Permutation II\n",
    "[267. Palindrome Permutation II](https://leetcode.com/problems/palindrome-permutation-ii/)"
   ]
  },
  {
   "cell_type": "code",
   "execution_count": null,
   "id": "b857a1f3",
   "metadata": {},
   "outputs": [],
   "source": []
  },
  {
   "cell_type": "markdown",
   "id": "5bfea3a9",
   "metadata": {},
   "source": [
    "## 31. Next Permutation\n",
    "[31. Next Permutation](https://leetcode.com/problems/next-permutation/)"
   ]
  },
  {
   "cell_type": "code",
   "execution_count": null,
   "id": "f9e753c3",
   "metadata": {},
   "outputs": [],
   "source": []
  },
  {
   "cell_type": "markdown",
   "id": "86266904",
   "metadata": {},
   "source": [
    "# Others"
   ]
  },
  {
   "cell_type": "markdown",
   "id": "57e94742",
   "metadata": {},
   "source": [
    "## 17. Letter Combinations of a Phone Number\n",
    "[17. Letter Combinations of a Phone Number](https://leetcode.com/problems/letter-combinations-of-a-phone-number/)"
   ]
  },
  {
   "cell_type": "code",
   "execution_count": null,
   "id": "64083c20",
   "metadata": {},
   "outputs": [],
   "source": []
  },
  {
   "cell_type": "markdown",
   "id": "33943424",
   "metadata": {},
   "source": [
    "## 93. Restore IP Addresses\n",
    "[93. Restore IP Addresses](https://leetcode.com/problems/restore-ip-addresses/)"
   ]
  },
  {
   "cell_type": "code",
   "execution_count": null,
   "id": "1c4b5987",
   "metadata": {},
   "outputs": [],
   "source": []
  },
  {
   "cell_type": "markdown",
   "id": "bce60645",
   "metadata": {},
   "source": [
    "## 490. The Maze\n",
    "[490. The Maze](https://leetcode.com/problems/the-maze/)"
   ]
  },
  {
   "cell_type": "code",
   "execution_count": null,
   "id": "8c99ab3a",
   "metadata": {},
   "outputs": [],
   "source": []
  }
 ],
 "metadata": {
  "kernelspec": {
   "display_name": "Python 3 (ipykernel)",
   "language": "python",
   "name": "python3"
  },
  "language_info": {
   "codemirror_mode": {
    "name": "ipython",
    "version": 3
   },
   "file_extension": ".py",
   "mimetype": "text/x-python",
   "name": "python",
   "nbconvert_exporter": "python",
   "pygments_lexer": "ipython3",
   "version": "3.8.12"
  }
 },
 "nbformat": 4,
 "nbformat_minor": 5
}
