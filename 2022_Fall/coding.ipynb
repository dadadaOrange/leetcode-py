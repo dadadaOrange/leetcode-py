{
 "cells": [
  {
   "cell_type": "code",
   "execution_count": 22,
   "id": "d63f5388",
   "metadata": {},
   "outputs": [
    {
     "name": "stdout",
     "output_type": "stream",
     "text": [
      "the result of test1 is: 1\n",
      "the result of test2 is: 2\n",
      "the result of test3 is: 2\n",
      "the result of test3 is: 6\n"
     ]
    }
   ],
   "source": [
    "from collections import deque\n",
    "def socre_braket(brackets):\n",
    "    # edge case\n",
    "    if not brackets or len(brackets) == 0:\n",
    "        return 0\n",
    "    # use a stack to keep track of the current element\n",
    "    stack = deque([0])\n",
    "    for i in range(len(brackets)):\n",
    "        if brackets[i] == '[':\n",
    "            # push in to the stack\n",
    "            stack.append(0)\n",
    "        else:\n",
    "            # right bracket\n",
    "            cur = stack.pop()\n",
    "            stack[-1] += max(2 * cur, 1)\n",
    "    return stack.pop()\n",
    "\n",
    "# time complexity: O(n): scan the whole input string once\n",
    "# spcae complexity: O(n): use a stack to matain the local result\n",
    "                \n",
    "test1 = \"[]\"\n",
    "print(\"the result of test1 is:\", socre_braket(test1))\n",
    "test2 = \"[[]]\"\n",
    "print(\"the result of test2 is:\", socre_braket(test2))\n",
    "test3 = \"[][]\"\n",
    "print(\"the result of test3 is:\", socre_braket(test3)) \n",
    "test4 = \"[[][]]\"\n",
    "print(\"the result of test3 is:\", socre_braket(test4))    "
   ]
  },
  {
   "cell_type": "code",
   "execution_count": 24,
   "id": "8df3fa52",
   "metadata": {},
   "outputs": [
    {
     "name": "stdout",
     "output_type": "stream",
     "text": [
      "a\n"
     ]
    }
   ],
   "source": [
    "a = \"abc\"\n",
    "\n",
    "def get_smallest_in_s(s):\n",
    "    min_ch = s[0]\n",
    "    for i in range(1, len(s)):\n",
    "        min_ch = min(min_ch, s[i])\n",
    "    return min_ch\n",
    "\n",
    "print(get_smallest_in_s(a))\n",
    "    "
   ]
  },
  {
   "cell_type": "code",
   "execution_count": 26,
   "id": "cb39c404",
   "metadata": {},
   "outputs": [
    {
     "name": "stdout",
     "output_type": "stream",
     "text": [
      "bsc\n"
     ]
    }
   ],
   "source": [
    "s = \"cbs\"\n",
    "print(min(s[i:] + s[:i] for i in range(len(s))))"
   ]
  },
  {
   "cell_type": "code",
   "execution_count": 27,
   "id": "10ed4ba3",
   "metadata": {},
   "outputs": [
    {
     "data": {
      "text/plain": [
       "'ab'"
      ]
     },
     "execution_count": 27,
     "metadata": {},
     "output_type": "execute_result"
    }
   ],
   "source": [
    "t = \"abc\"\n",
    "t = t[:-1]\n",
    "t"
   ]
  },
  {
   "cell_type": "code",
   "execution_count": 73,
   "id": "081d9e3f",
   "metadata": {},
   "outputs": [
    {
     "name": "stdout",
     "output_type": "stream",
     "text": [
      "[2, 3, 4, 8, 5]\n"
     ]
    }
   ],
   "source": [
    "import copy\n",
    "def find_neighbors(inital, instance):\n",
    "    instance = sorted(instance, reverse=True)\n",
    "    neighbor = copy.deepcopy(inital)\n",
    "    # choose two indices\n",
    "    i = 0\n",
    "    j = 0\n",
    "    while i == j or instance[i] == instance[j]:\n",
    "        i, j = random.sample(range(0, len(instance)), 2)\n",
    "    # add or remove i\n",
    "    cur = instance[i]\n",
    "    if cur in neighbor:\n",
    "        neighbor.remove(cur)\n",
    "    else:\n",
    "        neighbor.append(cur)\n",
    "    # add or remove j with probability\n",
    "    cur = instance[j]\n",
    "    if cur in neighbor:\n",
    "        if random.random() < 0.5:\n",
    "            neighbor.remove(cur)\n",
    "    else:\n",
    "        neighbor.append(cur)\n",
    "    return neighbor\n",
    "\n",
    "a = [2,3,4]\n",
    "instance = [1,2, 3, 4, 5, 6, 7 , 8]\n",
    "res = find_neighbors(a, instance)\n",
    "print(res)"
   ]
  },
  {
   "cell_type": "code",
   "execution_count": 101,
   "id": "df5c9f1a",
   "metadata": {},
   "outputs": [],
   "source": [
    "def best_neighbor(initial_solution, target, instance):\n",
    "    best_neighbor = initial_solution\n",
    "    best_residue = abs(target - sum(initial_solution))\n",
    "    while iter_num:\n",
    "        cur_nei = find_neighbors(best_neighbor, instance)\n",
    "        cur_residue = abs(target - sum(cur_nei))\n",
    "        if cur_residue == target:\n",
    "            return cur_nei\n",
    "        if cur_residue < best_residue:\n",
    "            best_neighbor = cur_nei\n",
    "            best_residue = cur_residue\n",
    "    return best_neighbor\n",
    "        \n",
    "        "
   ]
  },
  {
   "cell_type": "markdown",
   "id": "02fb5f89",
   "metadata": {},
   "source": [
    "## Random Binary Initial solution"
   ]
  },
  {
   "cell_type": "code",
   "execution_count": 100,
   "id": "7640e435",
   "metadata": {
    "scrolled": true
   },
   "outputs": [
    {
     "name": "stdout",
     "output_type": "stream",
     "text": [
      "[0, 0, 1, 0, 1]\n",
      "8\n",
      "[0, 0, 1, 0, 1]\n"
     ]
    }
   ],
   "source": [
    "import random\n",
    "def get_sum(binary, instance):\n",
    "    cur_sum = 0\n",
    "    for i in range(len(instance)):\n",
    "        cur_sum += binary[i] * instance[i]\n",
    "    return cur_sum\n",
    "\n",
    "def random_1_search(instance, target):\n",
    "    residue = target\n",
    "    count = 0\n",
    "    cur_sample = None\n",
    "    while count < 10:\n",
    "#         sample = random.sample(instance, random.randrange(1, len(instance)))\n",
    "        sample = [random.randint(0, 1) for _ in range(5)]\n",
    "        print(sample)\n",
    "        try_sum = get_sum(sample, instance)\n",
    "        print(try_sum)\n",
    "        if try_sum == target:\n",
    "            return sample\n",
    "        elif abs(try_sum - target) < abs(residue):\n",
    "            residue = abs(try_sum - target)\n",
    "            cur_sample = sample\n",
    "        count += 1\n",
    "    return cur_sample\n",
    "\n",
    "binary_chosen = [random.randint(0, 1) for _ in range(5)]\n",
    "res = random_1_search([1,2,3,4,5], 8)\n",
    "print(res)"
   ]
  },
  {
   "cell_type": "code",
   "execution_count": 15,
   "id": "b30c6f8d",
   "metadata": {},
   "outputs": [
    {
     "name": "stdout",
     "output_type": "stream",
     "text": [
      "[3, 4, 2, 5]\n"
     ]
    }
   ],
   "source": [
    "import random\n",
    "\n",
    "def random_search(instance, iterate_num, target):\n",
    "    residue = target\n",
    "    count = 0\n",
    "    cur_sample = []\n",
    "    while count < iterate_num:\n",
    "        sample = random.sample(instance, random.randrange(1, len(instance)))\n",
    "        try_sum = sum(sample)\n",
    "        if try_sum == target:\n",
    "            return sample\n",
    "        elif abs(try_sum - target) < abs(residue):\n",
    "            residue = abs(try_sum - target)\n",
    "            cur_sample = sample\n",
    "        count += 1\n",
    "    return cur_sample\n",
    "\n",
    "arr = [2, 3, 4, 5, 8]\n",
    "target = 12\n",
    "result = random_search(arr, 5, target)\n",
    "print(result)"
   ]
  },
  {
   "cell_type": "markdown",
   "id": "d10fdec9",
   "metadata": {},
   "source": [
    "## Greedy Binary Initial Solution"
   ]
  },
  {
   "cell_type": "code",
   "execution_count": 119,
   "id": "e3470a11",
   "metadata": {},
   "outputs": [
    {
     "data": {
      "text/plain": [
       "[1, 1, 1, 1, 1, 1, 1]"
      ]
     },
     "execution_count": 119,
     "metadata": {},
     "output_type": "execute_result"
    }
   ],
   "source": [
    "def greedy_1_approximate(instance, target):\n",
    "    chose_set = []\n",
    "    running_sum = 0\n",
    "    # arr = sorted(arr, reverse=True)\n",
    "    idx = 0\n",
    "    n = len(instance)\n",
    "    while idx < n and running_sum + instance[idx] <= target:\n",
    "        running_sum += instance[idx]\n",
    "        idx += 1\n",
    "        chose_set.append(1)\n",
    "    for i in range(idx, n):\n",
    "        chose_set.append(0)\n",
    "    return chose_set\n",
    "\n",
    "res = greedy_1_approximate([1, 3, 4, 5, 3, 2, 8], 30)\n",
    "res"
   ]
  },
  {
   "cell_type": "markdown",
   "id": "09f6bb52",
   "metadata": {},
   "source": [
    "## neighbor - 2 swap "
   ]
  },
  {
   "cell_type": "code",
   "execution_count": 121,
   "id": "2ed20fad",
   "metadata": {},
   "outputs": [
    {
     "name": "stdout",
     "output_type": "stream",
     "text": [
      "swaping two elements. \n",
      "[[1, 1, 0, 1, 0], [0, 0, 0, 1, 0], [0, 1, 0, 0, 0]]\n"
     ]
    }
   ],
   "source": [
    "import random\n",
    "def get_sum(binary, instance):\n",
    "    cur_sum = 0\n",
    "    for i in range(len(instance)):\n",
    "        cur_sum += binary[i] * instance[i]\n",
    "    return cur_sum\n",
    "\n",
    "def random_1_search(instance, target):\n",
    "    residue = target\n",
    "    count = 0\n",
    "    cur_sample = None\n",
    "    while count < 10:\n",
    "#         sample = random.sample(instance, random.randrange(1, len(instance)))\n",
    "        sample = [random.randint(0, 1) for _ in range(5)]\n",
    "        print(sample)\n",
    "#         try_sum = get_sum(sample, instance)\n",
    "        try_sum = sum([x * y for x, y in zip(sample, instance)]) \n",
    "        print(try_sum)\n",
    "        if try_sum == target:\n",
    "            return sample\n",
    "        elif abs(try_sum - target) < abs(residue):\n",
    "            residue = abs(try_sum - target)\n",
    "            cur_sample = sample\n",
    "        count += 1\n",
    "    return cur_sample\n",
    "\n",
    "def one_swap(instance, target, initial): \n",
    "    print('swaping two elements. ') \n",
    "    neighbors = []  \n",
    "    \n",
    "    n = len(instance)  \n",
    "    for i in range(n): \n",
    "        flip1 = initial.copy() \n",
    "#         print('origi:', flip1)\n",
    "        flip1[i] = 1 - flip1[i] \n",
    "#         print('after:', flip1) \n",
    "        cur_sum = sum([x * y for x, y in zip(flip1, instance)]) \n",
    "#         print('cur_sum:', cur_sum)\n",
    "        if cur_sum <= target: \n",
    "            neighbors.append(flip1)     \n",
    "    return neighbors\n",
    "\n",
    "def steepest(neighbors, )\n",
    "arr = [3, 4, 6, 8, 9]\n",
    "ini = [0, 1, 0, 1, 0] \n",
    "t = 17  \n",
    "\n",
    "neis = one_swap(arr, t, ini) \n",
    "print(neis) \n"
   ]
  },
  {
   "cell_type": "code",
   "execution_count": null,
   "id": "7e26c103",
   "metadata": {},
   "outputs": [],
   "source": []
  },
  {
   "cell_type": "markdown",
   "id": "903ba03a",
   "metadata": {},
   "source": [
    "## steepest "
   ]
  },
  {
   "cell_type": "code",
   "execution_count": 127,
   "id": "2a5f017c",
   "metadata": {},
   "outputs": [
    {
     "data": {
      "text/plain": [
       "(9, [4, 3, 2, 1])"
      ]
     },
     "execution_count": 127,
     "metadata": {},
     "output_type": "execute_result"
    }
   ],
   "source": [
    "\n",
    "import random\n",
    "\n",
    "\n",
    "def find_neighbor(l, s): \n",
    "    # l: instance array \n",
    "    # s: current subset \n",
    "\n",
    "\tt = s[:]\n",
    "\n",
    "\tl_set = set(l)\n",
    "\tl_set_list = list(l_set)\n",
    "\n",
    "\ti_set, j_set = random.sample(range(0, len(l_set_list)), 2)\n",
    "\n",
    "\tl_i = l_set_list[i_set]\n",
    "\tl_j = l_set_list[j_set]\n",
    "\n",
    "\tif (l_i in s):\n",
    "\t\tt.remove(l_i)\n",
    "\n",
    "\telse:\n",
    "\t\tt.append(l_i)\n",
    "\n",
    "\tif (l_j in s):\n",
    "\t\tif (random.random() < 0.5):\n",
    "\t\t\tt.remove(l_j)\n",
    "\n",
    "\telse:\n",
    "\t\tif (random.random() < 0.5):\n",
    "\t\t\tt.append(l_j)\n",
    "\n",
    "\treturn t\n",
    "\n",
    "\n",
    "def residue(s, k):\n",
    "\ttotal = sum(s)\n",
    "\treturn abs(total - k)\n",
    "\n",
    "\n",
    "def hill_climbing(l, max_threshold, k):\n",
    "    # l: instance \n",
    "    # k: target \n",
    "    # max_threshold: # of iterations \n",
    "\n",
    "\tif (k == 0):\n",
    "\t\treturn\n",
    "\n",
    "\tcount = 0\n",
    "\tcurrent = random.sample(l, random.randrange(1, len(l)) )\n",
    "\n",
    "\twhile count < max_threshold:\n",
    "\n",
    "\t\tnew_neighbor = find_neighbor(l, current) \n",
    "        new_residue = \n",
    "\t\tif (residue(new_neighbor, k) < residue(current, k)):\n",
    "\t\t\tcurrent = new_neighbor \n",
    "        \n",
    "        # check if residue is 0 \n",
    "\n",
    "\t\tcount += 1\n",
    "\n",
    "\treturn residue(current, k), current  \n",
    "\n",
    "res = hill_climbing([1,2,3,4], 100, 19) \n",
    "res "
   ]
  },
  {
   "cell_type": "code",
   "execution_count": null,
   "id": "fdd8b528",
   "metadata": {},
   "outputs": [],
   "source": []
  },
  {
   "cell_type": "code",
   "execution_count": null,
   "id": "fd990bb8",
   "metadata": {},
   "outputs": [],
   "source": []
  },
  {
   "cell_type": "code",
   "execution_count": null,
   "id": "14776e5c",
   "metadata": {},
   "outputs": [],
   "source": []
  },
  {
   "cell_type": "code",
   "execution_count": null,
   "id": "abc7b03a",
   "metadata": {},
   "outputs": [],
   "source": []
  },
  {
   "cell_type": "code",
   "execution_count": null,
   "id": "e299e6cf",
   "metadata": {},
   "outputs": [],
   "source": []
  },
  {
   "cell_type": "code",
   "execution_count": null,
   "id": "01d99821",
   "metadata": {},
   "outputs": [],
   "source": []
  },
  {
   "cell_type": "code",
   "execution_count": null,
   "id": "34208ff7",
   "metadata": {},
   "outputs": [],
   "source": []
  },
  {
   "cell_type": "code",
   "execution_count": null,
   "id": "3a07c14a",
   "metadata": {},
   "outputs": [],
   "source": []
  },
  {
   "cell_type": "code",
   "execution_count": null,
   "id": "8c11c05c",
   "metadata": {},
   "outputs": [],
   "source": []
  },
  {
   "cell_type": "code",
   "execution_count": null,
   "id": "f2d257bf",
   "metadata": {},
   "outputs": [],
   "source": []
  },
  {
   "cell_type": "code",
   "execution_count": null,
   "id": "8d910662",
   "metadata": {},
   "outputs": [],
   "source": []
  },
  {
   "cell_type": "code",
   "execution_count": null,
   "id": "e13b597e",
   "metadata": {},
   "outputs": [],
   "source": []
  },
  {
   "cell_type": "code",
   "execution_count": null,
   "id": "24824217",
   "metadata": {},
   "outputs": [],
   "source": []
  }
 ],
 "metadata": {
  "kernelspec": {
   "display_name": "Python 3 (ipykernel)",
   "language": "python",
   "name": "python3"
  },
  "language_info": {
   "codemirror_mode": {
    "name": "ipython",
    "version": 3
   },
   "file_extension": ".py",
   "mimetype": "text/x-python",
   "name": "python",
   "nbconvert_exporter": "python",
   "pygments_lexer": "ipython3",
   "version": "3.8.12"
  }
 },
 "nbformat": 4,
 "nbformat_minor": 5
}
