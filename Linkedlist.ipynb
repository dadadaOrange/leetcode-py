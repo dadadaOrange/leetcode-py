{
 "cells": [
  {
   "cell_type": "markdown",
   "id": "032ba3f0",
   "metadata": {},
   "source": [
    "# LinkedList"
   ]
  },
  {
   "cell_type": "markdown",
   "id": "1bae0448",
   "metadata": {},
   "source": [
    "# Fast Slow Pointers (Two Pointers)"
   ]
  },
  {
   "cell_type": "markdown",
   "id": "51555a84",
   "metadata": {},
   "source": [
    "## 876. Middle of the Linked List\n",
    "[876. Middle of the Linked List](https://leetcode.com/problems/middle-of-the-linked-list/)"
   ]
  },
  {
   "cell_type": "code",
   "execution_count": 2,
   "id": "7cccd0dc",
   "metadata": {},
   "outputs": [],
   "source": [
    "class Solution:\n",
    "    def middleNode(self, head):\n",
    "        \"\"\"\n",
    "            1,2,3,4,5\n",
    "                    f   odd: fast.next = null\n",
    "                s\n",
    "            1 2 3 4 5 6\n",
    "                        f   fast = null\n",
    "                  s\n",
    "        \"\"\"\n",
    "        if head is None or head.next is None:\n",
    "            return head\n",
    "        s = head\n",
    "        f = head\n",
    "        while f and f.next: # f = none or f.next = none\n",
    "            f = f.next.next\n",
    "            s = s.next\n",
    "        return s"
   ]
  },
  {
   "cell_type": "markdown",
   "id": "bf861b42",
   "metadata": {},
   "source": [
    "## 141. Linked List Cycle\n",
    "[141. Linked List Cycle](https://leetcode.com/problems/linked-list-cycle/)"
   ]
  },
  {
   "cell_type": "code",
   "execution_count": 3,
   "id": "618cc33c",
   "metadata": {},
   "outputs": [],
   "source": [
    "def hasCycle(self, head):\n",
    "    f = head\n",
    "    s = head\n",
    "    while f and f.next:\n",
    "        f = f.next.next\n",
    "        s = s.next\n",
    "\n",
    "        if f == s:\n",
    "            return True\n",
    "    return False"
   ]
  },
  {
   "cell_type": "markdown",
   "id": "0d33f09c",
   "metadata": {},
   "source": [
    "## 142. Linked List Cycle II\n",
    "[142. Linked List Cycle II](https://leetcode.com/problems/linked-list-cycle-ii/)"
   ]
  },
  {
   "cell_type": "code",
   "execution_count": 4,
   "id": "1703bc6b",
   "metadata": {},
   "outputs": [],
   "source": [
    "def detectCycle(self, head):\n",
    "    if head is None or head.next is None:\n",
    "        return None\n",
    "    meet = self.hasCircle(head)\n",
    "    if meet == None:\n",
    "        return None\n",
    "\n",
    "    # slow go back to head\n",
    "    slow = head\n",
    "    # fast starts at the meeting point\n",
    "    fast = meet\n",
    "    while slow != fast:\n",
    "        fast = fast.next\n",
    "        slow = slow.next\n",
    "    return fast\n",
    "\n",
    "def hasCircle(self, head):\n",
    "    f = head\n",
    "    s = head\n",
    "    while f.next and f.next.next:\n",
    "        f = f.next.next\n",
    "        s = s.next\n",
    "        if f == s:\n",
    "            return s\n",
    "    return None"
   ]
  },
  {
   "cell_type": "markdown",
   "id": "b5a0a1bc",
   "metadata": {},
   "source": [
    "## 708. Insert into a Sorted Circular Linked List\n",
    "[708. Insert into a Sorted Circular Linked List](https://leetcode.com/problems/insert-into-a-sorted-circular-linked-list/)"
   ]
  },
  {
   "cell_type": "code",
   "execution_count": null,
   "id": "a7accc69",
   "metadata": {},
   "outputs": [],
   "source": []
  },
  {
   "cell_type": "markdown",
   "id": "e4b51e5e",
   "metadata": {},
   "source": [
    "## 203. Remove Linked List Elements\n",
    "[203. Remove Linked List Elements](https://leetcode.com/problems/remove-linked-list-elements/)"
   ]
  },
  {
   "cell_type": "code",
   "execution_count": 5,
   "id": "2c0fc086",
   "metadata": {},
   "outputs": [],
   "source": [
    "class Solution:\n",
    "    \"\"\"\n",
    "       1,2,6,3,4,5,6  d = 6\n",
    "  d      p\n",
    "             c\n",
    "  del:\n",
    "    prev.next = cur.next\n",
    "    cur = cur.next\n",
    "\n",
    " \n",
    "    \"\"\"\n",
    "    def removeElements(self, head, val):\n",
    "        if head is None:\n",
    "            return None\n",
    "        dummyHead = ListNode(226)\n",
    "        dummyHead.next = head\n",
    "        cur = head\n",
    "        prev = dummyHead\n",
    "        while cur:\n",
    "            if cur.val == val:\n",
    "                prev.next = cur.next\n",
    "            else:\n",
    "                prev = cur\n",
    "            cur = cur.next\n",
    "        return dummyHead.next"
   ]
  },
  {
   "cell_type": "markdown",
   "id": "514832cb",
   "metadata": {},
   "source": [
    "## 234. Palindrome Linked List\n",
    "[234. Palindrome Linked List](https://leetcode.com/problems/palindrome-linked-list/)"
   ]
  },
  {
   "cell_type": "code",
   "execution_count": 8,
   "id": "bf13030e",
   "metadata": {},
   "outputs": [],
   "source": [
    "class Solution:\n",
    "    def isPalindrome(self, head):\n",
    "        # corner case\n",
    "        if head is None or head.next is None:\n",
    "            return True\n",
    "        # find mid\n",
    "        mid_node = self.findMid(head)\n",
    "        # print(mid_node.val)\n",
    "        # reverse the second part\n",
    "        second = self.reverse(mid_node)\n",
    "        # print(second)\n",
    "        # compare\n",
    "        return self.compare(head, second)\n",
    "    \n",
    "    def compare(self, one, two):\n",
    "        while one and two:\n",
    "            if one.val != two.val:\n",
    "                return False\n",
    "            one = one.next\n",
    "            two = two.next\n",
    "        return True\n",
    "    \n",
    "    def findMid(self, head):\n",
    "        f = head\n",
    "        s = head\n",
    "        while f and f.next:\n",
    "            f = f.next.next\n",
    "            s = s.next\n",
    "        return s\n",
    "    \n",
    "    def reverse(self, head):\n",
    "        # base case\n",
    "        if head is None or head.next is None:\n",
    "            return head\n",
    "        newHead = self.reverse(head.next)\n",
    "        head.next.next = head\n",
    "        head.next = None\n",
    "        return newHead\n",
    "        "
   ]
  },
  {
   "cell_type": "markdown",
   "id": "52c12b2e",
   "metadata": {},
   "source": [
    "## 143. Reorder List\n",
    "[143. Reorder List](https://leetcode.com/problems/reorder-list/)"
   ]
  },
  {
   "cell_type": "code",
   "execution_count": 11,
   "id": "c4381f6d",
   "metadata": {},
   "outputs": [
    {
     "name": "stdout",
     "output_type": "stream",
     "text": [
      "5\n",
      "4\n"
     ]
    }
   ],
   "source": [
    "a = 4\n",
    "b = 5\n",
    "a, b = b , a\n",
    "print(a)\n",
    "print(b)"
   ]
  },
  {
   "cell_type": "code",
   "execution_count": 10,
   "id": "c6bd64b2",
   "metadata": {},
   "outputs": [],
   "source": [
    "class Solution:\n",
    "    def reorderList(self, head):\n",
    "        \"\"\"\n",
    "        Do not return anything, modify head in-place instead.\n",
    "        \"\"\"\n",
    "        #  corner case\n",
    "        if head is None or head.next is None:\n",
    "            return\n",
    "        \n",
    "        # find mid\n",
    "        mid_node = self.findMid(head)\n",
    "        \n",
    "        # reverse\n",
    "        two = self.reverse(mid_node)\n",
    "        # print(\"one\", head)\n",
    "        # print(\"two\",two)\n",
    "        \n",
    "        # # merge\n",
    "        # self.merge(head, two)\n",
    "        self.merge(head, two)\n",
    "        \n",
    "    def merge1(self, one, two):\n",
    "        # one -> two -> one -> two\n",
    "        # right shift one/two pointer to the next one\n",
    "        while two.next:\n",
    "            temp = one.next\n",
    "            one.next = two\n",
    "            one = temp\n",
    "            temp = two.next\n",
    "            two.next = one\n",
    "            two = temp\n",
    "            \n",
    "    def merge(self, one, two):\n",
    "        while two.next:\n",
    "            one.next, one = two, one.next\n",
    "            two.next, two = one, two.next\n",
    "        \n",
    "    def findMid(self, head):\n",
    "        f = head\n",
    "        s = head\n",
    "        while f and f.next:\n",
    "            f = f.next.next\n",
    "            s = s.next\n",
    "        return s\n",
    "    \n",
    "    def reverse(self, head):\n",
    "        pre = None\n",
    "        cur = head\n",
    "        while cur:\n",
    "            next_node = cur.next\n",
    "            \n",
    "            cur.next = pre\n",
    "            pre = cur\n",
    "            cur = next_node\n",
    "        return pre\n",
    "        "
   ]
  },
  {
   "cell_type": "markdown",
   "id": "fb7f70f2",
   "metadata": {},
   "source": [
    "# Reverse LinkedList"
   ]
  },
  {
   "cell_type": "markdown",
   "id": "eed2ea5e",
   "metadata": {},
   "source": [
    "## 206. Reverse Linked List\n",
    "[206. Reverse Linked List](https://leetcode.com/problems/reverse-linked-list/)"
   ]
  },
  {
   "cell_type": "code",
   "execution_count": 6,
   "id": "84b3d31b",
   "metadata": {},
   "outputs": [],
   "source": [
    "\"\"\"\n",
    "Solution 1: Iteratvie\n",
    "    [1,2,3,4,5]\n",
    "          prev cur n\n",
    "\"\"\"\n",
    "def reverseList(self, head):\n",
    "    if head is None or head.next is None:\n",
    "        return head\n",
    "    prev = None\n",
    "    cur = head\n",
    "    while cur != None:\n",
    "        next_node = cur.next\n",
    "        cur.next = prev\n",
    "\n",
    "        prev = cur\n",
    "        cur = next_node\n",
    "    return prev"
   ]
  },
  {
   "cell_type": "code",
   "execution_count": 7,
   "id": "ab45b89f",
   "metadata": {},
   "outputs": [],
   "source": [
    "# Solution 2: recursion\n",
    "def reverseList(self, head):\n",
    "    if head is None or head.next is None:\n",
    "        return head\n",
    "    # recursive rule\n",
    "    newHead = self.reverseList(head.next)\n",
    "    head.next.next = head\n",
    "    head.next = None\n",
    "    return newHead"
   ]
  },
  {
   "cell_type": "markdown",
   "id": "2c97b41a",
   "metadata": {},
   "source": [
    "## 92. Reverse Linked List II\n",
    "[92. Reverse Linked List II](https://leetcode.com/problems/reverse-linked-list-ii/)"
   ]
  },
  {
   "cell_type": "code",
   "execution_count": null,
   "id": "3960a38d",
   "metadata": {},
   "outputs": [],
   "source": []
  },
  {
   "cell_type": "markdown",
   "id": "976e686b",
   "metadata": {},
   "source": [
    "## 25. Reverse Nodes in k-Group\n",
    "[25. Reverse Nodes in k-Group](https://leetcode.com/problems/reverse-nodes-in-k-group/)"
   ]
  },
  {
   "cell_type": "code",
   "execution_count": null,
   "id": "524dd40f",
   "metadata": {},
   "outputs": [],
   "source": []
  },
  {
   "cell_type": "markdown",
   "id": "674b30c1",
   "metadata": {},
   "source": [
    "# Add Two Something"
   ]
  },
  {
   "cell_type": "markdown",
   "id": "3d92e329",
   "metadata": {},
   "source": [
    "## 67. Add Binary\n",
    "[67. Add Binary](https://leetcode.com/problems/add-binary/)"
   ]
  },
  {
   "cell_type": "code",
   "execution_count": 21,
   "id": "6747228c",
   "metadata": {},
   "outputs": [
    {
     "name": "stdout",
     "output_type": "stream",
     "text": [
      "0\n",
      "<class 'str'>\n"
     ]
    }
   ],
   "source": [
    "# str to int\n",
    "print(int(\"0\"))\n",
    "\n",
    "# int to str\n",
    "print(type(str(0)))\n"
   ]
  },
  {
   "cell_type": "code",
   "execution_count": 22,
   "id": "98be1cfa",
   "metadata": {},
   "outputs": [],
   "source": [
    "def addBinary(self, a: str, b: str) -> str:\n",
    "    res = []\n",
    "    i = len(a) - 1\n",
    "    j = len(b) - 1\n",
    "    carry = 0\n",
    "    while i >= 0 or j >= 0 or carry > 0:\n",
    "        val_a = int(a[i]) if i >= 0 else 0\n",
    "        val_b = int(b[j]) if j >= 0 else 0\n",
    "        cur_sum = val_a + val_b + carry\n",
    "        sum_val = cur_sum % 2\n",
    "        carry = cur_sum // 2\n",
    "        res.append(str(sum_val))\n",
    "        i -= 1\n",
    "        j -= 1\n",
    "    # post processing\n",
    "    res.reverse()\n",
    "    # print(res)\n",
    "    return ''.join(res)\n",
    "\n",
    "# TC = O(max(m, n))\n",
    "# SC = O(max(m, n))"
   ]
  },
  {
   "cell_type": "markdown",
   "id": "1b720455",
   "metadata": {},
   "source": [
    "## 415. Add Strings\n",
    "[415. Add Strings](https://leetcode.com/problems/add-strings/)"
   ]
  },
  {
   "cell_type": "code",
   "execution_count": 23,
   "id": "68735fbd",
   "metadata": {},
   "outputs": [],
   "source": [
    "def addStrings(self, num1: str, num2: str) -> str:\n",
    "    res = []\n",
    "    i = len(num1) - 1\n",
    "    j = len(num2) - 1\n",
    "    carry = 0\n",
    "    while i >= 0 or j >= 0 or carry > 0:\n",
    "        val_1 = int(num1[i]) if i >= 0 else 0\n",
    "        val_2 = int(num2[j]) if j >= 0 else 0\n",
    "        cur_sum = val_1 + val_2 + carry\n",
    "        sum_val = cur_sum % 10\n",
    "        carry = cur_sum // 10\n",
    "        res.append(str(sum_val))\n",
    "        i -= 1\n",
    "        j -= 1\n",
    "    # post processing\n",
    "    res.reverse()\n",
    "    # print(res)\n",
    "    return ''.join(res)\n",
    "\n",
    "# TC = O(max(m, n))\n",
    "# SC = O(max(m, n))"
   ]
  },
  {
   "cell_type": "markdown",
   "id": "d6b0e739",
   "metadata": {},
   "source": [
    "## 2. Add Two Numbers\n",
    "[2. Add Two Numbers](https://leetcode.com/problems/add-two-numbers/)"
   ]
  },
  {
   "cell_type": "code",
   "execution_count": 17,
   "id": "cad48742",
   "metadata": {},
   "outputs": [
    {
     "name": "stdout",
     "output_type": "stream",
     "text": [
      "Cici\n"
     ]
    }
   ],
   "source": [
    "# Conditional Statements\n",
    "result = \"Cici\" if 10 > 9 else \"It's False\"\n",
    "print(result)"
   ]
  },
  {
   "cell_type": "code",
   "execution_count": 18,
   "id": "162b6a37",
   "metadata": {},
   "outputs": [],
   "source": [
    "def addTwoNumbers(self, l1, l2):\n",
    "    \"\"\"\n",
    "        2 4 3 \n",
    "        i\n",
    "        5 6 4\n",
    "        j\n",
    "carry   \n",
    "    \"\"\"\n",
    "    dummyHead = ListNode(226)\n",
    "    dummy = dummyHead\n",
    "    carry = 0\n",
    "    while l1 or l2 or carry > 0:\n",
    "        val1 = l1.val if l1 else 0\n",
    "        val2 = l2.val if l2 else 0\n",
    "        cur = val1 + val2 + carry\n",
    "        # update carry\n",
    "        carry = cur // 10\n",
    "        cur_sum = cur % 10\n",
    "        dummy.next = ListNode(cur_sum)\n",
    "        dummy = dummy.next\n",
    "\n",
    "        l1 = l1.next if l1 else None\n",
    "        l2 = l2.next if l2 else None\n",
    "    return dummyHead.next"
   ]
  },
  {
   "cell_type": "markdown",
   "id": "01797a36",
   "metadata": {},
   "source": [
    "## 445. Add Two Numbers II\n",
    "[445. Add Two Numbers II](https://leetcode.com/problems/add-two-numbers-ii/)"
   ]
  },
  {
   "cell_type": "code",
   "execution_count": 24,
   "id": "83885321",
   "metadata": {},
   "outputs": [],
   "source": [
    "class Solution:\n",
    "    def addTwoNumbers(self, l1, l2):\n",
    "        l1 = self.reverse(l1)\n",
    "        l2 = self.reverse(l2)\n",
    "        carry = 0\n",
    "        dummyHead = ListNode(226)\n",
    "        dummy = dummyHead\n",
    "        while l1 or l2 or carry > 0:\n",
    "            val1 = l1.val if l1 else 0\n",
    "            val2 = l2.val if l2 else 0\n",
    "            cur_sum = val1 + val2 + carry\n",
    "            num = cur_sum % 10\n",
    "            carry = cur_sum // 10\n",
    "            dummy.next = ListNode(num)\n",
    "            dummy = dummy.next\n",
    "            \n",
    "            l1 = l1.next if l1 else None\n",
    "            l2 = l2.next if l2 else None\n",
    "        return self.reverse(dummyHead.next)\n",
    "            \n",
    "        \n",
    "    def reverse(self, head):\n",
    "        if head is None or head.next is None:\n",
    "            return head\n",
    "        newHead = self.reverse(head.next)\n",
    "        head.next.next = head\n",
    "        head.next = None\n",
    "        return newHead"
   ]
  },
  {
   "cell_type": "markdown",
   "id": "73f4c1df",
   "metadata": {},
   "source": [
    "# Sort LinkedList"
   ]
  },
  {
   "cell_type": "markdown",
   "id": "ccf4c913",
   "metadata": {},
   "source": [
    "## 86. Partition List\n",
    "[86. Partition List](https://leetcode.com/problems/partition-list/)"
   ]
  },
  {
   "cell_type": "code",
   "execution_count": null,
   "id": "bf7c2d41",
   "metadata": {},
   "outputs": [],
   "source": []
  },
  {
   "cell_type": "markdown",
   "id": "0265f384",
   "metadata": {},
   "source": [
    "## 148. Sort List\n",
    "[148. Sort List](https://leetcode.com/problems/sort-list/)\n",
    "\n",
    "#### Mergesort array\n",
    "- TC = O(nlogn)\n",
    "- SC = O(n): each level we need to store the left side array. Thus, 1+2+4+ ...+ n = O(n)\n",
    "\n",
    "#### Mergesort linkedlist\n",
    "- TC = O(nlogn)\n",
    "- SC = O(logn) : each level we only need to change reference, no extra space need. Thus, SC = O(1) * logn level"
   ]
  },
  {
   "cell_type": "code",
   "execution_count": 26,
   "id": "52c55ed1",
   "metadata": {},
   "outputs": [],
   "source": [
    "class Solution:\n",
    "    def sortList(self, head):\n",
    "        # base case\n",
    "        if head is None or head.next is None:\n",
    "            return head\n",
    "        \n",
    "        # find mid (earlier one)\n",
    "        mid = self.findMid(head)\n",
    "        mid.next = None\n",
    "        r = mid.next\n",
    "        l = head\n",
    "        \n",
    "        # sort left and right\n",
    "        left = self.sortList(l)\n",
    "        right = self.sortList(r)\n",
    "        \n",
    "        # merge two sorted list\n",
    "        res = self.merge(left, right)\n",
    "        return res\n",
    "    \n",
    "    def merge(self, left, right):\n",
    "        dummyHead = ListNode(226)\n",
    "        dummy = dummyHead\n",
    "        while left and right:\n",
    "            if left.val <= right.val:\n",
    "                dummy.next = left\n",
    "                left = left.next\n",
    "            else:\n",
    "                dummy.next = right\n",
    "                right = right.next\n",
    "            dummy = dummy.next\n",
    "        if left:\n",
    "            dummy.next = left\n",
    "        if right:\n",
    "            dummy.next = right\n",
    "        return dummyHead.next\n",
    "    \n",
    "    def findMid(self, head):\n",
    "        f = head\n",
    "        s = head\n",
    "        while f.next and f.next.next:\n",
    "            f = f.next.next\n",
    "            s = s.next\n",
    "        return s"
   ]
  },
  {
   "cell_type": "markdown",
   "id": "dfcced5d",
   "metadata": {},
   "source": [
    "## 21. Merge Two Sorted Lists\n",
    "[21. Merge Two Sorted Lists](https://leetcode.com/problems/merge-two-sorted-lists/)"
   ]
  },
  {
   "cell_type": "code",
   "execution_count": 9,
   "id": "dc9e8f30",
   "metadata": {},
   "outputs": [],
   "source": [
    "def mergeTwoLists(self, list1,list2):\n",
    "    dummyHead = ListNode(226)\n",
    "    dummy = dummyHead\n",
    "    while list1 and list2:\n",
    "        if list1.val <= list2.val:\n",
    "            dummy.next = list1\n",
    "            list1 = list1.next\n",
    "        else:\n",
    "            dummy.next = list2\n",
    "            list2 = list2.next \n",
    "        dummy = dummy.next\n",
    "    # post\n",
    "    if list1:\n",
    "        dummy.next = list1\n",
    "    if list2:\n",
    "        dummy.next = list2\n",
    "    return dummyHead.next"
   ]
  },
  {
   "cell_type": "markdown",
   "id": "40b92033",
   "metadata": {},
   "source": [
    "## 23. Merge k Sorted Lists\n",
    "[23. Merge k Sorted Lists](https://leetcode.com/problems/merge-k-sorted-lists/)"
   ]
  },
  {
   "cell_type": "code",
   "execution_count": 30,
   "id": "dad129ba",
   "metadata": {},
   "outputs": [],
   "source": [
    "def mergeKLists(self, lists):\n",
    "    dummyHead = ListNode(226)\n",
    "    dummy = dummyHead\n",
    "    pointers = []\n",
    "    heapq.heapify(pointers)\n",
    "\n",
    "    for i in range(len(lists)):\n",
    "        head = lists[i]\n",
    "        if head:\n",
    "            heapq.heappush(pointers, (head.val, i, head))\n",
    "\n",
    "    while pointers:\n",
    "        val, idx, node = heapq.heappop(pointers)\n",
    "        dummy.next = node\n",
    "        dummy = dummy.next\n",
    "        # push the next pointer into heapq\n",
    "        if node.next:\n",
    "            heapq.heappush(pointers, (node.next.val, idx, node.next))\n",
    "    return dummyHead.next"
   ]
  },
  {
   "cell_type": "markdown",
   "id": "618f241a",
   "metadata": {},
   "source": [
    "# Design"
   ]
  },
  {
   "cell_type": "markdown",
   "id": "f2cf7417",
   "metadata": {},
   "source": [
    "## 146. LRU Cache\n",
    "[146. LRU Cache](https://leetcode.com/problems/lru-cache/)"
   ]
  },
  {
   "cell_type": "code",
   "execution_count": null,
   "id": "ddf71fae",
   "metadata": {},
   "outputs": [],
   "source": []
  },
  {
   "cell_type": "markdown",
   "id": "ccd5d575",
   "metadata": {},
   "source": [
    "## 707. Design Linked List\n",
    "[707. Design Linked List](https://leetcode.com/problems/design-linked-list/)"
   ]
  },
  {
   "cell_type": "code",
   "execution_count": 140,
   "id": "062b76e9",
   "metadata": {},
   "outputs": [
    {
     "name": "stdout",
     "output_type": "stream",
     "text": [
      "226\n",
      "0\n"
     ]
    }
   ],
   "source": [
    "# put all default arguments at the end of the constructor\n",
    "class ListNode:\n",
    "    def __init__(self, val=0, next_node=None, prev_node=None):\n",
    "        self.val = val\n",
    "        self.next_node = next_node\n",
    "        self.prev_node = prev_node\n",
    "\n",
    "node = ListNode(val=226)\n",
    "print(node.val)\n",
    "node2 = ListNode()\n",
    "print(node2.val)\n",
    "    "
   ]
  },
  {
   "cell_type": "code",
   "execution_count": 141,
   "id": "fd0b1cf2",
   "metadata": {},
   "outputs": [],
   "source": [
    "class MyLinkedList:\n",
    "    \"\"\"\n",
    "        Creates a doubly linkedlist. Supports following operations:\n",
    "        1. get()\n",
    "        2. addHead()\n",
    "        3. adsAtTail()\n",
    "        4. etc.\n",
    "    \"\"\"\n",
    "    def __init__(self):\n",
    "        self.dummy = ListNode(226)\n",
    "        self.size = 0\n",
    "        self.tail = None\n",
    "        \n",
    "    def get_size(self):\n",
    "        return self.size\n",
    "\n",
    "    def get_tail(self):\n",
    "        return self.tail\n",
    "\n",
    "    def get(self, index: int) -> int:\n",
    "        \"\"\"\n",
    "        Gets the value of the index-th node in the linkedlist.\n",
    "        If the index is invaid return -1.\n",
    "        \"\"\"\n",
    "        # todo check the correctness\n",
    "        # check if the index is valid\n",
    "        if index >= self.size or index < 0:\n",
    "            return -1\n",
    "        cur = self.dummy\n",
    "        for _ in range(index + 1):\n",
    "            cur = cur.next_node\n",
    "        return cur.val\n",
    "\n",
    "    def addAtHead(self, val: int) -> None:\n",
    "        \"\"\"\n",
    "        Adds a listNode at the head of the linkedlist.\n",
    "        \n",
    "        dummy 1 2 3\n",
    "       \n",
    "        \"\"\"\n",
    "        newNode = ListNode(val)\n",
    "        self.dummy.next_node, newNode.next_node = newNode, self.dummy.next_node\n",
    "        if self.size == 0:\n",
    "            self.tail = newNode\n",
    "        self.size += 1\n",
    "        \n",
    "\n",
    "    def addAtTail(self, val: int) -> None:\n",
    "        \"\"\"\n",
    "        Adds a listNode at the end of the linkedlist.\n",
    "        \"\"\"\n",
    "        newNode = ListNode(val)\n",
    "        if self.size == 0:\n",
    "            self.addAtHead(val)\n",
    "        else:\n",
    "            self.tail.next_node = newNode\n",
    "            self.tail = newNode\n",
    "            self.size += 1\n",
    "\n",
    "    def addAtIndex(self, index: int, val: int) -> None:\n",
    "        \"\"\"\n",
    "        Adds a ListNode at index position\n",
    "        \"\"\"\n",
    "        # check index\n",
    "        if index < 0 or index > self.size:\n",
    "            return\n",
    "        # index = 0\n",
    "        if index == 0:\n",
    "            self.addAtHead(val)\n",
    "        # index = size\n",
    "        elif index == self.size:\n",
    "            self.addAtTail(val)\n",
    "        else:\n",
    "            prev = self.dummy\n",
    "            for _ in range(index):\n",
    "                prev = prev.next_node\n",
    "            # add\n",
    "            newNode = ListNode(val)\n",
    "            prev.next_node, newNode.next_node = newNode, prev.next_node\n",
    "            self.size += 1\n",
    "        \n",
    "    def deleteAtIndex(self, index: int) -> None:\n",
    "        \"\"\"\n",
    "        Delete the indexth node in the linked list, if the index is valid.\n",
    "        \"\"\"\n",
    "        if index < 0 or index >= self.size:\n",
    "            return\n",
    "        if self.size == 0:\n",
    "            return\n",
    "        if self.size == 1:\n",
    "            self.dummy.next_node = None\n",
    "            self.tail = None\n",
    "            self.size -= 1\n",
    "            return \n",
    "        # size > 1\n",
    "        \"\"\"\n",
    "            dummy -- 1 -- 2 -- 3     del index = 1 we need to delete 2 and get prev = 1(index = 0)\n",
    "            index    0    1    2\n",
    "            \n",
    "            dummy -- 1 -- 2 -- 3     del index = 2 we need to delete 3 and get prev = 2(index = 0)\n",
    "            index    0    1    2\n",
    "        \"\"\"\n",
    "        prev = self.dummy\n",
    "        for _ in range(index):\n",
    "            prev = prev.next_node\n",
    "        prev.next_node = prev.next_node.next_node\n",
    "        # check tail\n",
    "        if index == self.size - 1:\n",
    "            # update tail\n",
    "            self.tail = prev\n",
    "        # update size\n",
    "        self.size -= 1\n",
    "        "
   ]
  },
  {
   "cell_type": "code",
   "execution_count": 102,
   "id": "a6361c68",
   "metadata": {},
   "outputs": [
    {
     "name": "stdout",
     "output_type": "stream",
     "text": [
      "initial size:  0\n",
      "size:  1\n",
      "get head:  33\n",
      "tail 33\n"
     ]
    }
   ],
   "source": [
    "linked_list = MyLinkedList()\n",
    "print(\"initial size: \", linked_list.get_size())\n",
    "# add at head\n",
    "linked_list.addAtHead(33)\n",
    "print(\"size: \", linked_list.get_size())\n",
    "print(\"get head: \",linked_list.get(0))\n",
    "# linked_list.addAtTail(55)\n",
    "# print(\"size: \", linked_list.get_size())\n",
    "print(\"tail\", linked_list.get_tail().val)\n"
   ]
  },
  {
   "cell_type": "code",
   "execution_count": 142,
   "id": "bc8debc3",
   "metadata": {},
   "outputs": [
    {
     "name": "stdout",
     "output_type": "stream",
     "text": [
      "initial size:  0\n",
      "size:  1\n",
      "head:  11\n",
      "tail 11\n",
      "size:  2\n",
      "head:  22\n",
      "tail 11\n",
      "size:  3\n",
      "head:  22\n",
      "tail 33\n",
      "size:  4\n",
      "index 2 55\n",
      "head:  22\n",
      "tail 33\n",
      "size:  5\n",
      "index 2 66\n",
      "index 3 55\n",
      "head:  22\n",
      "tail 33\n"
     ]
    }
   ],
   "source": [
    "linked_list = MyLinkedList()\n",
    "print(\"initial size: \", linked_list.get_size())\n",
    "linked_list.addAtIndex(0, 11)\n",
    "print(\"size: \", linked_list.get_size())\n",
    "print(\"head: \",linked_list.get(0))\n",
    "print(\"tail\", linked_list.get_tail().val)\n",
    "\n",
    "linked_list.addAtIndex(0, 22)\n",
    "print(\"size: \", linked_list.get_size())\n",
    "print(\"head: \",linked_list.get(0))\n",
    "print(\"tail\", linked_list.get_tail().val)\n",
    "\n",
    "linked_list.addAtIndex(2, 33)\n",
    "print(\"size: \", linked_list.get_size())\n",
    "print(\"head: \",linked_list.get(0))\n",
    "print(\"tail\", linked_list.get_tail().val)\n",
    "\n",
    "linked_list.addAtIndex(2, 55)\n",
    "print(\"size: \", linked_list.get_size())\n",
    "print(\"index 2\", linked_list.get(2))\n",
    "print(\"head: \",linked_list.get(0))\n",
    "print(\"tail\", linked_list.get_tail().val)\n",
    "\n",
    "linked_list.addAtIndex(2, 66)\n",
    "print(\"size: \", linked_list.get_size())\n",
    "print(\"index 2\", linked_list.get(2))\n",
    "print(\"index 3\", linked_list.get(3))\n",
    "print(\"head: \",linked_list.get(0))\n",
    "print(\"tail\", linked_list.get_tail().val)"
   ]
  },
  {
   "cell_type": "code",
   "execution_count": 143,
   "id": "cf58fd9e",
   "metadata": {},
   "outputs": [
    {
     "name": "stdout",
     "output_type": "stream",
     "text": [
      "size:  3\n",
      "0 index:  22\n",
      "size:  4\n",
      "size:  5\n",
      "head:  22\n",
      "head:  11\n",
      "size:  4\n",
      "head:  77\n",
      "size:  5\n",
      "head:  88\n",
      "size:  6\n",
      "head:  66\n",
      "size:  5\n",
      "head:  99\n",
      "size:  6\n",
      "tail 99\n"
     ]
    }
   ],
   "source": [
    "linked_list = MyLinkedList()\n",
    "linked_list.addAtIndex(0, 11)\n",
    "linked_list.addAtIndex(0, 22)\n",
    "linked_list.addAtIndex(2, 66)\n",
    "print(\"size: \", linked_list.get_size())\n",
    "print(\"0 index: \", linked_list.get(0))\n",
    "\n",
    "linked_list.addAtIndex(2, 33)\n",
    "print(\"size: \", linked_list.get_size())\n",
    "\n",
    "linked_list.addAtIndex(2, 55)\n",
    "print(\"size: \", linked_list.get_size())\n",
    "print(\"head: \",linked_list.get(0))\n",
    "\n",
    "linked_list.deleteAtIndex(0)\n",
    "print(\"head: \",linked_list.get(0))\n",
    "print(\"size: \", linked_list.get_size())\n",
    "\n",
    "linked_list.addAtIndex(0, 77)\n",
    "print(\"head: \",linked_list.get(0))\n",
    "print(\"size: \", linked_list.get_size())\n",
    "\n",
    "linked_list.addAtIndex(4, 88)\n",
    "print(\"head: \",linked_list.get(4))\n",
    "print(\"size: \", linked_list.get_size())\n",
    "\n",
    "linked_list.deleteAtIndex(4)\n",
    "print(\"head: \",linked_list.get(4))\n",
    "print(\"size: \", linked_list.get_size())\n",
    "\n",
    "linked_list.addAtIndex(5, 99)\n",
    "print(\"head: \",linked_list.get(5))\n",
    "print(\"size: \", linked_list.get_size())\n",
    "print(\"tail\", linked_list.get_tail().val)"
   ]
  },
  {
   "cell_type": "markdown",
   "id": "5b7403ae",
   "metadata": {},
   "source": [
    "## 138. Copy List with Random Pointer\n",
    "[138. Copy List with Random Pointer](https://leetcode.com/problems/copy-list-with-random-pointer/)"
   ]
  },
  {
   "cell_type": "code",
   "execution_count": 146,
   "id": "1fa32400",
   "metadata": {},
   "outputs": [],
   "source": [
    "# two pass\n",
    "def copyRandomList(self, head: 'Optional[Node]') -> 'Optional[Node]':\n",
    "    if head is None:\n",
    "        return None\n",
    "\n",
    "    node_map = {}\n",
    "    # initial\n",
    "    newHead = Node(head.val)\n",
    "    node_map[head] = newHead\n",
    "    cur = head\n",
    "    # copy node\n",
    "    while cur:\n",
    "        if cur not in node_map:\n",
    "            node_map[cur] = Node(cur.val)\n",
    "        cur = cur.next\n",
    "\n",
    "    cur = head\n",
    "    # copy relationship\n",
    "    while cur:\n",
    "        # copy next\n",
    "        if cur.next:\n",
    "            node_map[cur].next = node_map[cur.next]\n",
    "        # copy random\n",
    "        if cur.random:\n",
    "            node_map[cur].random = node_map[cur.random]\n",
    "        cur = cur.next\n",
    "    return newHead"
   ]
  },
  {
   "cell_type": "code",
   "execution_count": 147,
   "id": "dd791060",
   "metadata": {},
   "outputs": [],
   "source": [
    "# one pass\n",
    "def copyRandomList(self, head: 'Optional[Node]') -> 'Optional[Node]':\n",
    "    if head is None:\n",
    "        return None\n",
    "\n",
    "    node_map = {}\n",
    "    # copy next\n",
    "    newHead = Node(head.val)\n",
    "    node_map[head] = newHead\n",
    "    cur = head\n",
    "    while cur:\n",
    "        # create cur\n",
    "        if cur not in node_map:\n",
    "            node_map[cur] = Node(cur.val)\n",
    "        # create next\n",
    "        if cur.next and cur.next not in node_map:\n",
    "            node_map[cur.next] = Node(cur.next.val)\n",
    "        # create random\n",
    "        if cur.random and cur.random not in node_map:\n",
    "            node_map[cur.random] = Node(cur.random.val)\n",
    "\n",
    "        # copy next\n",
    "        if cur.next:\n",
    "            node_map[cur].next = node_map[cur.next]\n",
    "        # copy random\n",
    "        if cur.random:\n",
    "            node_map[cur].random = node_map[cur.random]\n",
    "        cur = cur.next\n",
    "    return newHead"
   ]
  }
 ],
 "metadata": {
  "kernelspec": {
   "display_name": "Python 3 (ipykernel)",
   "language": "python",
   "name": "python3"
  },
  "language_info": {
   "codemirror_mode": {
    "name": "ipython",
    "version": 3
   },
   "file_extension": ".py",
   "mimetype": "text/x-python",
   "name": "python",
   "nbconvert_exporter": "python",
   "pygments_lexer": "ipython3",
   "version": "3.8.12"
  }
 },
 "nbformat": 4,
 "nbformat_minor": 5
}
