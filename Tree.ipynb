{
 "cells": [
  {
   "cell_type": "markdown",
   "id": "ee843e29",
   "metadata": {},
   "source": [
    "# Tree "
   ]
  },
  {
   "cell_type": "markdown",
   "id": "e7c824e5",
   "metadata": {},
   "source": [
    "Connected\n",
    "Uncycle"
   ]
  },
  {
   "cell_type": "code",
   "execution_count": null,
   "id": "c0f51f15",
   "metadata": {},
   "outputs": [],
   "source": [
    "class Node:\n",
    "    def __init__(self, value):\n",
    "        self.value = value\n",
    "        self.left = None\n",
    "        self.right = None"
   ]
  },
  {
   "cell_type": "markdown",
   "id": "73fc73b7",
   "metadata": {},
   "source": [
    "## 144. Binary Tree Preorder Traversal\n",
    "[144. Binary Tree Preorder Traversal](https://leetcode.com/problems/binary-tree-preorder-traversal/)"
   ]
  },
  {
   "cell_type": "code",
   "execution_count": 17,
   "id": "95b85693",
   "metadata": {},
   "outputs": [],
   "source": [
    "class Solution:\n",
    "    def preorderTraversal(self, root):\n",
    "        result = []\n",
    "        self.preOrder(root, result);\n",
    "        return result\n",
    "    \n",
    "    def preOrder(self, root, result):\n",
    "        # base case\n",
    "        if root == None:\n",
    "            return\n",
    "        # recursive rule\n",
    "        # visit root and append it to result list\n",
    "        result.append(root.val)\n",
    "        # visit left and right child\n",
    "        self.preOrder(root.left, result)\n",
    "        self.preOrder(root.right, result)"
   ]
  },
  {
   "cell_type": "markdown",
   "id": "36bb1e77",
   "metadata": {},
   "source": [
    "## 700. Search in a Binary Search Tree\n",
    "[700. Search in a Binary Search Tree](https://leetcode.com/problems/search-in-a-binary-search-tree/)"
   ]
  },
  {
   "cell_type": "code",
   "execution_count": null,
   "id": "2490886c",
   "metadata": {},
   "outputs": [],
   "source": [
    "    def searchBST(self, root: Optional[TreeNode], val: int) -> Optional[TreeNode]:\n",
    "        # base case\n",
    "        if root is None:\n",
    "            return root\n",
    "        # recursive \n",
    "        \n",
    "        # use == not is: the reference of these two value is different\n",
    "        # root.val saved in root node ,while val saved in cache\n",
    "        # == just compared the val\n",
    "        if root.val == val:\n",
    "            return root\n",
    "        elif root.val < val:\n",
    "            return self.searchBST(root.right, val)\n",
    "        else:\n",
    "            return self.searchBST(root.left, val)"
   ]
  }
 ],
 "metadata": {
  "kernelspec": {
   "display_name": "Python 3 (ipykernel)",
   "language": "python",
   "name": "python3"
  },
  "language_info": {
   "codemirror_mode": {
    "name": "ipython",
    "version": 3
   },
   "file_extension": ".py",
   "mimetype": "text/x-python",
   "name": "python",
   "nbconvert_exporter": "python",
   "pygments_lexer": "ipython3",
   "version": "3.8.12"
  }
 },
 "nbformat": 4,
 "nbformat_minor": 5
}
