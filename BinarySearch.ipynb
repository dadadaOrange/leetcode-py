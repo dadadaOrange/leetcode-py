{
 "cells": [
  {
   "cell_type": "markdown",
   "id": "fc519814",
   "metadata": {},
   "source": [
    "# Binary Search"
   ]
  },
  {
   "cell_type": "markdown",
   "id": "168832aa",
   "metadata": {},
   "source": [
    "## 704. Binary Search\n",
    "[704. Binary Search](https://leetcode.com/problems/binary-search/)"
   ]
  },
  {
   "cell_type": "code",
   "execution_count": 1,
   "id": "37cb0f1e",
   "metadata": {},
   "outputs": [],
   "source": [
    "class Solution:\n",
    "    \"\"\"\n",
    "            m\n",
    "      [-1,0,3,5,9,12]  target = 12\n",
    "                   l\n",
    "                   r\n",
    "    \"\"\"\n",
    "    def search(self, nums, target):\n",
    "        # corner cases\n",
    "        n = len(nums)\n",
    "        l = 0\n",
    "        r = n - 1\n",
    "        while l <= r:\n",
    "            mid = l + (r - l) // 2\n",
    "            if nums[mid] == target:\n",
    "                return mid\n",
    "            elif nums[mid] < target:\n",
    "                l = mid + 1\n",
    "            else:\n",
    "                r = mid - 1\n",
    "        return -1"
   ]
  },
  {
   "cell_type": "markdown",
   "id": "cf407c42",
   "metadata": {},
   "source": [
    "## 744. Find Smallest Letter Greater Than Target\n",
    "[744. Find Smallest Letter Greater Than Target](https://leetcode.com/problems/find-smallest-letter-greater-than-target/)"
   ]
  },
  {
   "cell_type": "code",
   "execution_count": null,
   "id": "061d730e",
   "metadata": {},
   "outputs": [],
   "source": []
  },
  {
   "cell_type": "markdown",
   "id": "86276d17",
   "metadata": {},
   "source": [
    "## 278. First Bad Version\n",
    "[278. First Bad Version](https://leetcode.com/problems/first-bad-version/)"
   ]
  },
  {
   "cell_type": "code",
   "execution_count": null,
   "id": "a03a12aa",
   "metadata": {},
   "outputs": [],
   "source": []
  },
  {
   "cell_type": "markdown",
   "id": "5d62037b",
   "metadata": {},
   "source": [
    "## 702. Search in a Sorted Array of Unknown Size\n",
    "[702. Search in a Sorted Array of Unknown Size](https://leetcode.com/problems/search-in-a-sorted-array-of-unknown-size/)"
   ]
  },
  {
   "cell_type": "code",
   "execution_count": null,
   "id": "6bcadf49",
   "metadata": {},
   "outputs": [],
   "source": []
  },
  {
   "cell_type": "markdown",
   "id": "809d518d",
   "metadata": {},
   "source": [
    "## 74. Search a 2D Matrix\n",
    "[74. Search a 2D Matrix](https://leetcode.com/problems/search-a-2d-matrix/)"
   ]
  },
  {
   "cell_type": "code",
   "execution_count": null,
   "id": "4bde0b4a",
   "metadata": {},
   "outputs": [],
   "source": []
  },
  {
   "cell_type": "markdown",
   "id": "a76cace4",
   "metadata": {},
   "source": [
    "## 240. Search a 2D Matrix II\n",
    "[240. Search a 2D Matrix II](https://leetcode.com/problems/search-a-2d-matrix-ii/)"
   ]
  },
  {
   "cell_type": "code",
   "execution_count": null,
   "id": "ddb56f0d",
   "metadata": {},
   "outputs": [],
   "source": []
  },
  {
   "cell_type": "markdown",
   "id": "1bf2f4d1",
   "metadata": {},
   "source": [
    "## 658. Find K Closest Elements\n",
    "[658. Find K Closest Elements](https://leetcode.com/problems/find-k-closest-elements/)"
   ]
  },
  {
   "cell_type": "code",
   "execution_count": null,
   "id": "28d5e86c",
   "metadata": {},
   "outputs": [],
   "source": []
  },
  {
   "cell_type": "markdown",
   "id": "a05f4597",
   "metadata": {},
   "source": [
    "## 1539. Kth Missing Positive Number\n",
    "[1539. Kth Missing Positive Number](https://leetcode.com/problems/kth-missing-positive-number/)"
   ]
  },
  {
   "cell_type": "code",
   "execution_count": null,
   "id": "e851ae2c",
   "metadata": {},
   "outputs": [],
   "source": []
  },
  {
   "cell_type": "markdown",
   "id": "628c3f6c",
   "metadata": {},
   "source": [
    "## 1060. Missing Element in Sorted Array\n",
    "[1060. Missing Element in Sorted Array](https://leetcode.com/problems/missing-element-in-sorted-array/)"
   ]
  },
  {
   "cell_type": "code",
   "execution_count": null,
   "id": "100d1c45",
   "metadata": {},
   "outputs": [],
   "source": []
  },
  {
   "cell_type": "markdown",
   "id": "25ca032c",
   "metadata": {},
   "source": [
    "## 33. Search in Rotated Sorted Array\n",
    "[33. Search in Rotated Sorted Array](https://leetcode.com/problems/search-in-rotated-sorted-array/)"
   ]
  },
  {
   "cell_type": "code",
   "execution_count": null,
   "id": "66b1383e",
   "metadata": {},
   "outputs": [],
   "source": []
  },
  {
   "cell_type": "markdown",
   "id": "39c6bd05",
   "metadata": {},
   "source": [
    "## 81. Search in Rotated Sorted Array II\n",
    "[81. Search in Rotated Sorted Array II](https://leetcode.com/problems/search-in-rotated-sorted-array-ii/)"
   ]
  },
  {
   "cell_type": "code",
   "execution_count": null,
   "id": "8ad3bd89",
   "metadata": {},
   "outputs": [],
   "source": []
  },
  {
   "cell_type": "markdown",
   "id": "8775584e",
   "metadata": {},
   "source": [
    "## 528. Random Pick with Weight\n",
    "[528. Random Pick with Weight](https://leetcode.com/problems/random-pick-with-weight/)"
   ]
  },
  {
   "cell_type": "code",
   "execution_count": null,
   "id": "7412f27e",
   "metadata": {},
   "outputs": [],
   "source": []
  },
  {
   "cell_type": "markdown",
   "id": "636fc8cd",
   "metadata": {},
   "source": [
    "## 4. Median of Two Sorted Arrays\n",
    "[4. Median of Two Sorted Arrays](https://leetcode.com/problems/median-of-two-sorted-arrays/)"
   ]
  },
  {
   "cell_type": "code",
   "execution_count": null,
   "id": "e81ba391",
   "metadata": {},
   "outputs": [],
   "source": []
  }
 ],
 "metadata": {
  "kernelspec": {
   "display_name": "Python 3 (ipykernel)",
   "language": "python",
   "name": "python3"
  },
  "language_info": {
   "codemirror_mode": {
    "name": "ipython",
    "version": 3
   },
   "file_extension": ".py",
   "mimetype": "text/x-python",
   "name": "python",
   "nbconvert_exporter": "python",
   "pygments_lexer": "ipython3",
   "version": "3.8.12"
  }
 },
 "nbformat": 4,
 "nbformat_minor": 5
}
